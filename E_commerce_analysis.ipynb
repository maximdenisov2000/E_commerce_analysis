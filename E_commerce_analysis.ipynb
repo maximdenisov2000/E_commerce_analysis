{
 "cells": [
  {
   "cell_type": "markdown",
   "id": "8de1e5bf",
   "metadata": {},
   "source": [
    "# Задача"
   ]
  },
  {
   "cell_type": "markdown",
   "id": "11a19243",
   "metadata": {},
   "source": [
    "Продакт-менеджер Василий попросил вас проанализировать совершенные покупки и ответить на следующие вопросы:\n",
    "\n",
    "1. Сколько у нас пользователей, которые совершили покупку только один раз?\n",
    "\n",
    "\n",
    "2. Сколько заказов в месяц в среднем не доставляется по разным причинам (вывести детализацию по причинам)?\n",
    "\n",
    "\n",
    "3. По каждому товару определить, в какой день недели товар чаще всего покупается.\n",
    "\n",
    "\n",
    "4. Сколько у каждого из пользователей в среднем покупок в неделю (по месяцам)? Не стоит забывать, что внутри месяца может быть не целое количество недель. Например, в ноябре 2021 года 4,28 недели. И внутри метрики это нужно учесть.\n",
    "\n",
    "\n",
    "5. Используя pandas, проведи когортный анализ пользователей. В период с января по декабрь выяви когорту с самым высоким retention на 3й месяц. Описание подхода можно найти тут.\n",
    "\n",
    "\n",
    "6. Используя python, построй RFM-сегментацию пользователей, чтобы качественно оценить свою аудиторию. В кластеризации можешь выбрать следующие метрики: R - время от последней покупки пользователя до текущей даты, F - суммарное количество покупок у пользователя за всё время, M - сумма покупок за всё время. Подробно опиши, как ты создавал кластеры. Для каждого RFM-сегмента построй границы метрик recency, frequency и monetary для интерпретации этих кластеров. Пример такого описания: RFM-сегмент 132 (recency=1, frequency=3, monetary=2) имеет границы метрик recency от 130 до 500 дней, frequency от 2 до 5 заказов в неделю, monetary от 1780 до 3560 рублей в неделю. Описание подхода можно найти тут.\n",
    "\n",
    "Для решения задачи проведи предварительное исследование данных и сформулируй, что должно считаться покупкой. Обосновать свой выбор ты можешь с помощью фактов оплат, статусов заказов и других имеющихся данных."
   ]
  },
  {
   "cell_type": "markdown",
   "id": "c8e37131",
   "metadata": {},
   "source": [
    "# Описание исходных файлов"
   ]
  },
  {
   "cell_type": "markdown",
   "id": "90ea7f46",
   "metadata": {},
   "source": [
    "    olist_customers_datase.csv — таблица с уникальными идентификаторами пользователей\n",
    "    \n",
    "***customer_id*** — позаказный идентификатор пользователя\n",
    "\n",
    "***customer_unique_id*** —  уникальный идентификатор пользователя  (аналог номера паспорта)\n",
    "\n",
    "***customer_zip_code_prefix*** —  почтовый индекс пользователя\n",
    "\n",
    "***customer_city*** —  город доставки пользователя\n",
    "\n",
    "***customer_state*** —  штат доставки пользователя\n",
    "\n",
    "     olist_orders_dataset.csv —  таблица заказов\n",
    "     \n",
    "***order_id*** —  уникальный идентификатор заказа (номер чека)\n",
    "\n",
    "***customer_id*** —  позаказный идентификатор пользователя\n",
    "\n",
    "***order_status*** —  статус заказа\n",
    "\n",
    "***order_purchase_timestamp*** —  время создания заказа\n",
    "\n",
    "***order_approved_at*** —  время подтверждения оплаты заказа\n",
    "\n",
    "***order_delivered_carrier_date*** —  время передачи заказа в логистическую службу\n",
    "\n",
    "***order_delivered_customer_date*** —  время доставки заказа\n",
    "\n",
    "***order_estimated_delivery_date*** —  обещанная дата доставки\n",
    "\n",
    "     olist_order_items_dataset.csv —  товарные позиции, входящие в заказы\n",
    "     \n",
    "***order_id*** —  уникальный идентификатор заказа (номер чека)\n",
    "\n",
    "***order_item_id*** —  идентификатор товара внутри одного заказа\n",
    "\n",
    "***product_id*** —  ид товара (аналог штрихкода)\n",
    "\n",
    "***seller_id*** — ид производителя товара\n",
    "\n",
    "***shipping_limit_date*** —  максимальная дата доставки продавцом для передачи заказа партнеру по логистике\n",
    "\n",
    "***price*** —  цена за единицу товара\n",
    "\n",
    "***freight_value*** —  вес товара\n",
    "\n",
    "\n",
    "\n",
    "    Уникальные статусы заказов в таблице olist_orders_dataset:\n",
    "\n",
    "***created*** —  создан\n",
    "\n",
    "***approved*** —  подтверждён\n",
    "\n",
    "***invoiced*** —  выставлен счёт\n",
    "\n",
    "***processing*** —  в процессе сборки заказа\n",
    "\n",
    "***shipped*** —  отгружен со склада\n",
    "\n",
    "***delivered*** —  доставлен пользователю\n",
    "\n",
    "***unavailable*** —  недоступен\n",
    "\n",
    "***canceled*** —  отменён\n"
   ]
  },
  {
   "cell_type": "markdown",
   "id": "41d788a3",
   "metadata": {},
   "source": [
    "# **1. Импорт необходимых библиотек.**"
   ]
  },
  {
   "cell_type": "code",
   "execution_count": 1,
   "id": "5b4028fd",
   "metadata": {},
   "outputs": [],
   "source": [
    "import pandas as pd\n",
    "import seaborn as sns\n",
    "import numpy as np\n",
    "import matplotlib.pyplot as plt \n",
    "from datetime import datetime"
   ]
  },
  {
   "cell_type": "markdown",
   "id": "744e08ee",
   "metadata": {},
   "source": [
    "***"
   ]
  },
  {
   "cell_type": "markdown",
   "id": "f6cb3122",
   "metadata": {},
   "source": [
    "# **2.Чтение и сохранение исходных файлов:**"
   ]
  },
  {
   "cell_type": "markdown",
   "id": "063d204a",
   "metadata": {},
   "source": [
    "### *1.1 Читаем датасет с данными о клиентах:*"
   ]
  },
  {
   "cell_type": "code",
   "execution_count": 3,
   "id": "91cdf006",
   "metadata": {
    "scrolled": true
   },
   "outputs": [
    {
     "data": {
      "text/html": [
       "<div>\n",
       "<style scoped>\n",
       "    .dataframe tbody tr th:only-of-type {\n",
       "        vertical-align: middle;\n",
       "    }\n",
       "\n",
       "    .dataframe tbody tr th {\n",
       "        vertical-align: top;\n",
       "    }\n",
       "\n",
       "    .dataframe thead th {\n",
       "        text-align: right;\n",
       "    }\n",
       "</style>\n",
       "<table border=\"1\" class=\"dataframe\">\n",
       "  <thead>\n",
       "    <tr style=\"text-align: right;\">\n",
       "      <th></th>\n",
       "      <th>customer_id</th>\n",
       "      <th>customer_unique_id</th>\n",
       "      <th>customer_zip_code_prefix</th>\n",
       "      <th>customer_city</th>\n",
       "      <th>customer_state</th>\n",
       "    </tr>\n",
       "  </thead>\n",
       "  <tbody>\n",
       "    <tr>\n",
       "      <th>0</th>\n",
       "      <td>06b8999e2fba1a1fbc88172c00ba8bc7</td>\n",
       "      <td>861eff4711a542e4b93843c6dd7febb0</td>\n",
       "      <td>14409</td>\n",
       "      <td>franca</td>\n",
       "      <td>SP</td>\n",
       "    </tr>\n",
       "    <tr>\n",
       "      <th>1</th>\n",
       "      <td>18955e83d337fd6b2def6b18a428ac77</td>\n",
       "      <td>290c77bc529b7ac935b93aa66c333dc3</td>\n",
       "      <td>9790</td>\n",
       "      <td>sao bernardo do campo</td>\n",
       "      <td>SP</td>\n",
       "    </tr>\n",
       "    <tr>\n",
       "      <th>2</th>\n",
       "      <td>4e7b3e00288586ebd08712fdd0374a03</td>\n",
       "      <td>060e732b5b29e8181a18229c7b0b2b5e</td>\n",
       "      <td>1151</td>\n",
       "      <td>sao paulo</td>\n",
       "      <td>SP</td>\n",
       "    </tr>\n",
       "    <tr>\n",
       "      <th>3</th>\n",
       "      <td>b2b6027bc5c5109e529d4dc6358b12c3</td>\n",
       "      <td>259dac757896d24d7702b9acbbff3f3c</td>\n",
       "      <td>8775</td>\n",
       "      <td>mogi das cruzes</td>\n",
       "      <td>SP</td>\n",
       "    </tr>\n",
       "    <tr>\n",
       "      <th>4</th>\n",
       "      <td>4f2d8ab171c80ec8364f7c12e35b23ad</td>\n",
       "      <td>345ecd01c38d18a9036ed96c73b8d066</td>\n",
       "      <td>13056</td>\n",
       "      <td>campinas</td>\n",
       "      <td>SP</td>\n",
       "    </tr>\n",
       "  </tbody>\n",
       "</table>\n",
       "</div>"
      ],
      "text/plain": [
       "                        customer_id                customer_unique_id  \\\n",
       "0  06b8999e2fba1a1fbc88172c00ba8bc7  861eff4711a542e4b93843c6dd7febb0   \n",
       "1  18955e83d337fd6b2def6b18a428ac77  290c77bc529b7ac935b93aa66c333dc3   \n",
       "2  4e7b3e00288586ebd08712fdd0374a03  060e732b5b29e8181a18229c7b0b2b5e   \n",
       "3  b2b6027bc5c5109e529d4dc6358b12c3  259dac757896d24d7702b9acbbff3f3c   \n",
       "4  4f2d8ab171c80ec8364f7c12e35b23ad  345ecd01c38d18a9036ed96c73b8d066   \n",
       "\n",
       "   customer_zip_code_prefix          customer_city customer_state  \n",
       "0                     14409                 franca             SP  \n",
       "1                      9790  sao bernardo do campo             SP  \n",
       "2                      1151              sao paulo             SP  \n",
       "3                      8775        mogi das cruzes             SP  \n",
       "4                     13056               campinas             SP  "
      ]
     },
     "execution_count": 3,
     "metadata": {},
     "output_type": "execute_result"
    }
   ],
   "source": [
    "customers = pd.read_csv(r\"D:\\Промежуточный проект\\olist_customers_dataset.csv\")\n",
    "customers.head()"
   ]
  },
  {
   "cell_type": "markdown",
   "id": "0610dcc2",
   "metadata": {},
   "source": [
    "###  *1.2 Узнаём размерность датасета customers:*"
   ]
  },
  {
   "cell_type": "code",
   "execution_count": 4,
   "id": "af99cbba",
   "metadata": {},
   "outputs": [
    {
     "data": {
      "text/plain": [
       "(99441, 5)"
      ]
     },
     "execution_count": 4,
     "metadata": {},
     "output_type": "execute_result"
    }
   ],
   "source": [
    "customers.shape"
   ]
  },
  {
   "cell_type": "markdown",
   "id": "faf33928",
   "metadata": {},
   "source": [
    "###   *1.3 Узнаём типы данных датасета customers:*"
   ]
  },
  {
   "cell_type": "code",
   "execution_count": 5,
   "id": "88414a57",
   "metadata": {},
   "outputs": [
    {
     "data": {
      "text/plain": [
       "customer_id                 object\n",
       "customer_unique_id          object\n",
       "customer_zip_code_prefix     int64\n",
       "customer_city               object\n",
       "customer_state              object\n",
       "dtype: object"
      ]
     },
     "execution_count": 5,
     "metadata": {},
     "output_type": "execute_result"
    }
   ],
   "source": [
    "customers.dtypes"
   ]
  },
  {
   "cell_type": "markdown",
   "id": "d7dcda67",
   "metadata": {},
   "source": [
    "###  *1.4 Узнаём описательную статистику датасета customers:*"
   ]
  },
  {
   "cell_type": "code",
   "execution_count": 6,
   "id": "ab426c4d",
   "metadata": {},
   "outputs": [
    {
     "data": {
      "text/html": [
       "<div>\n",
       "<style scoped>\n",
       "    .dataframe tbody tr th:only-of-type {\n",
       "        vertical-align: middle;\n",
       "    }\n",
       "\n",
       "    .dataframe tbody tr th {\n",
       "        vertical-align: top;\n",
       "    }\n",
       "\n",
       "    .dataframe thead th {\n",
       "        text-align: right;\n",
       "    }\n",
       "</style>\n",
       "<table border=\"1\" class=\"dataframe\">\n",
       "  <thead>\n",
       "    <tr style=\"text-align: right;\">\n",
       "      <th></th>\n",
       "      <th>customer_zip_code_prefix</th>\n",
       "    </tr>\n",
       "  </thead>\n",
       "  <tbody>\n",
       "    <tr>\n",
       "      <th>count</th>\n",
       "      <td>99441.000000</td>\n",
       "    </tr>\n",
       "    <tr>\n",
       "      <th>mean</th>\n",
       "      <td>35137.474583</td>\n",
       "    </tr>\n",
       "    <tr>\n",
       "      <th>std</th>\n",
       "      <td>29797.938996</td>\n",
       "    </tr>\n",
       "    <tr>\n",
       "      <th>min</th>\n",
       "      <td>1003.000000</td>\n",
       "    </tr>\n",
       "    <tr>\n",
       "      <th>25%</th>\n",
       "      <td>11347.000000</td>\n",
       "    </tr>\n",
       "    <tr>\n",
       "      <th>50%</th>\n",
       "      <td>24416.000000</td>\n",
       "    </tr>\n",
       "    <tr>\n",
       "      <th>75%</th>\n",
       "      <td>58900.000000</td>\n",
       "    </tr>\n",
       "    <tr>\n",
       "      <th>max</th>\n",
       "      <td>99990.000000</td>\n",
       "    </tr>\n",
       "  </tbody>\n",
       "</table>\n",
       "</div>"
      ],
      "text/plain": [
       "       customer_zip_code_prefix\n",
       "count              99441.000000\n",
       "mean               35137.474583\n",
       "std                29797.938996\n",
       "min                 1003.000000\n",
       "25%                11347.000000\n",
       "50%                24416.000000\n",
       "75%                58900.000000\n",
       "max                99990.000000"
      ]
     },
     "execution_count": 6,
     "metadata": {},
     "output_type": "execute_result"
    }
   ],
   "source": [
    "customers.describe()"
   ]
  },
  {
   "cell_type": "markdown",
   "id": "0ddbfb16",
   "metadata": {},
   "source": [
    "# "
   ]
  },
  {
   "cell_type": "markdown",
   "id": "3a8afb7c",
   "metadata": {},
   "source": [
    "### *2.1 Читаем датасет с данными о деталях заказов:*"
   ]
  },
  {
   "cell_type": "code",
   "execution_count": 7,
   "id": "d09e4164",
   "metadata": {},
   "outputs": [
    {
     "data": {
      "text/html": [
       "<div>\n",
       "<style scoped>\n",
       "    .dataframe tbody tr th:only-of-type {\n",
       "        vertical-align: middle;\n",
       "    }\n",
       "\n",
       "    .dataframe tbody tr th {\n",
       "        vertical-align: top;\n",
       "    }\n",
       "\n",
       "    .dataframe thead th {\n",
       "        text-align: right;\n",
       "    }\n",
       "</style>\n",
       "<table border=\"1\" class=\"dataframe\">\n",
       "  <thead>\n",
       "    <tr style=\"text-align: right;\">\n",
       "      <th></th>\n",
       "      <th>order_id</th>\n",
       "      <th>order_item_id</th>\n",
       "      <th>product_id</th>\n",
       "      <th>seller_id</th>\n",
       "      <th>shipping_limit_date</th>\n",
       "      <th>price</th>\n",
       "      <th>freight_value</th>\n",
       "    </tr>\n",
       "  </thead>\n",
       "  <tbody>\n",
       "    <tr>\n",
       "      <th>0</th>\n",
       "      <td>00010242fe8c5a6d1ba2dd792cb16214</td>\n",
       "      <td>1</td>\n",
       "      <td>4244733e06e7ecb4970a6e2683c13e61</td>\n",
       "      <td>48436dade18ac8b2bce089ec2a041202</td>\n",
       "      <td>2017-09-19 09:45:35</td>\n",
       "      <td>58.90</td>\n",
       "      <td>13.29</td>\n",
       "    </tr>\n",
       "    <tr>\n",
       "      <th>1</th>\n",
       "      <td>00018f77f2f0320c557190d7a144bdd3</td>\n",
       "      <td>1</td>\n",
       "      <td>e5f2d52b802189ee658865ca93d83a8f</td>\n",
       "      <td>dd7ddc04e1b6c2c614352b383efe2d36</td>\n",
       "      <td>2017-05-03 11:05:13</td>\n",
       "      <td>239.90</td>\n",
       "      <td>19.93</td>\n",
       "    </tr>\n",
       "    <tr>\n",
       "      <th>2</th>\n",
       "      <td>000229ec398224ef6ca0657da4fc703e</td>\n",
       "      <td>1</td>\n",
       "      <td>c777355d18b72b67abbeef9df44fd0fd</td>\n",
       "      <td>5b51032eddd242adc84c38acab88f23d</td>\n",
       "      <td>2018-01-18 14:48:30</td>\n",
       "      <td>199.00</td>\n",
       "      <td>17.87</td>\n",
       "    </tr>\n",
       "    <tr>\n",
       "      <th>3</th>\n",
       "      <td>00024acbcdf0a6daa1e931b038114c75</td>\n",
       "      <td>1</td>\n",
       "      <td>7634da152a4610f1595efa32f14722fc</td>\n",
       "      <td>9d7a1d34a5052409006425275ba1c2b4</td>\n",
       "      <td>2018-08-15 10:10:18</td>\n",
       "      <td>12.99</td>\n",
       "      <td>12.79</td>\n",
       "    </tr>\n",
       "    <tr>\n",
       "      <th>4</th>\n",
       "      <td>00042b26cf59d7ce69dfabb4e55b4fd9</td>\n",
       "      <td>1</td>\n",
       "      <td>ac6c3623068f30de03045865e4e10089</td>\n",
       "      <td>df560393f3a51e74553ab94004ba5c87</td>\n",
       "      <td>2017-02-13 13:57:51</td>\n",
       "      <td>199.90</td>\n",
       "      <td>18.14</td>\n",
       "    </tr>\n",
       "  </tbody>\n",
       "</table>\n",
       "</div>"
      ],
      "text/plain": [
       "                           order_id  order_item_id  \\\n",
       "0  00010242fe8c5a6d1ba2dd792cb16214              1   \n",
       "1  00018f77f2f0320c557190d7a144bdd3              1   \n",
       "2  000229ec398224ef6ca0657da4fc703e              1   \n",
       "3  00024acbcdf0a6daa1e931b038114c75              1   \n",
       "4  00042b26cf59d7ce69dfabb4e55b4fd9              1   \n",
       "\n",
       "                         product_id                         seller_id  \\\n",
       "0  4244733e06e7ecb4970a6e2683c13e61  48436dade18ac8b2bce089ec2a041202   \n",
       "1  e5f2d52b802189ee658865ca93d83a8f  dd7ddc04e1b6c2c614352b383efe2d36   \n",
       "2  c777355d18b72b67abbeef9df44fd0fd  5b51032eddd242adc84c38acab88f23d   \n",
       "3  7634da152a4610f1595efa32f14722fc  9d7a1d34a5052409006425275ba1c2b4   \n",
       "4  ac6c3623068f30de03045865e4e10089  df560393f3a51e74553ab94004ba5c87   \n",
       "\n",
       "  shipping_limit_date   price  freight_value  \n",
       "0 2017-09-19 09:45:35   58.90          13.29  \n",
       "1 2017-05-03 11:05:13  239.90          19.93  \n",
       "2 2018-01-18 14:48:30  199.00          17.87  \n",
       "3 2018-08-15 10:10:18   12.99          12.79  \n",
       "4 2017-02-13 13:57:51  199.90          18.14  "
      ]
     },
     "execution_count": 7,
     "metadata": {},
     "output_type": "execute_result"
    }
   ],
   "source": [
    "order_details = pd.read_csv(r\"D:\\Промежуточный проект\\olist_order_items_dataset.csv\",\n",
    "                           parse_dates=['shipping_limit_date'])\n",
    "\n",
    "order_details.head()"
   ]
  },
  {
   "cell_type": "markdown",
   "id": "064a7e2f",
   "metadata": {},
   "source": [
    "###  *2.2 Узнаём размерность датасета order_details:*"
   ]
  },
  {
   "cell_type": "code",
   "execution_count": 8,
   "id": "aeda8be9",
   "metadata": {},
   "outputs": [
    {
     "data": {
      "text/plain": [
       "(112650, 7)"
      ]
     },
     "execution_count": 8,
     "metadata": {},
     "output_type": "execute_result"
    }
   ],
   "source": [
    "order_details.shape"
   ]
  },
  {
   "cell_type": "markdown",
   "id": "67a38053",
   "metadata": {},
   "source": [
    "###  *2.3 Узнаём типы данных датасета order_details:*"
   ]
  },
  {
   "cell_type": "code",
   "execution_count": 9,
   "id": "446ce557",
   "metadata": {
    "scrolled": true
   },
   "outputs": [
    {
     "data": {
      "text/plain": [
       "order_id                       object\n",
       "order_item_id                   int64\n",
       "product_id                     object\n",
       "seller_id                      object\n",
       "shipping_limit_date    datetime64[ns]\n",
       "price                         float64\n",
       "freight_value                 float64\n",
       "dtype: object"
      ]
     },
     "execution_count": 9,
     "metadata": {},
     "output_type": "execute_result"
    }
   ],
   "source": [
    "order_details.dtypes"
   ]
  },
  {
   "cell_type": "markdown",
   "id": "510b37cd",
   "metadata": {},
   "source": [
    "###  *2.4 Узнаём описательную статистику данных датасета order_details:*"
   ]
  },
  {
   "cell_type": "code",
   "execution_count": 10,
   "id": "60abee53",
   "metadata": {},
   "outputs": [
    {
     "data": {
      "text/html": [
       "<div>\n",
       "<style scoped>\n",
       "    .dataframe tbody tr th:only-of-type {\n",
       "        vertical-align: middle;\n",
       "    }\n",
       "\n",
       "    .dataframe tbody tr th {\n",
       "        vertical-align: top;\n",
       "    }\n",
       "\n",
       "    .dataframe thead th {\n",
       "        text-align: right;\n",
       "    }\n",
       "</style>\n",
       "<table border=\"1\" class=\"dataframe\">\n",
       "  <thead>\n",
       "    <tr style=\"text-align: right;\">\n",
       "      <th></th>\n",
       "      <th>order_item_id</th>\n",
       "      <th>price</th>\n",
       "      <th>freight_value</th>\n",
       "    </tr>\n",
       "  </thead>\n",
       "  <tbody>\n",
       "    <tr>\n",
       "      <th>count</th>\n",
       "      <td>112650.000000</td>\n",
       "      <td>112650.000000</td>\n",
       "      <td>112650.000000</td>\n",
       "    </tr>\n",
       "    <tr>\n",
       "      <th>mean</th>\n",
       "      <td>1.197834</td>\n",
       "      <td>120.653739</td>\n",
       "      <td>19.990320</td>\n",
       "    </tr>\n",
       "    <tr>\n",
       "      <th>std</th>\n",
       "      <td>0.705124</td>\n",
       "      <td>183.633928</td>\n",
       "      <td>15.806405</td>\n",
       "    </tr>\n",
       "    <tr>\n",
       "      <th>min</th>\n",
       "      <td>1.000000</td>\n",
       "      <td>0.850000</td>\n",
       "      <td>0.000000</td>\n",
       "    </tr>\n",
       "    <tr>\n",
       "      <th>25%</th>\n",
       "      <td>1.000000</td>\n",
       "      <td>39.900000</td>\n",
       "      <td>13.080000</td>\n",
       "    </tr>\n",
       "    <tr>\n",
       "      <th>50%</th>\n",
       "      <td>1.000000</td>\n",
       "      <td>74.990000</td>\n",
       "      <td>16.260000</td>\n",
       "    </tr>\n",
       "    <tr>\n",
       "      <th>75%</th>\n",
       "      <td>1.000000</td>\n",
       "      <td>134.900000</td>\n",
       "      <td>21.150000</td>\n",
       "    </tr>\n",
       "    <tr>\n",
       "      <th>max</th>\n",
       "      <td>21.000000</td>\n",
       "      <td>6735.000000</td>\n",
       "      <td>409.680000</td>\n",
       "    </tr>\n",
       "  </tbody>\n",
       "</table>\n",
       "</div>"
      ],
      "text/plain": [
       "       order_item_id          price  freight_value\n",
       "count  112650.000000  112650.000000  112650.000000\n",
       "mean        1.197834     120.653739      19.990320\n",
       "std         0.705124     183.633928      15.806405\n",
       "min         1.000000       0.850000       0.000000\n",
       "25%         1.000000      39.900000      13.080000\n",
       "50%         1.000000      74.990000      16.260000\n",
       "75%         1.000000     134.900000      21.150000\n",
       "max        21.000000    6735.000000     409.680000"
      ]
     },
     "execution_count": 10,
     "metadata": {},
     "output_type": "execute_result"
    }
   ],
   "source": [
    "order_details.describe()"
   ]
  },
  {
   "cell_type": "markdown",
   "id": "30f8b873",
   "metadata": {},
   "source": [
    "#  "
   ]
  },
  {
   "cell_type": "markdown",
   "id": "d5ba5bdd",
   "metadata": {},
   "source": [
    "### *3.1 Читаем датасет с данными о  заказах:*"
   ]
  },
  {
   "cell_type": "code",
   "execution_count": 11,
   "id": "c125a278",
   "metadata": {},
   "outputs": [
    {
     "data": {
      "text/html": [
       "<div>\n",
       "<style scoped>\n",
       "    .dataframe tbody tr th:only-of-type {\n",
       "        vertical-align: middle;\n",
       "    }\n",
       "\n",
       "    .dataframe tbody tr th {\n",
       "        vertical-align: top;\n",
       "    }\n",
       "\n",
       "    .dataframe thead th {\n",
       "        text-align: right;\n",
       "    }\n",
       "</style>\n",
       "<table border=\"1\" class=\"dataframe\">\n",
       "  <thead>\n",
       "    <tr style=\"text-align: right;\">\n",
       "      <th></th>\n",
       "      <th>order_id</th>\n",
       "      <th>customer_id</th>\n",
       "      <th>order_status</th>\n",
       "      <th>order_purchase_timestamp</th>\n",
       "      <th>order_approved_at</th>\n",
       "      <th>order_delivered_carrier_date</th>\n",
       "      <th>order_delivered_customer_date</th>\n",
       "      <th>order_estimated_delivery_date</th>\n",
       "    </tr>\n",
       "  </thead>\n",
       "  <tbody>\n",
       "    <tr>\n",
       "      <th>0</th>\n",
       "      <td>e481f51cbdc54678b7cc49136f2d6af7</td>\n",
       "      <td>9ef432eb6251297304e76186b10a928d</td>\n",
       "      <td>delivered</td>\n",
       "      <td>2017-10-02 10:56:33</td>\n",
       "      <td>2017-10-02 11:07:15</td>\n",
       "      <td>2017-10-04 19:55:00</td>\n",
       "      <td>2017-10-10 21:25:13</td>\n",
       "      <td>2017-10-18</td>\n",
       "    </tr>\n",
       "    <tr>\n",
       "      <th>1</th>\n",
       "      <td>53cdb2fc8bc7dce0b6741e2150273451</td>\n",
       "      <td>b0830fb4747a6c6d20dea0b8c802d7ef</td>\n",
       "      <td>delivered</td>\n",
       "      <td>2018-07-24 20:41:37</td>\n",
       "      <td>2018-07-26 03:24:27</td>\n",
       "      <td>2018-07-26 14:31:00</td>\n",
       "      <td>2018-08-07 15:27:45</td>\n",
       "      <td>2018-08-13</td>\n",
       "    </tr>\n",
       "    <tr>\n",
       "      <th>2</th>\n",
       "      <td>47770eb9100c2d0c44946d9cf07ec65d</td>\n",
       "      <td>41ce2a54c0b03bf3443c3d931a367089</td>\n",
       "      <td>delivered</td>\n",
       "      <td>2018-08-08 08:38:49</td>\n",
       "      <td>2018-08-08 08:55:23</td>\n",
       "      <td>2018-08-08 13:50:00</td>\n",
       "      <td>2018-08-17 18:06:29</td>\n",
       "      <td>2018-09-04</td>\n",
       "    </tr>\n",
       "    <tr>\n",
       "      <th>3</th>\n",
       "      <td>949d5b44dbf5de918fe9c16f97b45f8a</td>\n",
       "      <td>f88197465ea7920adcdbec7375364d82</td>\n",
       "      <td>delivered</td>\n",
       "      <td>2017-11-18 19:28:06</td>\n",
       "      <td>2017-11-18 19:45:59</td>\n",
       "      <td>2017-11-22 13:39:59</td>\n",
       "      <td>2017-12-02 00:28:42</td>\n",
       "      <td>2017-12-15</td>\n",
       "    </tr>\n",
       "    <tr>\n",
       "      <th>4</th>\n",
       "      <td>ad21c59c0840e6cb83a9ceb5573f8159</td>\n",
       "      <td>8ab97904e6daea8866dbdbc4fb7aad2c</td>\n",
       "      <td>delivered</td>\n",
       "      <td>2018-02-13 21:18:39</td>\n",
       "      <td>2018-02-13 22:20:29</td>\n",
       "      <td>2018-02-14 19:46:34</td>\n",
       "      <td>2018-02-16 18:17:02</td>\n",
       "      <td>2018-02-26</td>\n",
       "    </tr>\n",
       "  </tbody>\n",
       "</table>\n",
       "</div>"
      ],
      "text/plain": [
       "                           order_id                       customer_id  \\\n",
       "0  e481f51cbdc54678b7cc49136f2d6af7  9ef432eb6251297304e76186b10a928d   \n",
       "1  53cdb2fc8bc7dce0b6741e2150273451  b0830fb4747a6c6d20dea0b8c802d7ef   \n",
       "2  47770eb9100c2d0c44946d9cf07ec65d  41ce2a54c0b03bf3443c3d931a367089   \n",
       "3  949d5b44dbf5de918fe9c16f97b45f8a  f88197465ea7920adcdbec7375364d82   \n",
       "4  ad21c59c0840e6cb83a9ceb5573f8159  8ab97904e6daea8866dbdbc4fb7aad2c   \n",
       "\n",
       "  order_status order_purchase_timestamp   order_approved_at  \\\n",
       "0    delivered      2017-10-02 10:56:33 2017-10-02 11:07:15   \n",
       "1    delivered      2018-07-24 20:41:37 2018-07-26 03:24:27   \n",
       "2    delivered      2018-08-08 08:38:49 2018-08-08 08:55:23   \n",
       "3    delivered      2017-11-18 19:28:06 2017-11-18 19:45:59   \n",
       "4    delivered      2018-02-13 21:18:39 2018-02-13 22:20:29   \n",
       "\n",
       "  order_delivered_carrier_date order_delivered_customer_date  \\\n",
       "0          2017-10-04 19:55:00           2017-10-10 21:25:13   \n",
       "1          2018-07-26 14:31:00           2018-08-07 15:27:45   \n",
       "2          2018-08-08 13:50:00           2018-08-17 18:06:29   \n",
       "3          2017-11-22 13:39:59           2017-12-02 00:28:42   \n",
       "4          2018-02-14 19:46:34           2018-02-16 18:17:02   \n",
       "\n",
       "  order_estimated_delivery_date  \n",
       "0                    2017-10-18  \n",
       "1                    2018-08-13  \n",
       "2                    2018-09-04  \n",
       "3                    2017-12-15  \n",
       "4                    2018-02-26  "
      ]
     },
     "execution_count": 11,
     "metadata": {},
     "output_type": "execute_result"
    }
   ],
   "source": [
    "orders = pd.read_csv(r\"D:\\Промежуточный проект\\olist_orders_dataset.csv\",\n",
    "                     parse_dates = ['order_purchase_timestamp','order_approved_at',\n",
    "                                    'order_delivered_carrier_date','order_delivered_customer_date',\n",
    "                                    'order_estimated_delivery_date'])\n",
    "\n",
    "\n",
    "\n",
    "orders.head()"
   ]
  },
  {
   "cell_type": "markdown",
   "id": "016bb976",
   "metadata": {},
   "source": [
    "###  *3.2 Узнаём размерность датасета orders:*"
   ]
  },
  {
   "cell_type": "code",
   "execution_count": 12,
   "id": "f04add8e",
   "metadata": {},
   "outputs": [
    {
     "data": {
      "text/plain": [
       "(99441, 8)"
      ]
     },
     "execution_count": 12,
     "metadata": {},
     "output_type": "execute_result"
    }
   ],
   "source": [
    "orders.shape"
   ]
  },
  {
   "cell_type": "markdown",
   "id": "a99c0e5f",
   "metadata": {},
   "source": [
    "###  *3.3 Узнаём типы данных датасета orders:*"
   ]
  },
  {
   "cell_type": "code",
   "execution_count": 13,
   "id": "f1b157fb",
   "metadata": {},
   "outputs": [
    {
     "data": {
      "text/plain": [
       "order_id                                 object\n",
       "customer_id                              object\n",
       "order_status                             object\n",
       "order_purchase_timestamp         datetime64[ns]\n",
       "order_approved_at                datetime64[ns]\n",
       "order_delivered_carrier_date     datetime64[ns]\n",
       "order_delivered_customer_date    datetime64[ns]\n",
       "order_estimated_delivery_date    datetime64[ns]\n",
       "dtype: object"
      ]
     },
     "execution_count": 13,
     "metadata": {},
     "output_type": "execute_result"
    }
   ],
   "source": [
    "orders.dtypes"
   ]
  },
  {
   "cell_type": "markdown",
   "id": "a9ac4932",
   "metadata": {},
   "source": [
    "***"
   ]
  },
  {
   "cell_type": "markdown",
   "id": "1d1db61a",
   "metadata": {},
   "source": [
    "# **3. Разведывательный анализ.**\n"
   ]
  },
  {
   "cell_type": "markdown",
   "id": "ac5a87c1",
   "metadata": {},
   "source": [
    "##  ***1. Определим что такое \"покупка\":***"
   ]
  },
  {
   "cell_type": "markdown",
   "id": "c1fa2f0b",
   "metadata": {},
   "source": [
    "### *1.1 Рассмотрим какие уникальные значения имеются у статусов заказа:*"
   ]
  },
  {
   "cell_type": "code",
   "execution_count": 14,
   "id": "06d1c383",
   "metadata": {},
   "outputs": [
    {
     "data": {
      "text/plain": [
       "array(['delivered', 'invoiced', 'shipped', 'processing', 'unavailable',\n",
       "       'canceled', 'created', 'approved'], dtype=object)"
      ]
     },
     "execution_count": 14,
     "metadata": {},
     "output_type": "execute_result"
    }
   ],
   "source": [
    "orders.order_status.unique()"
   ]
  },
  {
   "cell_type": "markdown",
   "id": "fb7f5dce",
   "metadata": {},
   "source": [
    "### *1.2 Проверим имеются ли в датасете повторные логи на одни и те же заказы (предположительно с разными статусами):*"
   ]
  },
  {
   "cell_type": "code",
   "execution_count": 19,
   "id": "d5865353",
   "metadata": {
    "scrolled": true
   },
   "outputs": [
    {
     "data": {
      "text/plain": [
       "True"
      ]
     },
     "execution_count": 19,
     "metadata": {},
     "output_type": "execute_result"
    }
   ],
   "source": [
    "orders.drop_duplicates(subset='order_id').shape == orders.shape\n",
    "\n",
    "# Повторных логов на один и тот же заказ нет"
   ]
  },
  {
   "cell_type": "markdown",
   "id": "224e879a",
   "metadata": {},
   "source": [
    "### *1.3 Проверим есть ли заказы с неуказанным статусом:*"
   ]
  },
  {
   "cell_type": "code",
   "execution_count": 17,
   "id": "60b052a9",
   "metadata": {},
   "outputs": [
    {
     "data": {
      "text/html": [
       "<div>\n",
       "<style scoped>\n",
       "    .dataframe tbody tr th:only-of-type {\n",
       "        vertical-align: middle;\n",
       "    }\n",
       "\n",
       "    .dataframe tbody tr th {\n",
       "        vertical-align: top;\n",
       "    }\n",
       "\n",
       "    .dataframe thead th {\n",
       "        text-align: right;\n",
       "    }\n",
       "</style>\n",
       "<table border=\"1\" class=\"dataframe\">\n",
       "  <thead>\n",
       "    <tr style=\"text-align: right;\">\n",
       "      <th></th>\n",
       "      <th>order_id</th>\n",
       "      <th>customer_id</th>\n",
       "      <th>order_status</th>\n",
       "      <th>order_purchase_timestamp</th>\n",
       "      <th>order_approved_at</th>\n",
       "      <th>order_delivered_carrier_date</th>\n",
       "      <th>order_delivered_customer_date</th>\n",
       "      <th>order_estimated_delivery_date</th>\n",
       "    </tr>\n",
       "  </thead>\n",
       "  <tbody>\n",
       "  </tbody>\n",
       "</table>\n",
       "</div>"
      ],
      "text/plain": [
       "Empty DataFrame\n",
       "Columns: [order_id, customer_id, order_status, order_purchase_timestamp, order_approved_at, order_delivered_carrier_date, order_delivered_customer_date, order_estimated_delivery_date]\n",
       "Index: []"
      ]
     },
     "execution_count": 17,
     "metadata": {},
     "output_type": "execute_result"
    }
   ],
   "source": [
    "orders[orders.order_status.isnull()]\n",
    "\n",
    "# У каждого заказа указан его статус"
   ]
  },
  {
   "cell_type": "markdown",
   "id": "471d44f1",
   "metadata": {},
   "source": [
    "#### <span style=\"color:red\">Делаем вывод, что каждой строке соответствует уникальный заказ и эти данные - полные.</span>"
   ]
  },
  {
   "cell_type": "markdown",
   "id": "286592ee",
   "metadata": {},
   "source": [
    "# "
   ]
  },
  {
   "cell_type": "markdown",
   "id": "c578f54d",
   "metadata": {},
   "source": [
    "### *1.4 Узнаем создавались ли в процессе логирования нашего магазина ошибочные данные:*"
   ]
  },
  {
   "cell_type": "markdown",
   "id": "35a0f8da",
   "metadata": {},
   "source": [
    "Для примера узнаем есть ли среди заказов со статусом 'delivered' те, у которых отсутствует время доставки клиенту (столбец order_delivered_customer_date). При отсутствии ошибок таких логов быть не должно."
   ]
  },
  {
   "cell_type": "code",
   "execution_count": 18,
   "id": "390da937",
   "metadata": {
    "scrolled": true
   },
   "outputs": [
    {
     "data": {
      "text/html": [
       "<div>\n",
       "<style scoped>\n",
       "    .dataframe tbody tr th:only-of-type {\n",
       "        vertical-align: middle;\n",
       "    }\n",
       "\n",
       "    .dataframe tbody tr th {\n",
       "        vertical-align: top;\n",
       "    }\n",
       "\n",
       "    .dataframe thead th {\n",
       "        text-align: right;\n",
       "    }\n",
       "</style>\n",
       "<table border=\"1\" class=\"dataframe\">\n",
       "  <thead>\n",
       "    <tr style=\"text-align: right;\">\n",
       "      <th></th>\n",
       "      <th>order_id</th>\n",
       "      <th>order_status</th>\n",
       "      <th>order_delivered_customer_date</th>\n",
       "    </tr>\n",
       "  </thead>\n",
       "  <tbody>\n",
       "    <tr>\n",
       "      <th>3002</th>\n",
       "      <td>2d1e2d5bf4dc7227b3bfebb81328c15f</td>\n",
       "      <td>delivered</td>\n",
       "      <td>NaT</td>\n",
       "    </tr>\n",
       "    <tr>\n",
       "      <th>20618</th>\n",
       "      <td>f5dd62b788049ad9fc0526e3ad11a097</td>\n",
       "      <td>delivered</td>\n",
       "      <td>NaT</td>\n",
       "    </tr>\n",
       "    <tr>\n",
       "      <th>43834</th>\n",
       "      <td>2ebdfc4f15f23b91474edf87475f108e</td>\n",
       "      <td>delivered</td>\n",
       "      <td>NaT</td>\n",
       "    </tr>\n",
       "    <tr>\n",
       "      <th>79263</th>\n",
       "      <td>e69f75a717d64fc5ecdfae42b2e8e086</td>\n",
       "      <td>delivered</td>\n",
       "      <td>NaT</td>\n",
       "    </tr>\n",
       "    <tr>\n",
       "      <th>82868</th>\n",
       "      <td>0d3268bad9b086af767785e3f0fc0133</td>\n",
       "      <td>delivered</td>\n",
       "      <td>NaT</td>\n",
       "    </tr>\n",
       "  </tbody>\n",
       "</table>\n",
       "</div>"
      ],
      "text/plain": [
       "                               order_id order_status  \\\n",
       "3002   2d1e2d5bf4dc7227b3bfebb81328c15f    delivered   \n",
       "20618  f5dd62b788049ad9fc0526e3ad11a097    delivered   \n",
       "43834  2ebdfc4f15f23b91474edf87475f108e    delivered   \n",
       "79263  e69f75a717d64fc5ecdfae42b2e8e086    delivered   \n",
       "82868  0d3268bad9b086af767785e3f0fc0133    delivered   \n",
       "\n",
       "      order_delivered_customer_date  \n",
       "3002                            NaT  \n",
       "20618                           NaT  \n",
       "43834                           NaT  \n",
       "79263                           NaT  \n",
       "82868                           NaT  "
      ]
     },
     "execution_count": 18,
     "metadata": {},
     "output_type": "execute_result"
    }
   ],
   "source": [
    "delivered = orders.query(\"order_status == 'delivered'\")\n",
    "delivered[delivered.order_delivered_customer_date.isnull()][['order_id','order_status','order_delivered_customer_date']].head()\n",
    "\n",
    "# Ошибочные логи есть"
   ]
  },
  {
   "cell_type": "markdown",
   "id": "19087c9c",
   "metadata": {},
   "source": [
    "Число таких заказов:"
   ]
  },
  {
   "cell_type": "code",
   "execution_count": 103,
   "id": "d95d74a1",
   "metadata": {},
   "outputs": [
    {
     "data": {
      "text/plain": [
       "(8, 8)"
      ]
     },
     "execution_count": 103,
     "metadata": {},
     "output_type": "execute_result"
    }
   ],
   "source": [
    "delivered[delivered.order_delivered_customer_date.isnull()].shape"
   ]
  },
  {
   "cell_type": "markdown",
   "id": "c1798e05",
   "metadata": {},
   "source": [
    "Общее число заказов со статусом 'delivered':"
   ]
  },
  {
   "cell_type": "code",
   "execution_count": 104,
   "id": "3842b837",
   "metadata": {},
   "outputs": [
    {
     "data": {
      "text/plain": [
       "(96478, 8)"
      ]
     },
     "execution_count": 104,
     "metadata": {},
     "output_type": "execute_result"
    }
   ],
   "source": [
    "delivered.shape"
   ]
  },
  {
   "cell_type": "markdown",
   "id": "a5eb8368",
   "metadata": {},
   "source": [
    "Считаем долю в процентах:"
   ]
  },
  {
   "cell_type": "code",
   "execution_count": 105,
   "id": "d0f13f25",
   "metadata": {},
   "outputs": [
    {
     "data": {
      "text/plain": [
       "0.008292045855013579"
      ]
     },
     "execution_count": 105,
     "metadata": {},
     "output_type": "execute_result"
    }
   ],
   "source": [
    "(8/96478)*100"
   ]
  },
  {
   "cell_type": "markdown",
   "id": "29df76ab",
   "metadata": {},
   "source": [
    "Видим, что таких заказов 0.008 процент. Это, скорее всего, означает случайность таких некорректностей."
   ]
  },
  {
   "cell_type": "markdown",
   "id": "49083117",
   "metadata": {},
   "source": [
    "#### <span style=\"color:red\">Делаем вывод, что в процессе логирования возможны ошибки.</span>"
   ]
  },
  {
   "cell_type": "markdown",
   "id": "9ac1c760",
   "metadata": {},
   "source": [
    "# "
   ]
  },
  {
   "cell_type": "markdown",
   "id": "b5168258",
   "metadata": {},
   "source": [
    "### *1.5 Узнаем возможен ли в нашем магазине факт постоплаты:*"
   ]
  },
  {
   "cell_type": "markdown",
   "id": "1067d2a5",
   "metadata": {},
   "source": [
    "Для этого узнаем есть ли среди заказов со статусом 'delivered' те, у которых отсутствует факт оплаты:"
   ]
  },
  {
   "cell_type": "code",
   "execution_count": 106,
   "id": "dc2c1ff8",
   "metadata": {},
   "outputs": [
    {
     "data": {
      "text/html": [
       "<div>\n",
       "<style scoped>\n",
       "    .dataframe tbody tr th:only-of-type {\n",
       "        vertical-align: middle;\n",
       "    }\n",
       "\n",
       "    .dataframe tbody tr th {\n",
       "        vertical-align: top;\n",
       "    }\n",
       "\n",
       "    .dataframe thead th {\n",
       "        text-align: right;\n",
       "    }\n",
       "</style>\n",
       "<table border=\"1\" class=\"dataframe\">\n",
       "  <thead>\n",
       "    <tr style=\"text-align: right;\">\n",
       "      <th></th>\n",
       "      <th>order_id</th>\n",
       "      <th>order_status</th>\n",
       "      <th>order_approved_at</th>\n",
       "    </tr>\n",
       "  </thead>\n",
       "  <tbody>\n",
       "    <tr>\n",
       "      <th>5323</th>\n",
       "      <td>e04abd8149ef81b95221e88f6ed9ab6a</td>\n",
       "      <td>delivered</td>\n",
       "      <td>NaT</td>\n",
       "    </tr>\n",
       "    <tr>\n",
       "      <th>16567</th>\n",
       "      <td>8a9adc69528e1001fc68dd0aaebbb54a</td>\n",
       "      <td>delivered</td>\n",
       "      <td>NaT</td>\n",
       "    </tr>\n",
       "    <tr>\n",
       "      <th>19031</th>\n",
       "      <td>7013bcfc1c97fe719a7b5e05e61c12db</td>\n",
       "      <td>delivered</td>\n",
       "      <td>NaT</td>\n",
       "    </tr>\n",
       "    <tr>\n",
       "      <th>22663</th>\n",
       "      <td>5cf925b116421afa85ee25e99b4c34fb</td>\n",
       "      <td>delivered</td>\n",
       "      <td>NaT</td>\n",
       "    </tr>\n",
       "    <tr>\n",
       "      <th>23156</th>\n",
       "      <td>12a95a3c06dbaec84bcfb0e2da5d228a</td>\n",
       "      <td>delivered</td>\n",
       "      <td>NaT</td>\n",
       "    </tr>\n",
       "  </tbody>\n",
       "</table>\n",
       "</div>"
      ],
      "text/plain": [
       "                               order_id order_status order_approved_at\n",
       "5323   e04abd8149ef81b95221e88f6ed9ab6a    delivered               NaT\n",
       "16567  8a9adc69528e1001fc68dd0aaebbb54a    delivered               NaT\n",
       "19031  7013bcfc1c97fe719a7b5e05e61c12db    delivered               NaT\n",
       "22663  5cf925b116421afa85ee25e99b4c34fb    delivered               NaT\n",
       "23156  12a95a3c06dbaec84bcfb0e2da5d228a    delivered               NaT"
      ]
     },
     "execution_count": 106,
     "metadata": {},
     "output_type": "execute_result"
    }
   ],
   "source": [
    "delivered = orders.query(\"order_status == 'delivered'\")\n",
    "delivered[(delivered.order_approved_at.isnull())][['order_id', 'order_status', 'order_approved_at']].head()"
   ]
  },
  {
   "cell_type": "code",
   "execution_count": 107,
   "id": "504f3a06",
   "metadata": {},
   "outputs": [
    {
     "data": {
      "text/plain": [
       "(14, 8)"
      ]
     },
     "execution_count": 107,
     "metadata": {},
     "output_type": "execute_result"
    }
   ],
   "source": [
    "delivered[(delivered.order_approved_at.isnull())].shape"
   ]
  },
  {
   "cell_type": "markdown",
   "id": "da4537f9",
   "metadata": {},
   "source": [
    "Видим, что такие заказы есть, но их число невелико - 14 штук.\n",
    "\n",
    "В то время как общее число заказов со статусом 'delivered' - 96478 штук:"
   ]
  },
  {
   "cell_type": "code",
   "execution_count": 108,
   "id": "5e1d665b",
   "metadata": {},
   "outputs": [
    {
     "data": {
      "text/plain": [
       "(96478, 8)"
      ]
     },
     "execution_count": 108,
     "metadata": {},
     "output_type": "execute_result"
    }
   ],
   "source": [
    "orders.query(\"order_status == 'delivered'\").shape"
   ]
  },
  {
   "cell_type": "markdown",
   "id": "828cd53d",
   "metadata": {},
   "source": [
    "Узнаем долю в процентах:"
   ]
  },
  {
   "cell_type": "code",
   "execution_count": 109,
   "id": "65ee7126",
   "metadata": {},
   "outputs": [
    {
     "data": {
      "text/plain": [
       "0.014511080246273761"
      ]
     },
     "execution_count": 109,
     "metadata": {},
     "output_type": "execute_result"
    }
   ],
   "source": [
    "(14/96478)*100"
   ]
  },
  {
   "cell_type": "markdown",
   "id": "03869e6d",
   "metadata": {},
   "source": [
    "Видим, что доля заказов со статусом 'delivered', но отсутствующей датой доставки всего 0.01 %, поэтому сделать вывод о том, что это закономерный процесс, и в нашем магазине возможна постоплата - нельзя. С большой вероятностью эти логи являются просто ошибками, о существовании которых мы убедились в предыдущем пункте. "
   ]
  },
  {
   "cell_type": "markdown",
   "id": "5603fd1f",
   "metadata": {},
   "source": [
    "#### <span style=\"color:red\">Делаем вывод, что каждый заказ со статусом 'delivered' уже был оплачен к моменту доставки клиенту.</span>"
   ]
  },
  {
   "cell_type": "markdown",
   "id": "91b627fe",
   "metadata": {},
   "source": [
    "# "
   ]
  },
  {
   "cell_type": "markdown",
   "id": "b74d0671",
   "metadata": {},
   "source": [
    "### *1.6 Узнаем возможен ли в нашем магазине факт возврата товара (отмена после получения):*"
   ]
  },
  {
   "cell_type": "code",
   "execution_count": 110,
   "id": "aad73ff0",
   "metadata": {
    "scrolled": true
   },
   "outputs": [
    {
     "data": {
      "text/html": [
       "<div>\n",
       "<style scoped>\n",
       "    .dataframe tbody tr th:only-of-type {\n",
       "        vertical-align: middle;\n",
       "    }\n",
       "\n",
       "    .dataframe tbody tr th {\n",
       "        vertical-align: top;\n",
       "    }\n",
       "\n",
       "    .dataframe thead th {\n",
       "        text-align: right;\n",
       "    }\n",
       "</style>\n",
       "<table border=\"1\" class=\"dataframe\">\n",
       "  <thead>\n",
       "    <tr style=\"text-align: right;\">\n",
       "      <th></th>\n",
       "      <th>order_id</th>\n",
       "      <th>customer_id</th>\n",
       "      <th>order_status</th>\n",
       "      <th>order_purchase_timestamp</th>\n",
       "      <th>order_approved_at</th>\n",
       "      <th>order_delivered_carrier_date</th>\n",
       "      <th>order_delivered_customer_date</th>\n",
       "      <th>order_estimated_delivery_date</th>\n",
       "    </tr>\n",
       "  </thead>\n",
       "  <tbody>\n",
       "    <tr>\n",
       "      <th>2921</th>\n",
       "      <td>1950d777989f6a877539f53795b4c3c3</td>\n",
       "      <td>1bccb206de9f0f25adc6871a1bcf77b2</td>\n",
       "      <td>canceled</td>\n",
       "      <td>2018-02-19 19:48:52</td>\n",
       "      <td>2018-02-19 20:56:05</td>\n",
       "      <td>2018-02-20 19:57:13</td>\n",
       "      <td>2018-03-21 22:03:51</td>\n",
       "      <td>2018-03-09</td>\n",
       "    </tr>\n",
       "    <tr>\n",
       "      <th>8791</th>\n",
       "      <td>dabf2b0e35b423f94618bf965fcb7514</td>\n",
       "      <td>5cdec0bb8cbdf53ffc8fdc212cd247c6</td>\n",
       "      <td>canceled</td>\n",
       "      <td>2016-10-09 00:56:52</td>\n",
       "      <td>2016-10-09 13:36:58</td>\n",
       "      <td>2016-10-13 13:36:59</td>\n",
       "      <td>2016-10-16 14:36:59</td>\n",
       "      <td>2016-11-30</td>\n",
       "    </tr>\n",
       "    <tr>\n",
       "      <th>58266</th>\n",
       "      <td>770d331c84e5b214bd9dc70a10b829d0</td>\n",
       "      <td>6c57e6119369185e575b36712766b0ef</td>\n",
       "      <td>canceled</td>\n",
       "      <td>2016-10-07 14:52:30</td>\n",
       "      <td>2016-10-07 15:07:10</td>\n",
       "      <td>2016-10-11 15:07:11</td>\n",
       "      <td>2016-10-14 15:07:11</td>\n",
       "      <td>2016-11-29</td>\n",
       "    </tr>\n",
       "    <tr>\n",
       "      <th>59332</th>\n",
       "      <td>8beb59392e21af5eb9547ae1a9938d06</td>\n",
       "      <td>bf609b5741f71697f65ce3852c5d2623</td>\n",
       "      <td>canceled</td>\n",
       "      <td>2016-10-08 20:17:50</td>\n",
       "      <td>2016-10-09 14:34:30</td>\n",
       "      <td>2016-10-14 22:45:26</td>\n",
       "      <td>2016-10-19 18:47:43</td>\n",
       "      <td>2016-11-30</td>\n",
       "    </tr>\n",
       "    <tr>\n",
       "      <th>92636</th>\n",
       "      <td>65d1e226dfaeb8cdc42f665422522d14</td>\n",
       "      <td>70fc57eeae292675927697fe03ad3ff5</td>\n",
       "      <td>canceled</td>\n",
       "      <td>2016-10-03 21:01:41</td>\n",
       "      <td>2016-10-04 10:18:57</td>\n",
       "      <td>2016-10-25 12:14:28</td>\n",
       "      <td>2016-11-08 10:58:34</td>\n",
       "      <td>2016-11-25</td>\n",
       "    </tr>\n",
       "    <tr>\n",
       "      <th>94399</th>\n",
       "      <td>2c45c33d2f9cb8ff8b1c86cc28c11c30</td>\n",
       "      <td>de4caa97afa80c8eeac2ff4c8da5b72e</td>\n",
       "      <td>canceled</td>\n",
       "      <td>2016-10-09 15:39:56</td>\n",
       "      <td>2016-10-10 10:40:49</td>\n",
       "      <td>2016-10-14 10:40:50</td>\n",
       "      <td>2016-11-09 14:53:50</td>\n",
       "      <td>2016-12-08</td>\n",
       "    </tr>\n",
       "  </tbody>\n",
       "</table>\n",
       "</div>"
      ],
      "text/plain": [
       "                               order_id                       customer_id  \\\n",
       "2921   1950d777989f6a877539f53795b4c3c3  1bccb206de9f0f25adc6871a1bcf77b2   \n",
       "8791   dabf2b0e35b423f94618bf965fcb7514  5cdec0bb8cbdf53ffc8fdc212cd247c6   \n",
       "58266  770d331c84e5b214bd9dc70a10b829d0  6c57e6119369185e575b36712766b0ef   \n",
       "59332  8beb59392e21af5eb9547ae1a9938d06  bf609b5741f71697f65ce3852c5d2623   \n",
       "92636  65d1e226dfaeb8cdc42f665422522d14  70fc57eeae292675927697fe03ad3ff5   \n",
       "94399  2c45c33d2f9cb8ff8b1c86cc28c11c30  de4caa97afa80c8eeac2ff4c8da5b72e   \n",
       "\n",
       "      order_status order_purchase_timestamp   order_approved_at  \\\n",
       "2921      canceled      2018-02-19 19:48:52 2018-02-19 20:56:05   \n",
       "8791      canceled      2016-10-09 00:56:52 2016-10-09 13:36:58   \n",
       "58266     canceled      2016-10-07 14:52:30 2016-10-07 15:07:10   \n",
       "59332     canceled      2016-10-08 20:17:50 2016-10-09 14:34:30   \n",
       "92636     canceled      2016-10-03 21:01:41 2016-10-04 10:18:57   \n",
       "94399     canceled      2016-10-09 15:39:56 2016-10-10 10:40:49   \n",
       "\n",
       "      order_delivered_carrier_date order_delivered_customer_date  \\\n",
       "2921           2018-02-20 19:57:13           2018-03-21 22:03:51   \n",
       "8791           2016-10-13 13:36:59           2016-10-16 14:36:59   \n",
       "58266          2016-10-11 15:07:11           2016-10-14 15:07:11   \n",
       "59332          2016-10-14 22:45:26           2016-10-19 18:47:43   \n",
       "92636          2016-10-25 12:14:28           2016-11-08 10:58:34   \n",
       "94399          2016-10-14 10:40:50           2016-11-09 14:53:50   \n",
       "\n",
       "      order_estimated_delivery_date  \n",
       "2921                     2018-03-09  \n",
       "8791                     2016-11-30  \n",
       "58266                    2016-11-29  \n",
       "59332                    2016-11-30  \n",
       "92636                    2016-11-25  \n",
       "94399                    2016-12-08  "
      ]
     },
     "execution_count": 110,
     "metadata": {},
     "output_type": "execute_result"
    }
   ],
   "source": [
    "orders.dropna(subset=['order_delivered_customer_date']).query(\"order_status=='canceled'\")"
   ]
  },
  {
   "cell_type": "markdown",
   "id": "f4b37257",
   "metadata": {},
   "source": [
    "Такие заказы есть. "
   ]
  },
  {
   "cell_type": "markdown",
   "id": "f914ed83",
   "metadata": {},
   "source": [
    "#### <span style=\"color:red\">Делаем вывод, что в нашем магазине иногда совершаются возвраты после получения товара.</span>"
   ]
  },
  {
   "cell_type": "markdown",
   "id": "2a1ae6b1",
   "metadata": {},
   "source": [
    "# "
   ]
  },
  {
   "cell_type": "markdown",
   "id": "9cd4c5cd",
   "metadata": {},
   "source": [
    "### *1.7 Узнаем возможен ли в нашем магазине факт отмены заказа до получения:*"
   ]
  },
  {
   "cell_type": "code",
   "execution_count": 20,
   "id": "df2de67e",
   "metadata": {},
   "outputs": [
    {
     "data": {
      "text/html": [
       "<div>\n",
       "<style scoped>\n",
       "    .dataframe tbody tr th:only-of-type {\n",
       "        vertical-align: middle;\n",
       "    }\n",
       "\n",
       "    .dataframe tbody tr th {\n",
       "        vertical-align: top;\n",
       "    }\n",
       "\n",
       "    .dataframe thead th {\n",
       "        text-align: right;\n",
       "    }\n",
       "</style>\n",
       "<table border=\"1\" class=\"dataframe\">\n",
       "  <thead>\n",
       "    <tr style=\"text-align: right;\">\n",
       "      <th></th>\n",
       "      <th>order_id</th>\n",
       "      <th>customer_id</th>\n",
       "      <th>order_status</th>\n",
       "      <th>order_purchase_timestamp</th>\n",
       "      <th>order_approved_at</th>\n",
       "      <th>order_delivered_carrier_date</th>\n",
       "      <th>order_delivered_customer_date</th>\n",
       "      <th>order_estimated_delivery_date</th>\n",
       "    </tr>\n",
       "  </thead>\n",
       "  <tbody>\n",
       "    <tr>\n",
       "      <th>397</th>\n",
       "      <td>1b9ecfe83cdc259250e1a8aca174f0ad</td>\n",
       "      <td>6d6b50b66d79f80827b6d96751528d30</td>\n",
       "      <td>canceled</td>\n",
       "      <td>2018-08-04 14:29:27</td>\n",
       "      <td>2018-08-07 04:10:26</td>\n",
       "      <td>NaT</td>\n",
       "      <td>NaT</td>\n",
       "      <td>2018-08-14</td>\n",
       "    </tr>\n",
       "    <tr>\n",
       "      <th>613</th>\n",
       "      <td>714fb133a6730ab81fa1d3c1b2007291</td>\n",
       "      <td>e3fe72696c4713d64d3c10afe71e75ed</td>\n",
       "      <td>canceled</td>\n",
       "      <td>2018-01-26 21:34:08</td>\n",
       "      <td>2018-01-26 21:58:39</td>\n",
       "      <td>2018-01-29 22:33:25</td>\n",
       "      <td>NaT</td>\n",
       "      <td>2018-02-22</td>\n",
       "    </tr>\n",
       "    <tr>\n",
       "      <th>1058</th>\n",
       "      <td>3a129877493c8189c59c60eb71d97c29</td>\n",
       "      <td>0913cdce793684e52bbfac69d87e91fd</td>\n",
       "      <td>canceled</td>\n",
       "      <td>2018-01-25 13:34:24</td>\n",
       "      <td>2018-01-25 13:50:20</td>\n",
       "      <td>2018-01-26 21:42:18</td>\n",
       "      <td>NaT</td>\n",
       "      <td>2018-02-23</td>\n",
       "    </tr>\n",
       "    <tr>\n",
       "      <th>1130</th>\n",
       "      <td>00b1cb0320190ca0daa2c88b35206009</td>\n",
       "      <td>3532ba38a3fd242259a514ac2b6ae6b6</td>\n",
       "      <td>canceled</td>\n",
       "      <td>2018-08-28 15:26:39</td>\n",
       "      <td>NaT</td>\n",
       "      <td>NaT</td>\n",
       "      <td>NaT</td>\n",
       "      <td>2018-09-12</td>\n",
       "    </tr>\n",
       "    <tr>\n",
       "      <th>1801</th>\n",
       "      <td>ed3efbd3a87bea76c2812c66a0b32219</td>\n",
       "      <td>191984a8ba4cbb2145acb4fe35b69664</td>\n",
       "      <td>canceled</td>\n",
       "      <td>2018-09-20 13:54:16</td>\n",
       "      <td>NaT</td>\n",
       "      <td>NaT</td>\n",
       "      <td>NaT</td>\n",
       "      <td>2018-10-17</td>\n",
       "    </tr>\n",
       "  </tbody>\n",
       "</table>\n",
       "</div>"
      ],
      "text/plain": [
       "                              order_id                       customer_id  \\\n",
       "397   1b9ecfe83cdc259250e1a8aca174f0ad  6d6b50b66d79f80827b6d96751528d30   \n",
       "613   714fb133a6730ab81fa1d3c1b2007291  e3fe72696c4713d64d3c10afe71e75ed   \n",
       "1058  3a129877493c8189c59c60eb71d97c29  0913cdce793684e52bbfac69d87e91fd   \n",
       "1130  00b1cb0320190ca0daa2c88b35206009  3532ba38a3fd242259a514ac2b6ae6b6   \n",
       "1801  ed3efbd3a87bea76c2812c66a0b32219  191984a8ba4cbb2145acb4fe35b69664   \n",
       "\n",
       "     order_status order_purchase_timestamp   order_approved_at  \\\n",
       "397      canceled      2018-08-04 14:29:27 2018-08-07 04:10:26   \n",
       "613      canceled      2018-01-26 21:34:08 2018-01-26 21:58:39   \n",
       "1058     canceled      2018-01-25 13:34:24 2018-01-25 13:50:20   \n",
       "1130     canceled      2018-08-28 15:26:39                 NaT   \n",
       "1801     canceled      2018-09-20 13:54:16                 NaT   \n",
       "\n",
       "     order_delivered_carrier_date order_delivered_customer_date  \\\n",
       "397                           NaT                           NaT   \n",
       "613           2018-01-29 22:33:25                           NaT   \n",
       "1058          2018-01-26 21:42:18                           NaT   \n",
       "1130                          NaT                           NaT   \n",
       "1801                          NaT                           NaT   \n",
       "\n",
       "     order_estimated_delivery_date  \n",
       "397                     2018-08-14  \n",
       "613                     2018-02-22  \n",
       "1058                    2018-02-23  \n",
       "1130                    2018-09-12  \n",
       "1801                    2018-10-17  "
      ]
     },
     "execution_count": 20,
     "metadata": {},
     "output_type": "execute_result"
    }
   ],
   "source": [
    "# Выведем заказы, у которых отсутсвует дата доставки клиенту, но статус - отменен:\n",
    "\n",
    "orders[orders.order_delivered_customer_date.isnull()].query(\"order_status=='canceled'\").head()"
   ]
  },
  {
   "cell_type": "code",
   "execution_count": 21,
   "id": "4f92bb5f",
   "metadata": {},
   "outputs": [
    {
     "data": {
      "text/plain": [
       "(619, 8)"
      ]
     },
     "execution_count": 21,
     "metadata": {},
     "output_type": "execute_result"
    }
   ],
   "source": [
    "# Их число:\n",
    "\n",
    "orders[orders.order_delivered_customer_date.isnull()].query(\"order_status=='canceled'\").shape"
   ]
  },
  {
   "cell_type": "markdown",
   "id": "d076304c",
   "metadata": {},
   "source": [
    "#### <span style=\"color:red\">Делаем вывод, что в нашем магазине также совершаются возвраты до получения товара (между совершением заказа и моментом доставки клиенту).</span>"
   ]
  },
  {
   "cell_type": "markdown",
   "id": "e243a569",
   "metadata": {},
   "source": [
    "# "
   ]
  },
  {
   "cell_type": "markdown",
   "id": "e7c59de2",
   "metadata": {},
   "source": [
    "### ***Вывод - что такое покупка?***"
   ]
  },
  {
   "cell_type": "markdown",
   "id": "69e830cc",
   "metadata": {},
   "source": [
    "- Под покупкой, на мой взгляд, целесообразно понимать те заказы, которые принесли магазину доход, и этот доход теперь безвозвратно принадлежит магазину. Таким образом прибыль с \"покупки\" магазин гарантировано может включать в свои активы в дальнейшем. То есть исключаются дальнейшие возможности отмены заказа и возврата средств покупателю. "
   ]
  },
  {
   "cell_type": "markdown",
   "id": "3608f31b",
   "metadata": {},
   "source": [
    "- Поэтому под определение \"покупки\" необходимо выбрать те заказы, которые были оплачены (принесли магазину доход), при этом не были отменены и отсутствует шанс их отмены в будущем (если в данный момент они еще \"в пути\"). Так как мы убедились в процессе Разведывательного анализа, что существует шанс отмены заказа как до момента получения товара клиентом (товар \"в пути\"), так и после (возврат).\n"
   ]
  },
  {
   "cell_type": "markdown",
   "id": "1c4d10be",
   "metadata": {},
   "source": [
    "\n",
    "- Кроме того, необходимо учесть, что в большинстве онлайн-магазинов мира после получения товара у клиента есть 30 дней на возврат покупки. В редких магазинах (напр. FARFETCH) - 14 дней. Поэтому надо учесть, что оплаченные и доставленные покупки еще могут быть отменены, если на момент составления датасета - еще не прошло 30 дней с даты получения посылки (**order_delivered_customer_date**)"
   ]
  },
  {
   "cell_type": "markdown",
   "id": "4d82996e",
   "metadata": {},
   "source": [
    "- То есть за \"покупки\" необходимо выбрать заказы с:\n",
    "1. имеющимися фактами оплаты, \n",
    "2. со всеми статусами кроме отмены (сancelled) и нахождения \"в пути\" ('invoiced', 'shipped', 'processing', 'unavailable','canceled', 'created', 'approved')\n",
    "3. с датой доставки клиенту (**order_delivered_customer_date**) не менее 30 дней назад относительно даты составления датасетов.\n"
   ]
  },
  {
   "cell_type": "markdown",
   "id": "c1b25d5f",
   "metadata": {},
   "source": [
    "# "
   ]
  },
  {
   "cell_type": "markdown",
   "id": "47c75d26",
   "metadata": {},
   "source": [
    "***Поэтому, исходя из вышеприведенного анализа orders, делаем вывод, что под \"покупки\" подпадают все заказы по статусом 'delivered' и одновременно order_delivered_customer_date не менее 30 дней назад относительно даты составления датасетов так как:***\n",
    "1. Мы убедились, что колонка order_status не имеет пропусков (полные данные). (п. 1.3)\n",
    "2. Наличие статуса 'delivered' одновременно исключает другие статусы: отмену заказа и нахождение в пути. (п.1.2)\n",
    "3. Каждому заказу со статусом 'delivered' соответствует факт оплаты. (п. 1.5)\n",
    "4. Необходимо исключить возможность отмены покупки и в течение 30 дней после его получения."
   ]
  },
  {
   "cell_type": "markdown",
   "id": "da7c1fcf",
   "metadata": {},
   "source": [
    "# "
   ]
  },
  {
   "cell_type": "markdown",
   "id": "18e39347",
   "metadata": {},
   "source": [
    "##  ***2. Выясним когда был составлен датасет orders (какая дата последнего лога в нём):***"
   ]
  },
  {
   "cell_type": "markdown",
   "id": "6d46e8b4",
   "metadata": {},
   "source": [
    "В датасете orders 8 колонок:"
   ]
  },
  {
   "cell_type": "code",
   "execution_count": 113,
   "id": "9fd91cce",
   "metadata": {},
   "outputs": [
    {
     "data": {
      "text/plain": [
       "Index(['order_id', 'customer_id', 'order_status', 'order_purchase_timestamp',\n",
       "       'order_approved_at', 'order_delivered_carrier_date',\n",
       "       'order_delivered_customer_date', 'order_estimated_delivery_date'],\n",
       "      dtype='object')"
      ]
     },
     "execution_count": 113,
     "metadata": {},
     "output_type": "execute_result"
    }
   ],
   "source": [
    "orders.columns"
   ]
  },
  {
   "cell_type": "code",
   "execution_count": 114,
   "id": "70f9169a",
   "metadata": {},
   "outputs": [
    {
     "data": {
      "text/plain": [
       "(99441, 8)"
      ]
     },
     "execution_count": 114,
     "metadata": {},
     "output_type": "execute_result"
    }
   ],
   "source": [
    "orders.shape"
   ]
  },
  {
   "cell_type": "markdown",
   "id": "7f67c0fa",
   "metadata": {},
   "source": [
    "Из них отвечают за дату событий 5 колонок:"
   ]
  },
  {
   "cell_type": "code",
   "execution_count": 115,
   "id": "1739e1d8",
   "metadata": {},
   "outputs": [
    {
     "data": {
      "text/plain": [
       "order_id                                 object\n",
       "customer_id                              object\n",
       "order_status                             object\n",
       "order_purchase_timestamp         datetime64[ns]\n",
       "order_approved_at                datetime64[ns]\n",
       "order_delivered_carrier_date     datetime64[ns]\n",
       "order_delivered_customer_date    datetime64[ns]\n",
       "order_estimated_delivery_date    datetime64[ns]\n",
       "dtype: object"
      ]
     },
     "execution_count": 115,
     "metadata": {},
     "output_type": "execute_result"
    }
   ],
   "source": [
    "orders.dtypes"
   ]
  },
  {
   "cell_type": "markdown",
   "id": "fd52e2b6",
   "metadata": {},
   "source": [
    "Чтобы узнать, когда был совершён последний (самый поздний) лог - найдем самую позднюю дату в каждой из колонок с датой, кроме колонки order_estimated_delivery_date так как эта дата (обещанная дата доставки) является предиктивной и не фиксирует какое-то фактическое событие:"
   ]
  },
  {
   "cell_type": "markdown",
   "id": "614d5b4a",
   "metadata": {},
   "source": [
    "*1. Узнаем самую позднюю дату совершения заказа:*"
   ]
  },
  {
   "cell_type": "code",
   "execution_count": 24,
   "id": "55de1785",
   "metadata": {
    "scrolled": true
   },
   "outputs": [
    {
     "data": {
      "text/html": [
       "<div>\n",
       "<style scoped>\n",
       "    .dataframe tbody tr th:only-of-type {\n",
       "        vertical-align: middle;\n",
       "    }\n",
       "\n",
       "    .dataframe tbody tr th {\n",
       "        vertical-align: top;\n",
       "    }\n",
       "\n",
       "    .dataframe thead th {\n",
       "        text-align: right;\n",
       "    }\n",
       "</style>\n",
       "<table border=\"1\" class=\"dataframe\">\n",
       "  <thead>\n",
       "    <tr style=\"text-align: right;\">\n",
       "      <th></th>\n",
       "      <th>order_purchase_timestamp</th>\n",
       "    </tr>\n",
       "  </thead>\n",
       "  <tbody>\n",
       "    <tr>\n",
       "      <th>60938</th>\n",
       "      <td>2018-10-17 17:30:18</td>\n",
       "    </tr>\n",
       "  </tbody>\n",
       "</table>\n",
       "</div>"
      ],
      "text/plain": [
       "      order_purchase_timestamp\n",
       "60938      2018-10-17 17:30:18"
      ]
     },
     "execution_count": 24,
     "metadata": {},
     "output_type": "execute_result"
    }
   ],
   "source": [
    "orders[['order_purchase_timestamp']].sort_values(by = 'order_purchase_timestamp', ascending=False).head(1)"
   ]
  },
  {
   "cell_type": "markdown",
   "id": "5c674afb",
   "metadata": {},
   "source": [
    "*2. Узнаем самую позднюю дату оплаты заказа:*"
   ]
  },
  {
   "cell_type": "code",
   "execution_count": 23,
   "id": "53c10947",
   "metadata": {},
   "outputs": [
    {
     "data": {
      "text/html": [
       "<div>\n",
       "<style scoped>\n",
       "    .dataframe tbody tr th:only-of-type {\n",
       "        vertical-align: middle;\n",
       "    }\n",
       "\n",
       "    .dataframe tbody tr th {\n",
       "        vertical-align: top;\n",
       "    }\n",
       "\n",
       "    .dataframe thead th {\n",
       "        text-align: right;\n",
       "    }\n",
       "</style>\n",
       "<table border=\"1\" class=\"dataframe\">\n",
       "  <thead>\n",
       "    <tr style=\"text-align: right;\">\n",
       "      <th></th>\n",
       "      <th>order_approved_at</th>\n",
       "    </tr>\n",
       "  </thead>\n",
       "  <tbody>\n",
       "    <tr>\n",
       "      <th>62360</th>\n",
       "      <td>2018-09-03 17:40:06</td>\n",
       "    </tr>\n",
       "  </tbody>\n",
       "</table>\n",
       "</div>"
      ],
      "text/plain": [
       "        order_approved_at\n",
       "62360 2018-09-03 17:40:06"
      ]
     },
     "execution_count": 23,
     "metadata": {},
     "output_type": "execute_result"
    }
   ],
   "source": [
    "orders[['order_approved_at']].sort_values(by = 'order_approved_at', ascending=False).head(1)"
   ]
  },
  {
   "cell_type": "markdown",
   "id": "ccbc1889",
   "metadata": {},
   "source": [
    "*3. Узнаем самую позднюю дату передачи заказа в логистическую службу:*"
   ]
  },
  {
   "cell_type": "code",
   "execution_count": 25,
   "id": "a4e225be",
   "metadata": {
    "scrolled": true
   },
   "outputs": [
    {
     "data": {
      "text/html": [
       "<div>\n",
       "<style scoped>\n",
       "    .dataframe tbody tr th:only-of-type {\n",
       "        vertical-align: middle;\n",
       "    }\n",
       "\n",
       "    .dataframe tbody tr th {\n",
       "        vertical-align: top;\n",
       "    }\n",
       "\n",
       "    .dataframe thead th {\n",
       "        text-align: right;\n",
       "    }\n",
       "</style>\n",
       "<table border=\"1\" class=\"dataframe\">\n",
       "  <thead>\n",
       "    <tr style=\"text-align: right;\">\n",
       "      <th></th>\n",
       "      <th>order_delivered_carrier_date</th>\n",
       "    </tr>\n",
       "  </thead>\n",
       "  <tbody>\n",
       "    <tr>\n",
       "      <th>96277</th>\n",
       "      <td>2018-09-11 19:48:28</td>\n",
       "    </tr>\n",
       "  </tbody>\n",
       "</table>\n",
       "</div>"
      ],
      "text/plain": [
       "      order_delivered_carrier_date\n",
       "96277          2018-09-11 19:48:28"
      ]
     },
     "execution_count": 25,
     "metadata": {},
     "output_type": "execute_result"
    }
   ],
   "source": [
    "orders[['order_delivered_carrier_date']].sort_values(by = 'order_delivered_carrier_date', ascending=False).head(1)"
   ]
  },
  {
   "cell_type": "markdown",
   "id": "e5e817e5",
   "metadata": {},
   "source": [
    "*4. Узнаем самую позднюю дату  доставки заказа:*"
   ]
  },
  {
   "cell_type": "code",
   "execution_count": 26,
   "id": "6c1b2cd1",
   "metadata": {},
   "outputs": [
    {
     "data": {
      "text/html": [
       "<div>\n",
       "<style scoped>\n",
       "    .dataframe tbody tr th:only-of-type {\n",
       "        vertical-align: middle;\n",
       "    }\n",
       "\n",
       "    .dataframe tbody tr th {\n",
       "        vertical-align: top;\n",
       "    }\n",
       "\n",
       "    .dataframe thead th {\n",
       "        text-align: right;\n",
       "    }\n",
       "</style>\n",
       "<table border=\"1\" class=\"dataframe\">\n",
       "  <thead>\n",
       "    <tr style=\"text-align: right;\">\n",
       "      <th></th>\n",
       "      <th>order_delivered_customer_date</th>\n",
       "    </tr>\n",
       "  </thead>\n",
       "  <tbody>\n",
       "    <tr>\n",
       "      <th>18731</th>\n",
       "      <td>2018-10-17 13:22:46</td>\n",
       "    </tr>\n",
       "  </tbody>\n",
       "</table>\n",
       "</div>"
      ],
      "text/plain": [
       "      order_delivered_customer_date\n",
       "18731           2018-10-17 13:22:46"
      ]
     },
     "execution_count": 26,
     "metadata": {},
     "output_type": "execute_result"
    }
   ],
   "source": [
    "orders[['order_delivered_customer_date']].sort_values(by = 'order_delivered_customer_date', ascending=False).head(1)"
   ]
  },
  {
   "cell_type": "markdown",
   "id": "dc538b77",
   "metadata": {},
   "source": [
    "**Самая поздняя из всех дат: 2018-10-17 17:30:18 в столбце даты совершения заказа**"
   ]
  },
  {
   "cell_type": "markdown",
   "id": "ff495964",
   "metadata": {},
   "source": [
    "Узнаем  теперь насколько часто данные в столбцах с датами появляются новые данные (в единицах измерения - днях):"
   ]
  },
  {
   "cell_type": "markdown",
   "id": "273d7c9c",
   "metadata": {},
   "source": [
    "*1. Рассмотрим даты совершения заказов (установив точность до суток):*"
   ]
  },
  {
   "cell_type": "code",
   "execution_count": 28,
   "id": "5687828e",
   "metadata": {},
   "outputs": [
    {
     "data": {
      "text/plain": [
       "60938   2018-10-18\n",
       "68373   2018-10-17\n",
       "31891   2018-10-04\n",
       "Name: order_purchase_timestamp, dtype: datetime64[ns]"
      ]
     },
     "execution_count": 28,
     "metadata": {},
     "output_type": "execute_result"
    }
   ],
   "source": [
    "# Даты совершения заказов с точностью до суток:\n",
    "\n",
    "purch_dates = orders.order_purchase_timestamp.sort_values(ascending=False).apply(lambda x: x.ceil(freq='1D'))\n",
    "purch_dates.head(3)"
   ]
  },
  {
   "cell_type": "markdown",
   "id": "c8c5ddbc",
   "metadata": {},
   "source": [
    "*1.1 Рассмотрим какие промежутки по времени между появлением новых логов есть в данном столбце (в днях):*"
   ]
  },
  {
   "cell_type": "code",
   "execution_count": 30,
   "id": "96b5f443",
   "metadata": {},
   "outputs": [
    {
     "data": {
      "text/plain": [
       "68373     1.0\n",
       "31891    13.0\n",
       "88500     2.0\n",
       "Name: order_purchase_timestamp, dtype: float64"
      ]
     },
     "execution_count": 30,
     "metadata": {},
     "output_type": "execute_result"
    }
   ],
   "source": [
    "diff_purch = purch_dates.diff().apply(lambda x: abs(x.days))[1::]\n",
    "diff_purch.head(3)"
   ]
  },
  {
   "cell_type": "markdown",
   "id": "315a19a2",
   "metadata": {},
   "source": [
    "*1.2 Получаем что 99.5 % новых логов в столбце появляются не позже чем через на следующий после предыдущей (в 99.5 % случаев в магазине совершается как минимум 1 заказ в сутки):*"
   ]
  },
  {
   "cell_type": "code",
   "execution_count": 31,
   "id": "117afdb5",
   "metadata": {},
   "outputs": [
    {
     "data": {
      "text/plain": [
       "1.0"
      ]
     },
     "execution_count": 31,
     "metadata": {},
     "output_type": "execute_result"
    }
   ],
   "source": [
    "diff_purch.quantile(0.995)"
   ]
  },
  {
   "cell_type": "markdown",
   "id": "db7aff94",
   "metadata": {},
   "source": [
    "2. Проделаем аналогичные изыскания с остальными столбцами, создав функцию для упрощения вычислений:"
   ]
  },
  {
   "cell_type": "code",
   "execution_count": 33,
   "id": "4b7031ed",
   "metadata": {},
   "outputs": [],
   "source": [
    "def get_995q(column):\n",
    "    a = column.sort_values(ascending=False).apply(lambda x: x.ceil(freq='1D'))\n",
    "    diff_a = a.diff().apply(lambda x: abs(x.days))[1::]\n",
    "    return diff_a.quantile(0.995)"
   ]
  },
  {
   "cell_type": "markdown",
   "id": "5bba3dc4",
   "metadata": {},
   "source": [
    "*2.1. Получаем, что 99.5 % новых логов в остальных столбцах также появляются не позже чем через сутки после предыдущего:*"
   ]
  },
  {
   "cell_type": "code",
   "execution_count": 34,
   "id": "cfdfc76d",
   "metadata": {},
   "outputs": [
    {
     "data": {
      "text/plain": [
       "1.0"
      ]
     },
     "execution_count": 34,
     "metadata": {},
     "output_type": "execute_result"
    }
   ],
   "source": [
    "get_995q(orders.order_approved_at)"
   ]
  },
  {
   "cell_type": "code",
   "execution_count": 35,
   "id": "72796b24",
   "metadata": {},
   "outputs": [
    {
     "data": {
      "text/plain": [
       "1.0"
      ]
     },
     "execution_count": 35,
     "metadata": {},
     "output_type": "execute_result"
    }
   ],
   "source": [
    "get_995q(orders.order_delivered_carrier_date)"
   ]
  },
  {
   "cell_type": "code",
   "execution_count": 36,
   "id": "263bccc6",
   "metadata": {},
   "outputs": [
    {
     "data": {
      "text/plain": [
       "1.0"
      ]
     },
     "execution_count": 36,
     "metadata": {},
     "output_type": "execute_result"
    }
   ],
   "source": [
    "get_995q(orders.order_delivered_customer_date)"
   ]
  },
  {
   "cell_type": "markdown",
   "id": "d44e4ab9",
   "metadata": {},
   "source": [
    "#### <span style=\"color:red\">Делаем вывод,  что новые данные в столбцах с фиксацией даты появляются с 99.5% вероятностью не реже чем раз в сутки.Таким образом, можно утверждать, что выясненная ранее наиболее поздняя дата - 2018-10-17 17:30:18 является датой актуальности исходных датасетов с точностью до суток. В противном случае - с 99.5 % вероятностью через сутки после нее был бы совершен новый заказ и он бы тоже был в датасете, но его там нет, поэтому эта дата - наиболее свежая.</span>"
   ]
  },
  {
   "cell_type": "markdown",
   "id": "f5b1eeec",
   "metadata": {},
   "source": [
    "***"
   ]
  },
  {
   "cell_type": "markdown",
   "id": "812a90fb",
   "metadata": {},
   "source": [
    "# **Задание 1.**\n"
   ]
  },
  {
   "cell_type": "markdown",
   "id": "4cabbe79",
   "metadata": {},
   "source": [
    "## **Сколько у нас пользователей, которые совершили покупку только один раз?**"
   ]
  },
  {
   "cell_type": "markdown",
   "id": "862f793d",
   "metadata": {},
   "source": [
    "### *1. Отфильтруем датасет orders до заказов, которые являются покупками:*"
   ]
  },
  {
   "cell_type": "markdown",
   "id": "9e0685fa",
   "metadata": {},
   "source": [
    "В пункте \"Разведывательный анализ\" мы убедились, что каждый заказ, имеющий статус 'delivered' и **order_delivered_customer_date** не менее 30 дней назад относительно **2018-10-17 17:30:18** можно считать фактически и безвозвратно доставленным, а также оплаченным - то есть ***покупкой***."
   ]
  },
  {
   "cell_type": "code",
   "execution_count": 37,
   "id": "c244d1a8",
   "metadata": {},
   "outputs": [
    {
     "data": {
      "text/plain": [
       "Timestamp('2018-09-17 17:30:18')"
      ]
     },
     "execution_count": 37,
     "metadata": {},
     "output_type": "execute_result"
    }
   ],
   "source": [
    "min_date = pd.Timestamp('2018-10-17 17:30:18') - pd.Timedelta(days=30)\n",
    "min_date"
   ]
  },
  {
   "cell_type": "code",
   "execution_count": 39,
   "id": "b03146aa",
   "metadata": {},
   "outputs": [
    {
     "data": {
      "text/html": [
       "<div>\n",
       "<style scoped>\n",
       "    .dataframe tbody tr th:only-of-type {\n",
       "        vertical-align: middle;\n",
       "    }\n",
       "\n",
       "    .dataframe tbody tr th {\n",
       "        vertical-align: top;\n",
       "    }\n",
       "\n",
       "    .dataframe thead th {\n",
       "        text-align: right;\n",
       "    }\n",
       "</style>\n",
       "<table border=\"1\" class=\"dataframe\">\n",
       "  <thead>\n",
       "    <tr style=\"text-align: right;\">\n",
       "      <th></th>\n",
       "      <th>order_id</th>\n",
       "      <th>customer_id</th>\n",
       "    </tr>\n",
       "  </thead>\n",
       "  <tbody>\n",
       "    <tr>\n",
       "      <th>0</th>\n",
       "      <td>e481f51cbdc54678b7cc49136f2d6af7</td>\n",
       "      <td>9ef432eb6251297304e76186b10a928d</td>\n",
       "    </tr>\n",
       "    <tr>\n",
       "      <th>1</th>\n",
       "      <td>53cdb2fc8bc7dce0b6741e2150273451</td>\n",
       "      <td>b0830fb4747a6c6d20dea0b8c802d7ef</td>\n",
       "    </tr>\n",
       "    <tr>\n",
       "      <th>2</th>\n",
       "      <td>47770eb9100c2d0c44946d9cf07ec65d</td>\n",
       "      <td>41ce2a54c0b03bf3443c3d931a367089</td>\n",
       "    </tr>\n",
       "    <tr>\n",
       "      <th>3</th>\n",
       "      <td>949d5b44dbf5de918fe9c16f97b45f8a</td>\n",
       "      <td>f88197465ea7920adcdbec7375364d82</td>\n",
       "    </tr>\n",
       "    <tr>\n",
       "      <th>4</th>\n",
       "      <td>ad21c59c0840e6cb83a9ceb5573f8159</td>\n",
       "      <td>8ab97904e6daea8866dbdbc4fb7aad2c</td>\n",
       "    </tr>\n",
       "  </tbody>\n",
       "</table>\n",
       "</div>"
      ],
      "text/plain": [
       "                           order_id                       customer_id\n",
       "0  e481f51cbdc54678b7cc49136f2d6af7  9ef432eb6251297304e76186b10a928d\n",
       "1  53cdb2fc8bc7dce0b6741e2150273451  b0830fb4747a6c6d20dea0b8c802d7ef\n",
       "2  47770eb9100c2d0c44946d9cf07ec65d  41ce2a54c0b03bf3443c3d931a367089\n",
       "3  949d5b44dbf5de918fe9c16f97b45f8a  f88197465ea7920adcdbec7375364d82\n",
       "4  ad21c59c0840e6cb83a9ceb5573f8159  8ab97904e6daea8866dbdbc4fb7aad2c"
      ]
     },
     "execution_count": 39,
     "metadata": {},
     "output_type": "execute_result"
    }
   ],
   "source": [
    "buys = orders.query(\"order_status == 'delivered' and order_delivered_customer_date < @min_date\")\\\n",
    "              [['order_id','customer_id']]\n",
    "buys.head()"
   ]
  },
  {
   "cell_type": "markdown",
   "id": "2fb58283",
   "metadata": {},
   "source": [
    "### *2. Сопоставим id покупок - id уникальных пользователей, совершивших их:*"
   ]
  },
  {
   "cell_type": "code",
   "execution_count": 41,
   "id": "7dfbb641",
   "metadata": {},
   "outputs": [
    {
     "data": {
      "text/html": [
       "<div>\n",
       "<style scoped>\n",
       "    .dataframe tbody tr th:only-of-type {\n",
       "        vertical-align: middle;\n",
       "    }\n",
       "\n",
       "    .dataframe tbody tr th {\n",
       "        vertical-align: top;\n",
       "    }\n",
       "\n",
       "    .dataframe thead th {\n",
       "        text-align: right;\n",
       "    }\n",
       "</style>\n",
       "<table border=\"1\" class=\"dataframe\">\n",
       "  <thead>\n",
       "    <tr style=\"text-align: right;\">\n",
       "      <th></th>\n",
       "      <th>buy_id</th>\n",
       "      <th>customer_unique_id</th>\n",
       "    </tr>\n",
       "  </thead>\n",
       "  <tbody>\n",
       "    <tr>\n",
       "      <th>0</th>\n",
       "      <td>e481f51cbdc54678b7cc49136f2d6af7</td>\n",
       "      <td>7c396fd4830fd04220f754e42b4e5bff</td>\n",
       "    </tr>\n",
       "    <tr>\n",
       "      <th>1</th>\n",
       "      <td>53cdb2fc8bc7dce0b6741e2150273451</td>\n",
       "      <td>af07308b275d755c9edb36a90c618231</td>\n",
       "    </tr>\n",
       "    <tr>\n",
       "      <th>2</th>\n",
       "      <td>47770eb9100c2d0c44946d9cf07ec65d</td>\n",
       "      <td>3a653a41f6f9fc3d2a113cf8398680e8</td>\n",
       "    </tr>\n",
       "    <tr>\n",
       "      <th>3</th>\n",
       "      <td>949d5b44dbf5de918fe9c16f97b45f8a</td>\n",
       "      <td>7c142cf63193a1473d2e66489a9ae977</td>\n",
       "    </tr>\n",
       "    <tr>\n",
       "      <th>4</th>\n",
       "      <td>ad21c59c0840e6cb83a9ceb5573f8159</td>\n",
       "      <td>72632f0f9dd73dfee390c9b22eb56dd6</td>\n",
       "    </tr>\n",
       "    <tr>\n",
       "      <th>...</th>\n",
       "      <td>...</td>\n",
       "      <td>...</td>\n",
       "    </tr>\n",
       "    <tr>\n",
       "      <th>96454</th>\n",
       "      <td>9c5dedf39a927c1b2549525ed64a053c</td>\n",
       "      <td>6359f309b166b0196dbf7ad2ac62bb5a</td>\n",
       "    </tr>\n",
       "    <tr>\n",
       "      <th>96455</th>\n",
       "      <td>63943bddc261676b46f01ca7ac2f7bd8</td>\n",
       "      <td>da62f9e57a76d978d02ab5362c509660</td>\n",
       "    </tr>\n",
       "    <tr>\n",
       "      <th>96456</th>\n",
       "      <td>83c1379a015df1e13d02aae0204711ab</td>\n",
       "      <td>737520a9aad80b3fbbdad19b66b37b30</td>\n",
       "    </tr>\n",
       "    <tr>\n",
       "      <th>96457</th>\n",
       "      <td>11c177c8e97725db2631073c19f07b62</td>\n",
       "      <td>5097a5312c8b157bb7be58ae360ef43c</td>\n",
       "    </tr>\n",
       "    <tr>\n",
       "      <th>96458</th>\n",
       "      <td>66dea50a8b16d9b4dee7af250b4be1a5</td>\n",
       "      <td>60350aa974b26ff12caad89e55993bd6</td>\n",
       "    </tr>\n",
       "  </tbody>\n",
       "</table>\n",
       "<p>96459 rows × 2 columns</p>\n",
       "</div>"
      ],
      "text/plain": [
       "                                 buy_id                customer_unique_id\n",
       "0      e481f51cbdc54678b7cc49136f2d6af7  7c396fd4830fd04220f754e42b4e5bff\n",
       "1      53cdb2fc8bc7dce0b6741e2150273451  af07308b275d755c9edb36a90c618231\n",
       "2      47770eb9100c2d0c44946d9cf07ec65d  3a653a41f6f9fc3d2a113cf8398680e8\n",
       "3      949d5b44dbf5de918fe9c16f97b45f8a  7c142cf63193a1473d2e66489a9ae977\n",
       "4      ad21c59c0840e6cb83a9ceb5573f8159  72632f0f9dd73dfee390c9b22eb56dd6\n",
       "...                                 ...                               ...\n",
       "96454  9c5dedf39a927c1b2549525ed64a053c  6359f309b166b0196dbf7ad2ac62bb5a\n",
       "96455  63943bddc261676b46f01ca7ac2f7bd8  da62f9e57a76d978d02ab5362c509660\n",
       "96456  83c1379a015df1e13d02aae0204711ab  737520a9aad80b3fbbdad19b66b37b30\n",
       "96457  11c177c8e97725db2631073c19f07b62  5097a5312c8b157bb7be58ae360ef43c\n",
       "96458  66dea50a8b16d9b4dee7af250b4be1a5  60350aa974b26ff12caad89e55993bd6\n",
       "\n",
       "[96459 rows x 2 columns]"
      ]
     },
     "execution_count": 41,
     "metadata": {},
     "output_type": "execute_result"
    }
   ],
   "source": [
    "uniq_id_by_buys = buys.merge(customers, on='customer_id')[['order_id','customer_unique_id']]\\\n",
    "                      .rename(columns={'order_id':'buy_id'})\n",
    "uniq_id_by_buys"
   ]
  },
  {
   "cell_type": "markdown",
   "id": "33d1b0ea",
   "metadata": {},
   "source": [
    "### *3. Считаем сколько заказов совершил каждый уникальный пользователь:*"
   ]
  },
  {
   "cell_type": "code",
   "execution_count": 130,
   "id": "28b76d45",
   "metadata": {},
   "outputs": [
    {
     "data": {
      "text/html": [
       "<div>\n",
       "<style scoped>\n",
       "    .dataframe tbody tr th:only-of-type {\n",
       "        vertical-align: middle;\n",
       "    }\n",
       "\n",
       "    .dataframe tbody tr th {\n",
       "        vertical-align: top;\n",
       "    }\n",
       "\n",
       "    .dataframe thead th {\n",
       "        text-align: right;\n",
       "    }\n",
       "</style>\n",
       "<table border=\"1\" class=\"dataframe\">\n",
       "  <thead>\n",
       "    <tr style=\"text-align: right;\">\n",
       "      <th></th>\n",
       "      <th>buys_count</th>\n",
       "    </tr>\n",
       "    <tr>\n",
       "      <th>customer_unique_id</th>\n",
       "      <th></th>\n",
       "    </tr>\n",
       "  </thead>\n",
       "  <tbody>\n",
       "    <tr>\n",
       "      <th>8d50f5eadf50201ccdcedfb9e2ac8455</th>\n",
       "      <td>15</td>\n",
       "    </tr>\n",
       "    <tr>\n",
       "      <th>3e43e6105506432c953e165fb2acf44c</th>\n",
       "      <td>9</td>\n",
       "    </tr>\n",
       "    <tr>\n",
       "      <th>6469f99c1f9dfae7733b25662e7f1782</th>\n",
       "      <td>7</td>\n",
       "    </tr>\n",
       "    <tr>\n",
       "      <th>ca77025e7201e3b30c44b472ff346268</th>\n",
       "      <td>7</td>\n",
       "    </tr>\n",
       "    <tr>\n",
       "      <th>1b6c7548a2a1f9037c1fd3ddfed95f33</th>\n",
       "      <td>7</td>\n",
       "    </tr>\n",
       "    <tr>\n",
       "      <th>...</th>\n",
       "      <td>...</td>\n",
       "    </tr>\n",
       "    <tr>\n",
       "      <th>565af81202a1fb8a9ffe282935381142</th>\n",
       "      <td>1</td>\n",
       "    </tr>\n",
       "    <tr>\n",
       "      <th>56583a02df6f603c331a575f4f63ec6b</th>\n",
       "      <td>1</td>\n",
       "    </tr>\n",
       "    <tr>\n",
       "      <th>565811ed44e539a14bc391cf57373ed1</th>\n",
       "      <td>1</td>\n",
       "    </tr>\n",
       "    <tr>\n",
       "      <th>5657f9f721c16800a66c21081d46b18d</th>\n",
       "      <td>1</td>\n",
       "    </tr>\n",
       "    <tr>\n",
       "      <th>ffffd2657e2aad2907e67c3e9daecbeb</th>\n",
       "      <td>1</td>\n",
       "    </tr>\n",
       "  </tbody>\n",
       "</table>\n",
       "<p>93339 rows × 1 columns</p>\n",
       "</div>"
      ],
      "text/plain": [
       "                                  buys_count\n",
       "customer_unique_id                          \n",
       "8d50f5eadf50201ccdcedfb9e2ac8455          15\n",
       "3e43e6105506432c953e165fb2acf44c           9\n",
       "6469f99c1f9dfae7733b25662e7f1782           7\n",
       "ca77025e7201e3b30c44b472ff346268           7\n",
       "1b6c7548a2a1f9037c1fd3ddfed95f33           7\n",
       "...                                      ...\n",
       "565af81202a1fb8a9ffe282935381142           1\n",
       "56583a02df6f603c331a575f4f63ec6b           1\n",
       "565811ed44e539a14bc391cf57373ed1           1\n",
       "5657f9f721c16800a66c21081d46b18d           1\n",
       "ffffd2657e2aad2907e67c3e9daecbeb           1\n",
       "\n",
       "[93339 rows x 1 columns]"
      ]
     },
     "execution_count": 130,
     "metadata": {},
     "output_type": "execute_result"
    }
   ],
   "source": [
    "buys_qty = uniq_id_by_buys.groupby('customer_unique_id')\\\n",
    "             .agg({'buy_id':'count'})\\\n",
    "             .sort_values(by='buy_id', ascending=False)\\\n",
    "             .rename(columns={'buy_id':'buys_count'})\n",
    "buys_qty"
   ]
  },
  {
   "cell_type": "markdown",
   "id": "da0baf25",
   "metadata": {},
   "source": [
    "### *4. Узнаем сколько сколько пользователей совершило только 1 заказ:*"
   ]
  },
  {
   "cell_type": "code",
   "execution_count": 131,
   "id": "b09aa35c",
   "metadata": {},
   "outputs": [
    {
     "data": {
      "text/plain": [
       "90538"
      ]
     },
     "execution_count": 131,
     "metadata": {},
     "output_type": "execute_result"
    }
   ],
   "source": [
    "buys_qty.query('buys_count==1').shape[0]\n"
   ]
  },
  {
   "cell_type": "markdown",
   "id": "1f806dc1",
   "metadata": {},
   "source": [
    "### ***Получаем ответ: 90538***"
   ]
  },
  {
   "cell_type": "markdown",
   "id": "6f0b5b17",
   "metadata": {},
   "source": [
    "# "
   ]
  },
  {
   "cell_type": "markdown",
   "id": "aa5935cc",
   "metadata": {},
   "source": [
    "***"
   ]
  },
  {
   "cell_type": "markdown",
   "id": "af655aa0",
   "metadata": {},
   "source": [
    "# **Задание 2.** \n"
   ]
  },
  {
   "cell_type": "markdown",
   "id": "65f03124",
   "metadata": {},
   "source": [
    "## **Сколько заказов в месяц в среднем не доставляется по разным причинам (вывести детализацию по причинам)?**"
   ]
  },
  {
   "cell_type": "markdown",
   "id": "1ffe17e6",
   "metadata": {},
   "source": [
    "### *1. Отфильтруем датасет orders до заказов, которые  **не были** доставлены до момента создания датасета:*"
   ]
  },
  {
   "cell_type": "markdown",
   "id": "53ce7188",
   "metadata": {},
   "source": [
    "На мой взгляд, целесообразно трактовать задание так, что нам требуется найти заказы, которые не были доставлены вовремя. То есть их обещенное время не совпало с истинным временем доставки и детализация таких инцидентов по причинам. \n",
    "\n",
    "Нам необходимо оставить только данные о тех заказах, которые не были доставлены именно до момента составления предложенных нам датасетов. \n",
    "\n",
    "Потому что, если мы наивно возьмем только заказы, не имеющие статуса **'delivered'**, то среди них будут также и заказы которые не доставлены на момент cоздания датасета. Такие заказы могут быть доставлены в будущем вовремя, но в данный момент они, например, были просто в пути.\n",
    "\n",
    "Поэтому нам надо взять заказы, не имеющие статуса **'delivered'** и при этом, чье обещенное время доставки **(order_estimated_delivery_date)** - меньше даты составления датасета (чтобы исключить включение заказов находящихся в пути как недоставленных вовремя). Дату составления датасета берем ***2018-10-17 17:30:18*** - из пункта \"Разведывательный анализ\"."
   ]
  },
  {
   "cell_type": "markdown",
   "id": "da8995c5",
   "metadata": {},
   "source": [
    "Оставляем только необходимые столбцы: \n",
    "1. **order_id** \n",
    "2. **order_status**\n",
    "3. **order_estimated_delivery_date** - дата, в которую должны были доставить, но не доставили (искомая дата для месяца по условию)"
   ]
  },
  {
   "cell_type": "markdown",
   "id": "0acd11b9",
   "metadata": {},
   "source": [
    "Учитываем условие:\n",
    "\n",
    "1. **order_estimated_delivery_date < 2018-10-17 17:30:18**"
   ]
  },
  {
   "cell_type": "code",
   "execution_count": 42,
   "id": "470be4b9",
   "metadata": {},
   "outputs": [
    {
     "data": {
      "text/html": [
       "<div>\n",
       "<style scoped>\n",
       "    .dataframe tbody tr th:only-of-type {\n",
       "        vertical-align: middle;\n",
       "    }\n",
       "\n",
       "    .dataframe tbody tr th {\n",
       "        vertical-align: top;\n",
       "    }\n",
       "\n",
       "    .dataframe thead th {\n",
       "        text-align: right;\n",
       "    }\n",
       "</style>\n",
       "<table border=\"1\" class=\"dataframe\">\n",
       "  <thead>\n",
       "    <tr style=\"text-align: right;\">\n",
       "      <th></th>\n",
       "      <th>order_id</th>\n",
       "      <th>order_status</th>\n",
       "      <th>order_estimated_delivery_date</th>\n",
       "    </tr>\n",
       "  </thead>\n",
       "  <tbody>\n",
       "    <tr>\n",
       "      <th>6</th>\n",
       "      <td>136cce7faa42fdb2cefd53fdc79a6098</td>\n",
       "      <td>invoiced</td>\n",
       "      <td>2017-05-09</td>\n",
       "    </tr>\n",
       "    <tr>\n",
       "      <th>44</th>\n",
       "      <td>ee64d42b8cf066f35eac1cf57de1aa85</td>\n",
       "      <td>shipped</td>\n",
       "      <td>2018-06-28</td>\n",
       "    </tr>\n",
       "    <tr>\n",
       "      <th>103</th>\n",
       "      <td>0760a852e4e9d89eb77bf631eaaf1c84</td>\n",
       "      <td>invoiced</td>\n",
       "      <td>2018-08-21</td>\n",
       "    </tr>\n",
       "    <tr>\n",
       "      <th>128</th>\n",
       "      <td>15bed8e2fec7fdbadb186b57c46c92f2</td>\n",
       "      <td>processing</td>\n",
       "      <td>2017-10-03</td>\n",
       "    </tr>\n",
       "    <tr>\n",
       "      <th>154</th>\n",
       "      <td>6942b8da583c2f9957e990d028607019</td>\n",
       "      <td>shipped</td>\n",
       "      <td>2018-02-07</td>\n",
       "    </tr>\n",
       "  </tbody>\n",
       "</table>\n",
       "</div>"
      ],
      "text/plain": [
       "                             order_id order_status  \\\n",
       "6    136cce7faa42fdb2cefd53fdc79a6098     invoiced   \n",
       "44   ee64d42b8cf066f35eac1cf57de1aa85      shipped   \n",
       "103  0760a852e4e9d89eb77bf631eaaf1c84     invoiced   \n",
       "128  15bed8e2fec7fdbadb186b57c46c92f2   processing   \n",
       "154  6942b8da583c2f9957e990d028607019      shipped   \n",
       "\n",
       "    order_estimated_delivery_date  \n",
       "6                      2017-05-09  \n",
       "44                     2018-06-28  \n",
       "103                    2018-08-21  \n",
       "128                    2017-10-03  \n",
       "154                    2018-02-07  "
      ]
     },
     "execution_count": 42,
     "metadata": {},
     "output_type": "execute_result"
    }
   ],
   "source": [
    "current = pd.Timestamp('2018-10-17 17:30:18')\n",
    "orders_not_delivered = orders.query(\"order_status != 'delivered' and order_estimated_delivery_date < @current\")\n",
    "orders_not_delivered = orders_not_delivered[['order_id','order_status', 'order_estimated_delivery_date']]\n",
    "orders_not_delivered.head()"
   ]
  },
  {
   "cell_type": "markdown",
   "id": "90711230",
   "metadata": {},
   "source": [
    "### *2. Узнаем размерность датафрейма orders_not_delivered:*"
   ]
  },
  {
   "cell_type": "code",
   "execution_count": 43,
   "id": "b36e11fa",
   "metadata": {},
   "outputs": [
    {
     "data": {
      "text/plain": [
       "(2959, 3)"
      ]
     },
     "execution_count": 43,
     "metadata": {},
     "output_type": "execute_result"
    }
   ],
   "source": [
    "orders_not_delivered.shape"
   ]
  },
  {
   "cell_type": "markdown",
   "id": "6542d813",
   "metadata": {},
   "source": [
    "### *3. Узнаем есть ли пропущенные данные в датафрейме:*"
   ]
  },
  {
   "cell_type": "markdown",
   "id": "f5ac2cc9",
   "metadata": {},
   "source": [
    "Пропущенных данных нет:\n",
    "\n"
   ]
  },
  {
   "cell_type": "code",
   "execution_count": 44,
   "id": "fe1b028a",
   "metadata": {},
   "outputs": [
    {
     "data": {
      "text/plain": [
       "True"
      ]
     },
     "execution_count": 44,
     "metadata": {},
     "output_type": "execute_result"
    }
   ],
   "source": [
    "orders_not_delivered.dropna().shape == \\\n",
    "orders_not_delivered.shape"
   ]
  },
  {
   "cell_type": "markdown",
   "id": "b589eff7",
   "metadata": {},
   "source": [
    "### *4. Заменим обещанную дату  доставки на дату формата ГОД-МЕСЯЦ:*"
   ]
  },
  {
   "cell_type": "code",
   "execution_count": 46,
   "id": "72ab3f06",
   "metadata": {},
   "outputs": [
    {
     "data": {
      "text/html": [
       "<div>\n",
       "<style scoped>\n",
       "    .dataframe tbody tr th:only-of-type {\n",
       "        vertical-align: middle;\n",
       "    }\n",
       "\n",
       "    .dataframe tbody tr th {\n",
       "        vertical-align: top;\n",
       "    }\n",
       "\n",
       "    .dataframe thead th {\n",
       "        text-align: right;\n",
       "    }\n",
       "</style>\n",
       "<table border=\"1\" class=\"dataframe\">\n",
       "  <thead>\n",
       "    <tr style=\"text-align: right;\">\n",
       "      <th></th>\n",
       "      <th>order_id</th>\n",
       "      <th>order_status</th>\n",
       "      <th>order_estimated_delivery_date</th>\n",
       "    </tr>\n",
       "  </thead>\n",
       "  <tbody>\n",
       "    <tr>\n",
       "      <th>6</th>\n",
       "      <td>136cce7faa42fdb2cefd53fdc79a6098</td>\n",
       "      <td>invoiced</td>\n",
       "      <td>2017-May</td>\n",
       "    </tr>\n",
       "    <tr>\n",
       "      <th>44</th>\n",
       "      <td>ee64d42b8cf066f35eac1cf57de1aa85</td>\n",
       "      <td>shipped</td>\n",
       "      <td>2018-Jun</td>\n",
       "    </tr>\n",
       "    <tr>\n",
       "      <th>103</th>\n",
       "      <td>0760a852e4e9d89eb77bf631eaaf1c84</td>\n",
       "      <td>invoiced</td>\n",
       "      <td>2018-Aug</td>\n",
       "    </tr>\n",
       "    <tr>\n",
       "      <th>128</th>\n",
       "      <td>15bed8e2fec7fdbadb186b57c46c92f2</td>\n",
       "      <td>processing</td>\n",
       "      <td>2017-Oct</td>\n",
       "    </tr>\n",
       "    <tr>\n",
       "      <th>154</th>\n",
       "      <td>6942b8da583c2f9957e990d028607019</td>\n",
       "      <td>shipped</td>\n",
       "      <td>2018-Feb</td>\n",
       "    </tr>\n",
       "  </tbody>\n",
       "</table>\n",
       "</div>"
      ],
      "text/plain": [
       "                             order_id order_status  \\\n",
       "6    136cce7faa42fdb2cefd53fdc79a6098     invoiced   \n",
       "44   ee64d42b8cf066f35eac1cf57de1aa85      shipped   \n",
       "103  0760a852e4e9d89eb77bf631eaaf1c84     invoiced   \n",
       "128  15bed8e2fec7fdbadb186b57c46c92f2   processing   \n",
       "154  6942b8da583c2f9957e990d028607019      shipped   \n",
       "\n",
       "    order_estimated_delivery_date  \n",
       "6                        2017-May  \n",
       "44                       2018-Jun  \n",
       "103                      2018-Aug  \n",
       "128                      2017-Oct  \n",
       "154                      2018-Feb  "
      ]
     },
     "execution_count": 46,
     "metadata": {},
     "output_type": "execute_result"
    }
   ],
   "source": [
    "orders_not_delivered.order_estimated_delivery_date = orders_not_delivered.order_estimated_delivery_date\\\n",
    "                                                                         .apply(lambda x: x.strftime('%Y-%b'))\n",
    "orders_not_delivered.head()"
   ]
  },
  {
   "cell_type": "markdown",
   "id": "1089be85",
   "metadata": {},
   "source": [
    "### *5. Сгруппируем недоставленные заказы по месяцам и по причине:*"
   ]
  },
  {
   "cell_type": "code",
   "execution_count": 47,
   "id": "5da2edc5",
   "metadata": {},
   "outputs": [
    {
     "data": {
      "text/html": [
       "<div>\n",
       "<style scoped>\n",
       "    .dataframe tbody tr th:only-of-type {\n",
       "        vertical-align: middle;\n",
       "    }\n",
       "\n",
       "    .dataframe tbody tr th {\n",
       "        vertical-align: top;\n",
       "    }\n",
       "\n",
       "    .dataframe thead th {\n",
       "        text-align: right;\n",
       "    }\n",
       "</style>\n",
       "<table border=\"1\" class=\"dataframe\">\n",
       "  <thead>\n",
       "    <tr style=\"text-align: right;\">\n",
       "      <th></th>\n",
       "      <th>reason</th>\n",
       "      <th>order_estimated_delivery_date</th>\n",
       "      <th>count</th>\n",
       "    </tr>\n",
       "  </thead>\n",
       "  <tbody>\n",
       "    <tr>\n",
       "      <th>0</th>\n",
       "      <td>approved</td>\n",
       "      <td>2017-Mar</td>\n",
       "      <td>1</td>\n",
       "    </tr>\n",
       "    <tr>\n",
       "      <th>1</th>\n",
       "      <td>approved</td>\n",
       "      <td>2017-May</td>\n",
       "      <td>1</td>\n",
       "    </tr>\n",
       "    <tr>\n",
       "      <th>2</th>\n",
       "      <td>canceled</td>\n",
       "      <td>2016-Dec</td>\n",
       "      <td>8</td>\n",
       "    </tr>\n",
       "    <tr>\n",
       "      <th>3</th>\n",
       "      <td>canceled</td>\n",
       "      <td>2016-Nov</td>\n",
       "      <td>14</td>\n",
       "    </tr>\n",
       "    <tr>\n",
       "      <th>4</th>\n",
       "      <td>canceled</td>\n",
       "      <td>2016-Oct</td>\n",
       "      <td>3</td>\n",
       "    </tr>\n",
       "  </tbody>\n",
       "</table>\n",
       "</div>"
      ],
      "text/plain": [
       "     reason order_estimated_delivery_date  count\n",
       "0  approved                      2017-Mar      1\n",
       "1  approved                      2017-May      1\n",
       "2  canceled                      2016-Dec      8\n",
       "3  canceled                      2016-Nov     14\n",
       "4  canceled                      2016-Oct      3"
      ]
     },
     "execution_count": 47,
     "metadata": {},
     "output_type": "execute_result"
    }
   ],
   "source": [
    "by_months_and_status = orders_not_delivered.groupby(['order_status', 'order_estimated_delivery_date'],as_index=False)\\\n",
    "                                    .agg({'order_id':'count'})\\\n",
    "                                    .rename(columns={'order_status':'reason', 'order_id':'count'})\n",
    "by_months_and_status.head()"
   ]
  },
  {
   "cell_type": "markdown",
   "id": "213237d9",
   "metadata": {},
   "source": [
    "### *6. Сгруппируем предыдущий датафрйем по причинам и считаем среднее количество в месяц у каждой причины:*"
   ]
  },
  {
   "cell_type": "code",
   "execution_count": 48,
   "id": "950c36f0",
   "metadata": {},
   "outputs": [
    {
     "data": {
      "text/html": [
       "<div>\n",
       "<style scoped>\n",
       "    .dataframe tbody tr th:only-of-type {\n",
       "        vertical-align: middle;\n",
       "    }\n",
       "\n",
       "    .dataframe tbody tr th {\n",
       "        vertical-align: top;\n",
       "    }\n",
       "\n",
       "    .dataframe thead th {\n",
       "        text-align: right;\n",
       "    }\n",
       "</style>\n",
       "<table border=\"1\" class=\"dataframe\">\n",
       "  <thead>\n",
       "    <tr style=\"text-align: right;\">\n",
       "      <th></th>\n",
       "      <th>average_quantity</th>\n",
       "    </tr>\n",
       "    <tr>\n",
       "      <th>reason</th>\n",
       "      <th></th>\n",
       "    </tr>\n",
       "  </thead>\n",
       "  <tbody>\n",
       "    <tr>\n",
       "      <th>shipped</th>\n",
       "      <td>48.130435</td>\n",
       "    </tr>\n",
       "    <tr>\n",
       "      <th>unavailable</th>\n",
       "      <td>29.000000</td>\n",
       "    </tr>\n",
       "    <tr>\n",
       "      <th>canceled</th>\n",
       "      <td>24.840000</td>\n",
       "    </tr>\n",
       "    <tr>\n",
       "      <th>processing</th>\n",
       "      <td>15.842105</td>\n",
       "    </tr>\n",
       "    <tr>\n",
       "      <th>invoiced</th>\n",
       "      <td>14.952381</td>\n",
       "    </tr>\n",
       "    <tr>\n",
       "      <th>created</th>\n",
       "      <td>1.666667</td>\n",
       "    </tr>\n",
       "    <tr>\n",
       "      <th>approved</th>\n",
       "      <td>1.000000</td>\n",
       "    </tr>\n",
       "  </tbody>\n",
       "</table>\n",
       "</div>"
      ],
      "text/plain": [
       "             average_quantity\n",
       "reason                       \n",
       "shipped             48.130435\n",
       "unavailable         29.000000\n",
       "canceled            24.840000\n",
       "processing          15.842105\n",
       "invoiced            14.952381\n",
       "created              1.666667\n",
       "approved             1.000000"
      ]
     },
     "execution_count": 48,
     "metadata": {},
     "output_type": "execute_result"
    }
   ],
   "source": [
    "avg_qty = by_months_and_status.groupby('reason')\\\n",
    "                    .agg({'count':'mean'})\\\n",
    "                    .rename(columns={'count':'average_quantity'})\\\n",
    "                    .sort_values(by='average_quantity', ascending=False)\n",
    "\n",
    "avg_qty"
   ]
  },
  {
   "cell_type": "markdown",
   "id": "53a09439",
   "metadata": {},
   "source": [
    "Округлим полученные средние величины до сотых (для читабельности):"
   ]
  },
  {
   "cell_type": "code",
   "execution_count": 49,
   "id": "29df1f28",
   "metadata": {},
   "outputs": [
    {
     "data": {
      "text/html": [
       "<div>\n",
       "<style scoped>\n",
       "    .dataframe tbody tr th:only-of-type {\n",
       "        vertical-align: middle;\n",
       "    }\n",
       "\n",
       "    .dataframe tbody tr th {\n",
       "        vertical-align: top;\n",
       "    }\n",
       "\n",
       "    .dataframe thead th {\n",
       "        text-align: right;\n",
       "    }\n",
       "</style>\n",
       "<table border=\"1\" class=\"dataframe\">\n",
       "  <thead>\n",
       "    <tr style=\"text-align: right;\">\n",
       "      <th></th>\n",
       "      <th>average_quantity</th>\n",
       "    </tr>\n",
       "    <tr>\n",
       "      <th>reason</th>\n",
       "      <th></th>\n",
       "    </tr>\n",
       "  </thead>\n",
       "  <tbody>\n",
       "    <tr>\n",
       "      <th>shipped</th>\n",
       "      <td>48.130435</td>\n",
       "    </tr>\n",
       "    <tr>\n",
       "      <th>unavailable</th>\n",
       "      <td>29.000000</td>\n",
       "    </tr>\n",
       "    <tr>\n",
       "      <th>canceled</th>\n",
       "      <td>24.840000</td>\n",
       "    </tr>\n",
       "    <tr>\n",
       "      <th>processing</th>\n",
       "      <td>15.842105</td>\n",
       "    </tr>\n",
       "    <tr>\n",
       "      <th>invoiced</th>\n",
       "      <td>14.952381</td>\n",
       "    </tr>\n",
       "    <tr>\n",
       "      <th>created</th>\n",
       "      <td>1.666667</td>\n",
       "    </tr>\n",
       "    <tr>\n",
       "      <th>approved</th>\n",
       "      <td>1.000000</td>\n",
       "    </tr>\n",
       "  </tbody>\n",
       "</table>\n",
       "</div>"
      ],
      "text/plain": [
       "             average_quantity\n",
       "reason                       \n",
       "shipped             48.130435\n",
       "unavailable         29.000000\n",
       "canceled            24.840000\n",
       "processing          15.842105\n",
       "invoiced            14.952381\n",
       "created              1.666667\n",
       "approved             1.000000"
      ]
     },
     "execution_count": 49,
     "metadata": {},
     "output_type": "execute_result"
    }
   ],
   "source": [
    "avg_qty.assign(average_quantity = avg_qty.average_quantity.apply(lambda x: round(x,2)))\n",
    "\n",
    "avg_qty"
   ]
  },
  {
   "cell_type": "markdown",
   "id": "d8e39d5b",
   "metadata": {},
   "source": [
    "### *7. Приводим предыдущий датафрейм в читаемый вид для продакт-менеджера Василия:*"
   ]
  },
  {
   "cell_type": "code",
   "execution_count": 50,
   "id": "8bd0d15b",
   "metadata": {},
   "outputs": [],
   "source": [
    "avg_qty.index.name = 'Причина недоставления'\n",
    "\n",
    "avg_qty.average_quantity = round(avg_qty.average_quantity, 2) # Округляем средние количества до сотых (для читаемости)\n",
    "\n",
    "avg_qty.rename(columns={'average_quantity':'Среднее количество в месяц'},\n",
    "                            index={'shipped':'отгружен со склада',\n",
    "                                   'unavailable':'недоступен',\n",
    "                                   'canceled':'отменён',\n",
    "                                   'processing':'в процессе сборки заказа',\n",
    "                                   'invoiced':'выставлен счёт',\n",
    "                                   'created':'заказ создан',\n",
    "                                   'approved':'заказ подтверждён'},\n",
    "               inplace=True)\n",
    "\n"
   ]
  },
  {
   "cell_type": "code",
   "execution_count": 51,
   "id": "33f8b23c",
   "metadata": {},
   "outputs": [
    {
     "data": {
      "text/html": [
       "<div>\n",
       "<style scoped>\n",
       "    .dataframe tbody tr th:only-of-type {\n",
       "        vertical-align: middle;\n",
       "    }\n",
       "\n",
       "    .dataframe tbody tr th {\n",
       "        vertical-align: top;\n",
       "    }\n",
       "\n",
       "    .dataframe thead th {\n",
       "        text-align: right;\n",
       "    }\n",
       "</style>\n",
       "<table border=\"1\" class=\"dataframe\">\n",
       "  <thead>\n",
       "    <tr style=\"text-align: right;\">\n",
       "      <th></th>\n",
       "      <th>Среднее количество в месяц</th>\n",
       "    </tr>\n",
       "    <tr>\n",
       "      <th>Причина недоставления</th>\n",
       "      <th></th>\n",
       "    </tr>\n",
       "  </thead>\n",
       "  <tbody>\n",
       "    <tr>\n",
       "      <th>отгружен со склада</th>\n",
       "      <td>48.13</td>\n",
       "    </tr>\n",
       "    <tr>\n",
       "      <th>недоступен</th>\n",
       "      <td>29.00</td>\n",
       "    </tr>\n",
       "    <tr>\n",
       "      <th>отменён</th>\n",
       "      <td>24.84</td>\n",
       "    </tr>\n",
       "    <tr>\n",
       "      <th>в процессе сборки заказа</th>\n",
       "      <td>15.84</td>\n",
       "    </tr>\n",
       "    <tr>\n",
       "      <th>выставлен счёт</th>\n",
       "      <td>14.95</td>\n",
       "    </tr>\n",
       "    <tr>\n",
       "      <th>заказ создан</th>\n",
       "      <td>1.67</td>\n",
       "    </tr>\n",
       "    <tr>\n",
       "      <th>заказ подтверждён</th>\n",
       "      <td>1.00</td>\n",
       "    </tr>\n",
       "  </tbody>\n",
       "</table>\n",
       "</div>"
      ],
      "text/plain": [
       "                          Среднее количество в месяц\n",
       "Причина недоставления                               \n",
       "отгружен со склада                             48.13\n",
       "недоступен                                     29.00\n",
       "отменён                                        24.84\n",
       "в процессе сборки заказа                       15.84\n",
       "выставлен счёт                                 14.95\n",
       "заказ создан                                    1.67\n",
       "заказ подтверждён                               1.00"
      ]
     },
     "execution_count": 51,
     "metadata": {},
     "output_type": "execute_result"
    }
   ],
   "source": [
    "avg_qty"
   ]
  },
  {
   "cell_type": "markdown",
   "id": "04ac1ca1",
   "metadata": {},
   "source": [
    "# \n"
   ]
  },
  {
   "cell_type": "markdown",
   "id": "c2a44650",
   "metadata": {},
   "source": [
    "***"
   ]
  },
  {
   "cell_type": "markdown",
   "id": "2f98174c",
   "metadata": {},
   "source": [
    "# **Задание 3.** \n"
   ]
  },
  {
   "cell_type": "markdown",
   "id": "0b856df5",
   "metadata": {},
   "source": [
    "## **По каждому товару определить, в какой день недели товар чаще всего покупается.**"
   ]
  },
  {
   "cell_type": "markdown",
   "id": "54ab3e32",
   "metadata": {},
   "source": [
    "### ***1. Отфильтруем датасет orders до заказов, которые являются покупками:***"
   ]
  },
  {
   "cell_type": "markdown",
   "id": "de7d5998",
   "metadata": {},
   "source": [
    "Создадим датафрейм с покупками аналогично как в Задании 1:"
   ]
  },
  {
   "cell_type": "code",
   "execution_count": 53,
   "id": "690114af",
   "metadata": {},
   "outputs": [
    {
     "data": {
      "text/plain": [
       "Timestamp('2018-09-17 17:30:18')"
      ]
     },
     "execution_count": 53,
     "metadata": {},
     "output_type": "execute_result"
    }
   ],
   "source": [
    "min_date = pd.Timestamp('2018-10-17 17:30:18') - pd.Timedelta(days=30)\n",
    "min_date"
   ]
  },
  {
   "cell_type": "code",
   "execution_count": 61,
   "id": "a3003b55",
   "metadata": {},
   "outputs": [
    {
     "data": {
      "text/html": [
       "<div>\n",
       "<style scoped>\n",
       "    .dataframe tbody tr th:only-of-type {\n",
       "        vertical-align: middle;\n",
       "    }\n",
       "\n",
       "    .dataframe tbody tr th {\n",
       "        vertical-align: top;\n",
       "    }\n",
       "\n",
       "    .dataframe thead th {\n",
       "        text-align: right;\n",
       "    }\n",
       "</style>\n",
       "<table border=\"1\" class=\"dataframe\">\n",
       "  <thead>\n",
       "    <tr style=\"text-align: right;\">\n",
       "      <th></th>\n",
       "      <th>order_id</th>\n",
       "      <th>customer_id</th>\n",
       "      <th>order_status</th>\n",
       "      <th>order_purchase_timestamp</th>\n",
       "      <th>order_approved_at</th>\n",
       "      <th>order_delivered_carrier_date</th>\n",
       "      <th>order_delivered_customer_date</th>\n",
       "      <th>order_estimated_delivery_date</th>\n",
       "    </tr>\n",
       "  </thead>\n",
       "  <tbody>\n",
       "    <tr>\n",
       "      <th>0</th>\n",
       "      <td>e481f51cbdc54678b7cc49136f2d6af7</td>\n",
       "      <td>9ef432eb6251297304e76186b10a928d</td>\n",
       "      <td>delivered</td>\n",
       "      <td>2017-10-02 10:56:33</td>\n",
       "      <td>2017-10-02 11:07:15</td>\n",
       "      <td>2017-10-04 19:55:00</td>\n",
       "      <td>2017-10-10 21:25:13</td>\n",
       "      <td>2017-10-18</td>\n",
       "    </tr>\n",
       "    <tr>\n",
       "      <th>1</th>\n",
       "      <td>53cdb2fc8bc7dce0b6741e2150273451</td>\n",
       "      <td>b0830fb4747a6c6d20dea0b8c802d7ef</td>\n",
       "      <td>delivered</td>\n",
       "      <td>2018-07-24 20:41:37</td>\n",
       "      <td>2018-07-26 03:24:27</td>\n",
       "      <td>2018-07-26 14:31:00</td>\n",
       "      <td>2018-08-07 15:27:45</td>\n",
       "      <td>2018-08-13</td>\n",
       "    </tr>\n",
       "    <tr>\n",
       "      <th>2</th>\n",
       "      <td>47770eb9100c2d0c44946d9cf07ec65d</td>\n",
       "      <td>41ce2a54c0b03bf3443c3d931a367089</td>\n",
       "      <td>delivered</td>\n",
       "      <td>2018-08-08 08:38:49</td>\n",
       "      <td>2018-08-08 08:55:23</td>\n",
       "      <td>2018-08-08 13:50:00</td>\n",
       "      <td>2018-08-17 18:06:29</td>\n",
       "      <td>2018-09-04</td>\n",
       "    </tr>\n",
       "    <tr>\n",
       "      <th>3</th>\n",
       "      <td>949d5b44dbf5de918fe9c16f97b45f8a</td>\n",
       "      <td>f88197465ea7920adcdbec7375364d82</td>\n",
       "      <td>delivered</td>\n",
       "      <td>2017-11-18 19:28:06</td>\n",
       "      <td>2017-11-18 19:45:59</td>\n",
       "      <td>2017-11-22 13:39:59</td>\n",
       "      <td>2017-12-02 00:28:42</td>\n",
       "      <td>2017-12-15</td>\n",
       "    </tr>\n",
       "    <tr>\n",
       "      <th>4</th>\n",
       "      <td>ad21c59c0840e6cb83a9ceb5573f8159</td>\n",
       "      <td>8ab97904e6daea8866dbdbc4fb7aad2c</td>\n",
       "      <td>delivered</td>\n",
       "      <td>2018-02-13 21:18:39</td>\n",
       "      <td>2018-02-13 22:20:29</td>\n",
       "      <td>2018-02-14 19:46:34</td>\n",
       "      <td>2018-02-16 18:17:02</td>\n",
       "      <td>2018-02-26</td>\n",
       "    </tr>\n",
       "  </tbody>\n",
       "</table>\n",
       "</div>"
      ],
      "text/plain": [
       "                           order_id                       customer_id  \\\n",
       "0  e481f51cbdc54678b7cc49136f2d6af7  9ef432eb6251297304e76186b10a928d   \n",
       "1  53cdb2fc8bc7dce0b6741e2150273451  b0830fb4747a6c6d20dea0b8c802d7ef   \n",
       "2  47770eb9100c2d0c44946d9cf07ec65d  41ce2a54c0b03bf3443c3d931a367089   \n",
       "3  949d5b44dbf5de918fe9c16f97b45f8a  f88197465ea7920adcdbec7375364d82   \n",
       "4  ad21c59c0840e6cb83a9ceb5573f8159  8ab97904e6daea8866dbdbc4fb7aad2c   \n",
       "\n",
       "  order_status order_purchase_timestamp   order_approved_at  \\\n",
       "0    delivered      2017-10-02 10:56:33 2017-10-02 11:07:15   \n",
       "1    delivered      2018-07-24 20:41:37 2018-07-26 03:24:27   \n",
       "2    delivered      2018-08-08 08:38:49 2018-08-08 08:55:23   \n",
       "3    delivered      2017-11-18 19:28:06 2017-11-18 19:45:59   \n",
       "4    delivered      2018-02-13 21:18:39 2018-02-13 22:20:29   \n",
       "\n",
       "  order_delivered_carrier_date order_delivered_customer_date  \\\n",
       "0          2017-10-04 19:55:00           2017-10-10 21:25:13   \n",
       "1          2018-07-26 14:31:00           2018-08-07 15:27:45   \n",
       "2          2018-08-08 13:50:00           2018-08-17 18:06:29   \n",
       "3          2017-11-22 13:39:59           2017-12-02 00:28:42   \n",
       "4          2018-02-14 19:46:34           2018-02-16 18:17:02   \n",
       "\n",
       "  order_estimated_delivery_date  \n",
       "0                    2017-10-18  \n",
       "1                    2018-08-13  \n",
       "2                    2018-09-04  \n",
       "3                    2017-12-15  \n",
       "4                    2018-02-26  "
      ]
     },
     "execution_count": 61,
     "metadata": {},
     "output_type": "execute_result"
    }
   ],
   "source": [
    "buys = orders.query(\"order_status == 'delivered' and order_delivered_customer_date < @min_date\")\\\n",
    "\n",
    "buys.head()"
   ]
  },
  {
   "cell_type": "markdown",
   "id": "75c2c998",
   "metadata": {},
   "source": [
    "### ***2. Сопоставим каждой  покупке и ее дате - id товара который был в этой покупке:***"
   ]
  },
  {
   "cell_type": "code",
   "execution_count": 63,
   "id": "bb80b129",
   "metadata": {},
   "outputs": [
    {
     "data": {
      "text/html": [
       "<div>\n",
       "<style scoped>\n",
       "    .dataframe tbody tr th:only-of-type {\n",
       "        vertical-align: middle;\n",
       "    }\n",
       "\n",
       "    .dataframe tbody tr th {\n",
       "        vertical-align: top;\n",
       "    }\n",
       "\n",
       "    .dataframe thead th {\n",
       "        text-align: right;\n",
       "    }\n",
       "</style>\n",
       "<table border=\"1\" class=\"dataframe\">\n",
       "  <thead>\n",
       "    <tr style=\"text-align: right;\">\n",
       "      <th></th>\n",
       "      <th>order_id</th>\n",
       "      <th>order_purchase_timestamp</th>\n",
       "      <th>product_id</th>\n",
       "    </tr>\n",
       "  </thead>\n",
       "  <tbody>\n",
       "    <tr>\n",
       "      <th>0</th>\n",
       "      <td>e481f51cbdc54678b7cc49136f2d6af7</td>\n",
       "      <td>2017-10-02 10:56:33</td>\n",
       "      <td>87285b34884572647811a353c7ac498a</td>\n",
       "    </tr>\n",
       "    <tr>\n",
       "      <th>1</th>\n",
       "      <td>53cdb2fc8bc7dce0b6741e2150273451</td>\n",
       "      <td>2018-07-24 20:41:37</td>\n",
       "      <td>595fac2a385ac33a80bd5114aec74eb8</td>\n",
       "    </tr>\n",
       "    <tr>\n",
       "      <th>2</th>\n",
       "      <td>47770eb9100c2d0c44946d9cf07ec65d</td>\n",
       "      <td>2018-08-08 08:38:49</td>\n",
       "      <td>aa4383b373c6aca5d8797843e5594415</td>\n",
       "    </tr>\n",
       "    <tr>\n",
       "      <th>3</th>\n",
       "      <td>949d5b44dbf5de918fe9c16f97b45f8a</td>\n",
       "      <td>2017-11-18 19:28:06</td>\n",
       "      <td>d0b61bfb1de832b15ba9d266ca96e5b0</td>\n",
       "    </tr>\n",
       "    <tr>\n",
       "      <th>4</th>\n",
       "      <td>ad21c59c0840e6cb83a9ceb5573f8159</td>\n",
       "      <td>2018-02-13 21:18:39</td>\n",
       "      <td>65266b2da20d04dbe00c5c2d3bb7859e</td>\n",
       "    </tr>\n",
       "  </tbody>\n",
       "</table>\n",
       "</div>"
      ],
      "text/plain": [
       "                           order_id order_purchase_timestamp  \\\n",
       "0  e481f51cbdc54678b7cc49136f2d6af7      2017-10-02 10:56:33   \n",
       "1  53cdb2fc8bc7dce0b6741e2150273451      2018-07-24 20:41:37   \n",
       "2  47770eb9100c2d0c44946d9cf07ec65d      2018-08-08 08:38:49   \n",
       "3  949d5b44dbf5de918fe9c16f97b45f8a      2017-11-18 19:28:06   \n",
       "4  ad21c59c0840e6cb83a9ceb5573f8159      2018-02-13 21:18:39   \n",
       "\n",
       "                         product_id  \n",
       "0  87285b34884572647811a353c7ac498a  \n",
       "1  595fac2a385ac33a80bd5114aec74eb8  \n",
       "2  aa4383b373c6aca5d8797843e5594415  \n",
       "3  d0b61bfb1de832b15ba9d266ca96e5b0  \n",
       "4  65266b2da20d04dbe00c5c2d3bb7859e  "
      ]
     },
     "execution_count": 63,
     "metadata": {},
     "output_type": "execute_result"
    }
   ],
   "source": [
    "product_per_day = buys[['order_id','order_purchase_timestamp']].merge(order_details[['order_id','product_id']], on='order_id')\n",
    "\n",
    "product_per_day.head()"
   ]
  },
  {
   "cell_type": "markdown",
   "id": "d65d3bee",
   "metadata": {},
   "source": [
    "### ***3. Меняем в датафрейме product_per_day дату покупки на день недели:***\n"
   ]
  },
  {
   "cell_type": "code",
   "execution_count": 66,
   "id": "e7e586a4",
   "metadata": {},
   "outputs": [
    {
     "data": {
      "text/html": [
       "<div>\n",
       "<style scoped>\n",
       "    .dataframe tbody tr th:only-of-type {\n",
       "        vertical-align: middle;\n",
       "    }\n",
       "\n",
       "    .dataframe tbody tr th {\n",
       "        vertical-align: top;\n",
       "    }\n",
       "\n",
       "    .dataframe thead th {\n",
       "        text-align: right;\n",
       "    }\n",
       "</style>\n",
       "<table border=\"1\" class=\"dataframe\">\n",
       "  <thead>\n",
       "    <tr style=\"text-align: right;\">\n",
       "      <th></th>\n",
       "      <th>buy_id</th>\n",
       "      <th>dayofweek</th>\n",
       "      <th>product_id</th>\n",
       "    </tr>\n",
       "  </thead>\n",
       "  <tbody>\n",
       "    <tr>\n",
       "      <th>0</th>\n",
       "      <td>e481f51cbdc54678b7cc49136f2d6af7</td>\n",
       "      <td>Monday</td>\n",
       "      <td>87285b34884572647811a353c7ac498a</td>\n",
       "    </tr>\n",
       "    <tr>\n",
       "      <th>1</th>\n",
       "      <td>53cdb2fc8bc7dce0b6741e2150273451</td>\n",
       "      <td>Tuesday</td>\n",
       "      <td>595fac2a385ac33a80bd5114aec74eb8</td>\n",
       "    </tr>\n",
       "    <tr>\n",
       "      <th>2</th>\n",
       "      <td>47770eb9100c2d0c44946d9cf07ec65d</td>\n",
       "      <td>Wednesday</td>\n",
       "      <td>aa4383b373c6aca5d8797843e5594415</td>\n",
       "    </tr>\n",
       "    <tr>\n",
       "      <th>3</th>\n",
       "      <td>949d5b44dbf5de918fe9c16f97b45f8a</td>\n",
       "      <td>Saturday</td>\n",
       "      <td>d0b61bfb1de832b15ba9d266ca96e5b0</td>\n",
       "    </tr>\n",
       "    <tr>\n",
       "      <th>4</th>\n",
       "      <td>ad21c59c0840e6cb83a9ceb5573f8159</td>\n",
       "      <td>Tuesday</td>\n",
       "      <td>65266b2da20d04dbe00c5c2d3bb7859e</td>\n",
       "    </tr>\n",
       "  </tbody>\n",
       "</table>\n",
       "</div>"
      ],
      "text/plain": [
       "                             buy_id  dayofweek  \\\n",
       "0  e481f51cbdc54678b7cc49136f2d6af7     Monday   \n",
       "1  53cdb2fc8bc7dce0b6741e2150273451    Tuesday   \n",
       "2  47770eb9100c2d0c44946d9cf07ec65d  Wednesday   \n",
       "3  949d5b44dbf5de918fe9c16f97b45f8a   Saturday   \n",
       "4  ad21c59c0840e6cb83a9ceb5573f8159    Tuesday   \n",
       "\n",
       "                         product_id  \n",
       "0  87285b34884572647811a353c7ac498a  \n",
       "1  595fac2a385ac33a80bd5114aec74eb8  \n",
       "2  aa4383b373c6aca5d8797843e5594415  \n",
       "3  d0b61bfb1de832b15ba9d266ca96e5b0  \n",
       "4  65266b2da20d04dbe00c5c2d3bb7859e  "
      ]
     },
     "execution_count": 66,
     "metadata": {},
     "output_type": "execute_result"
    }
   ],
   "source": [
    "product_per_day.order_purchase_timestamp = product_per_day.order_purchase_timestamp.apply(lambda x: x.strftime('%A'))\n",
    "product_per_day.rename(columns={'order_purchase_timestamp':'dayofweek', 'order_id':'buy_id'}, inplace=True)\n",
    "product_per_day.head()"
   ]
  },
  {
   "cell_type": "markdown",
   "id": "9069f476",
   "metadata": {},
   "source": [
    "### ***4. Группируем датафрейм product_per_day по товарам и аггрегируем функцией определения наиболее частотных дней недели, в которые покупался товар (если дней с наибольшей частотностью несколько - то выводится список таких дней недели):***\n"
   ]
  },
  {
   "cell_type": "markdown",
   "id": "3f3ff1a0",
   "metadata": {},
   "source": [
    "Функция\n",
    "```python \n",
    "lambda x: x.value_counts()[x.value_counts() == x.value_counts().max()].index \n",
    "```\n",
    "во внутренней части применяет метод ***value_counts()*** , а затем из образовавашихся значений (количеств встречаемости дней недели) оставляет только те, которые равняются максимумам (самым частым) и возвращает индексы этих максимумов.\n",
    "\n",
    "Таким образом, функция возвращает названия дня или дней недели, которые являются наиболее частотными."
   ]
  },
  {
   "cell_type": "code",
   "execution_count": 67,
   "id": "943d0c19",
   "metadata": {},
   "outputs": [
    {
     "data": {
      "text/html": [
       "<div>\n",
       "<style scoped>\n",
       "    .dataframe tbody tr th:only-of-type {\n",
       "        vertical-align: middle;\n",
       "    }\n",
       "\n",
       "    .dataframe tbody tr th {\n",
       "        vertical-align: top;\n",
       "    }\n",
       "\n",
       "    .dataframe thead th {\n",
       "        text-align: right;\n",
       "    }\n",
       "</style>\n",
       "<table border=\"1\" class=\"dataframe\">\n",
       "  <thead>\n",
       "    <tr style=\"text-align: right;\">\n",
       "      <th></th>\n",
       "      <th>product_id</th>\n",
       "      <th>most_frequent_dayofweek</th>\n",
       "    </tr>\n",
       "  </thead>\n",
       "  <tbody>\n",
       "    <tr>\n",
       "      <th>0</th>\n",
       "      <td>00066f42aeeb9f3007548bb9d3f33c38</td>\n",
       "      <td>Sunday</td>\n",
       "    </tr>\n",
       "    <tr>\n",
       "      <th>1</th>\n",
       "      <td>00088930e925c41fd95ebfe695fd2655</td>\n",
       "      <td>Tuesday</td>\n",
       "    </tr>\n",
       "    <tr>\n",
       "      <th>2</th>\n",
       "      <td>0009406fd7479715e4bef61dd91f2462</td>\n",
       "      <td>Thursday</td>\n",
       "    </tr>\n",
       "    <tr>\n",
       "      <th>3</th>\n",
       "      <td>000b8f95fcb9e0096488278317764d19</td>\n",
       "      <td>[Friday, Wednesday]</td>\n",
       "    </tr>\n",
       "    <tr>\n",
       "      <th>4</th>\n",
       "      <td>000d9be29b5207b54e86aa1b1ac54872</td>\n",
       "      <td>Tuesday</td>\n",
       "    </tr>\n",
       "  </tbody>\n",
       "</table>\n",
       "</div>"
      ],
      "text/plain": [
       "                         product_id most_frequent_dayofweek\n",
       "0  00066f42aeeb9f3007548bb9d3f33c38                  Sunday\n",
       "1  00088930e925c41fd95ebfe695fd2655                 Tuesday\n",
       "2  0009406fd7479715e4bef61dd91f2462                Thursday\n",
       "3  000b8f95fcb9e0096488278317764d19     [Friday, Wednesday]\n",
       "4  000d9be29b5207b54e86aa1b1ac54872                 Tuesday"
      ]
     },
     "execution_count": 67,
     "metadata": {},
     "output_type": "execute_result"
    }
   ],
   "source": [
    "most_freq = product_per_day.groupby('product_id', as_index=False)\\\n",
    "               .agg({'dayofweek': lambda x: x.value_counts()[x.value_counts() == x.value_counts().max()].index})\\\n",
    "               .rename(columns={'dayofweek':'most_frequent_dayofweek'})\n",
    "\n",
    "most_freq.head()"
   ]
  },
  {
   "cell_type": "markdown",
   "id": "f7165ac5",
   "metadata": {},
   "source": [
    "### ***5. Считаем суммарное кол-во заказов за наиболее частотный день (дни) у каждого товара:***\n"
   ]
  },
  {
   "cell_type": "code",
   "execution_count": 100,
   "id": "3e57ecb3",
   "metadata": {},
   "outputs": [],
   "source": [
    "# Берем первый элемент у value_counts т.к. этот метод возвращает частотность элементов в порядке убывания (а нам нужен максимум)\n",
    "\n",
    "qty_of_max = product_per_day.groupby('product_id', as_index=False)\\\n",
    "               .agg({'dayofweek': lambda x: x.value_counts().head(1).values[0]})\\\n",
    "               .rename(columns={'dayofweek':'qty_of_max'})"
   ]
  },
  {
   "cell_type": "code",
   "execution_count": 111,
   "id": "aaf691f3",
   "metadata": {},
   "outputs": [
    {
     "data": {
      "text/html": [
       "<div>\n",
       "<style scoped>\n",
       "    .dataframe tbody tr th:only-of-type {\n",
       "        vertical-align: middle;\n",
       "    }\n",
       "\n",
       "    .dataframe tbody tr th {\n",
       "        vertical-align: top;\n",
       "    }\n",
       "\n",
       "    .dataframe thead th {\n",
       "        text-align: right;\n",
       "    }\n",
       "</style>\n",
       "<table border=\"1\" class=\"dataframe\">\n",
       "  <thead>\n",
       "    <tr style=\"text-align: right;\">\n",
       "      <th></th>\n",
       "      <th>product_id</th>\n",
       "      <th>qty_of_max</th>\n",
       "    </tr>\n",
       "  </thead>\n",
       "  <tbody>\n",
       "    <tr>\n",
       "      <th>8427</th>\n",
       "      <td>422879e10f46682990de24d770e7f83d</td>\n",
       "      <td>93</td>\n",
       "    </tr>\n",
       "    <tr>\n",
       "      <th>19288</th>\n",
       "      <td>99a4788cb24856965c36a24e339b6058</td>\n",
       "      <td>91</td>\n",
       "    </tr>\n",
       "    <tr>\n",
       "      <th>21614</th>\n",
       "      <td>aca2eb7d00ea1a7b8ebd4e68314663af</td>\n",
       "      <td>89</td>\n",
       "    </tr>\n",
       "    <tr>\n",
       "      <th>10614</th>\n",
       "      <td>53b36df67ebb7c41585e8d54d6772e08</td>\n",
       "      <td>76</td>\n",
       "    </tr>\n",
       "    <tr>\n",
       "      <th>6924</th>\n",
       "      <td>368c6c730842d78016ad823897a372db</td>\n",
       "      <td>67</td>\n",
       "    </tr>\n",
       "    <tr>\n",
       "      <th>...</th>\n",
       "      <td>...</td>\n",
       "      <td>...</td>\n",
       "    </tr>\n",
       "    <tr>\n",
       "      <th>12467</th>\n",
       "      <td>62a183c5f3895060ba1a8f1415694908</td>\n",
       "      <td>1</td>\n",
       "    </tr>\n",
       "    <tr>\n",
       "      <th>12466</th>\n",
       "      <td>62a068fa5b6d1cb8015c754504a10bfa</td>\n",
       "      <td>1</td>\n",
       "    </tr>\n",
       "    <tr>\n",
       "      <th>12463</th>\n",
       "      <td>629beb8e7317703dcc5f35b5463fd20e</td>\n",
       "      <td>1</td>\n",
       "    </tr>\n",
       "    <tr>\n",
       "      <th>12460</th>\n",
       "      <td>62962adb9db1eeb96d0dd8fd2eb87875</td>\n",
       "      <td>1</td>\n",
       "    </tr>\n",
       "    <tr>\n",
       "      <th>32212</th>\n",
       "      <td>fffe9eeff12fcbd74a2f2b007dde0c58</td>\n",
       "      <td>1</td>\n",
       "    </tr>\n",
       "  </tbody>\n",
       "</table>\n",
       "<p>32213 rows × 2 columns</p>\n",
       "</div>"
      ],
      "text/plain": [
       "                             product_id  qty_of_max\n",
       "8427   422879e10f46682990de24d770e7f83d          93\n",
       "19288  99a4788cb24856965c36a24e339b6058          91\n",
       "21614  aca2eb7d00ea1a7b8ebd4e68314663af          89\n",
       "10614  53b36df67ebb7c41585e8d54d6772e08          76\n",
       "6924   368c6c730842d78016ad823897a372db          67\n",
       "...                                 ...         ...\n",
       "12467  62a183c5f3895060ba1a8f1415694908           1\n",
       "12466  62a068fa5b6d1cb8015c754504a10bfa           1\n",
       "12463  629beb8e7317703dcc5f35b5463fd20e           1\n",
       "12460  62962adb9db1eeb96d0dd8fd2eb87875           1\n",
       "32212  fffe9eeff12fcbd74a2f2b007dde0c58           1\n",
       "\n",
       "[32213 rows x 2 columns]"
      ]
     },
     "execution_count": 111,
     "metadata": {},
     "output_type": "execute_result"
    }
   ],
   "source": [
    "qty_of_max.sort_values('qty_of_max',ascending=False)"
   ]
  },
  {
   "cell_type": "markdown",
   "id": "465e4976",
   "metadata": {},
   "source": [
    "### ***6. Джойним датафреймы most_freq и qty_of_max по столбцу product_id:***"
   ]
  },
  {
   "cell_type": "markdown",
   "id": "2e6683b2",
   "metadata": {},
   "source": [
    "Таким образом, сопоставляем каждому купленному товару день (дни недели), когда он чаще всего покупается и суммарное количество заказов этого товара за этот день недели."
   ]
  },
  {
   "cell_type": "markdown",
   "id": "96b8c163",
   "metadata": {},
   "source": [
    "Полученные данные о наиболее \"предпочтительных\" днях недели, у которых низкий показатель ***qty_of_max***, вызывают недоверие, так как это означает, что товар купили слишком мало раз, чтобы говорить о какой-то статистике о наиболее предпочтительных днях недели для покупки. "
   ]
  },
  {
   "cell_type": "markdown",
   "id": "49b10ff1",
   "metadata": {},
   "source": [
    "Поэтому отсортируем полученный датафрейм по величине ***qty_of_max***. Таким образом, датафрейм покажет дни недели, в которые делают заказ товара чаще всего, с убывающей достоверностью этого утверждения."
   ]
  },
  {
   "cell_type": "code",
   "execution_count": 112,
   "id": "71599a3c",
   "metadata": {},
   "outputs": [
    {
     "data": {
      "text/html": [
       "<div>\n",
       "<style scoped>\n",
       "    .dataframe tbody tr th:only-of-type {\n",
       "        vertical-align: middle;\n",
       "    }\n",
       "\n",
       "    .dataframe tbody tr th {\n",
       "        vertical-align: top;\n",
       "    }\n",
       "\n",
       "    .dataframe thead th {\n",
       "        text-align: right;\n",
       "    }\n",
       "</style>\n",
       "<table border=\"1\" class=\"dataframe\">\n",
       "  <thead>\n",
       "    <tr style=\"text-align: right;\">\n",
       "      <th></th>\n",
       "      <th>product_id</th>\n",
       "      <th>most_frequent_dayofweek</th>\n",
       "      <th>qty_of_max</th>\n",
       "    </tr>\n",
       "  </thead>\n",
       "  <tbody>\n",
       "    <tr>\n",
       "      <th>8427</th>\n",
       "      <td>422879e10f46682990de24d770e7f83d</td>\n",
       "      <td>Wednesday</td>\n",
       "      <td>93</td>\n",
       "    </tr>\n",
       "    <tr>\n",
       "      <th>19288</th>\n",
       "      <td>99a4788cb24856965c36a24e339b6058</td>\n",
       "      <td>Monday</td>\n",
       "      <td>91</td>\n",
       "    </tr>\n",
       "    <tr>\n",
       "      <th>21614</th>\n",
       "      <td>aca2eb7d00ea1a7b8ebd4e68314663af</td>\n",
       "      <td>Thursday</td>\n",
       "      <td>89</td>\n",
       "    </tr>\n",
       "    <tr>\n",
       "      <th>10614</th>\n",
       "      <td>53b36df67ebb7c41585e8d54d6772e08</td>\n",
       "      <td>Tuesday</td>\n",
       "      <td>76</td>\n",
       "    </tr>\n",
       "    <tr>\n",
       "      <th>6924</th>\n",
       "      <td>368c6c730842d78016ad823897a372db</td>\n",
       "      <td>Friday</td>\n",
       "      <td>67</td>\n",
       "    </tr>\n",
       "    <tr>\n",
       "      <th>...</th>\n",
       "      <td>...</td>\n",
       "      <td>...</td>\n",
       "      <td>...</td>\n",
       "    </tr>\n",
       "    <tr>\n",
       "      <th>12467</th>\n",
       "      <td>62a183c5f3895060ba1a8f1415694908</td>\n",
       "      <td>Friday</td>\n",
       "      <td>1</td>\n",
       "    </tr>\n",
       "    <tr>\n",
       "      <th>12466</th>\n",
       "      <td>62a068fa5b6d1cb8015c754504a10bfa</td>\n",
       "      <td>Thursday</td>\n",
       "      <td>1</td>\n",
       "    </tr>\n",
       "    <tr>\n",
       "      <th>12463</th>\n",
       "      <td>629beb8e7317703dcc5f35b5463fd20e</td>\n",
       "      <td>[Saturday, Wednesday]</td>\n",
       "      <td>1</td>\n",
       "    </tr>\n",
       "    <tr>\n",
       "      <th>12460</th>\n",
       "      <td>62962adb9db1eeb96d0dd8fd2eb87875</td>\n",
       "      <td>Thursday</td>\n",
       "      <td>1</td>\n",
       "    </tr>\n",
       "    <tr>\n",
       "      <th>32212</th>\n",
       "      <td>fffe9eeff12fcbd74a2f2b007dde0c58</td>\n",
       "      <td>Wednesday</td>\n",
       "      <td>1</td>\n",
       "    </tr>\n",
       "  </tbody>\n",
       "</table>\n",
       "<p>32213 rows × 3 columns</p>\n",
       "</div>"
      ],
      "text/plain": [
       "                             product_id most_frequent_dayofweek  qty_of_max\n",
       "8427   422879e10f46682990de24d770e7f83d               Wednesday          93\n",
       "19288  99a4788cb24856965c36a24e339b6058                  Monday          91\n",
       "21614  aca2eb7d00ea1a7b8ebd4e68314663af                Thursday          89\n",
       "10614  53b36df67ebb7c41585e8d54d6772e08                 Tuesday          76\n",
       "6924   368c6c730842d78016ad823897a372db                  Friday          67\n",
       "...                                 ...                     ...         ...\n",
       "12467  62a183c5f3895060ba1a8f1415694908                  Friday           1\n",
       "12466  62a068fa5b6d1cb8015c754504a10bfa                Thursday           1\n",
       "12463  629beb8e7317703dcc5f35b5463fd20e   [Saturday, Wednesday]           1\n",
       "12460  62962adb9db1eeb96d0dd8fd2eb87875                Thursday           1\n",
       "32212  fffe9eeff12fcbd74a2f2b007dde0c58               Wednesday           1\n",
       "\n",
       "[32213 rows x 3 columns]"
      ]
     },
     "execution_count": 112,
     "metadata": {},
     "output_type": "execute_result"
    }
   ],
   "source": [
    "most_freq.merge(qty_of_max, on='product_id').sort_values(by='qty_of_max', ascending=False)"
   ]
  },
  {
   "cell_type": "markdown",
   "id": "c6889231",
   "metadata": {},
   "source": [
    "Рассмотрим сколько в магазине существует товаров всего:"
   ]
  },
  {
   "cell_type": "code",
   "execution_count": 113,
   "id": "7789a4c1",
   "metadata": {},
   "outputs": [
    {
     "data": {
      "text/plain": [
       "32951"
      ]
     },
     "execution_count": 113,
     "metadata": {},
     "output_type": "execute_result"
    }
   ],
   "source": [
    "order_details.product_id.nunique()"
   ]
  },
  {
   "cell_type": "code",
   "execution_count": 114,
   "id": "7049d950",
   "metadata": {},
   "outputs": [
    {
     "data": {
      "text/plain": [
       "735"
      ]
     },
     "execution_count": 114,
     "metadata": {},
     "output_type": "execute_result"
    }
   ],
   "source": [
    "32951 - 32216 "
   ]
  },
  {
   "cell_type": "markdown",
   "id": "aae442e0",
   "metadata": {},
   "source": [
    "**По 735 товарам покупок совершено не было.**"
   ]
  },
  {
   "cell_type": "markdown",
   "id": "e79cc4c6",
   "metadata": {},
   "source": [
    "### *7. Приводим предыдущий датафрейм в читаемый вид для продакт-менеджера Василия:*"
   ]
  },
  {
   "cell_type": "code",
   "execution_count": 115,
   "id": "5d6fb92d",
   "metadata": {},
   "outputs": [
    {
     "data": {
      "text/html": [
       "<div>\n",
       "<style scoped>\n",
       "    .dataframe tbody tr th:only-of-type {\n",
       "        vertical-align: middle;\n",
       "    }\n",
       "\n",
       "    .dataframe tbody tr th {\n",
       "        vertical-align: top;\n",
       "    }\n",
       "\n",
       "    .dataframe thead th {\n",
       "        text-align: right;\n",
       "    }\n",
       "</style>\n",
       "<table border=\"1\" class=\"dataframe\">\n",
       "  <thead>\n",
       "    <tr style=\"text-align: right;\">\n",
       "      <th></th>\n",
       "      <th>id товара</th>\n",
       "      <th>День недели, в который товар чаще всего покупается</th>\n",
       "      <th>Суммарное кол-во заказов за день недели, в который товар чаще всего покупается</th>\n",
       "    </tr>\n",
       "  </thead>\n",
       "  <tbody>\n",
       "    <tr>\n",
       "      <th>8427</th>\n",
       "      <td>422879e10f46682990de24d770e7f83d</td>\n",
       "      <td>Wednesday</td>\n",
       "      <td>93</td>\n",
       "    </tr>\n",
       "    <tr>\n",
       "      <th>19288</th>\n",
       "      <td>99a4788cb24856965c36a24e339b6058</td>\n",
       "      <td>Monday</td>\n",
       "      <td>91</td>\n",
       "    </tr>\n",
       "    <tr>\n",
       "      <th>21614</th>\n",
       "      <td>aca2eb7d00ea1a7b8ebd4e68314663af</td>\n",
       "      <td>Thursday</td>\n",
       "      <td>89</td>\n",
       "    </tr>\n",
       "    <tr>\n",
       "      <th>10614</th>\n",
       "      <td>53b36df67ebb7c41585e8d54d6772e08</td>\n",
       "      <td>Tuesday</td>\n",
       "      <td>76</td>\n",
       "    </tr>\n",
       "    <tr>\n",
       "      <th>6924</th>\n",
       "      <td>368c6c730842d78016ad823897a372db</td>\n",
       "      <td>Friday</td>\n",
       "      <td>67</td>\n",
       "    </tr>\n",
       "    <tr>\n",
       "      <th>...</th>\n",
       "      <td>...</td>\n",
       "      <td>...</td>\n",
       "      <td>...</td>\n",
       "    </tr>\n",
       "    <tr>\n",
       "      <th>12467</th>\n",
       "      <td>62a183c5f3895060ba1a8f1415694908</td>\n",
       "      <td>Friday</td>\n",
       "      <td>1</td>\n",
       "    </tr>\n",
       "    <tr>\n",
       "      <th>12466</th>\n",
       "      <td>62a068fa5b6d1cb8015c754504a10bfa</td>\n",
       "      <td>Thursday</td>\n",
       "      <td>1</td>\n",
       "    </tr>\n",
       "    <tr>\n",
       "      <th>12463</th>\n",
       "      <td>629beb8e7317703dcc5f35b5463fd20e</td>\n",
       "      <td>[Saturday, Wednesday]</td>\n",
       "      <td>1</td>\n",
       "    </tr>\n",
       "    <tr>\n",
       "      <th>12460</th>\n",
       "      <td>62962adb9db1eeb96d0dd8fd2eb87875</td>\n",
       "      <td>Thursday</td>\n",
       "      <td>1</td>\n",
       "    </tr>\n",
       "    <tr>\n",
       "      <th>32212</th>\n",
       "      <td>fffe9eeff12fcbd74a2f2b007dde0c58</td>\n",
       "      <td>Wednesday</td>\n",
       "      <td>1</td>\n",
       "    </tr>\n",
       "  </tbody>\n",
       "</table>\n",
       "<p>32213 rows × 3 columns</p>\n",
       "</div>"
      ],
      "text/plain": [
       "                              id товара  \\\n",
       "8427   422879e10f46682990de24d770e7f83d   \n",
       "19288  99a4788cb24856965c36a24e339b6058   \n",
       "21614  aca2eb7d00ea1a7b8ebd4e68314663af   \n",
       "10614  53b36df67ebb7c41585e8d54d6772e08   \n",
       "6924   368c6c730842d78016ad823897a372db   \n",
       "...                                 ...   \n",
       "12467  62a183c5f3895060ba1a8f1415694908   \n",
       "12466  62a068fa5b6d1cb8015c754504a10bfa   \n",
       "12463  629beb8e7317703dcc5f35b5463fd20e   \n",
       "12460  62962adb9db1eeb96d0dd8fd2eb87875   \n",
       "32212  fffe9eeff12fcbd74a2f2b007dde0c58   \n",
       "\n",
       "      День недели, в который товар чаще всего покупается  \\\n",
       "8427                                           Wednesday   \n",
       "19288                                             Monday   \n",
       "21614                                           Thursday   \n",
       "10614                                            Tuesday   \n",
       "6924                                              Friday   \n",
       "...                                                  ...   \n",
       "12467                                             Friday   \n",
       "12466                                           Thursday   \n",
       "12463                              [Saturday, Wednesday]   \n",
       "12460                                           Thursday   \n",
       "32212                                          Wednesday   \n",
       "\n",
       "       Суммарное кол-во заказов за день недели, в который товар чаще всего покупается  \n",
       "8427                                                  93                               \n",
       "19288                                                 91                               \n",
       "21614                                                 89                               \n",
       "10614                                                 76                               \n",
       "6924                                                  67                               \n",
       "...                                                  ...                               \n",
       "12467                                                  1                               \n",
       "12466                                                  1                               \n",
       "12463                                                  1                               \n",
       "12460                                                  1                               \n",
       "32212                                                  1                               \n",
       "\n",
       "[32213 rows x 3 columns]"
      ]
     },
     "execution_count": 115,
     "metadata": {},
     "output_type": "execute_result"
    }
   ],
   "source": [
    "most_freq.merge(qty_of_max, on='product_id').sort_values(by='qty_of_max', ascending=False)\\\n",
    ".rename(columns={'product_id':'id товара', 'most_frequent_dayofweek':'День недели, в который товар чаще всего покупается',\n",
    "                 'qty_of_max':'Суммарное кол-во заказов за день недели, в который товар чаще всего покупается'})"
   ]
  },
  {
   "cell_type": "markdown",
   "id": "6e3989a1",
   "metadata": {},
   "source": [
    "**По 735 оставшимся товарам покупок совершено не было.**"
   ]
  },
  {
   "cell_type": "markdown",
   "id": "47b4838e",
   "metadata": {},
   "source": [
    "# \n"
   ]
  },
  {
   "cell_type": "markdown",
   "id": "3f7d667c",
   "metadata": {},
   "source": [
    "***"
   ]
  },
  {
   "cell_type": "markdown",
   "id": "0454a124",
   "metadata": {},
   "source": [
    "# **Задание 4.** "
   ]
  },
  {
   "cell_type": "markdown",
   "id": "6afd65ab",
   "metadata": {},
   "source": [
    "## **Сколько у каждого из пользователей в среднем покупок в неделю (по месяцам)? Не стоит забывать, что внутри месяца может быть не целое количество недель. Например, в ноябре 2021 года 4,28 недели. И внутри метрики это нужно учесть.**"
   ]
  },
  {
   "cell_type": "markdown",
   "id": "6598c0f1",
   "metadata": {},
   "source": [
    "### *1. Сопоставим каждому уникальному пользователю его покупки и  даты их совершения:*"
   ]
  },
  {
   "cell_type": "markdown",
   "id": "3029fecc",
   "metadata": {},
   "source": [
    "Датафрейм с покупками **buys** берем из Задания 3."
   ]
  },
  {
   "cell_type": "markdown",
   "id": "7260e827",
   "metadata": {},
   "source": [
    "Применяем *INNER JOIN* чтобы оставить данные только о клинтах которые вообще совершали покупки (данные о клиентах, не совершивших покупок, учтем в конце задания отдельно):"
   ]
  },
  {
   "cell_type": "code",
   "execution_count": 117,
   "id": "206b04be",
   "metadata": {},
   "outputs": [
    {
     "data": {
      "text/html": [
       "<div>\n",
       "<style scoped>\n",
       "    .dataframe tbody tr th:only-of-type {\n",
       "        vertical-align: middle;\n",
       "    }\n",
       "\n",
       "    .dataframe tbody tr th {\n",
       "        vertical-align: top;\n",
       "    }\n",
       "\n",
       "    .dataframe thead th {\n",
       "        text-align: right;\n",
       "    }\n",
       "</style>\n",
       "<table border=\"1\" class=\"dataframe\">\n",
       "  <thead>\n",
       "    <tr style=\"text-align: right;\">\n",
       "      <th></th>\n",
       "      <th>customer_unique_id</th>\n",
       "      <th>buy_id</th>\n",
       "      <th>buy_purchase_timestamp</th>\n",
       "    </tr>\n",
       "  </thead>\n",
       "  <tbody>\n",
       "    <tr>\n",
       "      <th>0</th>\n",
       "      <td>861eff4711a542e4b93843c6dd7febb0</td>\n",
       "      <td>00e7ee1b050b8499577073aeb2a297a1</td>\n",
       "      <td>2017-05-16 15:05:35</td>\n",
       "    </tr>\n",
       "    <tr>\n",
       "      <th>1</th>\n",
       "      <td>290c77bc529b7ac935b93aa66c333dc3</td>\n",
       "      <td>29150127e6685892b6eab3eec79f59c7</td>\n",
       "      <td>2018-01-12 20:48:24</td>\n",
       "    </tr>\n",
       "    <tr>\n",
       "      <th>2</th>\n",
       "      <td>060e732b5b29e8181a18229c7b0b2b5e</td>\n",
       "      <td>b2059ed67ce144a36e2aa97d2c9e9ad2</td>\n",
       "      <td>2018-05-19 16:07:45</td>\n",
       "    </tr>\n",
       "    <tr>\n",
       "      <th>3</th>\n",
       "      <td>259dac757896d24d7702b9acbbff3f3c</td>\n",
       "      <td>951670f92359f4fe4a63112aa7306eba</td>\n",
       "      <td>2018-03-13 16:06:38</td>\n",
       "    </tr>\n",
       "    <tr>\n",
       "      <th>4</th>\n",
       "      <td>345ecd01c38d18a9036ed96c73b8d066</td>\n",
       "      <td>6b7d50bd145f6fc7f33cebabd7e49d0f</td>\n",
       "      <td>2018-07-29 09:51:30</td>\n",
       "    </tr>\n",
       "  </tbody>\n",
       "</table>\n",
       "</div>"
      ],
      "text/plain": [
       "                 customer_unique_id                            buy_id  \\\n",
       "0  861eff4711a542e4b93843c6dd7febb0  00e7ee1b050b8499577073aeb2a297a1   \n",
       "1  290c77bc529b7ac935b93aa66c333dc3  29150127e6685892b6eab3eec79f59c7   \n",
       "2  060e732b5b29e8181a18229c7b0b2b5e  b2059ed67ce144a36e2aa97d2c9e9ad2   \n",
       "3  259dac757896d24d7702b9acbbff3f3c  951670f92359f4fe4a63112aa7306eba   \n",
       "4  345ecd01c38d18a9036ed96c73b8d066  6b7d50bd145f6fc7f33cebabd7e49d0f   \n",
       "\n",
       "  buy_purchase_timestamp  \n",
       "0    2017-05-16 15:05:35  \n",
       "1    2018-01-12 20:48:24  \n",
       "2    2018-05-19 16:07:45  \n",
       "3    2018-03-13 16:06:38  \n",
       "4    2018-07-29 09:51:30  "
      ]
     },
     "execution_count": 117,
     "metadata": {},
     "output_type": "execute_result"
    }
   ],
   "source": [
    "buys_by_uniq_id = customers.merge(buys, on='customer_id')\\\n",
    "                           .rename(columns={'order_id':'buy_id', 'order_purchase_timestamp':'buy_purchase_timestamp'})\\\n",
    "                           [['customer_unique_id', 'buy_id','buy_purchase_timestamp']]\n",
    "\n",
    "buys_by_uniq_id.head()"
   ]
  },
  {
   "cell_type": "markdown",
   "id": "3140c695",
   "metadata": {},
   "source": [
    "### *2. Заменяем столбец buy_purchase_timestamp на ГОД-МЕСЯЦ совершения покупки :*"
   ]
  },
  {
   "cell_type": "code",
   "execution_count": 119,
   "id": "12fab3ef",
   "metadata": {},
   "outputs": [
    {
     "data": {
      "text/html": [
       "<div>\n",
       "<style scoped>\n",
       "    .dataframe tbody tr th:only-of-type {\n",
       "        vertical-align: middle;\n",
       "    }\n",
       "\n",
       "    .dataframe tbody tr th {\n",
       "        vertical-align: top;\n",
       "    }\n",
       "\n",
       "    .dataframe thead th {\n",
       "        text-align: right;\n",
       "    }\n",
       "</style>\n",
       "<table border=\"1\" class=\"dataframe\">\n",
       "  <thead>\n",
       "    <tr style=\"text-align: right;\">\n",
       "      <th></th>\n",
       "      <th>customer_unique_id</th>\n",
       "      <th>buy_id</th>\n",
       "      <th>month</th>\n",
       "    </tr>\n",
       "  </thead>\n",
       "  <tbody>\n",
       "    <tr>\n",
       "      <th>0</th>\n",
       "      <td>861eff4711a542e4b93843c6dd7febb0</td>\n",
       "      <td>00e7ee1b050b8499577073aeb2a297a1</td>\n",
       "      <td>2017-May</td>\n",
       "    </tr>\n",
       "    <tr>\n",
       "      <th>1</th>\n",
       "      <td>290c77bc529b7ac935b93aa66c333dc3</td>\n",
       "      <td>29150127e6685892b6eab3eec79f59c7</td>\n",
       "      <td>2018-Jan</td>\n",
       "    </tr>\n",
       "    <tr>\n",
       "      <th>2</th>\n",
       "      <td>060e732b5b29e8181a18229c7b0b2b5e</td>\n",
       "      <td>b2059ed67ce144a36e2aa97d2c9e9ad2</td>\n",
       "      <td>2018-May</td>\n",
       "    </tr>\n",
       "    <tr>\n",
       "      <th>3</th>\n",
       "      <td>259dac757896d24d7702b9acbbff3f3c</td>\n",
       "      <td>951670f92359f4fe4a63112aa7306eba</td>\n",
       "      <td>2018-Mar</td>\n",
       "    </tr>\n",
       "    <tr>\n",
       "      <th>4</th>\n",
       "      <td>345ecd01c38d18a9036ed96c73b8d066</td>\n",
       "      <td>6b7d50bd145f6fc7f33cebabd7e49d0f</td>\n",
       "      <td>2018-Jul</td>\n",
       "    </tr>\n",
       "    <tr>\n",
       "      <th>...</th>\n",
       "      <td>...</td>\n",
       "      <td>...</td>\n",
       "      <td>...</td>\n",
       "    </tr>\n",
       "    <tr>\n",
       "      <th>96454</th>\n",
       "      <td>1a29b476fee25c95fbafc67c5ac95cf8</td>\n",
       "      <td>6760e20addcf0121e9d58f2f1ff14298</td>\n",
       "      <td>2018-Apr</td>\n",
       "    </tr>\n",
       "    <tr>\n",
       "      <th>96455</th>\n",
       "      <td>d52a67c98be1cf6a5c84435bd38d095d</td>\n",
       "      <td>9ec0c8947d973db4f4e8dcf1fbfa8f1b</td>\n",
       "      <td>2018-Apr</td>\n",
       "    </tr>\n",
       "    <tr>\n",
       "      <th>96456</th>\n",
       "      <td>e9f50caf99f032f0bf3c55141f019d99</td>\n",
       "      <td>fed4434add09a6f332ea398efd656a5c</td>\n",
       "      <td>2018-Apr</td>\n",
       "    </tr>\n",
       "    <tr>\n",
       "      <th>96457</th>\n",
       "      <td>73c2643a0a458b49f58cea58833b192e</td>\n",
       "      <td>e31ec91cea1ecf97797787471f98a8c2</td>\n",
       "      <td>2017-Nov</td>\n",
       "    </tr>\n",
       "    <tr>\n",
       "      <th>96458</th>\n",
       "      <td>84732c5050c01db9b23e19ba39899398</td>\n",
       "      <td>28db69209a75e59f20ccbb5c36a20b90</td>\n",
       "      <td>2017-Dec</td>\n",
       "    </tr>\n",
       "  </tbody>\n",
       "</table>\n",
       "<p>96459 rows × 3 columns</p>\n",
       "</div>"
      ],
      "text/plain": [
       "                     customer_unique_id                            buy_id  \\\n",
       "0      861eff4711a542e4b93843c6dd7febb0  00e7ee1b050b8499577073aeb2a297a1   \n",
       "1      290c77bc529b7ac935b93aa66c333dc3  29150127e6685892b6eab3eec79f59c7   \n",
       "2      060e732b5b29e8181a18229c7b0b2b5e  b2059ed67ce144a36e2aa97d2c9e9ad2   \n",
       "3      259dac757896d24d7702b9acbbff3f3c  951670f92359f4fe4a63112aa7306eba   \n",
       "4      345ecd01c38d18a9036ed96c73b8d066  6b7d50bd145f6fc7f33cebabd7e49d0f   \n",
       "...                                 ...                               ...   \n",
       "96454  1a29b476fee25c95fbafc67c5ac95cf8  6760e20addcf0121e9d58f2f1ff14298   \n",
       "96455  d52a67c98be1cf6a5c84435bd38d095d  9ec0c8947d973db4f4e8dcf1fbfa8f1b   \n",
       "96456  e9f50caf99f032f0bf3c55141f019d99  fed4434add09a6f332ea398efd656a5c   \n",
       "96457  73c2643a0a458b49f58cea58833b192e  e31ec91cea1ecf97797787471f98a8c2   \n",
       "96458  84732c5050c01db9b23e19ba39899398  28db69209a75e59f20ccbb5c36a20b90   \n",
       "\n",
       "          month  \n",
       "0      2017-May  \n",
       "1      2018-Jan  \n",
       "2      2018-May  \n",
       "3      2018-Mar  \n",
       "4      2018-Jul  \n",
       "...         ...  \n",
       "96454  2018-Apr  \n",
       "96455  2018-Apr  \n",
       "96456  2018-Apr  \n",
       "96457  2017-Nov  \n",
       "96458  2017-Dec  \n",
       "\n",
       "[96459 rows x 3 columns]"
      ]
     },
     "execution_count": 119,
     "metadata": {},
     "output_type": "execute_result"
    }
   ],
   "source": [
    "buys_by_uniq_id.buy_purchase_timestamp = buys_by_uniq_id.buy_purchase_timestamp.apply(lambda date: date.strftime('%Y-%b'))\n",
    "buys_by_uniq_id.rename(columns={'buy_purchase_timestamp':'month'}, inplace=True)\n",
    "\n",
    "buys_by_uniq_id"
   ]
  },
  {
   "cell_type": "markdown",
   "id": "d4fcc026",
   "metadata": {},
   "source": [
    "### *3. Считаем сколько покупок было совершено каждым пользователем за каждый месяц:*"
   ]
  },
  {
   "cell_type": "code",
   "execution_count": 120,
   "id": "33cd163e",
   "metadata": {},
   "outputs": [
    {
     "data": {
      "text/html": [
       "<div>\n",
       "<style scoped>\n",
       "    .dataframe tbody tr th:only-of-type {\n",
       "        vertical-align: middle;\n",
       "    }\n",
       "\n",
       "    .dataframe tbody tr th {\n",
       "        vertical-align: top;\n",
       "    }\n",
       "\n",
       "    .dataframe thead th {\n",
       "        text-align: right;\n",
       "    }\n",
       "</style>\n",
       "<table border=\"1\" class=\"dataframe\">\n",
       "  <thead>\n",
       "    <tr style=\"text-align: right;\">\n",
       "      <th></th>\n",
       "      <th>customer_unique_id</th>\n",
       "      <th>month</th>\n",
       "      <th>buys_count</th>\n",
       "    </tr>\n",
       "  </thead>\n",
       "  <tbody>\n",
       "    <tr>\n",
       "      <th>95174</th>\n",
       "      <td>ffffd2657e2aad2907e67c3e9daecbeb</td>\n",
       "      <td>2017-May</td>\n",
       "      <td>1</td>\n",
       "    </tr>\n",
       "    <tr>\n",
       "      <th>95173</th>\n",
       "      <td>ffff5962728ec6157033ef9805bacc48</td>\n",
       "      <td>2018-May</td>\n",
       "      <td>1</td>\n",
       "    </tr>\n",
       "    <tr>\n",
       "      <th>95172</th>\n",
       "      <td>ffff371b4d645b6ecea244b27531430a</td>\n",
       "      <td>2017-Feb</td>\n",
       "      <td>1</td>\n",
       "    </tr>\n",
       "    <tr>\n",
       "      <th>95171</th>\n",
       "      <td>fffea47cd6d3cc0a88bd621562a9d061</td>\n",
       "      <td>2017-Dec</td>\n",
       "      <td>1</td>\n",
       "    </tr>\n",
       "    <tr>\n",
       "      <th>95170</th>\n",
       "      <td>fffcf5a5ff07b0908bd4e2dbc735a684</td>\n",
       "      <td>2017-Jun</td>\n",
       "      <td>1</td>\n",
       "    </tr>\n",
       "  </tbody>\n",
       "</table>\n",
       "</div>"
      ],
      "text/plain": [
       "                     customer_unique_id     month  buys_count\n",
       "95174  ffffd2657e2aad2907e67c3e9daecbeb  2017-May           1\n",
       "95173  ffff5962728ec6157033ef9805bacc48  2018-May           1\n",
       "95172  ffff371b4d645b6ecea244b27531430a  2017-Feb           1\n",
       "95171  fffea47cd6d3cc0a88bd621562a9d061  2017-Dec           1\n",
       "95170  fffcf5a5ff07b0908bd4e2dbc735a684  2017-Jun           1"
      ]
     },
     "execution_count": 120,
     "metadata": {},
     "output_type": "execute_result"
    }
   ],
   "source": [
    "count_per_month = buys_by_uniq_id.groupby(['customer_unique_id', 'month'],as_index=False).agg({'buy_id':'count'})\\\n",
    "                                 .rename(columns={'buy_id':'buys_count'})\\\n",
    "                                 .sort_values(by=['customer_unique_id','buys_count'], ascending=[False,False])\n",
    "\n",
    "count_per_month.head()"
   ]
  },
  {
   "cell_type": "markdown",
   "id": "92885d8a",
   "metadata": {},
   "source": [
    "### *4. Добавим столбец - количество недель в месяце:*"
   ]
  },
  {
   "cell_type": "code",
   "execution_count": 121,
   "id": "f757d47a",
   "metadata": {},
   "outputs": [
    {
     "data": {
      "text/html": [
       "<div>\n",
       "<style scoped>\n",
       "    .dataframe tbody tr th:only-of-type {\n",
       "        vertical-align: middle;\n",
       "    }\n",
       "\n",
       "    .dataframe tbody tr th {\n",
       "        vertical-align: top;\n",
       "    }\n",
       "\n",
       "    .dataframe thead th {\n",
       "        text-align: right;\n",
       "    }\n",
       "</style>\n",
       "<table border=\"1\" class=\"dataframe\">\n",
       "  <thead>\n",
       "    <tr style=\"text-align: right;\">\n",
       "      <th></th>\n",
       "      <th>customer_unique_id</th>\n",
       "      <th>month</th>\n",
       "      <th>buys_count</th>\n",
       "      <th>weeks_in_month</th>\n",
       "    </tr>\n",
       "  </thead>\n",
       "  <tbody>\n",
       "    <tr>\n",
       "      <th>95174</th>\n",
       "      <td>ffffd2657e2aad2907e67c3e9daecbeb</td>\n",
       "      <td>2017-May</td>\n",
       "      <td>1</td>\n",
       "      <td>4.428571</td>\n",
       "    </tr>\n",
       "    <tr>\n",
       "      <th>95173</th>\n",
       "      <td>ffff5962728ec6157033ef9805bacc48</td>\n",
       "      <td>2018-May</td>\n",
       "      <td>1</td>\n",
       "      <td>4.428571</td>\n",
       "    </tr>\n",
       "    <tr>\n",
       "      <th>95172</th>\n",
       "      <td>ffff371b4d645b6ecea244b27531430a</td>\n",
       "      <td>2017-Feb</td>\n",
       "      <td>1</td>\n",
       "      <td>4.000000</td>\n",
       "    </tr>\n",
       "    <tr>\n",
       "      <th>95171</th>\n",
       "      <td>fffea47cd6d3cc0a88bd621562a9d061</td>\n",
       "      <td>2017-Dec</td>\n",
       "      <td>1</td>\n",
       "      <td>4.428571</td>\n",
       "    </tr>\n",
       "    <tr>\n",
       "      <th>95170</th>\n",
       "      <td>fffcf5a5ff07b0908bd4e2dbc735a684</td>\n",
       "      <td>2017-Jun</td>\n",
       "      <td>1</td>\n",
       "      <td>4.285714</td>\n",
       "    </tr>\n",
       "  </tbody>\n",
       "</table>\n",
       "</div>"
      ],
      "text/plain": [
       "                     customer_unique_id     month  buys_count  weeks_in_month\n",
       "95174  ffffd2657e2aad2907e67c3e9daecbeb  2017-May           1        4.428571\n",
       "95173  ffff5962728ec6157033ef9805bacc48  2018-May           1        4.428571\n",
       "95172  ffff371b4d645b6ecea244b27531430a  2017-Feb           1        4.000000\n",
       "95171  fffea47cd6d3cc0a88bd621562a9d061  2017-Dec           1        4.428571\n",
       "95170  fffcf5a5ff07b0908bd4e2dbc735a684  2017-Jun           1        4.285714"
      ]
     },
     "execution_count": 121,
     "metadata": {},
     "output_type": "execute_result"
    }
   ],
   "source": [
    "count_per_month['weeks_in_month'] = count_per_month.month.apply(lambda x: pd.Timestamp(x).days_in_month/7)\n",
    "\n",
    "count_per_month.head()"
   ]
  },
  {
   "cell_type": "markdown",
   "id": "4bfd9fe8",
   "metadata": {},
   "source": [
    "### *5. Добавим столбец - количество покупок за неделю месяца в среднем и округлим до сотых:*"
   ]
  },
  {
   "cell_type": "code",
   "execution_count": 122,
   "id": "d767dfe2",
   "metadata": {},
   "outputs": [
    {
     "data": {
      "text/html": [
       "<div>\n",
       "<style scoped>\n",
       "    .dataframe tbody tr th:only-of-type {\n",
       "        vertical-align: middle;\n",
       "    }\n",
       "\n",
       "    .dataframe tbody tr th {\n",
       "        vertical-align: top;\n",
       "    }\n",
       "\n",
       "    .dataframe thead th {\n",
       "        text-align: right;\n",
       "    }\n",
       "</style>\n",
       "<table border=\"1\" class=\"dataframe\">\n",
       "  <thead>\n",
       "    <tr style=\"text-align: right;\">\n",
       "      <th></th>\n",
       "      <th>customer_unique_id</th>\n",
       "      <th>month</th>\n",
       "      <th>buys_per_week</th>\n",
       "    </tr>\n",
       "  </thead>\n",
       "  <tbody>\n",
       "    <tr>\n",
       "      <th>92170</th>\n",
       "      <td>f7b981e8a280e455ac3cbe0d5d171bd1</td>\n",
       "      <td>2016-Dec</td>\n",
       "      <td>0.23</td>\n",
       "    </tr>\n",
       "    <tr>\n",
       "      <th>92165</th>\n",
       "      <td>f7b62c75467e8ce080b201667cbbc274</td>\n",
       "      <td>2016-Oct</td>\n",
       "      <td>0.45</td>\n",
       "    </tr>\n",
       "    <tr>\n",
       "      <th>45430</th>\n",
       "      <td>7a176e5d88c7acb6000a055e008c055d</td>\n",
       "      <td>2016-Oct</td>\n",
       "      <td>0.45</td>\n",
       "    </tr>\n",
       "    <tr>\n",
       "      <th>5526</th>\n",
       "      <td>0ecf7f65b5ff3b9e61b637e59f495e0a</td>\n",
       "      <td>2016-Oct</td>\n",
       "      <td>0.45</td>\n",
       "    </tr>\n",
       "    <tr>\n",
       "      <th>95077</th>\n",
       "      <td>ffb973f2bb1c0cb807a99341a9b20dcd</td>\n",
       "      <td>2016-Oct</td>\n",
       "      <td>0.23</td>\n",
       "    </tr>\n",
       "    <tr>\n",
       "      <th>...</th>\n",
       "      <td>...</td>\n",
       "      <td>...</td>\n",
       "      <td>...</td>\n",
       "    </tr>\n",
       "    <tr>\n",
       "      <th>43</th>\n",
       "      <td>001a3a8e11d76c9a366c31a4aa2cc529</td>\n",
       "      <td>2018-May</td>\n",
       "      <td>0.23</td>\n",
       "    </tr>\n",
       "    <tr>\n",
       "      <th>40</th>\n",
       "      <td>0019e8c501c85848ac0966d45226fa1d</td>\n",
       "      <td>2018-May</td>\n",
       "      <td>0.23</td>\n",
       "    </tr>\n",
       "    <tr>\n",
       "      <th>21</th>\n",
       "      <td>000ed48ceeb6f4bf8ad021a10a3c7b43</td>\n",
       "      <td>2018-May</td>\n",
       "      <td>0.23</td>\n",
       "    </tr>\n",
       "    <tr>\n",
       "      <th>1</th>\n",
       "      <td>0000b849f77a49e4a4ce2b2a4ca5be3f</td>\n",
       "      <td>2018-May</td>\n",
       "      <td>0.23</td>\n",
       "    </tr>\n",
       "    <tr>\n",
       "      <th>0</th>\n",
       "      <td>0000366f3b9a7992bf8c76cfdf3221e2</td>\n",
       "      <td>2018-May</td>\n",
       "      <td>0.23</td>\n",
       "    </tr>\n",
       "  </tbody>\n",
       "</table>\n",
       "<p>95175 rows × 3 columns</p>\n",
       "</div>"
      ],
      "text/plain": [
       "                     customer_unique_id     month  buys_per_week\n",
       "92170  f7b981e8a280e455ac3cbe0d5d171bd1  2016-Dec           0.23\n",
       "92165  f7b62c75467e8ce080b201667cbbc274  2016-Oct           0.45\n",
       "45430  7a176e5d88c7acb6000a055e008c055d  2016-Oct           0.45\n",
       "5526   0ecf7f65b5ff3b9e61b637e59f495e0a  2016-Oct           0.45\n",
       "95077  ffb973f2bb1c0cb807a99341a9b20dcd  2016-Oct           0.23\n",
       "...                                 ...       ...            ...\n",
       "43     001a3a8e11d76c9a366c31a4aa2cc529  2018-May           0.23\n",
       "40     0019e8c501c85848ac0966d45226fa1d  2018-May           0.23\n",
       "21     000ed48ceeb6f4bf8ad021a10a3c7b43  2018-May           0.23\n",
       "1      0000b849f77a49e4a4ce2b2a4ca5be3f  2018-May           0.23\n",
       "0      0000366f3b9a7992bf8c76cfdf3221e2  2018-May           0.23\n",
       "\n",
       "[95175 rows x 3 columns]"
      ]
     },
     "execution_count": 122,
     "metadata": {},
     "output_type": "execute_result"
    }
   ],
   "source": [
    "count_per_month['buys_per_week'] = round(count_per_month.buys_count / count_per_month.weeks_in_month, 2)\n",
    "count_per_month = count_per_month[['customer_unique_id','month','buys_per_week']]\\\n",
    "                  .sort_values(by=['month','buys_per_week'], ascending=[True, False])\n",
    "count_per_month"
   ]
  },
  {
   "cell_type": "markdown",
   "id": "eadde849",
   "metadata": {},
   "source": [
    "### *6. Преобразуем month обратно в тип datetime:*"
   ]
  },
  {
   "cell_type": "code",
   "execution_count": 123,
   "id": "076b27b7",
   "metadata": {},
   "outputs": [
    {
     "data": {
      "text/html": [
       "<div>\n",
       "<style scoped>\n",
       "    .dataframe tbody tr th:only-of-type {\n",
       "        vertical-align: middle;\n",
       "    }\n",
       "\n",
       "    .dataframe tbody tr th {\n",
       "        vertical-align: top;\n",
       "    }\n",
       "\n",
       "    .dataframe thead th {\n",
       "        text-align: right;\n",
       "    }\n",
       "</style>\n",
       "<table border=\"1\" class=\"dataframe\">\n",
       "  <thead>\n",
       "    <tr style=\"text-align: right;\">\n",
       "      <th></th>\n",
       "      <th>customer_unique_id</th>\n",
       "      <th>month</th>\n",
       "      <th>buys_per_week</th>\n",
       "    </tr>\n",
       "  </thead>\n",
       "  <tbody>\n",
       "    <tr>\n",
       "      <th>92170</th>\n",
       "      <td>f7b981e8a280e455ac3cbe0d5d171bd1</td>\n",
       "      <td>2016-12-01</td>\n",
       "      <td>0.23</td>\n",
       "    </tr>\n",
       "    <tr>\n",
       "      <th>92165</th>\n",
       "      <td>f7b62c75467e8ce080b201667cbbc274</td>\n",
       "      <td>2016-10-01</td>\n",
       "      <td>0.45</td>\n",
       "    </tr>\n",
       "    <tr>\n",
       "      <th>45430</th>\n",
       "      <td>7a176e5d88c7acb6000a055e008c055d</td>\n",
       "      <td>2016-10-01</td>\n",
       "      <td>0.45</td>\n",
       "    </tr>\n",
       "    <tr>\n",
       "      <th>5526</th>\n",
       "      <td>0ecf7f65b5ff3b9e61b637e59f495e0a</td>\n",
       "      <td>2016-10-01</td>\n",
       "      <td>0.45</td>\n",
       "    </tr>\n",
       "    <tr>\n",
       "      <th>95077</th>\n",
       "      <td>ffb973f2bb1c0cb807a99341a9b20dcd</td>\n",
       "      <td>2016-10-01</td>\n",
       "      <td>0.23</td>\n",
       "    </tr>\n",
       "  </tbody>\n",
       "</table>\n",
       "</div>"
      ],
      "text/plain": [
       "                     customer_unique_id      month  buys_per_week\n",
       "92170  f7b981e8a280e455ac3cbe0d5d171bd1 2016-12-01           0.23\n",
       "92165  f7b62c75467e8ce080b201667cbbc274 2016-10-01           0.45\n",
       "45430  7a176e5d88c7acb6000a055e008c055d 2016-10-01           0.45\n",
       "5526   0ecf7f65b5ff3b9e61b637e59f495e0a 2016-10-01           0.45\n",
       "95077  ffb973f2bb1c0cb807a99341a9b20dcd 2016-10-01           0.23"
      ]
     },
     "execution_count": 123,
     "metadata": {},
     "output_type": "execute_result"
    }
   ],
   "source": [
    "count_per_month.month = pd.to_datetime(count_per_month.month)\n",
    "\n",
    "count_per_month.head()"
   ]
  },
  {
   "cell_type": "markdown",
   "id": "62198c80",
   "metadata": {},
   "source": [
    "### *7. Преобразуем датафрейм count_per_month к виду pivot:*"
   ]
  },
  {
   "cell_type": "markdown",
   "id": "f02705d3",
   "metadata": {},
   "source": [
    "Выберем:\n",
    "- в роли колонок - первые дни месяцев (**month**)\n",
    "- в роли индексов - уникальные id пользователей (**customer_unique_id**)\n",
    "- в роли значений - количество покупок за неделю месяца в среднем (**buys_per_week**)\n",
    "\n",
    "Также заменим нулевые отсутвующие значения количества покупок за неделю месяца - на 0, т.к. отсутствие значения означает, что пользователь не совершал покупки за этот месяц вообще.\n"
   ]
  },
  {
   "cell_type": "code",
   "execution_count": 124,
   "id": "688277e3",
   "metadata": {},
   "outputs": [
    {
     "data": {
      "text/html": [
       "<div>\n",
       "<style scoped>\n",
       "    .dataframe tbody tr th:only-of-type {\n",
       "        vertical-align: middle;\n",
       "    }\n",
       "\n",
       "    .dataframe tbody tr th {\n",
       "        vertical-align: top;\n",
       "    }\n",
       "\n",
       "    .dataframe thead th {\n",
       "        text-align: right;\n",
       "    }\n",
       "</style>\n",
       "<table border=\"1\" class=\"dataframe\">\n",
       "  <thead>\n",
       "    <tr style=\"text-align: right;\">\n",
       "      <th>month</th>\n",
       "      <th>2016-09-01</th>\n",
       "      <th>2016-10-01</th>\n",
       "      <th>2016-12-01</th>\n",
       "      <th>2017-01-01</th>\n",
       "      <th>2017-02-01</th>\n",
       "      <th>2017-03-01</th>\n",
       "      <th>2017-04-01</th>\n",
       "      <th>2017-05-01</th>\n",
       "      <th>2017-06-01</th>\n",
       "      <th>2017-07-01</th>\n",
       "      <th>...</th>\n",
       "      <th>2017-11-01</th>\n",
       "      <th>2017-12-01</th>\n",
       "      <th>2018-01-01</th>\n",
       "      <th>2018-02-01</th>\n",
       "      <th>2018-03-01</th>\n",
       "      <th>2018-04-01</th>\n",
       "      <th>2018-05-01</th>\n",
       "      <th>2018-06-01</th>\n",
       "      <th>2018-07-01</th>\n",
       "      <th>2018-08-01</th>\n",
       "    </tr>\n",
       "    <tr>\n",
       "      <th>customer_unique_id</th>\n",
       "      <th></th>\n",
       "      <th></th>\n",
       "      <th></th>\n",
       "      <th></th>\n",
       "      <th></th>\n",
       "      <th></th>\n",
       "      <th></th>\n",
       "      <th></th>\n",
       "      <th></th>\n",
       "      <th></th>\n",
       "      <th></th>\n",
       "      <th></th>\n",
       "      <th></th>\n",
       "      <th></th>\n",
       "      <th></th>\n",
       "      <th></th>\n",
       "      <th></th>\n",
       "      <th></th>\n",
       "      <th></th>\n",
       "      <th></th>\n",
       "      <th></th>\n",
       "    </tr>\n",
       "  </thead>\n",
       "  <tbody>\n",
       "    <tr>\n",
       "      <th>0000366f3b9a7992bf8c76cfdf3221e2</th>\n",
       "      <td>0.0</td>\n",
       "      <td>0.0</td>\n",
       "      <td>0.0</td>\n",
       "      <td>0.0</td>\n",
       "      <td>0.00</td>\n",
       "      <td>0.00</td>\n",
       "      <td>0.0</td>\n",
       "      <td>0.00</td>\n",
       "      <td>0.00</td>\n",
       "      <td>0.0</td>\n",
       "      <td>...</td>\n",
       "      <td>0.00</td>\n",
       "      <td>0.00</td>\n",
       "      <td>0.0</td>\n",
       "      <td>0.0</td>\n",
       "      <td>0.0</td>\n",
       "      <td>0.0</td>\n",
       "      <td>0.23</td>\n",
       "      <td>0.0</td>\n",
       "      <td>0.0</td>\n",
       "      <td>0.0</td>\n",
       "    </tr>\n",
       "    <tr>\n",
       "      <th>0000b849f77a49e4a4ce2b2a4ca5be3f</th>\n",
       "      <td>0.0</td>\n",
       "      <td>0.0</td>\n",
       "      <td>0.0</td>\n",
       "      <td>0.0</td>\n",
       "      <td>0.00</td>\n",
       "      <td>0.00</td>\n",
       "      <td>0.0</td>\n",
       "      <td>0.00</td>\n",
       "      <td>0.00</td>\n",
       "      <td>0.0</td>\n",
       "      <td>...</td>\n",
       "      <td>0.00</td>\n",
       "      <td>0.00</td>\n",
       "      <td>0.0</td>\n",
       "      <td>0.0</td>\n",
       "      <td>0.0</td>\n",
       "      <td>0.0</td>\n",
       "      <td>0.23</td>\n",
       "      <td>0.0</td>\n",
       "      <td>0.0</td>\n",
       "      <td>0.0</td>\n",
       "    </tr>\n",
       "    <tr>\n",
       "      <th>0000f46a3911fa3c0805444483337064</th>\n",
       "      <td>0.0</td>\n",
       "      <td>0.0</td>\n",
       "      <td>0.0</td>\n",
       "      <td>0.0</td>\n",
       "      <td>0.00</td>\n",
       "      <td>0.23</td>\n",
       "      <td>0.0</td>\n",
       "      <td>0.00</td>\n",
       "      <td>0.00</td>\n",
       "      <td>0.0</td>\n",
       "      <td>...</td>\n",
       "      <td>0.00</td>\n",
       "      <td>0.00</td>\n",
       "      <td>0.0</td>\n",
       "      <td>0.0</td>\n",
       "      <td>0.0</td>\n",
       "      <td>0.0</td>\n",
       "      <td>0.00</td>\n",
       "      <td>0.0</td>\n",
       "      <td>0.0</td>\n",
       "      <td>0.0</td>\n",
       "    </tr>\n",
       "    <tr>\n",
       "      <th>0000f6ccb0745a6a4b88665a16c9f078</th>\n",
       "      <td>0.0</td>\n",
       "      <td>0.0</td>\n",
       "      <td>0.0</td>\n",
       "      <td>0.0</td>\n",
       "      <td>0.00</td>\n",
       "      <td>0.00</td>\n",
       "      <td>0.0</td>\n",
       "      <td>0.00</td>\n",
       "      <td>0.00</td>\n",
       "      <td>0.0</td>\n",
       "      <td>...</td>\n",
       "      <td>0.00</td>\n",
       "      <td>0.00</td>\n",
       "      <td>0.0</td>\n",
       "      <td>0.0</td>\n",
       "      <td>0.0</td>\n",
       "      <td>0.0</td>\n",
       "      <td>0.00</td>\n",
       "      <td>0.0</td>\n",
       "      <td>0.0</td>\n",
       "      <td>0.0</td>\n",
       "    </tr>\n",
       "    <tr>\n",
       "      <th>0004aac84e0df4da2b147fca70cf8255</th>\n",
       "      <td>0.0</td>\n",
       "      <td>0.0</td>\n",
       "      <td>0.0</td>\n",
       "      <td>0.0</td>\n",
       "      <td>0.00</td>\n",
       "      <td>0.00</td>\n",
       "      <td>0.0</td>\n",
       "      <td>0.00</td>\n",
       "      <td>0.00</td>\n",
       "      <td>0.0</td>\n",
       "      <td>...</td>\n",
       "      <td>0.23</td>\n",
       "      <td>0.00</td>\n",
       "      <td>0.0</td>\n",
       "      <td>0.0</td>\n",
       "      <td>0.0</td>\n",
       "      <td>0.0</td>\n",
       "      <td>0.00</td>\n",
       "      <td>0.0</td>\n",
       "      <td>0.0</td>\n",
       "      <td>0.0</td>\n",
       "    </tr>\n",
       "    <tr>\n",
       "      <th>...</th>\n",
       "      <td>...</td>\n",
       "      <td>...</td>\n",
       "      <td>...</td>\n",
       "      <td>...</td>\n",
       "      <td>...</td>\n",
       "      <td>...</td>\n",
       "      <td>...</td>\n",
       "      <td>...</td>\n",
       "      <td>...</td>\n",
       "      <td>...</td>\n",
       "      <td>...</td>\n",
       "      <td>...</td>\n",
       "      <td>...</td>\n",
       "      <td>...</td>\n",
       "      <td>...</td>\n",
       "      <td>...</td>\n",
       "      <td>...</td>\n",
       "      <td>...</td>\n",
       "      <td>...</td>\n",
       "      <td>...</td>\n",
       "      <td>...</td>\n",
       "    </tr>\n",
       "    <tr>\n",
       "      <th>fffcf5a5ff07b0908bd4e2dbc735a684</th>\n",
       "      <td>0.0</td>\n",
       "      <td>0.0</td>\n",
       "      <td>0.0</td>\n",
       "      <td>0.0</td>\n",
       "      <td>0.00</td>\n",
       "      <td>0.00</td>\n",
       "      <td>0.0</td>\n",
       "      <td>0.00</td>\n",
       "      <td>0.23</td>\n",
       "      <td>0.0</td>\n",
       "      <td>...</td>\n",
       "      <td>0.00</td>\n",
       "      <td>0.00</td>\n",
       "      <td>0.0</td>\n",
       "      <td>0.0</td>\n",
       "      <td>0.0</td>\n",
       "      <td>0.0</td>\n",
       "      <td>0.00</td>\n",
       "      <td>0.0</td>\n",
       "      <td>0.0</td>\n",
       "      <td>0.0</td>\n",
       "    </tr>\n",
       "    <tr>\n",
       "      <th>fffea47cd6d3cc0a88bd621562a9d061</th>\n",
       "      <td>0.0</td>\n",
       "      <td>0.0</td>\n",
       "      <td>0.0</td>\n",
       "      <td>0.0</td>\n",
       "      <td>0.00</td>\n",
       "      <td>0.00</td>\n",
       "      <td>0.0</td>\n",
       "      <td>0.00</td>\n",
       "      <td>0.00</td>\n",
       "      <td>0.0</td>\n",
       "      <td>...</td>\n",
       "      <td>0.00</td>\n",
       "      <td>0.23</td>\n",
       "      <td>0.0</td>\n",
       "      <td>0.0</td>\n",
       "      <td>0.0</td>\n",
       "      <td>0.0</td>\n",
       "      <td>0.00</td>\n",
       "      <td>0.0</td>\n",
       "      <td>0.0</td>\n",
       "      <td>0.0</td>\n",
       "    </tr>\n",
       "    <tr>\n",
       "      <th>ffff371b4d645b6ecea244b27531430a</th>\n",
       "      <td>0.0</td>\n",
       "      <td>0.0</td>\n",
       "      <td>0.0</td>\n",
       "      <td>0.0</td>\n",
       "      <td>0.25</td>\n",
       "      <td>0.00</td>\n",
       "      <td>0.0</td>\n",
       "      <td>0.00</td>\n",
       "      <td>0.00</td>\n",
       "      <td>0.0</td>\n",
       "      <td>...</td>\n",
       "      <td>0.00</td>\n",
       "      <td>0.00</td>\n",
       "      <td>0.0</td>\n",
       "      <td>0.0</td>\n",
       "      <td>0.0</td>\n",
       "      <td>0.0</td>\n",
       "      <td>0.00</td>\n",
       "      <td>0.0</td>\n",
       "      <td>0.0</td>\n",
       "      <td>0.0</td>\n",
       "    </tr>\n",
       "    <tr>\n",
       "      <th>ffff5962728ec6157033ef9805bacc48</th>\n",
       "      <td>0.0</td>\n",
       "      <td>0.0</td>\n",
       "      <td>0.0</td>\n",
       "      <td>0.0</td>\n",
       "      <td>0.00</td>\n",
       "      <td>0.00</td>\n",
       "      <td>0.0</td>\n",
       "      <td>0.00</td>\n",
       "      <td>0.00</td>\n",
       "      <td>0.0</td>\n",
       "      <td>...</td>\n",
       "      <td>0.00</td>\n",
       "      <td>0.00</td>\n",
       "      <td>0.0</td>\n",
       "      <td>0.0</td>\n",
       "      <td>0.0</td>\n",
       "      <td>0.0</td>\n",
       "      <td>0.23</td>\n",
       "      <td>0.0</td>\n",
       "      <td>0.0</td>\n",
       "      <td>0.0</td>\n",
       "    </tr>\n",
       "    <tr>\n",
       "      <th>ffffd2657e2aad2907e67c3e9daecbeb</th>\n",
       "      <td>0.0</td>\n",
       "      <td>0.0</td>\n",
       "      <td>0.0</td>\n",
       "      <td>0.0</td>\n",
       "      <td>0.00</td>\n",
       "      <td>0.00</td>\n",
       "      <td>0.0</td>\n",
       "      <td>0.23</td>\n",
       "      <td>0.00</td>\n",
       "      <td>0.0</td>\n",
       "      <td>...</td>\n",
       "      <td>0.00</td>\n",
       "      <td>0.00</td>\n",
       "      <td>0.0</td>\n",
       "      <td>0.0</td>\n",
       "      <td>0.0</td>\n",
       "      <td>0.0</td>\n",
       "      <td>0.00</td>\n",
       "      <td>0.0</td>\n",
       "      <td>0.0</td>\n",
       "      <td>0.0</td>\n",
       "    </tr>\n",
       "  </tbody>\n",
       "</table>\n",
       "<p>93339 rows × 23 columns</p>\n",
       "</div>"
      ],
      "text/plain": [
       "month                             2016-09-01  2016-10-01  2016-12-01  \\\n",
       "customer_unique_id                                                     \n",
       "0000366f3b9a7992bf8c76cfdf3221e2         0.0         0.0         0.0   \n",
       "0000b849f77a49e4a4ce2b2a4ca5be3f         0.0         0.0         0.0   \n",
       "0000f46a3911fa3c0805444483337064         0.0         0.0         0.0   \n",
       "0000f6ccb0745a6a4b88665a16c9f078         0.0         0.0         0.0   \n",
       "0004aac84e0df4da2b147fca70cf8255         0.0         0.0         0.0   \n",
       "...                                      ...         ...         ...   \n",
       "fffcf5a5ff07b0908bd4e2dbc735a684         0.0         0.0         0.0   \n",
       "fffea47cd6d3cc0a88bd621562a9d061         0.0         0.0         0.0   \n",
       "ffff371b4d645b6ecea244b27531430a         0.0         0.0         0.0   \n",
       "ffff5962728ec6157033ef9805bacc48         0.0         0.0         0.0   \n",
       "ffffd2657e2aad2907e67c3e9daecbeb         0.0         0.0         0.0   \n",
       "\n",
       "month                             2017-01-01  2017-02-01  2017-03-01  \\\n",
       "customer_unique_id                                                     \n",
       "0000366f3b9a7992bf8c76cfdf3221e2         0.0        0.00        0.00   \n",
       "0000b849f77a49e4a4ce2b2a4ca5be3f         0.0        0.00        0.00   \n",
       "0000f46a3911fa3c0805444483337064         0.0        0.00        0.23   \n",
       "0000f6ccb0745a6a4b88665a16c9f078         0.0        0.00        0.00   \n",
       "0004aac84e0df4da2b147fca70cf8255         0.0        0.00        0.00   \n",
       "...                                      ...         ...         ...   \n",
       "fffcf5a5ff07b0908bd4e2dbc735a684         0.0        0.00        0.00   \n",
       "fffea47cd6d3cc0a88bd621562a9d061         0.0        0.00        0.00   \n",
       "ffff371b4d645b6ecea244b27531430a         0.0        0.25        0.00   \n",
       "ffff5962728ec6157033ef9805bacc48         0.0        0.00        0.00   \n",
       "ffffd2657e2aad2907e67c3e9daecbeb         0.0        0.00        0.00   \n",
       "\n",
       "month                             2017-04-01  2017-05-01  2017-06-01  \\\n",
       "customer_unique_id                                                     \n",
       "0000366f3b9a7992bf8c76cfdf3221e2         0.0        0.00        0.00   \n",
       "0000b849f77a49e4a4ce2b2a4ca5be3f         0.0        0.00        0.00   \n",
       "0000f46a3911fa3c0805444483337064         0.0        0.00        0.00   \n",
       "0000f6ccb0745a6a4b88665a16c9f078         0.0        0.00        0.00   \n",
       "0004aac84e0df4da2b147fca70cf8255         0.0        0.00        0.00   \n",
       "...                                      ...         ...         ...   \n",
       "fffcf5a5ff07b0908bd4e2dbc735a684         0.0        0.00        0.23   \n",
       "fffea47cd6d3cc0a88bd621562a9d061         0.0        0.00        0.00   \n",
       "ffff371b4d645b6ecea244b27531430a         0.0        0.00        0.00   \n",
       "ffff5962728ec6157033ef9805bacc48         0.0        0.00        0.00   \n",
       "ffffd2657e2aad2907e67c3e9daecbeb         0.0        0.23        0.00   \n",
       "\n",
       "month                             2017-07-01  ...  2017-11-01  2017-12-01  \\\n",
       "customer_unique_id                            ...                           \n",
       "0000366f3b9a7992bf8c76cfdf3221e2         0.0  ...        0.00        0.00   \n",
       "0000b849f77a49e4a4ce2b2a4ca5be3f         0.0  ...        0.00        0.00   \n",
       "0000f46a3911fa3c0805444483337064         0.0  ...        0.00        0.00   \n",
       "0000f6ccb0745a6a4b88665a16c9f078         0.0  ...        0.00        0.00   \n",
       "0004aac84e0df4da2b147fca70cf8255         0.0  ...        0.23        0.00   \n",
       "...                                      ...  ...         ...         ...   \n",
       "fffcf5a5ff07b0908bd4e2dbc735a684         0.0  ...        0.00        0.00   \n",
       "fffea47cd6d3cc0a88bd621562a9d061         0.0  ...        0.00        0.23   \n",
       "ffff371b4d645b6ecea244b27531430a         0.0  ...        0.00        0.00   \n",
       "ffff5962728ec6157033ef9805bacc48         0.0  ...        0.00        0.00   \n",
       "ffffd2657e2aad2907e67c3e9daecbeb         0.0  ...        0.00        0.00   \n",
       "\n",
       "month                             2018-01-01  2018-02-01  2018-03-01  \\\n",
       "customer_unique_id                                                     \n",
       "0000366f3b9a7992bf8c76cfdf3221e2         0.0         0.0         0.0   \n",
       "0000b849f77a49e4a4ce2b2a4ca5be3f         0.0         0.0         0.0   \n",
       "0000f46a3911fa3c0805444483337064         0.0         0.0         0.0   \n",
       "0000f6ccb0745a6a4b88665a16c9f078         0.0         0.0         0.0   \n",
       "0004aac84e0df4da2b147fca70cf8255         0.0         0.0         0.0   \n",
       "...                                      ...         ...         ...   \n",
       "fffcf5a5ff07b0908bd4e2dbc735a684         0.0         0.0         0.0   \n",
       "fffea47cd6d3cc0a88bd621562a9d061         0.0         0.0         0.0   \n",
       "ffff371b4d645b6ecea244b27531430a         0.0         0.0         0.0   \n",
       "ffff5962728ec6157033ef9805bacc48         0.0         0.0         0.0   \n",
       "ffffd2657e2aad2907e67c3e9daecbeb         0.0         0.0         0.0   \n",
       "\n",
       "month                             2018-04-01  2018-05-01  2018-06-01  \\\n",
       "customer_unique_id                                                     \n",
       "0000366f3b9a7992bf8c76cfdf3221e2         0.0        0.23         0.0   \n",
       "0000b849f77a49e4a4ce2b2a4ca5be3f         0.0        0.23         0.0   \n",
       "0000f46a3911fa3c0805444483337064         0.0        0.00         0.0   \n",
       "0000f6ccb0745a6a4b88665a16c9f078         0.0        0.00         0.0   \n",
       "0004aac84e0df4da2b147fca70cf8255         0.0        0.00         0.0   \n",
       "...                                      ...         ...         ...   \n",
       "fffcf5a5ff07b0908bd4e2dbc735a684         0.0        0.00         0.0   \n",
       "fffea47cd6d3cc0a88bd621562a9d061         0.0        0.00         0.0   \n",
       "ffff371b4d645b6ecea244b27531430a         0.0        0.00         0.0   \n",
       "ffff5962728ec6157033ef9805bacc48         0.0        0.23         0.0   \n",
       "ffffd2657e2aad2907e67c3e9daecbeb         0.0        0.00         0.0   \n",
       "\n",
       "month                             2018-07-01  2018-08-01  \n",
       "customer_unique_id                                        \n",
       "0000366f3b9a7992bf8c76cfdf3221e2         0.0         0.0  \n",
       "0000b849f77a49e4a4ce2b2a4ca5be3f         0.0         0.0  \n",
       "0000f46a3911fa3c0805444483337064         0.0         0.0  \n",
       "0000f6ccb0745a6a4b88665a16c9f078         0.0         0.0  \n",
       "0004aac84e0df4da2b147fca70cf8255         0.0         0.0  \n",
       "...                                      ...         ...  \n",
       "fffcf5a5ff07b0908bd4e2dbc735a684         0.0         0.0  \n",
       "fffea47cd6d3cc0a88bd621562a9d061         0.0         0.0  \n",
       "ffff371b4d645b6ecea244b27531430a         0.0         0.0  \n",
       "ffff5962728ec6157033ef9805bacc48         0.0         0.0  \n",
       "ffffd2657e2aad2907e67c3e9daecbeb         0.0         0.0  \n",
       "\n",
       "[93339 rows x 23 columns]"
      ]
     },
     "execution_count": 124,
     "metadata": {},
     "output_type": "execute_result"
    }
   ],
   "source": [
    "count_pivot = count_per_month.pivot(columns='month', index='customer_unique_id', values='buys_per_week').fillna(0)\n",
    "count_pivot"
   ]
  },
  {
   "cell_type": "markdown",
   "id": "ac1b4100",
   "metadata": {},
   "source": [
    "### *8. Восполняем недостающие данные:*"
   ]
  },
  {
   "cell_type": "markdown",
   "id": "5c067e5b",
   "metadata": {},
   "source": [
    "Обратимся к исходному датасету customers и выясним сколько уникальных клиентов не совершали покупок в нашем магазине вообще:"
   ]
  },
  {
   "cell_type": "code",
   "execution_count": 125,
   "id": "0c677628",
   "metadata": {},
   "outputs": [
    {
     "data": {
      "text/plain": [
       "2757"
      ]
     },
     "execution_count": 125,
     "metadata": {},
     "output_type": "execute_result"
    }
   ],
   "source": [
    "customers.customer_unique_id.nunique() - count_pivot.shape[0]"
   ]
  },
  {
   "cell_type": "markdown",
   "id": "6da7a369",
   "metadata": {},
   "source": [
    "Добавим данные о покупках (отсутствии покупок) этих пользователей в наш pivot-датафрейм:"
   ]
  },
  {
   "cell_type": "code",
   "execution_count": 126,
   "id": "32b8a956",
   "metadata": {},
   "outputs": [],
   "source": [
    "# Список всех уникальных клиентов:\n",
    "\n",
    "all_customers = customers.customer_unique_id.unique()"
   ]
  },
  {
   "cell_type": "code",
   "execution_count": 127,
   "id": "a88c5044",
   "metadata": {
    "scrolled": true
   },
   "outputs": [],
   "source": [
    "# Список  уникальных клиентов с покупками:\n",
    "\n",
    "customers_with_buys = count_pivot.index"
   ]
  },
  {
   "cell_type": "code",
   "execution_count": 128,
   "id": "906efeb7",
   "metadata": {},
   "outputs": [],
   "source": [
    "#Вычтем из множества всех клиентов - клиентов с покупками и получим клиентов без покупок:\n",
    "\n",
    "customers_without_buys = set(all_customers).difference(set(customers_with_buys)) "
   ]
  },
  {
   "cell_type": "code",
   "execution_count": 129,
   "id": "9cfe5caa",
   "metadata": {},
   "outputs": [],
   "source": [
    "#Создаем словарь с именами - колонками из count_pivot, значениями - 0:\n",
    "\n",
    "zero_rows = {column:0 for column in count_pivot.columns}"
   ]
  },
  {
   "cell_type": "code",
   "execution_count": 131,
   "id": "76cc3d5d",
   "metadata": {
    "scrolled": true
   },
   "outputs": [
    {
     "data": {
      "text/html": [
       "<div>\n",
       "<style scoped>\n",
       "    .dataframe tbody tr th:only-of-type {\n",
       "        vertical-align: middle;\n",
       "    }\n",
       "\n",
       "    .dataframe tbody tr th {\n",
       "        vertical-align: top;\n",
       "    }\n",
       "\n",
       "    .dataframe thead th {\n",
       "        text-align: right;\n",
       "    }\n",
       "</style>\n",
       "<table border=\"1\" class=\"dataframe\">\n",
       "  <thead>\n",
       "    <tr style=\"text-align: right;\">\n",
       "      <th></th>\n",
       "      <th>2016-09-01</th>\n",
       "      <th>2016-10-01</th>\n",
       "      <th>2016-12-01</th>\n",
       "      <th>2017-01-01</th>\n",
       "      <th>2017-02-01</th>\n",
       "      <th>2017-03-01</th>\n",
       "      <th>2017-04-01</th>\n",
       "      <th>2017-05-01</th>\n",
       "      <th>2017-06-01</th>\n",
       "      <th>2017-07-01</th>\n",
       "      <th>...</th>\n",
       "      <th>2017-11-01</th>\n",
       "      <th>2017-12-01</th>\n",
       "      <th>2018-01-01</th>\n",
       "      <th>2018-02-01</th>\n",
       "      <th>2018-03-01</th>\n",
       "      <th>2018-04-01</th>\n",
       "      <th>2018-05-01</th>\n",
       "      <th>2018-06-01</th>\n",
       "      <th>2018-07-01</th>\n",
       "      <th>2018-08-01</th>\n",
       "    </tr>\n",
       "  </thead>\n",
       "  <tbody>\n",
       "    <tr>\n",
       "      <th>4c972a4342ba0526c1eabfb9ec50dc4d</th>\n",
       "      <td>0</td>\n",
       "      <td>0</td>\n",
       "      <td>0</td>\n",
       "      <td>0</td>\n",
       "      <td>0</td>\n",
       "      <td>0</td>\n",
       "      <td>0</td>\n",
       "      <td>0</td>\n",
       "      <td>0</td>\n",
       "      <td>0</td>\n",
       "      <td>...</td>\n",
       "      <td>0</td>\n",
       "      <td>0</td>\n",
       "      <td>0</td>\n",
       "      <td>0</td>\n",
       "      <td>0</td>\n",
       "      <td>0</td>\n",
       "      <td>0</td>\n",
       "      <td>0</td>\n",
       "      <td>0</td>\n",
       "      <td>0</td>\n",
       "    </tr>\n",
       "    <tr>\n",
       "      <th>ead982afdbd7acd1f6a87c57f9177291</th>\n",
       "      <td>0</td>\n",
       "      <td>0</td>\n",
       "      <td>0</td>\n",
       "      <td>0</td>\n",
       "      <td>0</td>\n",
       "      <td>0</td>\n",
       "      <td>0</td>\n",
       "      <td>0</td>\n",
       "      <td>0</td>\n",
       "      <td>0</td>\n",
       "      <td>...</td>\n",
       "      <td>0</td>\n",
       "      <td>0</td>\n",
       "      <td>0</td>\n",
       "      <td>0</td>\n",
       "      <td>0</td>\n",
       "      <td>0</td>\n",
       "      <td>0</td>\n",
       "      <td>0</td>\n",
       "      <td>0</td>\n",
       "      <td>0</td>\n",
       "    </tr>\n",
       "    <tr>\n",
       "      <th>23a25807386b02e977d0e25355066a28</th>\n",
       "      <td>0</td>\n",
       "      <td>0</td>\n",
       "      <td>0</td>\n",
       "      <td>0</td>\n",
       "      <td>0</td>\n",
       "      <td>0</td>\n",
       "      <td>0</td>\n",
       "      <td>0</td>\n",
       "      <td>0</td>\n",
       "      <td>0</td>\n",
       "      <td>...</td>\n",
       "      <td>0</td>\n",
       "      <td>0</td>\n",
       "      <td>0</td>\n",
       "      <td>0</td>\n",
       "      <td>0</td>\n",
       "      <td>0</td>\n",
       "      <td>0</td>\n",
       "      <td>0</td>\n",
       "      <td>0</td>\n",
       "      <td>0</td>\n",
       "    </tr>\n",
       "    <tr>\n",
       "      <th>2185937c8c6a63a563c1c02e287274ce</th>\n",
       "      <td>0</td>\n",
       "      <td>0</td>\n",
       "      <td>0</td>\n",
       "      <td>0</td>\n",
       "      <td>0</td>\n",
       "      <td>0</td>\n",
       "      <td>0</td>\n",
       "      <td>0</td>\n",
       "      <td>0</td>\n",
       "      <td>0</td>\n",
       "      <td>...</td>\n",
       "      <td>0</td>\n",
       "      <td>0</td>\n",
       "      <td>0</td>\n",
       "      <td>0</td>\n",
       "      <td>0</td>\n",
       "      <td>0</td>\n",
       "      <td>0</td>\n",
       "      <td>0</td>\n",
       "      <td>0</td>\n",
       "      <td>0</td>\n",
       "    </tr>\n",
       "    <tr>\n",
       "      <th>090b0facc5a4b9fc9e0f5820ea9bbdfd</th>\n",
       "      <td>0</td>\n",
       "      <td>0</td>\n",
       "      <td>0</td>\n",
       "      <td>0</td>\n",
       "      <td>0</td>\n",
       "      <td>0</td>\n",
       "      <td>0</td>\n",
       "      <td>0</td>\n",
       "      <td>0</td>\n",
       "      <td>0</td>\n",
       "      <td>...</td>\n",
       "      <td>0</td>\n",
       "      <td>0</td>\n",
       "      <td>0</td>\n",
       "      <td>0</td>\n",
       "      <td>0</td>\n",
       "      <td>0</td>\n",
       "      <td>0</td>\n",
       "      <td>0</td>\n",
       "      <td>0</td>\n",
       "      <td>0</td>\n",
       "    </tr>\n",
       "  </tbody>\n",
       "</table>\n",
       "<p>5 rows × 23 columns</p>\n",
       "</div>"
      ],
      "text/plain": [
       "                                  2016-09-01  2016-10-01  2016-12-01  \\\n",
       "4c972a4342ba0526c1eabfb9ec50dc4d           0           0           0   \n",
       "ead982afdbd7acd1f6a87c57f9177291           0           0           0   \n",
       "23a25807386b02e977d0e25355066a28           0           0           0   \n",
       "2185937c8c6a63a563c1c02e287274ce           0           0           0   \n",
       "090b0facc5a4b9fc9e0f5820ea9bbdfd           0           0           0   \n",
       "\n",
       "                                  2017-01-01  2017-02-01  2017-03-01  \\\n",
       "4c972a4342ba0526c1eabfb9ec50dc4d           0           0           0   \n",
       "ead982afdbd7acd1f6a87c57f9177291           0           0           0   \n",
       "23a25807386b02e977d0e25355066a28           0           0           0   \n",
       "2185937c8c6a63a563c1c02e287274ce           0           0           0   \n",
       "090b0facc5a4b9fc9e0f5820ea9bbdfd           0           0           0   \n",
       "\n",
       "                                  2017-04-01  2017-05-01  2017-06-01  \\\n",
       "4c972a4342ba0526c1eabfb9ec50dc4d           0           0           0   \n",
       "ead982afdbd7acd1f6a87c57f9177291           0           0           0   \n",
       "23a25807386b02e977d0e25355066a28           0           0           0   \n",
       "2185937c8c6a63a563c1c02e287274ce           0           0           0   \n",
       "090b0facc5a4b9fc9e0f5820ea9bbdfd           0           0           0   \n",
       "\n",
       "                                  2017-07-01  ...  2017-11-01  2017-12-01  \\\n",
       "4c972a4342ba0526c1eabfb9ec50dc4d           0  ...           0           0   \n",
       "ead982afdbd7acd1f6a87c57f9177291           0  ...           0           0   \n",
       "23a25807386b02e977d0e25355066a28           0  ...           0           0   \n",
       "2185937c8c6a63a563c1c02e287274ce           0  ...           0           0   \n",
       "090b0facc5a4b9fc9e0f5820ea9bbdfd           0  ...           0           0   \n",
       "\n",
       "                                  2018-01-01  2018-02-01  2018-03-01  \\\n",
       "4c972a4342ba0526c1eabfb9ec50dc4d           0           0           0   \n",
       "ead982afdbd7acd1f6a87c57f9177291           0           0           0   \n",
       "23a25807386b02e977d0e25355066a28           0           0           0   \n",
       "2185937c8c6a63a563c1c02e287274ce           0           0           0   \n",
       "090b0facc5a4b9fc9e0f5820ea9bbdfd           0           0           0   \n",
       "\n",
       "                                  2018-04-01  2018-05-01  2018-06-01  \\\n",
       "4c972a4342ba0526c1eabfb9ec50dc4d           0           0           0   \n",
       "ead982afdbd7acd1f6a87c57f9177291           0           0           0   \n",
       "23a25807386b02e977d0e25355066a28           0           0           0   \n",
       "2185937c8c6a63a563c1c02e287274ce           0           0           0   \n",
       "090b0facc5a4b9fc9e0f5820ea9bbdfd           0           0           0   \n",
       "\n",
       "                                  2018-07-01  2018-08-01  \n",
       "4c972a4342ba0526c1eabfb9ec50dc4d           0           0  \n",
       "ead982afdbd7acd1f6a87c57f9177291           0           0  \n",
       "23a25807386b02e977d0e25355066a28           0           0  \n",
       "2185937c8c6a63a563c1c02e287274ce           0           0  \n",
       "090b0facc5a4b9fc9e0f5820ea9bbdfd           0           0  \n",
       "\n",
       "[5 rows x 23 columns]"
      ]
     },
     "execution_count": 131,
     "metadata": {},
     "output_type": "execute_result"
    }
   ],
   "source": [
    "# Создаем датафрейм, говорящий, что у клиентов без покупок по всем месяцам - среднее кол-во покупок в неделю = 0\n",
    "\n",
    "no_buys_df = pd.DataFrame(zero_rows, index=customers_without_buys)\n",
    "\n",
    "no_buys_df.head()"
   ]
  },
  {
   "cell_type": "code",
   "execution_count": 132,
   "id": "d5dbce58",
   "metadata": {},
   "outputs": [
    {
     "data": {
      "text/plain": [
       "2757"
      ]
     },
     "execution_count": 132,
     "metadata": {},
     "output_type": "execute_result"
    }
   ],
   "source": [
    "len(no_buys_df)"
   ]
  },
  {
   "cell_type": "code",
   "execution_count": 133,
   "id": "be2665be",
   "metadata": {},
   "outputs": [],
   "source": [
    "# Добавляем его в конец count_pivot, тем самым восполняя информацию об абсолютно всех уник. клиентах:\n",
    "\n",
    "count_pivot = pd.concat([count_pivot,no_buys_df])"
   ]
  },
  {
   "cell_type": "code",
   "execution_count": 135,
   "id": "4cb54d66",
   "metadata": {},
   "outputs": [
    {
     "data": {
      "text/html": [
       "<div>\n",
       "<style scoped>\n",
       "    .dataframe tbody tr th:only-of-type {\n",
       "        vertical-align: middle;\n",
       "    }\n",
       "\n",
       "    .dataframe tbody tr th {\n",
       "        vertical-align: top;\n",
       "    }\n",
       "\n",
       "    .dataframe thead th {\n",
       "        text-align: right;\n",
       "    }\n",
       "</style>\n",
       "<table border=\"1\" class=\"dataframe\">\n",
       "  <thead>\n",
       "    <tr style=\"text-align: right;\">\n",
       "      <th></th>\n",
       "      <th>2016-09-01</th>\n",
       "      <th>2016-10-01</th>\n",
       "      <th>2016-12-01</th>\n",
       "      <th>2017-01-01</th>\n",
       "      <th>2017-02-01</th>\n",
       "      <th>2017-03-01</th>\n",
       "      <th>2017-04-01</th>\n",
       "      <th>2017-05-01</th>\n",
       "      <th>2017-06-01</th>\n",
       "      <th>2017-07-01</th>\n",
       "      <th>...</th>\n",
       "      <th>2017-11-01</th>\n",
       "      <th>2017-12-01</th>\n",
       "      <th>2018-01-01</th>\n",
       "      <th>2018-02-01</th>\n",
       "      <th>2018-03-01</th>\n",
       "      <th>2018-04-01</th>\n",
       "      <th>2018-05-01</th>\n",
       "      <th>2018-06-01</th>\n",
       "      <th>2018-07-01</th>\n",
       "      <th>2018-08-01</th>\n",
       "    </tr>\n",
       "  </thead>\n",
       "  <tbody>\n",
       "    <tr>\n",
       "      <th>0000366f3b9a7992bf8c76cfdf3221e2</th>\n",
       "      <td>0.0</td>\n",
       "      <td>0.0</td>\n",
       "      <td>0.0</td>\n",
       "      <td>0.0</td>\n",
       "      <td>0.0</td>\n",
       "      <td>0.00</td>\n",
       "      <td>0.0</td>\n",
       "      <td>0.0</td>\n",
       "      <td>0.0</td>\n",
       "      <td>0.0</td>\n",
       "      <td>...</td>\n",
       "      <td>0.00</td>\n",
       "      <td>0.0</td>\n",
       "      <td>0.0</td>\n",
       "      <td>0.0</td>\n",
       "      <td>0.0</td>\n",
       "      <td>0.0</td>\n",
       "      <td>0.23</td>\n",
       "      <td>0.0</td>\n",
       "      <td>0.0</td>\n",
       "      <td>0.0</td>\n",
       "    </tr>\n",
       "    <tr>\n",
       "      <th>0000b849f77a49e4a4ce2b2a4ca5be3f</th>\n",
       "      <td>0.0</td>\n",
       "      <td>0.0</td>\n",
       "      <td>0.0</td>\n",
       "      <td>0.0</td>\n",
       "      <td>0.0</td>\n",
       "      <td>0.00</td>\n",
       "      <td>0.0</td>\n",
       "      <td>0.0</td>\n",
       "      <td>0.0</td>\n",
       "      <td>0.0</td>\n",
       "      <td>...</td>\n",
       "      <td>0.00</td>\n",
       "      <td>0.0</td>\n",
       "      <td>0.0</td>\n",
       "      <td>0.0</td>\n",
       "      <td>0.0</td>\n",
       "      <td>0.0</td>\n",
       "      <td>0.23</td>\n",
       "      <td>0.0</td>\n",
       "      <td>0.0</td>\n",
       "      <td>0.0</td>\n",
       "    </tr>\n",
       "    <tr>\n",
       "      <th>0000f46a3911fa3c0805444483337064</th>\n",
       "      <td>0.0</td>\n",
       "      <td>0.0</td>\n",
       "      <td>0.0</td>\n",
       "      <td>0.0</td>\n",
       "      <td>0.0</td>\n",
       "      <td>0.23</td>\n",
       "      <td>0.0</td>\n",
       "      <td>0.0</td>\n",
       "      <td>0.0</td>\n",
       "      <td>0.0</td>\n",
       "      <td>...</td>\n",
       "      <td>0.00</td>\n",
       "      <td>0.0</td>\n",
       "      <td>0.0</td>\n",
       "      <td>0.0</td>\n",
       "      <td>0.0</td>\n",
       "      <td>0.0</td>\n",
       "      <td>0.00</td>\n",
       "      <td>0.0</td>\n",
       "      <td>0.0</td>\n",
       "      <td>0.0</td>\n",
       "    </tr>\n",
       "    <tr>\n",
       "      <th>0000f6ccb0745a6a4b88665a16c9f078</th>\n",
       "      <td>0.0</td>\n",
       "      <td>0.0</td>\n",
       "      <td>0.0</td>\n",
       "      <td>0.0</td>\n",
       "      <td>0.0</td>\n",
       "      <td>0.00</td>\n",
       "      <td>0.0</td>\n",
       "      <td>0.0</td>\n",
       "      <td>0.0</td>\n",
       "      <td>0.0</td>\n",
       "      <td>...</td>\n",
       "      <td>0.00</td>\n",
       "      <td>0.0</td>\n",
       "      <td>0.0</td>\n",
       "      <td>0.0</td>\n",
       "      <td>0.0</td>\n",
       "      <td>0.0</td>\n",
       "      <td>0.00</td>\n",
       "      <td>0.0</td>\n",
       "      <td>0.0</td>\n",
       "      <td>0.0</td>\n",
       "    </tr>\n",
       "    <tr>\n",
       "      <th>0004aac84e0df4da2b147fca70cf8255</th>\n",
       "      <td>0.0</td>\n",
       "      <td>0.0</td>\n",
       "      <td>0.0</td>\n",
       "      <td>0.0</td>\n",
       "      <td>0.0</td>\n",
       "      <td>0.00</td>\n",
       "      <td>0.0</td>\n",
       "      <td>0.0</td>\n",
       "      <td>0.0</td>\n",
       "      <td>0.0</td>\n",
       "      <td>...</td>\n",
       "      <td>0.23</td>\n",
       "      <td>0.0</td>\n",
       "      <td>0.0</td>\n",
       "      <td>0.0</td>\n",
       "      <td>0.0</td>\n",
       "      <td>0.0</td>\n",
       "      <td>0.00</td>\n",
       "      <td>0.0</td>\n",
       "      <td>0.0</td>\n",
       "      <td>0.0</td>\n",
       "    </tr>\n",
       "  </tbody>\n",
       "</table>\n",
       "<p>5 rows × 23 columns</p>\n",
       "</div>"
      ],
      "text/plain": [
       "                                  2016-09-01  2016-10-01  2016-12-01  \\\n",
       "0000366f3b9a7992bf8c76cfdf3221e2         0.0         0.0         0.0   \n",
       "0000b849f77a49e4a4ce2b2a4ca5be3f         0.0         0.0         0.0   \n",
       "0000f46a3911fa3c0805444483337064         0.0         0.0         0.0   \n",
       "0000f6ccb0745a6a4b88665a16c9f078         0.0         0.0         0.0   \n",
       "0004aac84e0df4da2b147fca70cf8255         0.0         0.0         0.0   \n",
       "\n",
       "                                  2017-01-01  2017-02-01  2017-03-01  \\\n",
       "0000366f3b9a7992bf8c76cfdf3221e2         0.0         0.0        0.00   \n",
       "0000b849f77a49e4a4ce2b2a4ca5be3f         0.0         0.0        0.00   \n",
       "0000f46a3911fa3c0805444483337064         0.0         0.0        0.23   \n",
       "0000f6ccb0745a6a4b88665a16c9f078         0.0         0.0        0.00   \n",
       "0004aac84e0df4da2b147fca70cf8255         0.0         0.0        0.00   \n",
       "\n",
       "                                  2017-04-01  2017-05-01  2017-06-01  \\\n",
       "0000366f3b9a7992bf8c76cfdf3221e2         0.0         0.0         0.0   \n",
       "0000b849f77a49e4a4ce2b2a4ca5be3f         0.0         0.0         0.0   \n",
       "0000f46a3911fa3c0805444483337064         0.0         0.0         0.0   \n",
       "0000f6ccb0745a6a4b88665a16c9f078         0.0         0.0         0.0   \n",
       "0004aac84e0df4da2b147fca70cf8255         0.0         0.0         0.0   \n",
       "\n",
       "                                  2017-07-01  ...  2017-11-01  2017-12-01  \\\n",
       "0000366f3b9a7992bf8c76cfdf3221e2         0.0  ...        0.00         0.0   \n",
       "0000b849f77a49e4a4ce2b2a4ca5be3f         0.0  ...        0.00         0.0   \n",
       "0000f46a3911fa3c0805444483337064         0.0  ...        0.00         0.0   \n",
       "0000f6ccb0745a6a4b88665a16c9f078         0.0  ...        0.00         0.0   \n",
       "0004aac84e0df4da2b147fca70cf8255         0.0  ...        0.23         0.0   \n",
       "\n",
       "                                  2018-01-01  2018-02-01  2018-03-01  \\\n",
       "0000366f3b9a7992bf8c76cfdf3221e2         0.0         0.0         0.0   \n",
       "0000b849f77a49e4a4ce2b2a4ca5be3f         0.0         0.0         0.0   \n",
       "0000f46a3911fa3c0805444483337064         0.0         0.0         0.0   \n",
       "0000f6ccb0745a6a4b88665a16c9f078         0.0         0.0         0.0   \n",
       "0004aac84e0df4da2b147fca70cf8255         0.0         0.0         0.0   \n",
       "\n",
       "                                  2018-04-01  2018-05-01  2018-06-01  \\\n",
       "0000366f3b9a7992bf8c76cfdf3221e2         0.0        0.23         0.0   \n",
       "0000b849f77a49e4a4ce2b2a4ca5be3f         0.0        0.23         0.0   \n",
       "0000f46a3911fa3c0805444483337064         0.0        0.00         0.0   \n",
       "0000f6ccb0745a6a4b88665a16c9f078         0.0        0.00         0.0   \n",
       "0004aac84e0df4da2b147fca70cf8255         0.0        0.00         0.0   \n",
       "\n",
       "                                  2018-07-01  2018-08-01  \n",
       "0000366f3b9a7992bf8c76cfdf3221e2         0.0         0.0  \n",
       "0000b849f77a49e4a4ce2b2a4ca5be3f         0.0         0.0  \n",
       "0000f46a3911fa3c0805444483337064         0.0         0.0  \n",
       "0000f6ccb0745a6a4b88665a16c9f078         0.0         0.0  \n",
       "0004aac84e0df4da2b147fca70cf8255         0.0         0.0  \n",
       "\n",
       "[5 rows x 23 columns]"
      ]
     },
     "execution_count": 135,
     "metadata": {},
     "output_type": "execute_result"
    }
   ],
   "source": [
    "count_pivot.head()"
   ]
  },
  {
   "cell_type": "markdown",
   "id": "f0804bc6",
   "metadata": {},
   "source": [
    "Видим, что теперь в датафрейме **count_pivot** есть информация о каждом уникальном клиенте без исключения (как и просилось в задании):"
   ]
  },
  {
   "cell_type": "code",
   "execution_count": 136,
   "id": "bc17160f",
   "metadata": {},
   "outputs": [
    {
     "data": {
      "text/plain": [
       "96096"
      ]
     },
     "execution_count": 136,
     "metadata": {},
     "output_type": "execute_result"
    }
   ],
   "source": [
    "len(count_pivot)"
   ]
  },
  {
   "cell_type": "code",
   "execution_count": 137,
   "id": "dfff039c",
   "metadata": {},
   "outputs": [
    {
     "data": {
      "text/plain": [
       "96096"
      ]
     },
     "execution_count": 137,
     "metadata": {},
     "output_type": "execute_result"
    }
   ],
   "source": [
    "len(all_customers)"
   ]
  },
  {
   "cell_type": "markdown",
   "id": "cbad06de",
   "metadata": {},
   "source": [
    "### *9. Приводим полученные датафреймы в читаемый вид для продакт-менеджера Василия:*"
   ]
  },
  {
   "cell_type": "markdown",
   "id": "3ae60500",
   "metadata": {},
   "source": [
    "В качестве ответа предлагаю два датафрейма, отражающие одинаковые данные, но различающихся фокусировкой:\n",
    "\n",
    "- Первый датафрейм отражает лишь искомую метрику клиентов, которые совершали покупки. \n",
    "\n",
    "- Второй датафрейм фиксирует значения метрики по всем клиентам без исключения (клиенты без покупки имеют значение метрки = 0).\n",
    "\n",
    "В тексте задания просят узнать ...Сколько у **\"каждого\"** из пользователей... . Мне не совсем понятно, что имеется в виду под \"каждым\" - абсолютно каждый (даже который не совершил покупок) или всё же только те, кто совершал покупки (рассматривать нулевые значения метрики бессмысленно).\n",
    "\n",
    "Поэтому я и составил два датафрейма. Пусть продакт-менеджер Василий далее сам выберет какой подходит ему больше для его задач."
   ]
  },
  {
   "cell_type": "markdown",
   "id": "03a0e9d4",
   "metadata": {},
   "source": [
    "# "
   ]
  },
  {
   "cell_type": "markdown",
   "id": "72c517fe",
   "metadata": {},
   "source": [
    "***1. Количество покупок за неделю месяца в среднем -  только для пользователей, совершивших покупки в магазине.***"
   ]
  },
  {
   "cell_type": "code",
   "execution_count": 138,
   "id": "6d45b90e",
   "metadata": {},
   "outputs": [
    {
     "data": {
      "text/html": [
       "<div>\n",
       "<style scoped>\n",
       "    .dataframe tbody tr th:only-of-type {\n",
       "        vertical-align: middle;\n",
       "    }\n",
       "\n",
       "    .dataframe tbody tr th {\n",
       "        vertical-align: top;\n",
       "    }\n",
       "\n",
       "    .dataframe thead th {\n",
       "        text-align: right;\n",
       "    }\n",
       "</style>\n",
       "<table border=\"1\" class=\"dataframe\">\n",
       "  <thead>\n",
       "    <tr style=\"text-align: right;\">\n",
       "      <th></th>\n",
       "      <th>Уникальный идентификатор пользователя</th>\n",
       "      <th>Месяц (первый день)</th>\n",
       "      <th>Количество покупок за неделю месяца в среднем</th>\n",
       "    </tr>\n",
       "  </thead>\n",
       "  <tbody>\n",
       "    <tr>\n",
       "      <th>92170</th>\n",
       "      <td>f7b981e8a280e455ac3cbe0d5d171bd1</td>\n",
       "      <td>2016-12-01</td>\n",
       "      <td>0.23</td>\n",
       "    </tr>\n",
       "    <tr>\n",
       "      <th>92165</th>\n",
       "      <td>f7b62c75467e8ce080b201667cbbc274</td>\n",
       "      <td>2016-10-01</td>\n",
       "      <td>0.45</td>\n",
       "    </tr>\n",
       "    <tr>\n",
       "      <th>45430</th>\n",
       "      <td>7a176e5d88c7acb6000a055e008c055d</td>\n",
       "      <td>2016-10-01</td>\n",
       "      <td>0.45</td>\n",
       "    </tr>\n",
       "    <tr>\n",
       "      <th>5526</th>\n",
       "      <td>0ecf7f65b5ff3b9e61b637e59f495e0a</td>\n",
       "      <td>2016-10-01</td>\n",
       "      <td>0.45</td>\n",
       "    </tr>\n",
       "    <tr>\n",
       "      <th>95077</th>\n",
       "      <td>ffb973f2bb1c0cb807a99341a9b20dcd</td>\n",
       "      <td>2016-10-01</td>\n",
       "      <td>0.23</td>\n",
       "    </tr>\n",
       "    <tr>\n",
       "      <th>94997</th>\n",
       "      <td>ff8557b296729eaa30f078d974c86812</td>\n",
       "      <td>2016-10-01</td>\n",
       "      <td>0.23</td>\n",
       "    </tr>\n",
       "    <tr>\n",
       "      <th>94994</th>\n",
       "      <td>ff822e5e1322cef6c211ad8a0591999e</td>\n",
       "      <td>2016-10-01</td>\n",
       "      <td>0.23</td>\n",
       "    </tr>\n",
       "    <tr>\n",
       "      <th>94955</th>\n",
       "      <td>ff68ad2883e793597f1c343dd6505f5d</td>\n",
       "      <td>2016-10-01</td>\n",
       "      <td>0.23</td>\n",
       "    </tr>\n",
       "    <tr>\n",
       "      <th>94305</th>\n",
       "      <td>fdaa290acb9eeacb66fa7f979baa6803</td>\n",
       "      <td>2016-10-01</td>\n",
       "      <td>0.23</td>\n",
       "    </tr>\n",
       "    <tr>\n",
       "      <th>93459</th>\n",
       "      <td>fb48b86d9a78b53675c121e4ec8981ed</td>\n",
       "      <td>2016-10-01</td>\n",
       "      <td>0.23</td>\n",
       "    </tr>\n",
       "  </tbody>\n",
       "</table>\n",
       "</div>"
      ],
      "text/plain": [
       "      Уникальный идентификатор пользователя Месяц (первый день)  \\\n",
       "92170      f7b981e8a280e455ac3cbe0d5d171bd1          2016-12-01   \n",
       "92165      f7b62c75467e8ce080b201667cbbc274          2016-10-01   \n",
       "45430      7a176e5d88c7acb6000a055e008c055d          2016-10-01   \n",
       "5526       0ecf7f65b5ff3b9e61b637e59f495e0a          2016-10-01   \n",
       "95077      ffb973f2bb1c0cb807a99341a9b20dcd          2016-10-01   \n",
       "94997      ff8557b296729eaa30f078d974c86812          2016-10-01   \n",
       "94994      ff822e5e1322cef6c211ad8a0591999e          2016-10-01   \n",
       "94955      ff68ad2883e793597f1c343dd6505f5d          2016-10-01   \n",
       "94305      fdaa290acb9eeacb66fa7f979baa6803          2016-10-01   \n",
       "93459      fb48b86d9a78b53675c121e4ec8981ed          2016-10-01   \n",
       "\n",
       "       Количество покупок за неделю месяца в среднем  \n",
       "92170                                           0.23  \n",
       "92165                                           0.45  \n",
       "45430                                           0.45  \n",
       "5526                                            0.45  \n",
       "95077                                           0.23  \n",
       "94997                                           0.23  \n",
       "94994                                           0.23  \n",
       "94955                                           0.23  \n",
       "94305                                           0.23  \n",
       "93459                                           0.23  "
      ]
     },
     "execution_count": 138,
     "metadata": {},
     "output_type": "execute_result"
    }
   ],
   "source": [
    "count_per_month.rename(columns={'customer_unique_id':'Уникальный идентификатор пользователя',\n",
    "                                'month':'Месяц (первый день)',\n",
    "                                'buys_per_week':'Количество покупок за неделю месяца в среднем'}, inplace=True)\n",
    "\n",
    "count_per_month.head(10)"
   ]
  },
  {
   "cell_type": "code",
   "execution_count": 139,
   "id": "967d35f7",
   "metadata": {},
   "outputs": [
    {
     "data": {
      "text/plain": [
       "95175"
      ]
     },
     "execution_count": 139,
     "metadata": {},
     "output_type": "execute_result"
    }
   ],
   "source": [
    "len(count_per_month)"
   ]
  },
  {
   "cell_type": "markdown",
   "id": "a38a8ba1",
   "metadata": {},
   "source": [
    "***2. Количество покупок за неделю месяца в среднем - для абсолютно всех пользователей из базы данных магазина.***"
   ]
  },
  {
   "cell_type": "code",
   "execution_count": 140,
   "id": "87aaa248",
   "metadata": {},
   "outputs": [
    {
     "data": {
      "text/html": [
       "<div>\n",
       "<style scoped>\n",
       "    .dataframe tbody tr th:only-of-type {\n",
       "        vertical-align: middle;\n",
       "    }\n",
       "\n",
       "    .dataframe tbody tr th {\n",
       "        vertical-align: top;\n",
       "    }\n",
       "\n",
       "    .dataframe thead th {\n",
       "        text-align: right;\n",
       "    }\n",
       "</style>\n",
       "<table border=\"1\" class=\"dataframe\">\n",
       "  <thead>\n",
       "    <tr style=\"text-align: right;\">\n",
       "      <th>Месяц (первый день)</th>\n",
       "      <th>2016-09-01</th>\n",
       "      <th>2016-10-01</th>\n",
       "      <th>2016-12-01</th>\n",
       "      <th>2017-01-01</th>\n",
       "      <th>2017-02-01</th>\n",
       "      <th>2017-03-01</th>\n",
       "      <th>2017-04-01</th>\n",
       "      <th>2017-05-01</th>\n",
       "      <th>2017-06-01</th>\n",
       "      <th>2017-07-01</th>\n",
       "      <th>...</th>\n",
       "      <th>2017-11-01</th>\n",
       "      <th>2017-12-01</th>\n",
       "      <th>2018-01-01</th>\n",
       "      <th>2018-02-01</th>\n",
       "      <th>2018-03-01</th>\n",
       "      <th>2018-04-01</th>\n",
       "      <th>2018-05-01</th>\n",
       "      <th>2018-06-01</th>\n",
       "      <th>2018-07-01</th>\n",
       "      <th>2018-08-01</th>\n",
       "    </tr>\n",
       "    <tr>\n",
       "      <th>Уникальный идентификатор пользователя</th>\n",
       "      <th></th>\n",
       "      <th></th>\n",
       "      <th></th>\n",
       "      <th></th>\n",
       "      <th></th>\n",
       "      <th></th>\n",
       "      <th></th>\n",
       "      <th></th>\n",
       "      <th></th>\n",
       "      <th></th>\n",
       "      <th></th>\n",
       "      <th></th>\n",
       "      <th></th>\n",
       "      <th></th>\n",
       "      <th></th>\n",
       "      <th></th>\n",
       "      <th></th>\n",
       "      <th></th>\n",
       "      <th></th>\n",
       "      <th></th>\n",
       "      <th></th>\n",
       "    </tr>\n",
       "  </thead>\n",
       "  <tbody>\n",
       "    <tr>\n",
       "      <th>0000366f3b9a7992bf8c76cfdf3221e2</th>\n",
       "      <td>0.0</td>\n",
       "      <td>0.0</td>\n",
       "      <td>0.0</td>\n",
       "      <td>0.0</td>\n",
       "      <td>0.0</td>\n",
       "      <td>0.00</td>\n",
       "      <td>0.0</td>\n",
       "      <td>0.0</td>\n",
       "      <td>0.0</td>\n",
       "      <td>0.0</td>\n",
       "      <td>...</td>\n",
       "      <td>0.00</td>\n",
       "      <td>0.0</td>\n",
       "      <td>0.0</td>\n",
       "      <td>0.00</td>\n",
       "      <td>0.00</td>\n",
       "      <td>0.00</td>\n",
       "      <td>0.23</td>\n",
       "      <td>0.0</td>\n",
       "      <td>0.0</td>\n",
       "      <td>0.0</td>\n",
       "    </tr>\n",
       "    <tr>\n",
       "      <th>0000b849f77a49e4a4ce2b2a4ca5be3f</th>\n",
       "      <td>0.0</td>\n",
       "      <td>0.0</td>\n",
       "      <td>0.0</td>\n",
       "      <td>0.0</td>\n",
       "      <td>0.0</td>\n",
       "      <td>0.00</td>\n",
       "      <td>0.0</td>\n",
       "      <td>0.0</td>\n",
       "      <td>0.0</td>\n",
       "      <td>0.0</td>\n",
       "      <td>...</td>\n",
       "      <td>0.00</td>\n",
       "      <td>0.0</td>\n",
       "      <td>0.0</td>\n",
       "      <td>0.00</td>\n",
       "      <td>0.00</td>\n",
       "      <td>0.00</td>\n",
       "      <td>0.23</td>\n",
       "      <td>0.0</td>\n",
       "      <td>0.0</td>\n",
       "      <td>0.0</td>\n",
       "    </tr>\n",
       "    <tr>\n",
       "      <th>0000f46a3911fa3c0805444483337064</th>\n",
       "      <td>0.0</td>\n",
       "      <td>0.0</td>\n",
       "      <td>0.0</td>\n",
       "      <td>0.0</td>\n",
       "      <td>0.0</td>\n",
       "      <td>0.23</td>\n",
       "      <td>0.0</td>\n",
       "      <td>0.0</td>\n",
       "      <td>0.0</td>\n",
       "      <td>0.0</td>\n",
       "      <td>...</td>\n",
       "      <td>0.00</td>\n",
       "      <td>0.0</td>\n",
       "      <td>0.0</td>\n",
       "      <td>0.00</td>\n",
       "      <td>0.00</td>\n",
       "      <td>0.00</td>\n",
       "      <td>0.00</td>\n",
       "      <td>0.0</td>\n",
       "      <td>0.0</td>\n",
       "      <td>0.0</td>\n",
       "    </tr>\n",
       "    <tr>\n",
       "      <th>0000f6ccb0745a6a4b88665a16c9f078</th>\n",
       "      <td>0.0</td>\n",
       "      <td>0.0</td>\n",
       "      <td>0.0</td>\n",
       "      <td>0.0</td>\n",
       "      <td>0.0</td>\n",
       "      <td>0.00</td>\n",
       "      <td>0.0</td>\n",
       "      <td>0.0</td>\n",
       "      <td>0.0</td>\n",
       "      <td>0.0</td>\n",
       "      <td>...</td>\n",
       "      <td>0.00</td>\n",
       "      <td>0.0</td>\n",
       "      <td>0.0</td>\n",
       "      <td>0.00</td>\n",
       "      <td>0.00</td>\n",
       "      <td>0.00</td>\n",
       "      <td>0.00</td>\n",
       "      <td>0.0</td>\n",
       "      <td>0.0</td>\n",
       "      <td>0.0</td>\n",
       "    </tr>\n",
       "    <tr>\n",
       "      <th>0004aac84e0df4da2b147fca70cf8255</th>\n",
       "      <td>0.0</td>\n",
       "      <td>0.0</td>\n",
       "      <td>0.0</td>\n",
       "      <td>0.0</td>\n",
       "      <td>0.0</td>\n",
       "      <td>0.00</td>\n",
       "      <td>0.0</td>\n",
       "      <td>0.0</td>\n",
       "      <td>0.0</td>\n",
       "      <td>0.0</td>\n",
       "      <td>...</td>\n",
       "      <td>0.23</td>\n",
       "      <td>0.0</td>\n",
       "      <td>0.0</td>\n",
       "      <td>0.00</td>\n",
       "      <td>0.00</td>\n",
       "      <td>0.00</td>\n",
       "      <td>0.00</td>\n",
       "      <td>0.0</td>\n",
       "      <td>0.0</td>\n",
       "      <td>0.0</td>\n",
       "    </tr>\n",
       "    <tr>\n",
       "      <th>0004bd2a26a76fe21f786e4fbd80607f</th>\n",
       "      <td>0.0</td>\n",
       "      <td>0.0</td>\n",
       "      <td>0.0</td>\n",
       "      <td>0.0</td>\n",
       "      <td>0.0</td>\n",
       "      <td>0.00</td>\n",
       "      <td>0.0</td>\n",
       "      <td>0.0</td>\n",
       "      <td>0.0</td>\n",
       "      <td>0.0</td>\n",
       "      <td>...</td>\n",
       "      <td>0.00</td>\n",
       "      <td>0.0</td>\n",
       "      <td>0.0</td>\n",
       "      <td>0.00</td>\n",
       "      <td>0.00</td>\n",
       "      <td>0.23</td>\n",
       "      <td>0.00</td>\n",
       "      <td>0.0</td>\n",
       "      <td>0.0</td>\n",
       "      <td>0.0</td>\n",
       "    </tr>\n",
       "    <tr>\n",
       "      <th>00050ab1314c0e55a6ca13cf7181fecf</th>\n",
       "      <td>0.0</td>\n",
       "      <td>0.0</td>\n",
       "      <td>0.0</td>\n",
       "      <td>0.0</td>\n",
       "      <td>0.0</td>\n",
       "      <td>0.00</td>\n",
       "      <td>0.0</td>\n",
       "      <td>0.0</td>\n",
       "      <td>0.0</td>\n",
       "      <td>0.0</td>\n",
       "      <td>...</td>\n",
       "      <td>0.00</td>\n",
       "      <td>0.0</td>\n",
       "      <td>0.0</td>\n",
       "      <td>0.00</td>\n",
       "      <td>0.00</td>\n",
       "      <td>0.23</td>\n",
       "      <td>0.00</td>\n",
       "      <td>0.0</td>\n",
       "      <td>0.0</td>\n",
       "      <td>0.0</td>\n",
       "    </tr>\n",
       "    <tr>\n",
       "      <th>00053a61a98854899e70ed204dd4bafe</th>\n",
       "      <td>0.0</td>\n",
       "      <td>0.0</td>\n",
       "      <td>0.0</td>\n",
       "      <td>0.0</td>\n",
       "      <td>0.0</td>\n",
       "      <td>0.00</td>\n",
       "      <td>0.0</td>\n",
       "      <td>0.0</td>\n",
       "      <td>0.0</td>\n",
       "      <td>0.0</td>\n",
       "      <td>...</td>\n",
       "      <td>0.00</td>\n",
       "      <td>0.0</td>\n",
       "      <td>0.0</td>\n",
       "      <td>0.25</td>\n",
       "      <td>0.00</td>\n",
       "      <td>0.00</td>\n",
       "      <td>0.00</td>\n",
       "      <td>0.0</td>\n",
       "      <td>0.0</td>\n",
       "      <td>0.0</td>\n",
       "    </tr>\n",
       "    <tr>\n",
       "      <th>0005e1862207bf6ccc02e4228effd9a0</th>\n",
       "      <td>0.0</td>\n",
       "      <td>0.0</td>\n",
       "      <td>0.0</td>\n",
       "      <td>0.0</td>\n",
       "      <td>0.0</td>\n",
       "      <td>0.23</td>\n",
       "      <td>0.0</td>\n",
       "      <td>0.0</td>\n",
       "      <td>0.0</td>\n",
       "      <td>0.0</td>\n",
       "      <td>...</td>\n",
       "      <td>0.00</td>\n",
       "      <td>0.0</td>\n",
       "      <td>0.0</td>\n",
       "      <td>0.00</td>\n",
       "      <td>0.00</td>\n",
       "      <td>0.00</td>\n",
       "      <td>0.00</td>\n",
       "      <td>0.0</td>\n",
       "      <td>0.0</td>\n",
       "      <td>0.0</td>\n",
       "    </tr>\n",
       "    <tr>\n",
       "      <th>0005ef4cd20d2893f0d9fbd94d3c0d97</th>\n",
       "      <td>0.0</td>\n",
       "      <td>0.0</td>\n",
       "      <td>0.0</td>\n",
       "      <td>0.0</td>\n",
       "      <td>0.0</td>\n",
       "      <td>0.00</td>\n",
       "      <td>0.0</td>\n",
       "      <td>0.0</td>\n",
       "      <td>0.0</td>\n",
       "      <td>0.0</td>\n",
       "      <td>...</td>\n",
       "      <td>0.00</td>\n",
       "      <td>0.0</td>\n",
       "      <td>0.0</td>\n",
       "      <td>0.00</td>\n",
       "      <td>0.23</td>\n",
       "      <td>0.00</td>\n",
       "      <td>0.00</td>\n",
       "      <td>0.0</td>\n",
       "      <td>0.0</td>\n",
       "      <td>0.0</td>\n",
       "    </tr>\n",
       "  </tbody>\n",
       "</table>\n",
       "<p>10 rows × 23 columns</p>\n",
       "</div>"
      ],
      "text/plain": [
       "Месяц (первый день)                    2016-09-01  2016-10-01  2016-12-01  \\\n",
       "Уникальный идентификатор пользователя                                       \n",
       "0000366f3b9a7992bf8c76cfdf3221e2              0.0         0.0         0.0   \n",
       "0000b849f77a49e4a4ce2b2a4ca5be3f              0.0         0.0         0.0   \n",
       "0000f46a3911fa3c0805444483337064              0.0         0.0         0.0   \n",
       "0000f6ccb0745a6a4b88665a16c9f078              0.0         0.0         0.0   \n",
       "0004aac84e0df4da2b147fca70cf8255              0.0         0.0         0.0   \n",
       "0004bd2a26a76fe21f786e4fbd80607f              0.0         0.0         0.0   \n",
       "00050ab1314c0e55a6ca13cf7181fecf              0.0         0.0         0.0   \n",
       "00053a61a98854899e70ed204dd4bafe              0.0         0.0         0.0   \n",
       "0005e1862207bf6ccc02e4228effd9a0              0.0         0.0         0.0   \n",
       "0005ef4cd20d2893f0d9fbd94d3c0d97              0.0         0.0         0.0   \n",
       "\n",
       "Месяц (первый день)                    2017-01-01  2017-02-01  2017-03-01  \\\n",
       "Уникальный идентификатор пользователя                                       \n",
       "0000366f3b9a7992bf8c76cfdf3221e2              0.0         0.0        0.00   \n",
       "0000b849f77a49e4a4ce2b2a4ca5be3f              0.0         0.0        0.00   \n",
       "0000f46a3911fa3c0805444483337064              0.0         0.0        0.23   \n",
       "0000f6ccb0745a6a4b88665a16c9f078              0.0         0.0        0.00   \n",
       "0004aac84e0df4da2b147fca70cf8255              0.0         0.0        0.00   \n",
       "0004bd2a26a76fe21f786e4fbd80607f              0.0         0.0        0.00   \n",
       "00050ab1314c0e55a6ca13cf7181fecf              0.0         0.0        0.00   \n",
       "00053a61a98854899e70ed204dd4bafe              0.0         0.0        0.00   \n",
       "0005e1862207bf6ccc02e4228effd9a0              0.0         0.0        0.23   \n",
       "0005ef4cd20d2893f0d9fbd94d3c0d97              0.0         0.0        0.00   \n",
       "\n",
       "Месяц (первый день)                    2017-04-01  2017-05-01  2017-06-01  \\\n",
       "Уникальный идентификатор пользователя                                       \n",
       "0000366f3b9a7992bf8c76cfdf3221e2              0.0         0.0         0.0   \n",
       "0000b849f77a49e4a4ce2b2a4ca5be3f              0.0         0.0         0.0   \n",
       "0000f46a3911fa3c0805444483337064              0.0         0.0         0.0   \n",
       "0000f6ccb0745a6a4b88665a16c9f078              0.0         0.0         0.0   \n",
       "0004aac84e0df4da2b147fca70cf8255              0.0         0.0         0.0   \n",
       "0004bd2a26a76fe21f786e4fbd80607f              0.0         0.0         0.0   \n",
       "00050ab1314c0e55a6ca13cf7181fecf              0.0         0.0         0.0   \n",
       "00053a61a98854899e70ed204dd4bafe              0.0         0.0         0.0   \n",
       "0005e1862207bf6ccc02e4228effd9a0              0.0         0.0         0.0   \n",
       "0005ef4cd20d2893f0d9fbd94d3c0d97              0.0         0.0         0.0   \n",
       "\n",
       "Месяц (первый день)                    2017-07-01  ...  2017-11-01  \\\n",
       "Уникальный идентификатор пользователя              ...               \n",
       "0000366f3b9a7992bf8c76cfdf3221e2              0.0  ...        0.00   \n",
       "0000b849f77a49e4a4ce2b2a4ca5be3f              0.0  ...        0.00   \n",
       "0000f46a3911fa3c0805444483337064              0.0  ...        0.00   \n",
       "0000f6ccb0745a6a4b88665a16c9f078              0.0  ...        0.00   \n",
       "0004aac84e0df4da2b147fca70cf8255              0.0  ...        0.23   \n",
       "0004bd2a26a76fe21f786e4fbd80607f              0.0  ...        0.00   \n",
       "00050ab1314c0e55a6ca13cf7181fecf              0.0  ...        0.00   \n",
       "00053a61a98854899e70ed204dd4bafe              0.0  ...        0.00   \n",
       "0005e1862207bf6ccc02e4228effd9a0              0.0  ...        0.00   \n",
       "0005ef4cd20d2893f0d9fbd94d3c0d97              0.0  ...        0.00   \n",
       "\n",
       "Месяц (первый день)                    2017-12-01  2018-01-01  2018-02-01  \\\n",
       "Уникальный идентификатор пользователя                                       \n",
       "0000366f3b9a7992bf8c76cfdf3221e2              0.0         0.0        0.00   \n",
       "0000b849f77a49e4a4ce2b2a4ca5be3f              0.0         0.0        0.00   \n",
       "0000f46a3911fa3c0805444483337064              0.0         0.0        0.00   \n",
       "0000f6ccb0745a6a4b88665a16c9f078              0.0         0.0        0.00   \n",
       "0004aac84e0df4da2b147fca70cf8255              0.0         0.0        0.00   \n",
       "0004bd2a26a76fe21f786e4fbd80607f              0.0         0.0        0.00   \n",
       "00050ab1314c0e55a6ca13cf7181fecf              0.0         0.0        0.00   \n",
       "00053a61a98854899e70ed204dd4bafe              0.0         0.0        0.25   \n",
       "0005e1862207bf6ccc02e4228effd9a0              0.0         0.0        0.00   \n",
       "0005ef4cd20d2893f0d9fbd94d3c0d97              0.0         0.0        0.00   \n",
       "\n",
       "Месяц (первый день)                    2018-03-01  2018-04-01  2018-05-01  \\\n",
       "Уникальный идентификатор пользователя                                       \n",
       "0000366f3b9a7992bf8c76cfdf3221e2             0.00        0.00        0.23   \n",
       "0000b849f77a49e4a4ce2b2a4ca5be3f             0.00        0.00        0.23   \n",
       "0000f46a3911fa3c0805444483337064             0.00        0.00        0.00   \n",
       "0000f6ccb0745a6a4b88665a16c9f078             0.00        0.00        0.00   \n",
       "0004aac84e0df4da2b147fca70cf8255             0.00        0.00        0.00   \n",
       "0004bd2a26a76fe21f786e4fbd80607f             0.00        0.23        0.00   \n",
       "00050ab1314c0e55a6ca13cf7181fecf             0.00        0.23        0.00   \n",
       "00053a61a98854899e70ed204dd4bafe             0.00        0.00        0.00   \n",
       "0005e1862207bf6ccc02e4228effd9a0             0.00        0.00        0.00   \n",
       "0005ef4cd20d2893f0d9fbd94d3c0d97             0.23        0.00        0.00   \n",
       "\n",
       "Месяц (первый день)                    2018-06-01  2018-07-01  2018-08-01  \n",
       "Уникальный идентификатор пользователя                                      \n",
       "0000366f3b9a7992bf8c76cfdf3221e2              0.0         0.0         0.0  \n",
       "0000b849f77a49e4a4ce2b2a4ca5be3f              0.0         0.0         0.0  \n",
       "0000f46a3911fa3c0805444483337064              0.0         0.0         0.0  \n",
       "0000f6ccb0745a6a4b88665a16c9f078              0.0         0.0         0.0  \n",
       "0004aac84e0df4da2b147fca70cf8255              0.0         0.0         0.0  \n",
       "0004bd2a26a76fe21f786e4fbd80607f              0.0         0.0         0.0  \n",
       "00050ab1314c0e55a6ca13cf7181fecf              0.0         0.0         0.0  \n",
       "00053a61a98854899e70ed204dd4bafe              0.0         0.0         0.0  \n",
       "0005e1862207bf6ccc02e4228effd9a0              0.0         0.0         0.0  \n",
       "0005ef4cd20d2893f0d9fbd94d3c0d97              0.0         0.0         0.0  \n",
       "\n",
       "[10 rows x 23 columns]"
      ]
     },
     "execution_count": 140,
     "metadata": {},
     "output_type": "execute_result"
    }
   ],
   "source": [
    "count_pivot.columns.name = 'Месяц (первый день)'\n",
    "count_pivot.index.name = 'Уникальный идентификатор пользователя'\n",
    "\n",
    "count_pivot.head(10)"
   ]
  },
  {
   "cell_type": "code",
   "execution_count": 141,
   "id": "1c6225bb",
   "metadata": {},
   "outputs": [
    {
     "data": {
      "text/plain": [
       "96096"
      ]
     },
     "execution_count": 141,
     "metadata": {},
     "output_type": "execute_result"
    }
   ],
   "source": [
    "len(count_pivot)"
   ]
  },
  {
   "cell_type": "markdown",
   "id": "e98cef17",
   "metadata": {},
   "source": [
    "### *10. Построим график исследованной метрики по месяцам для некоторых пользователей:*"
   ]
  },
  {
   "cell_type": "markdown",
   "id": "aeae50da",
   "metadata": {},
   "source": [
    "Чтобы узнать у каких пользователей больше всего \"ненулевых\" месяцев - считаем для каждого из них сумму значений нашей метрики за все месяцы. А затем узнаем у каких пользователей эта сумма наибольшая:"
   ]
  },
  {
   "cell_type": "code",
   "execution_count": 144,
   "id": "5149b04e",
   "metadata": {},
   "outputs": [
    {
     "data": {
      "text/html": [
       "<div>\n",
       "<style scoped>\n",
       "    .dataframe tbody tr th:only-of-type {\n",
       "        vertical-align: middle;\n",
       "    }\n",
       "\n",
       "    .dataframe tbody tr th {\n",
       "        vertical-align: top;\n",
       "    }\n",
       "\n",
       "    .dataframe thead th {\n",
       "        text-align: right;\n",
       "    }\n",
       "</style>\n",
       "<table border=\"1\" class=\"dataframe\">\n",
       "  <thead>\n",
       "    <tr style=\"text-align: right;\">\n",
       "      <th></th>\n",
       "      <th>sum</th>\n",
       "    </tr>\n",
       "  </thead>\n",
       "  <tbody>\n",
       "    <tr>\n",
       "      <th>8d50f5eadf50201ccdcedfb9e2ac8455</th>\n",
       "      <td>3.40</td>\n",
       "    </tr>\n",
       "    <tr>\n",
       "      <th>3e43e6105506432c953e165fb2acf44c</th>\n",
       "      <td>2.14</td>\n",
       "    </tr>\n",
       "    <tr>\n",
       "      <th>ca77025e7201e3b30c44b472ff346268</th>\n",
       "      <td>1.65</td>\n",
       "    </tr>\n",
       "    <tr>\n",
       "      <th>1b6c7548a2a1f9037c1fd3ddfed95f33</th>\n",
       "      <td>1.63</td>\n",
       "    </tr>\n",
       "    <tr>\n",
       "      <th>6469f99c1f9dfae7733b25662e7f1782</th>\n",
       "      <td>1.60</td>\n",
       "    </tr>\n",
       "  </tbody>\n",
       "</table>\n",
       "</div>"
      ],
      "text/plain": [
       "                                   sum\n",
       "8d50f5eadf50201ccdcedfb9e2ac8455  3.40\n",
       "3e43e6105506432c953e165fb2acf44c  2.14\n",
       "ca77025e7201e3b30c44b472ff346268  1.65\n",
       "1b6c7548a2a1f9037c1fd3ddfed95f33  1.63\n",
       "6469f99c1f9dfae7733b25662e7f1782  1.60"
      ]
     },
     "execution_count": 144,
     "metadata": {},
     "output_type": "execute_result"
    }
   ],
   "source": [
    "metric_sum = {uniq_id:count_pivot.xs(uniq_id).sum() for uniq_id in count_pivot.index}\n",
    "\n",
    "sum_per_uniqid = pd.Series(metric_sum).sort_values(ascending=False).to_frame().rename(columns={0:'sum'})\n",
    "\n",
    "sum_per_uniqid.head()"
   ]
  },
  {
   "cell_type": "markdown",
   "id": "581cef89",
   "metadata": {},
   "source": [
    "Отберем из датафрейма **count_pivot** найденных \"наиболее интересных\" пользователей:"
   ]
  },
  {
   "cell_type": "code",
   "execution_count": 145,
   "id": "a7d5d34e",
   "metadata": {},
   "outputs": [
    {
     "data": {
      "text/html": [
       "<div>\n",
       "<style scoped>\n",
       "    .dataframe tbody tr th:only-of-type {\n",
       "        vertical-align: middle;\n",
       "    }\n",
       "\n",
       "    .dataframe tbody tr th {\n",
       "        vertical-align: top;\n",
       "    }\n",
       "\n",
       "    .dataframe thead th {\n",
       "        text-align: right;\n",
       "    }\n",
       "</style>\n",
       "<table border=\"1\" class=\"dataframe\">\n",
       "  <thead>\n",
       "    <tr style=\"text-align: right;\">\n",
       "      <th>Месяц (первый день)</th>\n",
       "      <th>2016-09-01</th>\n",
       "      <th>2016-10-01</th>\n",
       "      <th>2016-12-01</th>\n",
       "      <th>2017-01-01</th>\n",
       "      <th>2017-02-01</th>\n",
       "      <th>2017-03-01</th>\n",
       "      <th>2017-04-01</th>\n",
       "      <th>2017-05-01</th>\n",
       "      <th>2017-06-01</th>\n",
       "      <th>2017-07-01</th>\n",
       "      <th>...</th>\n",
       "      <th>2017-11-01</th>\n",
       "      <th>2017-12-01</th>\n",
       "      <th>2018-01-01</th>\n",
       "      <th>2018-02-01</th>\n",
       "      <th>2018-03-01</th>\n",
       "      <th>2018-04-01</th>\n",
       "      <th>2018-05-01</th>\n",
       "      <th>2018-06-01</th>\n",
       "      <th>2018-07-01</th>\n",
       "      <th>2018-08-01</th>\n",
       "    </tr>\n",
       "    <tr>\n",
       "      <th>Уникальный идентификатор пользователя</th>\n",
       "      <th></th>\n",
       "      <th></th>\n",
       "      <th></th>\n",
       "      <th></th>\n",
       "      <th></th>\n",
       "      <th></th>\n",
       "      <th></th>\n",
       "      <th></th>\n",
       "      <th></th>\n",
       "      <th></th>\n",
       "      <th></th>\n",
       "      <th></th>\n",
       "      <th></th>\n",
       "      <th></th>\n",
       "      <th></th>\n",
       "      <th></th>\n",
       "      <th></th>\n",
       "      <th></th>\n",
       "      <th></th>\n",
       "      <th></th>\n",
       "      <th></th>\n",
       "    </tr>\n",
       "  </thead>\n",
       "  <tbody>\n",
       "    <tr>\n",
       "      <th>8d50f5eadf50201ccdcedfb9e2ac8455</th>\n",
       "      <td>0.0</td>\n",
       "      <td>0.0</td>\n",
       "      <td>0.0</td>\n",
       "      <td>0.0</td>\n",
       "      <td>0.0</td>\n",
       "      <td>0.0</td>\n",
       "      <td>0.0</td>\n",
       "      <td>0.0</td>\n",
       "      <td>0.23</td>\n",
       "      <td>0.45</td>\n",
       "      <td>...</td>\n",
       "      <td>0.23</td>\n",
       "      <td>0.00</td>\n",
       "      <td>0.00</td>\n",
       "      <td>0.00</td>\n",
       "      <td>0.0</td>\n",
       "      <td>0.00</td>\n",
       "      <td>0.45</td>\n",
       "      <td>0.00</td>\n",
       "      <td>0.45</td>\n",
       "      <td>0.68</td>\n",
       "    </tr>\n",
       "    <tr>\n",
       "      <th>3e43e6105506432c953e165fb2acf44c</th>\n",
       "      <td>0.0</td>\n",
       "      <td>0.0</td>\n",
       "      <td>0.0</td>\n",
       "      <td>0.0</td>\n",
       "      <td>0.0</td>\n",
       "      <td>0.0</td>\n",
       "      <td>0.0</td>\n",
       "      <td>0.0</td>\n",
       "      <td>0.00</td>\n",
       "      <td>0.00</td>\n",
       "      <td>...</td>\n",
       "      <td>0.00</td>\n",
       "      <td>0.68</td>\n",
       "      <td>0.23</td>\n",
       "      <td>1.00</td>\n",
       "      <td>0.0</td>\n",
       "      <td>0.00</td>\n",
       "      <td>0.00</td>\n",
       "      <td>0.00</td>\n",
       "      <td>0.00</td>\n",
       "      <td>0.00</td>\n",
       "    </tr>\n",
       "    <tr>\n",
       "      <th>ca77025e7201e3b30c44b472ff346268</th>\n",
       "      <td>0.0</td>\n",
       "      <td>0.0</td>\n",
       "      <td>0.0</td>\n",
       "      <td>0.0</td>\n",
       "      <td>0.0</td>\n",
       "      <td>0.0</td>\n",
       "      <td>0.0</td>\n",
       "      <td>0.0</td>\n",
       "      <td>0.00</td>\n",
       "      <td>0.00</td>\n",
       "      <td>...</td>\n",
       "      <td>0.00</td>\n",
       "      <td>0.00</td>\n",
       "      <td>0.23</td>\n",
       "      <td>0.50</td>\n",
       "      <td>0.0</td>\n",
       "      <td>0.23</td>\n",
       "      <td>0.23</td>\n",
       "      <td>0.23</td>\n",
       "      <td>0.00</td>\n",
       "      <td>0.00</td>\n",
       "    </tr>\n",
       "    <tr>\n",
       "      <th>1b6c7548a2a1f9037c1fd3ddfed95f33</th>\n",
       "      <td>0.0</td>\n",
       "      <td>0.0</td>\n",
       "      <td>0.0</td>\n",
       "      <td>0.0</td>\n",
       "      <td>0.0</td>\n",
       "      <td>0.0</td>\n",
       "      <td>0.0</td>\n",
       "      <td>0.0</td>\n",
       "      <td>0.00</td>\n",
       "      <td>0.00</td>\n",
       "      <td>...</td>\n",
       "      <td>0.47</td>\n",
       "      <td>0.68</td>\n",
       "      <td>0.23</td>\n",
       "      <td>0.25</td>\n",
       "      <td>0.0</td>\n",
       "      <td>0.00</td>\n",
       "      <td>0.00</td>\n",
       "      <td>0.00</td>\n",
       "      <td>0.00</td>\n",
       "      <td>0.00</td>\n",
       "    </tr>\n",
       "    <tr>\n",
       "      <th>6469f99c1f9dfae7733b25662e7f1782</th>\n",
       "      <td>0.0</td>\n",
       "      <td>0.0</td>\n",
       "      <td>0.0</td>\n",
       "      <td>0.0</td>\n",
       "      <td>0.0</td>\n",
       "      <td>0.0</td>\n",
       "      <td>0.0</td>\n",
       "      <td>0.0</td>\n",
       "      <td>0.00</td>\n",
       "      <td>0.00</td>\n",
       "      <td>...</td>\n",
       "      <td>0.23</td>\n",
       "      <td>0.45</td>\n",
       "      <td>0.23</td>\n",
       "      <td>0.00</td>\n",
       "      <td>0.0</td>\n",
       "      <td>0.00</td>\n",
       "      <td>0.00</td>\n",
       "      <td>0.23</td>\n",
       "      <td>0.00</td>\n",
       "      <td>0.00</td>\n",
       "    </tr>\n",
       "  </tbody>\n",
       "</table>\n",
       "<p>5 rows × 23 columns</p>\n",
       "</div>"
      ],
      "text/plain": [
       "Месяц (первый день)                    2016-09-01  2016-10-01  2016-12-01  \\\n",
       "Уникальный идентификатор пользователя                                       \n",
       "8d50f5eadf50201ccdcedfb9e2ac8455              0.0         0.0         0.0   \n",
       "3e43e6105506432c953e165fb2acf44c              0.0         0.0         0.0   \n",
       "ca77025e7201e3b30c44b472ff346268              0.0         0.0         0.0   \n",
       "1b6c7548a2a1f9037c1fd3ddfed95f33              0.0         0.0         0.0   \n",
       "6469f99c1f9dfae7733b25662e7f1782              0.0         0.0         0.0   \n",
       "\n",
       "Месяц (первый день)                    2017-01-01  2017-02-01  2017-03-01  \\\n",
       "Уникальный идентификатор пользователя                                       \n",
       "8d50f5eadf50201ccdcedfb9e2ac8455              0.0         0.0         0.0   \n",
       "3e43e6105506432c953e165fb2acf44c              0.0         0.0         0.0   \n",
       "ca77025e7201e3b30c44b472ff346268              0.0         0.0         0.0   \n",
       "1b6c7548a2a1f9037c1fd3ddfed95f33              0.0         0.0         0.0   \n",
       "6469f99c1f9dfae7733b25662e7f1782              0.0         0.0         0.0   \n",
       "\n",
       "Месяц (первый день)                    2017-04-01  2017-05-01  2017-06-01  \\\n",
       "Уникальный идентификатор пользователя                                       \n",
       "8d50f5eadf50201ccdcedfb9e2ac8455              0.0         0.0        0.23   \n",
       "3e43e6105506432c953e165fb2acf44c              0.0         0.0        0.00   \n",
       "ca77025e7201e3b30c44b472ff346268              0.0         0.0        0.00   \n",
       "1b6c7548a2a1f9037c1fd3ddfed95f33              0.0         0.0        0.00   \n",
       "6469f99c1f9dfae7733b25662e7f1782              0.0         0.0        0.00   \n",
       "\n",
       "Месяц (первый день)                    2017-07-01  ...  2017-11-01  \\\n",
       "Уникальный идентификатор пользователя              ...               \n",
       "8d50f5eadf50201ccdcedfb9e2ac8455             0.45  ...        0.23   \n",
       "3e43e6105506432c953e165fb2acf44c             0.00  ...        0.00   \n",
       "ca77025e7201e3b30c44b472ff346268             0.00  ...        0.00   \n",
       "1b6c7548a2a1f9037c1fd3ddfed95f33             0.00  ...        0.47   \n",
       "6469f99c1f9dfae7733b25662e7f1782             0.00  ...        0.23   \n",
       "\n",
       "Месяц (первый день)                    2017-12-01  2018-01-01  2018-02-01  \\\n",
       "Уникальный идентификатор пользователя                                       \n",
       "8d50f5eadf50201ccdcedfb9e2ac8455             0.00        0.00        0.00   \n",
       "3e43e6105506432c953e165fb2acf44c             0.68        0.23        1.00   \n",
       "ca77025e7201e3b30c44b472ff346268             0.00        0.23        0.50   \n",
       "1b6c7548a2a1f9037c1fd3ddfed95f33             0.68        0.23        0.25   \n",
       "6469f99c1f9dfae7733b25662e7f1782             0.45        0.23        0.00   \n",
       "\n",
       "Месяц (первый день)                    2018-03-01  2018-04-01  2018-05-01  \\\n",
       "Уникальный идентификатор пользователя                                       \n",
       "8d50f5eadf50201ccdcedfb9e2ac8455              0.0        0.00        0.45   \n",
       "3e43e6105506432c953e165fb2acf44c              0.0        0.00        0.00   \n",
       "ca77025e7201e3b30c44b472ff346268              0.0        0.23        0.23   \n",
       "1b6c7548a2a1f9037c1fd3ddfed95f33              0.0        0.00        0.00   \n",
       "6469f99c1f9dfae7733b25662e7f1782              0.0        0.00        0.00   \n",
       "\n",
       "Месяц (первый день)                    2018-06-01  2018-07-01  2018-08-01  \n",
       "Уникальный идентификатор пользователя                                      \n",
       "8d50f5eadf50201ccdcedfb9e2ac8455             0.00        0.45        0.68  \n",
       "3e43e6105506432c953e165fb2acf44c             0.00        0.00        0.00  \n",
       "ca77025e7201e3b30c44b472ff346268             0.23        0.00        0.00  \n",
       "1b6c7548a2a1f9037c1fd3ddfed95f33             0.00        0.00        0.00  \n",
       "6469f99c1f9dfae7733b25662e7f1782             0.23        0.00        0.00  \n",
       "\n",
       "[5 rows x 23 columns]"
      ]
     },
     "execution_count": 145,
     "metadata": {},
     "output_type": "execute_result"
    }
   ],
   "source": [
    "pivot_selected = count_pivot.loc[sum_per_uniqid.head(5).index.to_list(),:]\n",
    "\n",
    "pivot_selected"
   ]
  },
  {
   "cell_type": "markdown",
   "id": "bbb2b381",
   "metadata": {},
   "source": [
    "Приведем отобранные данные к удобному для Seaborn формату:"
   ]
  },
  {
   "cell_type": "code",
   "execution_count": 147,
   "id": "c7f862bf",
   "metadata": {},
   "outputs": [
    {
     "data": {
      "text/html": [
       "<div>\n",
       "<style scoped>\n",
       "    .dataframe tbody tr th:only-of-type {\n",
       "        vertical-align: middle;\n",
       "    }\n",
       "\n",
       "    .dataframe tbody tr th {\n",
       "        vertical-align: top;\n",
       "    }\n",
       "\n",
       "    .dataframe thead th {\n",
       "        text-align: right;\n",
       "    }\n",
       "</style>\n",
       "<table border=\"1\" class=\"dataframe\">\n",
       "  <thead>\n",
       "    <tr style=\"text-align: right;\">\n",
       "      <th></th>\n",
       "      <th>Уникальный идентификатор пользователя</th>\n",
       "      <th>Месяц (первый день)</th>\n",
       "      <th>Количество покупок за неделю месяца в среднем</th>\n",
       "    </tr>\n",
       "  </thead>\n",
       "  <tbody>\n",
       "    <tr>\n",
       "      <th>0</th>\n",
       "      <td>8d50f5eadf50201ccdcedfb9e2ac8455</td>\n",
       "      <td>2016-09-01</td>\n",
       "      <td>0.00</td>\n",
       "    </tr>\n",
       "    <tr>\n",
       "      <th>1</th>\n",
       "      <td>8d50f5eadf50201ccdcedfb9e2ac8455</td>\n",
       "      <td>2016-10-01</td>\n",
       "      <td>0.00</td>\n",
       "    </tr>\n",
       "    <tr>\n",
       "      <th>2</th>\n",
       "      <td>8d50f5eadf50201ccdcedfb9e2ac8455</td>\n",
       "      <td>2016-12-01</td>\n",
       "      <td>0.00</td>\n",
       "    </tr>\n",
       "    <tr>\n",
       "      <th>3</th>\n",
       "      <td>8d50f5eadf50201ccdcedfb9e2ac8455</td>\n",
       "      <td>2017-01-01</td>\n",
       "      <td>0.00</td>\n",
       "    </tr>\n",
       "    <tr>\n",
       "      <th>4</th>\n",
       "      <td>8d50f5eadf50201ccdcedfb9e2ac8455</td>\n",
       "      <td>2017-02-01</td>\n",
       "      <td>0.00</td>\n",
       "    </tr>\n",
       "    <tr>\n",
       "      <th>...</th>\n",
       "      <td>...</td>\n",
       "      <td>...</td>\n",
       "      <td>...</td>\n",
       "    </tr>\n",
       "    <tr>\n",
       "      <th>110</th>\n",
       "      <td>6469f99c1f9dfae7733b25662e7f1782</td>\n",
       "      <td>2018-04-01</td>\n",
       "      <td>0.00</td>\n",
       "    </tr>\n",
       "    <tr>\n",
       "      <th>111</th>\n",
       "      <td>6469f99c1f9dfae7733b25662e7f1782</td>\n",
       "      <td>2018-05-01</td>\n",
       "      <td>0.00</td>\n",
       "    </tr>\n",
       "    <tr>\n",
       "      <th>112</th>\n",
       "      <td>6469f99c1f9dfae7733b25662e7f1782</td>\n",
       "      <td>2018-06-01</td>\n",
       "      <td>0.23</td>\n",
       "    </tr>\n",
       "    <tr>\n",
       "      <th>113</th>\n",
       "      <td>6469f99c1f9dfae7733b25662e7f1782</td>\n",
       "      <td>2018-07-01</td>\n",
       "      <td>0.00</td>\n",
       "    </tr>\n",
       "    <tr>\n",
       "      <th>114</th>\n",
       "      <td>6469f99c1f9dfae7733b25662e7f1782</td>\n",
       "      <td>2018-08-01</td>\n",
       "      <td>0.00</td>\n",
       "    </tr>\n",
       "  </tbody>\n",
       "</table>\n",
       "<p>115 rows × 3 columns</p>\n",
       "</div>"
      ],
      "text/plain": [
       "    Уникальный идентификатор пользователя Месяц (первый день)  \\\n",
       "0        8d50f5eadf50201ccdcedfb9e2ac8455          2016-09-01   \n",
       "1        8d50f5eadf50201ccdcedfb9e2ac8455          2016-10-01   \n",
       "2        8d50f5eadf50201ccdcedfb9e2ac8455          2016-12-01   \n",
       "3        8d50f5eadf50201ccdcedfb9e2ac8455          2017-01-01   \n",
       "4        8d50f5eadf50201ccdcedfb9e2ac8455          2017-02-01   \n",
       "..                                    ...                 ...   \n",
       "110      6469f99c1f9dfae7733b25662e7f1782          2018-04-01   \n",
       "111      6469f99c1f9dfae7733b25662e7f1782          2018-05-01   \n",
       "112      6469f99c1f9dfae7733b25662e7f1782          2018-06-01   \n",
       "113      6469f99c1f9dfae7733b25662e7f1782          2018-07-01   \n",
       "114      6469f99c1f9dfae7733b25662e7f1782          2018-08-01   \n",
       "\n",
       "     Количество покупок за неделю месяца в среднем  \n",
       "0                                             0.00  \n",
       "1                                             0.00  \n",
       "2                                             0.00  \n",
       "3                                             0.00  \n",
       "4                                             0.00  \n",
       "..                                             ...  \n",
       "110                                           0.00  \n",
       "111                                           0.00  \n",
       "112                                           0.23  \n",
       "113                                           0.00  \n",
       "114                                           0.00  \n",
       "\n",
       "[115 rows x 3 columns]"
      ]
     },
     "execution_count": 147,
     "metadata": {},
     "output_type": "execute_result"
    }
   ],
   "source": [
    "data = pivot_selected.stack().reset_index().rename(columns={0:'Количество покупок за неделю месяца в среднем'})\n",
    "data"
   ]
  },
  {
   "cell_type": "markdown",
   "id": "0aa9aa34",
   "metadata": {},
   "source": [
    "Строим графики показателя нашей метрики по месяцам в разрезе по отобранным пользователям:"
   ]
  },
  {
   "cell_type": "code",
   "execution_count": 148,
   "id": "729a6e36",
   "metadata": {},
   "outputs": [
    {
     "data": {
      "text/plain": [
       "<seaborn.axisgrid.FacetGrid at 0x24798053dc0>"
      ]
     },
     "execution_count": 148,
     "metadata": {},
     "output_type": "execute_result"
    },
    {
     "data": {
      "image/png": "[encoded data removed]",
      "text/plain": [
       "<Figure size 1325.18x360 with 1 Axes>"
      ]
     },
     "metadata": {},
     "output_type": "display_data"
    }
   ],
   "source": [
    "x_name = 'Месяц (первый день)'\n",
    "y_name = 'Количество покупок за неделю месяца в среднем'\n",
    "hue_name = 'Уникальный идентификатор пользователя'\n",
    "\n",
    "sns.set_theme()\n",
    "sns.relplot(data=data, x=x_name, y=y_name, hue=hue_name, kind='line',aspect=3)"
   ]
  },
  {
   "cell_type": "markdown",
   "id": "4e5cb091",
   "metadata": {},
   "source": [
    "# "
   ]
  },
  {
   "cell_type": "markdown",
   "id": "bbbee198",
   "metadata": {},
   "source": [
    "***"
   ]
  },
  {
   "cell_type": "markdown",
   "id": "1fee2383",
   "metadata": {},
   "source": [
    "# **Задание 5.** \n"
   ]
  },
  {
   "cell_type": "markdown",
   "id": "93d3f0c2",
   "metadata": {},
   "source": [
    "## Используя pandas, проведи когортный анализ пользователей. В период с января по декабрь выяви когорту с самым высоким retention на 3й месяц. "
   ]
  },
  {
   "cell_type": "markdown",
   "id": "3524e9f1",
   "metadata": {},
   "source": [
    "# "
   ]
  },
  {
   "cell_type": "markdown",
   "id": "a0c15419",
   "metadata": {},
   "source": [
    "### *Будем рассчитывать метрику Retention (Repeat Purchase Rates) по формуле:*"
   ]
  },
  {
   "cell_type": "markdown",
   "id": "bbb1224b",
   "metadata": {},
   "source": [
    "![Formula](https://www.carrotquest.io/blog/wp-content/uploads/2018/06/CRR.png)"
   ]
  },
  {
   "cell_type": "code",
   "execution_count": null,
   "id": "5b880325",
   "metadata": {},
   "outputs": [],
   "source": []
  },
  {
   "cell_type": "markdown",
   "id": "5ec92f6b",
   "metadata": {},
   "source": [
    "# "
   ]
  },
  {
   "cell_type": "markdown",
   "id": "14f5c3c0",
   "metadata": {},
   "source": [
    "### *1. Выясним заказы за какой период содержатся в датасете orders:*"
   ]
  },
  {
   "cell_type": "code",
   "execution_count": null,
   "id": "fdaf510b",
   "metadata": {},
   "outputs": [],
   "source": [
    "orders.order_purchase_timestamp.min()"
   ]
  },
  {
   "cell_type": "code",
   "execution_count": null,
   "id": "0a66488a",
   "metadata": {},
   "outputs": [],
   "source": [
    "orders.order_purchase_timestamp.max()"
   ]
  },
  {
   "cell_type": "markdown",
   "id": "dd4ab8a8",
   "metadata": {},
   "source": [
    "Выяснили, что они - между сентябрем 2016 и октябрем 2018 включительно.\n",
    "\n",
    "Это означает, что указанный в задании период с января по декабрь означает период: январь 2017 - декабрь 2017. Так как только он является таким непрерывным периодом среди имеющихся дат в orders.\n"
   ]
  },
  {
   "cell_type": "markdown",
   "id": "0b9ae758",
   "metadata": {},
   "source": [
    "### *2.Cоздадим когорты - месяц первой покупки :*"
   ]
  },
  {
   "cell_type": "code",
   "execution_count": 149,
   "id": "14a386d3",
   "metadata": {},
   "outputs": [
    {
     "data": {
      "text/plain": [
       "DatetimeIndex(['2017-01-31', '2017-02-28', '2017-03-31', '2017-04-30',\n",
       "               '2017-05-31', '2017-06-30', '2017-07-31', '2017-08-31',\n",
       "               '2017-09-30', '2017-10-31', '2017-11-30', '2017-12-31'],\n",
       "              dtype='datetime64[ns]', freq='M')"
      ]
     },
     "execution_count": 149,
     "metadata": {},
     "output_type": "execute_result"
    }
   ],
   "source": [
    "cohorts = pd.date_range(start=pd.Timestamp('2017-Jan'), end=pd.Timestamp('2018-Jan'), freq='M')\n",
    "cohorts"
   ]
  },
  {
   "cell_type": "code",
   "execution_count": 152,
   "id": "6923b761",
   "metadata": {},
   "outputs": [
    {
     "data": {
      "text/plain": [
       "12"
      ]
     },
     "execution_count": 152,
     "metadata": {},
     "output_type": "execute_result"
    }
   ],
   "source": [
    "# Проверяем число когорт (должно быть 12):\n",
    "\n",
    "len(cohorts)"
   ]
  },
  {
   "cell_type": "markdown",
   "id": "6dfd5a8a",
   "metadata": {},
   "source": [
    "### *3. Вновь создаем датафрейм с покупками, их датами и уникальными id пользователей, совершивших их:*"
   ]
  },
  {
   "cell_type": "code",
   "execution_count": 153,
   "id": "729c7d78",
   "metadata": {},
   "outputs": [
    {
     "data": {
      "text/html": [
       "<div>\n",
       "<style scoped>\n",
       "    .dataframe tbody tr th:only-of-type {\n",
       "        vertical-align: middle;\n",
       "    }\n",
       "\n",
       "    .dataframe tbody tr th {\n",
       "        vertical-align: top;\n",
       "    }\n",
       "\n",
       "    .dataframe thead th {\n",
       "        text-align: right;\n",
       "    }\n",
       "</style>\n",
       "<table border=\"1\" class=\"dataframe\">\n",
       "  <thead>\n",
       "    <tr style=\"text-align: right;\">\n",
       "      <th></th>\n",
       "      <th>buy_id</th>\n",
       "      <th>buy_date</th>\n",
       "      <th>customer_unique_id</th>\n",
       "    </tr>\n",
       "  </thead>\n",
       "  <tbody>\n",
       "    <tr>\n",
       "      <th>0</th>\n",
       "      <td>e481f51cbdc54678b7cc49136f2d6af7</td>\n",
       "      <td>2017-10-02 10:56:33</td>\n",
       "      <td>7c396fd4830fd04220f754e42b4e5bff</td>\n",
       "    </tr>\n",
       "    <tr>\n",
       "      <th>1</th>\n",
       "      <td>53cdb2fc8bc7dce0b6741e2150273451</td>\n",
       "      <td>2018-07-24 20:41:37</td>\n",
       "      <td>af07308b275d755c9edb36a90c618231</td>\n",
       "    </tr>\n",
       "    <tr>\n",
       "      <th>2</th>\n",
       "      <td>47770eb9100c2d0c44946d9cf07ec65d</td>\n",
       "      <td>2018-08-08 08:38:49</td>\n",
       "      <td>3a653a41f6f9fc3d2a113cf8398680e8</td>\n",
       "    </tr>\n",
       "    <tr>\n",
       "      <th>3</th>\n",
       "      <td>949d5b44dbf5de918fe9c16f97b45f8a</td>\n",
       "      <td>2017-11-18 19:28:06</td>\n",
       "      <td>7c142cf63193a1473d2e66489a9ae977</td>\n",
       "    </tr>\n",
       "    <tr>\n",
       "      <th>4</th>\n",
       "      <td>ad21c59c0840e6cb83a9ceb5573f8159</td>\n",
       "      <td>2018-02-13 21:18:39</td>\n",
       "      <td>72632f0f9dd73dfee390c9b22eb56dd6</td>\n",
       "    </tr>\n",
       "  </tbody>\n",
       "</table>\n",
       "</div>"
      ],
      "text/plain": [
       "                             buy_id            buy_date  \\\n",
       "0  e481f51cbdc54678b7cc49136f2d6af7 2017-10-02 10:56:33   \n",
       "1  53cdb2fc8bc7dce0b6741e2150273451 2018-07-24 20:41:37   \n",
       "2  47770eb9100c2d0c44946d9cf07ec65d 2018-08-08 08:38:49   \n",
       "3  949d5b44dbf5de918fe9c16f97b45f8a 2017-11-18 19:28:06   \n",
       "4  ad21c59c0840e6cb83a9ceb5573f8159 2018-02-13 21:18:39   \n",
       "\n",
       "                 customer_unique_id  \n",
       "0  7c396fd4830fd04220f754e42b4e5bff  \n",
       "1  af07308b275d755c9edb36a90c618231  \n",
       "2  3a653a41f6f9fc3d2a113cf8398680e8  \n",
       "3  7c142cf63193a1473d2e66489a9ae977  \n",
       "4  72632f0f9dd73dfee390c9b22eb56dd6  "
      ]
     },
     "execution_count": 153,
     "metadata": {},
     "output_type": "execute_result"
    }
   ],
   "source": [
    "buys_by_uniq_id = buys.merge(customers, on='customer_id', how='left')\\\n",
    "                      .rename(columns={'order_id':'buy_id', 'order_purchase_timestamp':'buy_date'})\\\n",
    "                       [['buy_id','buy_date','customer_unique_id']]\n",
    "\n",
    "buys_by_uniq_id.head()"
   ]
  },
  {
   "cell_type": "markdown",
   "id": "e5075e5e",
   "metadata": {},
   "source": [
    "### *4. Создаем датафрейм, сопоставляющий когортам - уникальные id пользователей, чьи первые покупки пришлись на месяца из когорт:*"
   ]
  },
  {
   "cell_type": "markdown",
   "id": "065b12c4",
   "metadata": {},
   "source": [
    "1. Сопоставим абсолютно каждому пользователю магазина - дату его первой покупки (последний день месяца первой покупки):"
   ]
  },
  {
   "cell_type": "code",
   "execution_count": 163,
   "id": "a1109a11",
   "metadata": {},
   "outputs": [
    {
     "data": {
      "text/html": [
       "<div>\n",
       "<style scoped>\n",
       "    .dataframe tbody tr th:only-of-type {\n",
       "        vertical-align: middle;\n",
       "    }\n",
       "\n",
       "    .dataframe tbody tr th {\n",
       "        vertical-align: top;\n",
       "    }\n",
       "\n",
       "    .dataframe thead th {\n",
       "        text-align: right;\n",
       "    }\n",
       "</style>\n",
       "<table border=\"1\" class=\"dataframe\">\n",
       "  <thead>\n",
       "    <tr style=\"text-align: right;\">\n",
       "      <th></th>\n",
       "      <th>customer_unique_id</th>\n",
       "      <th>first_buy_date</th>\n",
       "    </tr>\n",
       "  </thead>\n",
       "  <tbody>\n",
       "    <tr>\n",
       "      <th>0</th>\n",
       "      <td>0000366f3b9a7992bf8c76cfdf3221e2</td>\n",
       "      <td>2018-05-31</td>\n",
       "    </tr>\n",
       "    <tr>\n",
       "      <th>1</th>\n",
       "      <td>0000b849f77a49e4a4ce2b2a4ca5be3f</td>\n",
       "      <td>2018-05-31</td>\n",
       "    </tr>\n",
       "    <tr>\n",
       "      <th>2</th>\n",
       "      <td>0000f46a3911fa3c0805444483337064</td>\n",
       "      <td>2017-03-31</td>\n",
       "    </tr>\n",
       "    <tr>\n",
       "      <th>3</th>\n",
       "      <td>0000f6ccb0745a6a4b88665a16c9f078</td>\n",
       "      <td>2017-10-31</td>\n",
       "    </tr>\n",
       "    <tr>\n",
       "      <th>4</th>\n",
       "      <td>0004aac84e0df4da2b147fca70cf8255</td>\n",
       "      <td>2017-11-30</td>\n",
       "    </tr>\n",
       "  </tbody>\n",
       "</table>\n",
       "</div>"
      ],
      "text/plain": [
       "                 customer_unique_id first_buy_date\n",
       "0  0000366f3b9a7992bf8c76cfdf3221e2     2018-05-31\n",
       "1  0000b849f77a49e4a4ce2b2a4ca5be3f     2018-05-31\n",
       "2  0000f46a3911fa3c0805444483337064     2017-03-31\n",
       "3  0000f6ccb0745a6a4b88665a16c9f078     2017-10-31\n",
       "4  0004aac84e0df4da2b147fca70cf8255     2017-11-30"
      ]
     },
     "execution_count": 163,
     "metadata": {},
     "output_type": "execute_result"
    }
   ],
   "source": [
    "first_buy_date = buys_by_uniq_id.groupby('customer_unique_id', as_index=False)\\\n",
    "                 .agg({'buy_date':'min'})\\\n",
    "                 .rename(columns={'buy_date':'first_buy_date'})\n",
    "\n",
    "first_buy_date.first_buy_date = first_buy_date.first_buy_date.apply(lambda date: date.ceil('1D') + pd.offsets.MonthEnd(1))\n",
    "\n",
    "first_buy_date.head()"
   ]
  },
  {
   "cell_type": "markdown",
   "id": "afdb9f5b",
   "metadata": {},
   "source": [
    "2. Сгуруппируем пользователей по месяцам их первой покупки:"
   ]
  },
  {
   "cell_type": "code",
   "execution_count": 164,
   "id": "bb3e18e8",
   "metadata": {},
   "outputs": [
    {
     "data": {
      "text/html": [
       "<div>\n",
       "<style scoped>\n",
       "    .dataframe tbody tr th:only-of-type {\n",
       "        vertical-align: middle;\n",
       "    }\n",
       "\n",
       "    .dataframe tbody tr th {\n",
       "        vertical-align: top;\n",
       "    }\n",
       "\n",
       "    .dataframe thead th {\n",
       "        text-align: right;\n",
       "    }\n",
       "</style>\n",
       "<table border=\"1\" class=\"dataframe\">\n",
       "  <thead>\n",
       "    <tr style=\"text-align: right;\">\n",
       "      <th></th>\n",
       "      <th>first_buy_date</th>\n",
       "      <th>customer_uniq_id_set</th>\n",
       "    </tr>\n",
       "  </thead>\n",
       "  <tbody>\n",
       "    <tr>\n",
       "      <th>0</th>\n",
       "      <td>2016-09-30</td>\n",
       "      <td>{830d5b7aaa3b6f1e9ad63703bec97d23}</td>\n",
       "    </tr>\n",
       "    <tr>\n",
       "      <th>1</th>\n",
       "      <td>2016-10-31</td>\n",
       "      <td>{b39c8c284dd7875b68a31449852cc76a, 247c8264f85...</td>\n",
       "    </tr>\n",
       "    <tr>\n",
       "      <th>2</th>\n",
       "      <td>2016-12-31</td>\n",
       "      <td>{f7b981e8a280e455ac3cbe0d5d171bd1}</td>\n",
       "    </tr>\n",
       "    <tr>\n",
       "      <th>3</th>\n",
       "      <td>2017-01-31</td>\n",
       "      <td>{e021e698833bdeb89dfef3acb2e91f37, 5286f434259...</td>\n",
       "    </tr>\n",
       "    <tr>\n",
       "      <th>4</th>\n",
       "      <td>2017-02-28</td>\n",
       "      <td>{622db09504308011ed01e179e89d0925, 602d8c1d6b1...</td>\n",
       "    </tr>\n",
       "  </tbody>\n",
       "</table>\n",
       "</div>"
      ],
      "text/plain": [
       "  first_buy_date                               customer_uniq_id_set\n",
       "0     2016-09-30                 {830d5b7aaa3b6f1e9ad63703bec97d23}\n",
       "1     2016-10-31  {b39c8c284dd7875b68a31449852cc76a, 247c8264f85...\n",
       "2     2016-12-31                 {f7b981e8a280e455ac3cbe0d5d171bd1}\n",
       "3     2017-01-31  {e021e698833bdeb89dfef3acb2e91f37, 5286f434259...\n",
       "4     2017-02-28  {622db09504308011ed01e179e89d0925, 602d8c1d6b1..."
      ]
     },
     "execution_count": 164,
     "metadata": {},
     "output_type": "execute_result"
    }
   ],
   "source": [
    "id_set_by_1stbuy = first_buy_date.groupby('first_buy_date', as_index=False).agg({'customer_unique_id':lambda x: x.to_list()})\\\n",
    "                                  .rename(columns={'customer_unique_id':'customer_uniq_id_set'})\n",
    "\n",
    "# Преобразуем списки пользователей в множетства, чтобы ликвидировать возможные повторы и для дальнейших вычислений:\n",
    "id_set_by_1stbuy.customer_uniq_id_set = id_set_by_1stbuy.customer_uniq_id_set.apply(lambda llist: set(llist))\n",
    "\n",
    "id_set_by_1stbuy.head()"
   ]
  },
  {
   "cell_type": "markdown",
   "id": "aa1b1fb7",
   "metadata": {},
   "source": [
    "3. Создаем желаемый датафрейм:\n"
   ]
  },
  {
   "cell_type": "markdown",
   "id": "fd51c390",
   "metadata": {},
   "source": [
    "Отберем из **id_set_by_1stbuy** только пользователей, совершивших первую покупку в 2017 году:"
   ]
  },
  {
   "cell_type": "code",
   "execution_count": 165,
   "id": "c69af1a3",
   "metadata": {},
   "outputs": [
    {
     "data": {
      "text/html": [
       "<div>\n",
       "<style scoped>\n",
       "    .dataframe tbody tr th:only-of-type {\n",
       "        vertical-align: middle;\n",
       "    }\n",
       "\n",
       "    .dataframe tbody tr th {\n",
       "        vertical-align: top;\n",
       "    }\n",
       "\n",
       "    .dataframe thead th {\n",
       "        text-align: right;\n",
       "    }\n",
       "</style>\n",
       "<table border=\"1\" class=\"dataframe\">\n",
       "  <thead>\n",
       "    <tr style=\"text-align: right;\">\n",
       "      <th></th>\n",
       "      <th>cohort</th>\n",
       "      <th>begin_set</th>\n",
       "    </tr>\n",
       "  </thead>\n",
       "  <tbody>\n",
       "    <tr>\n",
       "      <th>3</th>\n",
       "      <td>2017-01-31</td>\n",
       "      <td>{e021e698833bdeb89dfef3acb2e91f37, 5286f434259...</td>\n",
       "    </tr>\n",
       "    <tr>\n",
       "      <th>4</th>\n",
       "      <td>2017-02-28</td>\n",
       "      <td>{622db09504308011ed01e179e89d0925, 602d8c1d6b1...</td>\n",
       "    </tr>\n",
       "    <tr>\n",
       "      <th>5</th>\n",
       "      <td>2017-03-31</td>\n",
       "      <td>{0ef4d7b991cc74c7c13b540f7d3129a3, 2990f218665...</td>\n",
       "    </tr>\n",
       "    <tr>\n",
       "      <th>6</th>\n",
       "      <td>2017-04-30</td>\n",
       "      <td>{dba40b853fb8450879147f77b57efcc2, eb28e67c4c0...</td>\n",
       "    </tr>\n",
       "    <tr>\n",
       "      <th>7</th>\n",
       "      <td>2017-05-31</td>\n",
       "      <td>{7fef4de812315967e0c7b699e88c5753, 1da09dd64e2...</td>\n",
       "    </tr>\n",
       "  </tbody>\n",
       "</table>\n",
       "</div>"
      ],
      "text/plain": [
       "      cohort                                          begin_set\n",
       "3 2017-01-31  {e021e698833bdeb89dfef3acb2e91f37, 5286f434259...\n",
       "4 2017-02-28  {622db09504308011ed01e179e89d0925, 602d8c1d6b1...\n",
       "5 2017-03-31  {0ef4d7b991cc74c7c13b540f7d3129a3, 2990f218665...\n",
       "6 2017-04-30  {dba40b853fb8450879147f77b57efcc2, eb28e67c4c0...\n",
       "7 2017-05-31  {7fef4de812315967e0c7b699e88c5753, 1da09dd64e2..."
      ]
     },
     "execution_count": 165,
     "metadata": {},
     "output_type": "execute_result"
    }
   ],
   "source": [
    "begin_of_2017 = pd.Timestamp('2017')\n",
    "begin_of_2018 = pd.Timestamp('2018')\n",
    "\n",
    "begin_by_cohort = id_set_by_1stbuy.query('first_buy_date < @begin_of_2018 and first_buy_date >= @begin_of_2017')\\\n",
    "                                  .rename(columns={'first_buy_date':'cohort', 'customer_uniq_id_set':'begin_set'})\\\n",
    "                                  .sort_values(by='cohort')\n",
    "\n",
    "begin_by_cohort.head()"
   ]
  },
  {
   "cell_type": "markdown",
   "id": "b28bf0cb",
   "metadata": {},
   "source": [
    "Убеждаемся, что получившийся датафрейм включает информацию по каждой интересующей когорте (каждому месяцу из 2017):"
   ]
  },
  {
   "cell_type": "code",
   "execution_count": 166,
   "id": "97906f56",
   "metadata": {},
   "outputs": [
    {
     "data": {
      "text/plain": [
       "12"
      ]
     },
     "execution_count": 166,
     "metadata": {},
     "output_type": "execute_result"
    }
   ],
   "source": [
    "# Должно быть 12:\n",
    "\n",
    "len(begin_by_cohort)"
   ]
  },
  {
   "cell_type": "markdown",
   "id": "14acd5c2",
   "metadata": {},
   "source": [
    "#### *Столбец begin_set отражает множества (количества) клиентов на начало периода (в контексте показателя Retention)*"
   ]
  },
  {
   "cell_type": "markdown",
   "id": "90414de9",
   "metadata": {},
   "source": [
    "# "
   ]
  },
  {
   "cell_type": "markdown",
   "id": "8a31b225",
   "metadata": {},
   "source": [
    "### *5. Узнаем количество клиентов на конец периода в 3 месяца для каждой когорты:*"
   ]
  },
  {
   "cell_type": "markdown",
   "id": "834d1d12",
   "metadata": {},
   "source": [
    "Для этого узнаем множества клиентов для каждой когорты, которые совершили покупку в течение третьего месяца."
   ]
  },
  {
   "cell_type": "markdown",
   "id": "0d9eb33a",
   "metadata": {},
   "source": [
    "Мы ведем отчет месяцев - с последнего дня каждого месяца, т.к. только на последнем дне можно окончательно судить кто совершил покупки за данный месяц."
   ]
  },
  {
   "cell_type": "markdown",
   "id": "1d4a2dc7",
   "metadata": {},
   "source": [
    "1. Сопоставим каждому месяцу - множество пользователей, которые совершили хотя бы 1 покупку в течение него:"
   ]
  },
  {
   "cell_type": "code",
   "execution_count": 171,
   "id": "5f3594b4",
   "metadata": {},
   "outputs": [],
   "source": [
    "#Сопоставляем каждому уник. клиенту - его покупки и его месяц (последний ден месяца):\n",
    "\n",
    "buys_by_uniq_id = buys.merge(customers, on='customer_id', how='left')\\\n",
    "                      .rename(columns={'order_id':'buy_id', 'order_purchase_timestamp':'buy_date'})\\\n",
    "                       [['buy_id','buy_date','customer_unique_id']]\n"
   ]
  },
  {
   "cell_type": "code",
   "execution_count": 172,
   "id": "33c5fcef",
   "metadata": {},
   "outputs": [
    {
     "data": {
      "text/html": [
       "<div>\n",
       "<style scoped>\n",
       "    .dataframe tbody tr th:only-of-type {\n",
       "        vertical-align: middle;\n",
       "    }\n",
       "\n",
       "    .dataframe tbody tr th {\n",
       "        vertical-align: top;\n",
       "    }\n",
       "\n",
       "    .dataframe thead th {\n",
       "        text-align: right;\n",
       "    }\n",
       "</style>\n",
       "<table border=\"1\" class=\"dataframe\">\n",
       "  <thead>\n",
       "    <tr style=\"text-align: right;\">\n",
       "      <th></th>\n",
       "      <th>buy_id</th>\n",
       "      <th>buy_date</th>\n",
       "      <th>customer_unique_id</th>\n",
       "    </tr>\n",
       "  </thead>\n",
       "  <tbody>\n",
       "    <tr>\n",
       "      <th>0</th>\n",
       "      <td>e481f51cbdc54678b7cc49136f2d6af7</td>\n",
       "      <td>2017-10-02 10:56:33</td>\n",
       "      <td>7c396fd4830fd04220f754e42b4e5bff</td>\n",
       "    </tr>\n",
       "    <tr>\n",
       "      <th>1</th>\n",
       "      <td>53cdb2fc8bc7dce0b6741e2150273451</td>\n",
       "      <td>2018-07-24 20:41:37</td>\n",
       "      <td>af07308b275d755c9edb36a90c618231</td>\n",
       "    </tr>\n",
       "    <tr>\n",
       "      <th>2</th>\n",
       "      <td>47770eb9100c2d0c44946d9cf07ec65d</td>\n",
       "      <td>2018-08-08 08:38:49</td>\n",
       "      <td>3a653a41f6f9fc3d2a113cf8398680e8</td>\n",
       "    </tr>\n",
       "    <tr>\n",
       "      <th>3</th>\n",
       "      <td>949d5b44dbf5de918fe9c16f97b45f8a</td>\n",
       "      <td>2017-11-18 19:28:06</td>\n",
       "      <td>7c142cf63193a1473d2e66489a9ae977</td>\n",
       "    </tr>\n",
       "    <tr>\n",
       "      <th>4</th>\n",
       "      <td>ad21c59c0840e6cb83a9ceb5573f8159</td>\n",
       "      <td>2018-02-13 21:18:39</td>\n",
       "      <td>72632f0f9dd73dfee390c9b22eb56dd6</td>\n",
       "    </tr>\n",
       "    <tr>\n",
       "      <th>...</th>\n",
       "      <td>...</td>\n",
       "      <td>...</td>\n",
       "      <td>...</td>\n",
       "    </tr>\n",
       "    <tr>\n",
       "      <th>96454</th>\n",
       "      <td>9c5dedf39a927c1b2549525ed64a053c</td>\n",
       "      <td>2017-03-09 09:54:05</td>\n",
       "      <td>6359f309b166b0196dbf7ad2ac62bb5a</td>\n",
       "    </tr>\n",
       "    <tr>\n",
       "      <th>96455</th>\n",
       "      <td>63943bddc261676b46f01ca7ac2f7bd8</td>\n",
       "      <td>2018-02-06 12:58:58</td>\n",
       "      <td>da62f9e57a76d978d02ab5362c509660</td>\n",
       "    </tr>\n",
       "    <tr>\n",
       "      <th>96456</th>\n",
       "      <td>83c1379a015df1e13d02aae0204711ab</td>\n",
       "      <td>2017-08-27 14:46:43</td>\n",
       "      <td>737520a9aad80b3fbbdad19b66b37b30</td>\n",
       "    </tr>\n",
       "    <tr>\n",
       "      <th>96457</th>\n",
       "      <td>11c177c8e97725db2631073c19f07b62</td>\n",
       "      <td>2018-01-08 21:28:27</td>\n",
       "      <td>5097a5312c8b157bb7be58ae360ef43c</td>\n",
       "    </tr>\n",
       "    <tr>\n",
       "      <th>96458</th>\n",
       "      <td>66dea50a8b16d9b4dee7af250b4be1a5</td>\n",
       "      <td>2018-03-08 20:57:30</td>\n",
       "      <td>60350aa974b26ff12caad89e55993bd6</td>\n",
       "    </tr>\n",
       "  </tbody>\n",
       "</table>\n",
       "<p>96459 rows × 3 columns</p>\n",
       "</div>"
      ],
      "text/plain": [
       "                                 buy_id            buy_date  \\\n",
       "0      e481f51cbdc54678b7cc49136f2d6af7 2017-10-02 10:56:33   \n",
       "1      53cdb2fc8bc7dce0b6741e2150273451 2018-07-24 20:41:37   \n",
       "2      47770eb9100c2d0c44946d9cf07ec65d 2018-08-08 08:38:49   \n",
       "3      949d5b44dbf5de918fe9c16f97b45f8a 2017-11-18 19:28:06   \n",
       "4      ad21c59c0840e6cb83a9ceb5573f8159 2018-02-13 21:18:39   \n",
       "...                                 ...                 ...   \n",
       "96454  9c5dedf39a927c1b2549525ed64a053c 2017-03-09 09:54:05   \n",
       "96455  63943bddc261676b46f01ca7ac2f7bd8 2018-02-06 12:58:58   \n",
       "96456  83c1379a015df1e13d02aae0204711ab 2017-08-27 14:46:43   \n",
       "96457  11c177c8e97725db2631073c19f07b62 2018-01-08 21:28:27   \n",
       "96458  66dea50a8b16d9b4dee7af250b4be1a5 2018-03-08 20:57:30   \n",
       "\n",
       "                     customer_unique_id  \n",
       "0      7c396fd4830fd04220f754e42b4e5bff  \n",
       "1      af07308b275d755c9edb36a90c618231  \n",
       "2      3a653a41f6f9fc3d2a113cf8398680e8  \n",
       "3      7c142cf63193a1473d2e66489a9ae977  \n",
       "4      72632f0f9dd73dfee390c9b22eb56dd6  \n",
       "...                                 ...  \n",
       "96454  6359f309b166b0196dbf7ad2ac62bb5a  \n",
       "96455  da62f9e57a76d978d02ab5362c509660  \n",
       "96456  737520a9aad80b3fbbdad19b66b37b30  \n",
       "96457  5097a5312c8b157bb7be58ae360ef43c  \n",
       "96458  60350aa974b26ff12caad89e55993bd6  \n",
       "\n",
       "[96459 rows x 3 columns]"
      ]
     },
     "execution_count": 172,
     "metadata": {},
     "output_type": "execute_result"
    }
   ],
   "source": [
    "buys_by_uniq_id"
   ]
  },
  {
   "cell_type": "code",
   "execution_count": 175,
   "id": "50469129",
   "metadata": {},
   "outputs": [],
   "source": [
    "# Заменяем столбец buy_date на месяц первой покупки (последний день месяца):\n",
    "\n",
    "buys_by_uniq_id.buy_date = buys_by_uniq_id.buy_date.apply(lambda date: date.ceil('1D') + pd.offsets.MonthEnd(1))"
   ]
  },
  {
   "cell_type": "code",
   "execution_count": 176,
   "id": "4bd79f74",
   "metadata": {},
   "outputs": [
    {
     "data": {
      "text/html": [
       "<div>\n",
       "<style scoped>\n",
       "    .dataframe tbody tr th:only-of-type {\n",
       "        vertical-align: middle;\n",
       "    }\n",
       "\n",
       "    .dataframe tbody tr th {\n",
       "        vertical-align: top;\n",
       "    }\n",
       "\n",
       "    .dataframe thead th {\n",
       "        text-align: right;\n",
       "    }\n",
       "</style>\n",
       "<table border=\"1\" class=\"dataframe\">\n",
       "  <thead>\n",
       "    <tr style=\"text-align: right;\">\n",
       "      <th></th>\n",
       "      <th>buy_id</th>\n",
       "      <th>buy_date</th>\n",
       "      <th>customer_unique_id</th>\n",
       "    </tr>\n",
       "  </thead>\n",
       "  <tbody>\n",
       "    <tr>\n",
       "      <th>0</th>\n",
       "      <td>e481f51cbdc54678b7cc49136f2d6af7</td>\n",
       "      <td>2017-11-30</td>\n",
       "      <td>7c396fd4830fd04220f754e42b4e5bff</td>\n",
       "    </tr>\n",
       "    <tr>\n",
       "      <th>1</th>\n",
       "      <td>53cdb2fc8bc7dce0b6741e2150273451</td>\n",
       "      <td>2018-08-31</td>\n",
       "      <td>af07308b275d755c9edb36a90c618231</td>\n",
       "    </tr>\n",
       "    <tr>\n",
       "      <th>2</th>\n",
       "      <td>47770eb9100c2d0c44946d9cf07ec65d</td>\n",
       "      <td>2018-09-30</td>\n",
       "      <td>3a653a41f6f9fc3d2a113cf8398680e8</td>\n",
       "    </tr>\n",
       "    <tr>\n",
       "      <th>3</th>\n",
       "      <td>949d5b44dbf5de918fe9c16f97b45f8a</td>\n",
       "      <td>2017-12-31</td>\n",
       "      <td>7c142cf63193a1473d2e66489a9ae977</td>\n",
       "    </tr>\n",
       "    <tr>\n",
       "      <th>4</th>\n",
       "      <td>ad21c59c0840e6cb83a9ceb5573f8159</td>\n",
       "      <td>2018-03-31</td>\n",
       "      <td>72632f0f9dd73dfee390c9b22eb56dd6</td>\n",
       "    </tr>\n",
       "  </tbody>\n",
       "</table>\n",
       "</div>"
      ],
      "text/plain": [
       "                             buy_id   buy_date  \\\n",
       "0  e481f51cbdc54678b7cc49136f2d6af7 2017-11-30   \n",
       "1  53cdb2fc8bc7dce0b6741e2150273451 2018-08-31   \n",
       "2  47770eb9100c2d0c44946d9cf07ec65d 2018-09-30   \n",
       "3  949d5b44dbf5de918fe9c16f97b45f8a 2017-12-31   \n",
       "4  ad21c59c0840e6cb83a9ceb5573f8159 2018-03-31   \n",
       "\n",
       "                 customer_unique_id  \n",
       "0  7c396fd4830fd04220f754e42b4e5bff  \n",
       "1  af07308b275d755c9edb36a90c618231  \n",
       "2  3a653a41f6f9fc3d2a113cf8398680e8  \n",
       "3  7c142cf63193a1473d2e66489a9ae977  \n",
       "4  72632f0f9dd73dfee390c9b22eb56dd6  "
      ]
     },
     "execution_count": 176,
     "metadata": {},
     "output_type": "execute_result"
    }
   ],
   "source": [
    "buys_by_uniq_id.head()"
   ]
  },
  {
   "cell_type": "markdown",
   "id": "a5ed885e",
   "metadata": {},
   "source": [
    "2. Сгруппируем пользователей в множества по месяцам их покупок:"
   ]
  },
  {
   "cell_type": "code",
   "execution_count": 177,
   "id": "9f27e8c7",
   "metadata": {
    "scrolled": true
   },
   "outputs": [
    {
     "data": {
      "text/html": [
       "<div>\n",
       "<style scoped>\n",
       "    .dataframe tbody tr th:only-of-type {\n",
       "        vertical-align: middle;\n",
       "    }\n",
       "\n",
       "    .dataframe tbody tr th {\n",
       "        vertical-align: top;\n",
       "    }\n",
       "\n",
       "    .dataframe thead th {\n",
       "        text-align: right;\n",
       "    }\n",
       "</style>\n",
       "<table border=\"1\" class=\"dataframe\">\n",
       "  <thead>\n",
       "    <tr style=\"text-align: right;\">\n",
       "      <th></th>\n",
       "      <th>buy_month</th>\n",
       "      <th>customer_uniq_id_set</th>\n",
       "    </tr>\n",
       "  </thead>\n",
       "  <tbody>\n",
       "    <tr>\n",
       "      <th>0</th>\n",
       "      <td>2016-10-31</td>\n",
       "      <td>{830d5b7aaa3b6f1e9ad63703bec97d23}</td>\n",
       "    </tr>\n",
       "    <tr>\n",
       "      <th>1</th>\n",
       "      <td>2016-11-30</td>\n",
       "      <td>{b39c8c284dd7875b68a31449852cc76a, 94e5ea5a8c1...</td>\n",
       "    </tr>\n",
       "    <tr>\n",
       "      <th>2</th>\n",
       "      <td>2017-01-31</td>\n",
       "      <td>{f7b981e8a280e455ac3cbe0d5d171bd1}</td>\n",
       "    </tr>\n",
       "    <tr>\n",
       "      <th>3</th>\n",
       "      <td>2017-02-28</td>\n",
       "      <td>{e021e698833bdeb89dfef3acb2e91f37, 5286f434259...</td>\n",
       "    </tr>\n",
       "    <tr>\n",
       "      <th>4</th>\n",
       "      <td>2017-03-31</td>\n",
       "      <td>{622db09504308011ed01e179e89d0925, ee656a283b8...</td>\n",
       "    </tr>\n",
       "  </tbody>\n",
       "</table>\n",
       "</div>"
      ],
      "text/plain": [
       "   buy_month                               customer_uniq_id_set\n",
       "0 2016-10-31                 {830d5b7aaa3b6f1e9ad63703bec97d23}\n",
       "1 2016-11-30  {b39c8c284dd7875b68a31449852cc76a, 94e5ea5a8c1...\n",
       "2 2017-01-31                 {f7b981e8a280e455ac3cbe0d5d171bd1}\n",
       "3 2017-02-28  {e021e698833bdeb89dfef3acb2e91f37, 5286f434259...\n",
       "4 2017-03-31  {622db09504308011ed01e179e89d0925, ee656a283b8..."
      ]
     },
     "execution_count": 177,
     "metadata": {},
     "output_type": "execute_result"
    }
   ],
   "source": [
    "id_set_by_buy = buys_by_uniq_id.groupby('buy_date', as_index=False).agg({'customer_unique_id':lambda x: x.to_list()})\\\n",
    "                               .rename(columns={'customer_unique_id':'customer_uniq_id_set',\n",
    "                                                'buy_date':'buy_month'})\n",
    "\n",
    "id_set_by_buy.customer_uniq_id_set = id_set_by_buy.customer_uniq_id_set.apply(lambda llist: set(llist))\n",
    "\n",
    "id_set_by_buy.head()"
   ]
  },
  {
   "cell_type": "markdown",
   "id": "1429c74b",
   "metadata": {},
   "source": [
    "Отражены 23 месяца:"
   ]
  },
  {
   "cell_type": "code",
   "execution_count": 178,
   "id": "bf1bb47d",
   "metadata": {
    "scrolled": true
   },
   "outputs": [
    {
     "data": {
      "text/plain": [
       "23"
      ]
     },
     "execution_count": 178,
     "metadata": {},
     "output_type": "execute_result"
    }
   ],
   "source": [
    "len(id_set_by_buy)"
   ]
  },
  {
   "cell_type": "markdown",
   "id": "e7e7ec89",
   "metadata": {},
   "source": [
    "3. Фильтруем из полученного датафрейма только те покупки, которые совершались в месяцы, являющиеся третьими для наших когорт:"
   ]
  },
  {
   "cell_type": "markdown",
   "id": "f0232263",
   "metadata": {},
   "source": [
    "Определим такие месяцы:"
   ]
  },
  {
   "cell_type": "code",
   "execution_count": 179,
   "id": "7c42521e",
   "metadata": {},
   "outputs": [
    {
     "data": {
      "text/plain": [
       "DatetimeIndex(['2017-01-31', '2017-02-28', '2017-03-31', '2017-04-30',\n",
       "               '2017-05-31', '2017-06-30', '2017-07-31', '2017-08-31',\n",
       "               '2017-09-30', '2017-10-31', '2017-11-30', '2017-12-31'],\n",
       "              dtype='datetime64[ns]', freq='M')"
      ]
     },
     "execution_count": 179,
     "metadata": {},
     "output_type": "execute_result"
    }
   ],
   "source": [
    "#Наши изначальные когорты:\n",
    "\n",
    "cohorts"
   ]
  },
  {
   "cell_type": "code",
   "execution_count": 180,
   "id": "2ea395c2",
   "metadata": {},
   "outputs": [
    {
     "data": {
      "text/plain": [
       "12"
      ]
     },
     "execution_count": 180,
     "metadata": {},
     "output_type": "execute_result"
    }
   ],
   "source": [
    "len(cohorts)"
   ]
  },
  {
   "cell_type": "code",
   "execution_count": 185,
   "id": "85fdb292",
   "metadata": {},
   "outputs": [],
   "source": [
    "# Месяцы, являющиеся третьими для наших когорт:\n",
    "\n",
    "third_months = list(map(lambda cohort: cohort + pd.offsets.MonthEnd(3), cohorts))"
   ]
  },
  {
   "cell_type": "code",
   "execution_count": 186,
   "id": "70ebb014",
   "metadata": {
    "scrolled": true
   },
   "outputs": [
    {
     "data": {
      "text/plain": [
       "[Timestamp('2017-04-30 00:00:00', freq='M'),\n",
       " Timestamp('2017-05-31 00:00:00', freq='M'),\n",
       " Timestamp('2017-06-30 00:00:00', freq='M'),\n",
       " Timestamp('2017-07-31 00:00:00', freq='M'),\n",
       " Timestamp('2017-08-31 00:00:00', freq='M'),\n",
       " Timestamp('2017-09-30 00:00:00', freq='M'),\n",
       " Timestamp('2017-10-31 00:00:00', freq='M'),\n",
       " Timestamp('2017-11-30 00:00:00', freq='M'),\n",
       " Timestamp('2017-12-31 00:00:00', freq='M'),\n",
       " Timestamp('2018-01-31 00:00:00', freq='M'),\n",
       " Timestamp('2018-02-28 00:00:00', freq='M'),\n",
       " Timestamp('2018-03-31 00:00:00', freq='M')]"
      ]
     },
     "execution_count": 186,
     "metadata": {},
     "output_type": "execute_result"
    }
   ],
   "source": [
    "third_months"
   ]
  },
  {
   "cell_type": "code",
   "execution_count": 187,
   "id": "88adc271",
   "metadata": {},
   "outputs": [
    {
     "data": {
      "text/plain": [
       "Timestamp('2017-04-30 00:00:00', freq='M')"
      ]
     },
     "execution_count": 187,
     "metadata": {},
     "output_type": "execute_result"
    }
   ],
   "source": [
    "min(third_months)"
   ]
  },
  {
   "cell_type": "code",
   "execution_count": 188,
   "id": "d36e8713",
   "metadata": {},
   "outputs": [
    {
     "data": {
      "text/plain": [
       "Timestamp('2018-03-31 00:00:00', freq='M')"
      ]
     },
     "execution_count": 188,
     "metadata": {},
     "output_type": "execute_result"
    }
   ],
   "source": [
    "max(third_months)"
   ]
  },
  {
   "cell_type": "markdown",
   "id": "f953a24d",
   "metadata": {},
   "source": [
    "Видим, что третьими для наших когорт являются месяцы с апреля 2017 по февраль 2018."
   ]
  },
  {
   "cell_type": "markdown",
   "id": "f106405d",
   "metadata": {},
   "source": [
    "Поэтому отфильтруем из датафрейма **id_set_by_buy** только покупки совершенные между этими месяцами (включительно):"
   ]
  },
  {
   "cell_type": "code",
   "execution_count": 190,
   "id": "af185d0c",
   "metadata": {
    "scrolled": true
   },
   "outputs": [
    {
     "data": {
      "text/html": [
       "<div>\n",
       "<style scoped>\n",
       "    .dataframe tbody tr th:only-of-type {\n",
       "        vertical-align: middle;\n",
       "    }\n",
       "\n",
       "    .dataframe tbody tr th {\n",
       "        vertical-align: top;\n",
       "    }\n",
       "\n",
       "    .dataframe thead th {\n",
       "        text-align: right;\n",
       "    }\n",
       "</style>\n",
       "<table border=\"1\" class=\"dataframe\">\n",
       "  <thead>\n",
       "    <tr style=\"text-align: right;\">\n",
       "      <th></th>\n",
       "      <th>third_month</th>\n",
       "      <th>end_set</th>\n",
       "    </tr>\n",
       "  </thead>\n",
       "  <tbody>\n",
       "    <tr>\n",
       "      <th>5</th>\n",
       "      <td>2017-04-30</td>\n",
       "      <td>{0ef4d7b991cc74c7c13b540f7d3129a3, 2990f218665...</td>\n",
       "    </tr>\n",
       "    <tr>\n",
       "      <th>6</th>\n",
       "      <td>2017-05-31</td>\n",
       "      <td>{dba40b853fb8450879147f77b57efcc2, eb28e67c4c0...</td>\n",
       "    </tr>\n",
       "    <tr>\n",
       "      <th>7</th>\n",
       "      <td>2017-06-30</td>\n",
       "      <td>{7fef4de812315967e0c7b699e88c5753, 1da09dd64e2...</td>\n",
       "    </tr>\n",
       "    <tr>\n",
       "      <th>8</th>\n",
       "      <td>2017-07-31</td>\n",
       "      <td>{3e48bba0b7cb5cecafebde1c1bf0da58, 1cd4ae7e04e...</td>\n",
       "    </tr>\n",
       "    <tr>\n",
       "      <th>9</th>\n",
       "      <td>2017-08-31</td>\n",
       "      <td>{1da09dd64e235e7c2f29a4faff33535c, 33490faf8ba...</td>\n",
       "    </tr>\n",
       "  </tbody>\n",
       "</table>\n",
       "</div>"
      ],
      "text/plain": [
       "  third_month                                            end_set\n",
       "5  2017-04-30  {0ef4d7b991cc74c7c13b540f7d3129a3, 2990f218665...\n",
       "6  2017-05-31  {dba40b853fb8450879147f77b57efcc2, eb28e67c4c0...\n",
       "7  2017-06-30  {7fef4de812315967e0c7b699e88c5753, 1da09dd64e2...\n",
       "8  2017-07-31  {3e48bba0b7cb5cecafebde1c1bf0da58, 1cd4ae7e04e...\n",
       "9  2017-08-31  {1da09dd64e235e7c2f29a4faff33535c, 33490faf8ba..."
      ]
     },
     "execution_count": 190,
     "metadata": {},
     "output_type": "execute_result"
    }
   ],
   "source": [
    "min_month = min(third_months)\n",
    "max_month = max(third_months)\n",
    "\n",
    "end_by_thirdmonth = id_set_by_buy.query('buy_month >= @min_month and buy_month <= @max_month')\\\n",
    "                                 .rename(columns={'buy_month':'third_month', 'customer_uniq_id_set':'end_set'})\\\n",
    "                                 .sort_values(by='third_month')\n",
    "\n",
    "end_by_thirdmonth.head()"
   ]
  },
  {
   "cell_type": "code",
   "execution_count": 195,
   "id": "689bc8b6",
   "metadata": {},
   "outputs": [
    {
     "data": {
      "text/plain": [
       "12"
      ]
     },
     "execution_count": 195,
     "metadata": {},
     "output_type": "execute_result"
    }
   ],
   "source": [
    "# Убеждаемся, что количество \"третьих\" месяцев равно количеству когорт (должно получиться 12):\n",
    "\n",
    "len(end_by_thirdmonth)"
   ]
  },
  {
   "cell_type": "markdown",
   "id": "f2399943",
   "metadata": {},
   "source": [
    "# "
   ]
  },
  {
   "cell_type": "markdown",
   "id": "e4083a4c",
   "metadata": {},
   "source": [
    "### *6. Соединяем полученные 2 датафрейма ***begin_by_cohort*** и ***end_by_thirdmonth***:*"
   ]
  },
  {
   "cell_type": "markdown",
   "id": "4b77441d",
   "metadata": {},
   "source": [
    "#### *Столбец end_set отражает множества (количества) клиентов на конец третьего месяца:*"
   ]
  },
  {
   "cell_type": "code",
   "execution_count": 221,
   "id": "9223303b",
   "metadata": {},
   "outputs": [
    {
     "data": {
      "text/html": [
       "<div>\n",
       "<style scoped>\n",
       "    .dataframe tbody tr th:only-of-type {\n",
       "        vertical-align: middle;\n",
       "    }\n",
       "\n",
       "    .dataframe tbody tr th {\n",
       "        vertical-align: top;\n",
       "    }\n",
       "\n",
       "    .dataframe thead th {\n",
       "        text-align: right;\n",
       "    }\n",
       "</style>\n",
       "<table border=\"1\" class=\"dataframe\">\n",
       "  <thead>\n",
       "    <tr style=\"text-align: right;\">\n",
       "      <th></th>\n",
       "      <th>cohort</th>\n",
       "      <th>begin_set</th>\n",
       "      <th>third_month</th>\n",
       "      <th>end_set</th>\n",
       "    </tr>\n",
       "  </thead>\n",
       "  <tbody>\n",
       "    <tr>\n",
       "      <th>0</th>\n",
       "      <td>2017-01-31</td>\n",
       "      <td>{e021e698833bdeb89dfef3acb2e91f37, 5286f434259...</td>\n",
       "      <td>2017-04-30</td>\n",
       "      <td>{0ef4d7b991cc74c7c13b540f7d3129a3, 2990f218665...</td>\n",
       "    </tr>\n",
       "    <tr>\n",
       "      <th>1</th>\n",
       "      <td>2017-02-28</td>\n",
       "      <td>{622db09504308011ed01e179e89d0925, 602d8c1d6b1...</td>\n",
       "      <td>2017-05-31</td>\n",
       "      <td>{dba40b853fb8450879147f77b57efcc2, eb28e67c4c0...</td>\n",
       "    </tr>\n",
       "    <tr>\n",
       "      <th>2</th>\n",
       "      <td>2017-03-31</td>\n",
       "      <td>{0ef4d7b991cc74c7c13b540f7d3129a3, 2990f218665...</td>\n",
       "      <td>2017-06-30</td>\n",
       "      <td>{7fef4de812315967e0c7b699e88c5753, 1da09dd64e2...</td>\n",
       "    </tr>\n",
       "    <tr>\n",
       "      <th>3</th>\n",
       "      <td>2017-04-30</td>\n",
       "      <td>{dba40b853fb8450879147f77b57efcc2, eb28e67c4c0...</td>\n",
       "      <td>2017-07-31</td>\n",
       "      <td>{3e48bba0b7cb5cecafebde1c1bf0da58, 1cd4ae7e04e...</td>\n",
       "    </tr>\n",
       "    <tr>\n",
       "      <th>4</th>\n",
       "      <td>2017-05-31</td>\n",
       "      <td>{7fef4de812315967e0c7b699e88c5753, 1da09dd64e2...</td>\n",
       "      <td>2017-08-31</td>\n",
       "      <td>{1da09dd64e235e7c2f29a4faff33535c, 33490faf8ba...</td>\n",
       "    </tr>\n",
       "    <tr>\n",
       "      <th>5</th>\n",
       "      <td>2017-06-30</td>\n",
       "      <td>{3e48bba0b7cb5cecafebde1c1bf0da58, 1cd4ae7e04e...</td>\n",
       "      <td>2017-09-30</td>\n",
       "      <td>{96caa408e9ca13ba035233f9ad9fd15f, 3d5828dbc0f...</td>\n",
       "    </tr>\n",
       "    <tr>\n",
       "      <th>6</th>\n",
       "      <td>2017-07-31</td>\n",
       "      <td>{33490faf8baed348c792ac23f8184488, 1bb511ed18c...</td>\n",
       "      <td>2017-10-31</td>\n",
       "      <td>{508147067e5a8fb40c9e47ba28aab934, 8edc3521853...</td>\n",
       "    </tr>\n",
       "    <tr>\n",
       "      <th>7</th>\n",
       "      <td>2017-08-31</td>\n",
       "      <td>{96caa408e9ca13ba035233f9ad9fd15f, 3d5828dbc0f...</td>\n",
       "      <td>2017-11-30</td>\n",
       "      <td>{2d2b42b5afdd4aef166806ef0c564c47, dc07569e18b...</td>\n",
       "    </tr>\n",
       "    <tr>\n",
       "      <th>8</th>\n",
       "      <td>2017-09-30</td>\n",
       "      <td>{508147067e5a8fb40c9e47ba28aab934, 8edc3521853...</td>\n",
       "      <td>2017-12-31</td>\n",
       "      <td>{cb36a3e948bd39985972470cffff43c5, d00cb931570...</td>\n",
       "    </tr>\n",
       "    <tr>\n",
       "      <th>9</th>\n",
       "      <td>2017-10-31</td>\n",
       "      <td>{2d2b42b5afdd4aef166806ef0c564c47, dc07569e18b...</td>\n",
       "      <td>2018-01-31</td>\n",
       "      <td>{5b47ada4d688a13c2cdc4639e332c272, 7fc951e458a...</td>\n",
       "    </tr>\n",
       "    <tr>\n",
       "      <th>10</th>\n",
       "      <td>2017-11-30</td>\n",
       "      <td>{cb36a3e948bd39985972470cffff43c5, d00cb931570...</td>\n",
       "      <td>2018-02-28</td>\n",
       "      <td>{96b0248a8e06ac1cbd7cca0a0d3663ef, a7362d12145...</td>\n",
       "    </tr>\n",
       "    <tr>\n",
       "      <th>11</th>\n",
       "      <td>2017-12-31</td>\n",
       "      <td>{5b47ada4d688a13c2cdc4639e332c272, 7fc951e458a...</td>\n",
       "      <td>2018-03-31</td>\n",
       "      <td>{79c992b34800f7c200ac412a676e4808, e8adbce59d8...</td>\n",
       "    </tr>\n",
       "  </tbody>\n",
       "</table>\n",
       "</div>"
      ],
      "text/plain": [
       "       cohort                                          begin_set third_month  \\\n",
       "0  2017-01-31  {e021e698833bdeb89dfef3acb2e91f37, 5286f434259...  2017-04-30   \n",
       "1  2017-02-28  {622db09504308011ed01e179e89d0925, 602d8c1d6b1...  2017-05-31   \n",
       "2  2017-03-31  {0ef4d7b991cc74c7c13b540f7d3129a3, 2990f218665...  2017-06-30   \n",
       "3  2017-04-30  {dba40b853fb8450879147f77b57efcc2, eb28e67c4c0...  2017-07-31   \n",
       "4  2017-05-31  {7fef4de812315967e0c7b699e88c5753, 1da09dd64e2...  2017-08-31   \n",
       "5  2017-06-30  {3e48bba0b7cb5cecafebde1c1bf0da58, 1cd4ae7e04e...  2017-09-30   \n",
       "6  2017-07-31  {33490faf8baed348c792ac23f8184488, 1bb511ed18c...  2017-10-31   \n",
       "7  2017-08-31  {96caa408e9ca13ba035233f9ad9fd15f, 3d5828dbc0f...  2017-11-30   \n",
       "8  2017-09-30  {508147067e5a8fb40c9e47ba28aab934, 8edc3521853...  2017-12-31   \n",
       "9  2017-10-31  {2d2b42b5afdd4aef166806ef0c564c47, dc07569e18b...  2018-01-31   \n",
       "10 2017-11-30  {cb36a3e948bd39985972470cffff43c5, d00cb931570...  2018-02-28   \n",
       "11 2017-12-31  {5b47ada4d688a13c2cdc4639e332c272, 7fc951e458a...  2018-03-31   \n",
       "\n",
       "                                              end_set  \n",
       "0   {0ef4d7b991cc74c7c13b540f7d3129a3, 2990f218665...  \n",
       "1   {dba40b853fb8450879147f77b57efcc2, eb28e67c4c0...  \n",
       "2   {7fef4de812315967e0c7b699e88c5753, 1da09dd64e2...  \n",
       "3   {3e48bba0b7cb5cecafebde1c1bf0da58, 1cd4ae7e04e...  \n",
       "4   {1da09dd64e235e7c2f29a4faff33535c, 33490faf8ba...  \n",
       "5   {96caa408e9ca13ba035233f9ad9fd15f, 3d5828dbc0f...  \n",
       "6   {508147067e5a8fb40c9e47ba28aab934, 8edc3521853...  \n",
       "7   {2d2b42b5afdd4aef166806ef0c564c47, dc07569e18b...  \n",
       "8   {cb36a3e948bd39985972470cffff43c5, d00cb931570...  \n",
       "9   {5b47ada4d688a13c2cdc4639e332c272, 7fc951e458a...  \n",
       "10  {96b0248a8e06ac1cbd7cca0a0d3663ef, a7362d12145...  \n",
       "11  {79c992b34800f7c200ac412a676e4808, e8adbce59d8...  "
      ]
     },
     "execution_count": 221,
     "metadata": {},
     "output_type": "execute_result"
    }
   ],
   "source": [
    "general = pd.concat([begin_by_cohort.reset_index(), end_by_thirdmonth.reset_index()], ignore_index=False, axis=1)\\\n",
    "            [['cohort', 'begin_set', 'third_month', 'end_set']]\n",
    "\n",
    "general"
   ]
  },
  {
   "cell_type": "markdown",
   "id": "cbdfb899",
   "metadata": {},
   "source": [
    "### *7. Считаем Customer Retention Rate за 3 месяца для наших когорт:*"
   ]
  },
  {
   "cell_type": "markdown",
   "id": "5df45e44",
   "metadata": {},
   "source": [
    "1. Добавляем столбец удержанных в течение 3 месяцев клиентов (клиенты которые сделали первую покупку 3 месяца назад и сделали ее спустя 3 месяца):"
   ]
  },
  {
   "cell_type": "code",
   "execution_count": 222,
   "id": "cedddf2e",
   "metadata": {},
   "outputs": [],
   "source": [
    "#Применяем метод пересечения множеств begin_set и end_set:\n",
    "\n",
    "general['common_set'] = [general.begin_set[i].intersection(general.end_set[i]) for i in range(len(general))]"
   ]
  },
  {
   "cell_type": "code",
   "execution_count": 223,
   "id": "acbdadb1",
   "metadata": {
    "scrolled": false
   },
   "outputs": [
    {
     "data": {
      "text/html": [
       "<div>\n",
       "<style scoped>\n",
       "    .dataframe tbody tr th:only-of-type {\n",
       "        vertical-align: middle;\n",
       "    }\n",
       "\n",
       "    .dataframe tbody tr th {\n",
       "        vertical-align: top;\n",
       "    }\n",
       "\n",
       "    .dataframe thead th {\n",
       "        text-align: right;\n",
       "    }\n",
       "</style>\n",
       "<table border=\"1\" class=\"dataframe\">\n",
       "  <thead>\n",
       "    <tr style=\"text-align: right;\">\n",
       "      <th></th>\n",
       "      <th>cohort</th>\n",
       "      <th>begin_set</th>\n",
       "      <th>third_month</th>\n",
       "      <th>end_set</th>\n",
       "      <th>common_set</th>\n",
       "    </tr>\n",
       "  </thead>\n",
       "  <tbody>\n",
       "    <tr>\n",
       "      <th>0</th>\n",
       "      <td>2017-01-31</td>\n",
       "      <td>{e021e698833bdeb89dfef3acb2e91f37, 5286f434259...</td>\n",
       "      <td>2017-04-30</td>\n",
       "      <td>{0ef4d7b991cc74c7c13b540f7d3129a3, 2990f218665...</td>\n",
       "      <td>{bc2387c48428a2e128eaa3d5b18b3591}</td>\n",
       "    </tr>\n",
       "    <tr>\n",
       "      <th>1</th>\n",
       "      <td>2017-02-28</td>\n",
       "      <td>{622db09504308011ed01e179e89d0925, 602d8c1d6b1...</td>\n",
       "      <td>2017-05-31</td>\n",
       "      <td>{dba40b853fb8450879147f77b57efcc2, eb28e67c4c0...</td>\n",
       "      <td>{e5bdbd18812e42788e7cbad7058fc0ab, a5c806ebe5b...</td>\n",
       "    </tr>\n",
       "    <tr>\n",
       "      <th>2</th>\n",
       "      <td>2017-03-31</td>\n",
       "      <td>{0ef4d7b991cc74c7c13b540f7d3129a3, 2990f218665...</td>\n",
       "      <td>2017-06-30</td>\n",
       "      <td>{7fef4de812315967e0c7b699e88c5753, 1da09dd64e2...</td>\n",
       "      <td>{015557c9912277312b9073947804a7ba, cbebce165db...</td>\n",
       "    </tr>\n",
       "    <tr>\n",
       "      <th>3</th>\n",
       "      <td>2017-04-30</td>\n",
       "      <td>{dba40b853fb8450879147f77b57efcc2, eb28e67c4c0...</td>\n",
       "      <td>2017-07-31</td>\n",
       "      <td>{3e48bba0b7cb5cecafebde1c1bf0da58, 1cd4ae7e04e...</td>\n",
       "      <td>{8d6512fa0e1c5cdbd789b956de79fe2f, a38b86dce31...</td>\n",
       "    </tr>\n",
       "    <tr>\n",
       "      <th>4</th>\n",
       "      <td>2017-05-31</td>\n",
       "      <td>{7fef4de812315967e0c7b699e88c5753, 1da09dd64e2...</td>\n",
       "      <td>2017-08-31</td>\n",
       "      <td>{1da09dd64e235e7c2f29a4faff33535c, 33490faf8ba...</td>\n",
       "      <td>{1da09dd64e235e7c2f29a4faff33535c, 05e52c1f96f...</td>\n",
       "    </tr>\n",
       "  </tbody>\n",
       "</table>\n",
       "</div>"
      ],
      "text/plain": [
       "      cohort                                          begin_set third_month  \\\n",
       "0 2017-01-31  {e021e698833bdeb89dfef3acb2e91f37, 5286f434259...  2017-04-30   \n",
       "1 2017-02-28  {622db09504308011ed01e179e89d0925, 602d8c1d6b1...  2017-05-31   \n",
       "2 2017-03-31  {0ef4d7b991cc74c7c13b540f7d3129a3, 2990f218665...  2017-06-30   \n",
       "3 2017-04-30  {dba40b853fb8450879147f77b57efcc2, eb28e67c4c0...  2017-07-31   \n",
       "4 2017-05-31  {7fef4de812315967e0c7b699e88c5753, 1da09dd64e2...  2017-08-31   \n",
       "\n",
       "                                             end_set  \\\n",
       "0  {0ef4d7b991cc74c7c13b540f7d3129a3, 2990f218665...   \n",
       "1  {dba40b853fb8450879147f77b57efcc2, eb28e67c4c0...   \n",
       "2  {7fef4de812315967e0c7b699e88c5753, 1da09dd64e2...   \n",
       "3  {3e48bba0b7cb5cecafebde1c1bf0da58, 1cd4ae7e04e...   \n",
       "4  {1da09dd64e235e7c2f29a4faff33535c, 33490faf8ba...   \n",
       "\n",
       "                                          common_set  \n",
       "0                 {bc2387c48428a2e128eaa3d5b18b3591}  \n",
       "1  {e5bdbd18812e42788e7cbad7058fc0ab, a5c806ebe5b...  \n",
       "2  {015557c9912277312b9073947804a7ba, cbebce165db...  \n",
       "3  {8d6512fa0e1c5cdbd789b956de79fe2f, a38b86dce31...  \n",
       "4  {1da09dd64e235e7c2f29a4faff33535c, 05e52c1f96f...  "
      ]
     },
     "execution_count": 223,
     "metadata": {},
     "output_type": "execute_result"
    }
   ],
   "source": [
    "general.head()"
   ]
  },
  {
   "cell_type": "markdown",
   "id": "c8697ed7",
   "metadata": {},
   "source": [
    "2. Преобразуем столбцы begin_set, end_set, common_set в количества пользователей внутри их множеств:"
   ]
  },
  {
   "cell_type": "code",
   "execution_count": 224,
   "id": "465e9cd0",
   "metadata": {},
   "outputs": [],
   "source": [
    "# Заменяем множества пользователей на количество пользователей в этих множествах:\n",
    "\n",
    "general.begin_set = general.begin_set.apply(lambda id_set: len(id_set))\n",
    "general.end_set = general.end_set.apply(lambda id_set: len(id_set))\n",
    "general.common_set = general.common_set.apply(lambda id_set: len(id_set))"
   ]
  },
  {
   "cell_type": "code",
   "execution_count": 225,
   "id": "df512d0b",
   "metadata": {},
   "outputs": [
    {
     "data": {
      "text/html": [
       "<div>\n",
       "<style scoped>\n",
       "    .dataframe tbody tr th:only-of-type {\n",
       "        vertical-align: middle;\n",
       "    }\n",
       "\n",
       "    .dataframe tbody tr th {\n",
       "        vertical-align: top;\n",
       "    }\n",
       "\n",
       "    .dataframe thead th {\n",
       "        text-align: right;\n",
       "    }\n",
       "</style>\n",
       "<table border=\"1\" class=\"dataframe\">\n",
       "  <thead>\n",
       "    <tr style=\"text-align: right;\">\n",
       "      <th></th>\n",
       "      <th>cohort</th>\n",
       "      <th>begin_qty</th>\n",
       "      <th>third_month</th>\n",
       "      <th>end_qty</th>\n",
       "      <th>retentioned_qty</th>\n",
       "    </tr>\n",
       "  </thead>\n",
       "  <tbody>\n",
       "    <tr>\n",
       "      <th>0</th>\n",
       "      <td>2017-01-31</td>\n",
       "      <td>610</td>\n",
       "      <td>2017-04-30</td>\n",
       "      <td>2462</td>\n",
       "      <td>1</td>\n",
       "    </tr>\n",
       "    <tr>\n",
       "      <th>1</th>\n",
       "      <td>2017-02-28</td>\n",
       "      <td>1641</td>\n",
       "      <td>2017-05-31</td>\n",
       "      <td>2281</td>\n",
       "      <td>4</td>\n",
       "    </tr>\n",
       "    <tr>\n",
       "      <th>2</th>\n",
       "      <td>2017-03-31</td>\n",
       "      <td>2457</td>\n",
       "      <td>2017-06-30</td>\n",
       "      <td>3401</td>\n",
       "      <td>8</td>\n",
       "    </tr>\n",
       "    <tr>\n",
       "      <th>3</th>\n",
       "      <td>2017-04-30</td>\n",
       "      <td>2263</td>\n",
       "      <td>2017-07-31</td>\n",
       "      <td>3092</td>\n",
       "      <td>5</td>\n",
       "    </tr>\n",
       "    <tr>\n",
       "      <th>4</th>\n",
       "      <td>2017-05-31</td>\n",
       "      <td>3372</td>\n",
       "      <td>2017-08-31</td>\n",
       "      <td>3751</td>\n",
       "      <td>17</td>\n",
       "    </tr>\n",
       "    <tr>\n",
       "      <th>5</th>\n",
       "      <td>2017-06-30</td>\n",
       "      <td>3052</td>\n",
       "      <td>2017-09-30</td>\n",
       "      <td>4056</td>\n",
       "      <td>13</td>\n",
       "    </tr>\n",
       "    <tr>\n",
       "      <th>6</th>\n",
       "      <td>2017-07-31</td>\n",
       "      <td>3701</td>\n",
       "      <td>2017-10-31</td>\n",
       "      <td>4182</td>\n",
       "      <td>11</td>\n",
       "    </tr>\n",
       "    <tr>\n",
       "      <th>7</th>\n",
       "      <td>2017-08-31</td>\n",
       "      <td>4000</td>\n",
       "      <td>2017-11-30</td>\n",
       "      <td>4337</td>\n",
       "      <td>16</td>\n",
       "    </tr>\n",
       "    <tr>\n",
       "      <th>8</th>\n",
       "      <td>2017-09-30</td>\n",
       "      <td>4102</td>\n",
       "      <td>2017-12-31</td>\n",
       "      <td>6909</td>\n",
       "      <td>20</td>\n",
       "    </tr>\n",
       "    <tr>\n",
       "      <th>9</th>\n",
       "      <td>2017-10-31</td>\n",
       "      <td>4249</td>\n",
       "      <td>2018-01-31</td>\n",
       "      <td>5851</td>\n",
       "      <td>12</td>\n",
       "    </tr>\n",
       "    <tr>\n",
       "      <th>10</th>\n",
       "      <td>2017-11-30</td>\n",
       "      <td>6786</td>\n",
       "      <td>2018-02-28</td>\n",
       "      <td>6654</td>\n",
       "      <td>20</td>\n",
       "    </tr>\n",
       "    <tr>\n",
       "      <th>11</th>\n",
       "      <td>2017-12-31</td>\n",
       "      <td>5730</td>\n",
       "      <td>2018-03-31</td>\n",
       "      <td>6311</td>\n",
       "      <td>16</td>\n",
       "    </tr>\n",
       "  </tbody>\n",
       "</table>\n",
       "</div>"
      ],
      "text/plain": [
       "       cohort  begin_qty third_month  end_qty  retentioned_qty\n",
       "0  2017-01-31        610  2017-04-30     2462                1\n",
       "1  2017-02-28       1641  2017-05-31     2281                4\n",
       "2  2017-03-31       2457  2017-06-30     3401                8\n",
       "3  2017-04-30       2263  2017-07-31     3092                5\n",
       "4  2017-05-31       3372  2017-08-31     3751               17\n",
       "5  2017-06-30       3052  2017-09-30     4056               13\n",
       "6  2017-07-31       3701  2017-10-31     4182               11\n",
       "7  2017-08-31       4000  2017-11-30     4337               16\n",
       "8  2017-09-30       4102  2017-12-31     6909               20\n",
       "9  2017-10-31       4249  2018-01-31     5851               12\n",
       "10 2017-11-30       6786  2018-02-28     6654               20\n",
       "11 2017-12-31       5730  2018-03-31     6311               16"
      ]
     },
     "execution_count": 225,
     "metadata": {},
     "output_type": "execute_result"
    }
   ],
   "source": [
    "# Переименовываем столбцы:\n",
    "\n",
    "general_by_qty = general.rename(columns={'begin_set':'begin_qty', 'end_set':'end_qty', 'common_set':'retentioned_qty'})\n",
    "\n",
    "general_by_qty"
   ]
  },
  {
   "cell_type": "markdown",
   "id": "863eeafb",
   "metadata": {},
   "source": [
    "Таким образом, полученные значения отражают:\n",
    "- begin_qty - число пользователей вначале периода\n",
    "- end_qty - число пользователей в конце периода\n",
    "- retentioned_qty - число удержанных пользователей"
   ]
  },
  {
   "cell_type": "markdown",
   "id": "444ec813",
   "metadata": {},
   "source": [
    "3. Считаем метрику Customer Retention Rate за три месяца для наших когорт:"
   ]
  },
  {
   "cell_type": "code",
   "execution_count": 226,
   "id": "26fff485",
   "metadata": {},
   "outputs": [],
   "source": [
    "general_by_qty['CRR_percentage'] = round((general_by_qty.retentioned_qty / general_by_qty.begin_qty)*100, 3)"
   ]
  },
  {
   "cell_type": "markdown",
   "id": "0393175b",
   "metadata": {},
   "source": [
    "4. Оставляем только столбцы - когорты и CRR:"
   ]
  },
  {
   "cell_type": "code",
   "execution_count": 229,
   "id": "22381075",
   "metadata": {},
   "outputs": [],
   "source": [
    "# Преобразуем столбец cohort в название месяца словами (для читабельности):\n",
    "\n",
    "\n",
    "general_by_qty['cohort'] = general_by_qty['cohort'].apply(lambda x: x.strftime('%b %Y'))"
   ]
  },
  {
   "cell_type": "code",
   "execution_count": 230,
   "id": "dae7ea96",
   "metadata": {},
   "outputs": [
    {
     "data": {
      "text/html": [
       "<div>\n",
       "<style scoped>\n",
       "    .dataframe tbody tr th:only-of-type {\n",
       "        vertical-align: middle;\n",
       "    }\n",
       "\n",
       "    .dataframe tbody tr th {\n",
       "        vertical-align: top;\n",
       "    }\n",
       "\n",
       "    .dataframe thead th {\n",
       "        text-align: right;\n",
       "    }\n",
       "</style>\n",
       "<table border=\"1\" class=\"dataframe\">\n",
       "  <thead>\n",
       "    <tr style=\"text-align: right;\">\n",
       "      <th></th>\n",
       "      <th>cohort</th>\n",
       "      <th>CRR_percentage</th>\n",
       "    </tr>\n",
       "  </thead>\n",
       "  <tbody>\n",
       "    <tr>\n",
       "      <th>0</th>\n",
       "      <td>Jan 2017</td>\n",
       "      <td>0.164</td>\n",
       "    </tr>\n",
       "    <tr>\n",
       "      <th>1</th>\n",
       "      <td>Feb 2017</td>\n",
       "      <td>0.244</td>\n",
       "    </tr>\n",
       "    <tr>\n",
       "      <th>2</th>\n",
       "      <td>Mar 2017</td>\n",
       "      <td>0.326</td>\n",
       "    </tr>\n",
       "    <tr>\n",
       "      <th>3</th>\n",
       "      <td>Apr 2017</td>\n",
       "      <td>0.221</td>\n",
       "    </tr>\n",
       "    <tr>\n",
       "      <th>4</th>\n",
       "      <td>May 2017</td>\n",
       "      <td>0.504</td>\n",
       "    </tr>\n",
       "    <tr>\n",
       "      <th>5</th>\n",
       "      <td>Jun 2017</td>\n",
       "      <td>0.426</td>\n",
       "    </tr>\n",
       "    <tr>\n",
       "      <th>6</th>\n",
       "      <td>Jul 2017</td>\n",
       "      <td>0.297</td>\n",
       "    </tr>\n",
       "    <tr>\n",
       "      <th>7</th>\n",
       "      <td>Aug 2017</td>\n",
       "      <td>0.400</td>\n",
       "    </tr>\n",
       "    <tr>\n",
       "      <th>8</th>\n",
       "      <td>Sep 2017</td>\n",
       "      <td>0.488</td>\n",
       "    </tr>\n",
       "    <tr>\n",
       "      <th>9</th>\n",
       "      <td>Oct 2017</td>\n",
       "      <td>0.282</td>\n",
       "    </tr>\n",
       "    <tr>\n",
       "      <th>10</th>\n",
       "      <td>Nov 2017</td>\n",
       "      <td>0.295</td>\n",
       "    </tr>\n",
       "    <tr>\n",
       "      <th>11</th>\n",
       "      <td>Dec 2017</td>\n",
       "      <td>0.279</td>\n",
       "    </tr>\n",
       "  </tbody>\n",
       "</table>\n",
       "</div>"
      ],
      "text/plain": [
       "      cohort  CRR_percentage\n",
       "0   Jan 2017           0.164\n",
       "1   Feb 2017           0.244\n",
       "2   Mar 2017           0.326\n",
       "3   Apr 2017           0.221\n",
       "4   May 2017           0.504\n",
       "5   Jun 2017           0.426\n",
       "6   Jul 2017           0.297\n",
       "7   Aug 2017           0.400\n",
       "8   Sep 2017           0.488\n",
       "9   Oct 2017           0.282\n",
       "10  Nov 2017           0.295\n",
       "11  Dec 2017           0.279"
      ]
     },
     "execution_count": 230,
     "metadata": {},
     "output_type": "execute_result"
    }
   ],
   "source": [
    "general_by_qty[['cohort', 'CRR_percentage']]"
   ]
  },
  {
   "cell_type": "markdown",
   "id": "38a14304",
   "metadata": {},
   "source": [
    "### *8. Узнаем когорту с самым высоким retention на 3й месяц (ОТВЕТ):*"
   ]
  },
  {
   "cell_type": "code",
   "execution_count": 233,
   "id": "dd682490",
   "metadata": {},
   "outputs": [
    {
     "data": {
      "text/html": [
       "<div>\n",
       "<style scoped>\n",
       "    .dataframe tbody tr th:only-of-type {\n",
       "        vertical-align: middle;\n",
       "    }\n",
       "\n",
       "    .dataframe tbody tr th {\n",
       "        vertical-align: top;\n",
       "    }\n",
       "\n",
       "    .dataframe thead th {\n",
       "        text-align: right;\n",
       "    }\n",
       "</style>\n",
       "<table border=\"1\" class=\"dataframe\">\n",
       "  <thead>\n",
       "    <tr style=\"text-align: right;\">\n",
       "      <th></th>\n",
       "      <th>cohort</th>\n",
       "      <th>CRR_percentage</th>\n",
       "    </tr>\n",
       "  </thead>\n",
       "  <tbody>\n",
       "    <tr>\n",
       "      <th>4</th>\n",
       "      <td>May 2017</td>\n",
       "      <td>0.504</td>\n",
       "    </tr>\n",
       "    <tr>\n",
       "      <th>8</th>\n",
       "      <td>Sep 2017</td>\n",
       "      <td>0.488</td>\n",
       "    </tr>\n",
       "    <tr>\n",
       "      <th>5</th>\n",
       "      <td>Jun 2017</td>\n",
       "      <td>0.426</td>\n",
       "    </tr>\n",
       "    <tr>\n",
       "      <th>7</th>\n",
       "      <td>Aug 2017</td>\n",
       "      <td>0.400</td>\n",
       "    </tr>\n",
       "    <tr>\n",
       "      <th>2</th>\n",
       "      <td>Mar 2017</td>\n",
       "      <td>0.326</td>\n",
       "    </tr>\n",
       "    <tr>\n",
       "      <th>6</th>\n",
       "      <td>Jul 2017</td>\n",
       "      <td>0.297</td>\n",
       "    </tr>\n",
       "    <tr>\n",
       "      <th>10</th>\n",
       "      <td>Nov 2017</td>\n",
       "      <td>0.295</td>\n",
       "    </tr>\n",
       "    <tr>\n",
       "      <th>9</th>\n",
       "      <td>Oct 2017</td>\n",
       "      <td>0.282</td>\n",
       "    </tr>\n",
       "    <tr>\n",
       "      <th>11</th>\n",
       "      <td>Dec 2017</td>\n",
       "      <td>0.279</td>\n",
       "    </tr>\n",
       "    <tr>\n",
       "      <th>1</th>\n",
       "      <td>Feb 2017</td>\n",
       "      <td>0.244</td>\n",
       "    </tr>\n",
       "    <tr>\n",
       "      <th>3</th>\n",
       "      <td>Apr 2017</td>\n",
       "      <td>0.221</td>\n",
       "    </tr>\n",
       "    <tr>\n",
       "      <th>0</th>\n",
       "      <td>Jan 2017</td>\n",
       "      <td>0.164</td>\n",
       "    </tr>\n",
       "  </tbody>\n",
       "</table>\n",
       "</div>"
      ],
      "text/plain": [
       "      cohort  CRR_percentage\n",
       "4   May 2017           0.504\n",
       "8   Sep 2017           0.488\n",
       "5   Jun 2017           0.426\n",
       "7   Aug 2017           0.400\n",
       "2   Mar 2017           0.326\n",
       "6   Jul 2017           0.297\n",
       "10  Nov 2017           0.295\n",
       "9   Oct 2017           0.282\n",
       "11  Dec 2017           0.279\n",
       "1   Feb 2017           0.244\n",
       "3   Apr 2017           0.221\n",
       "0   Jan 2017           0.164"
      ]
     },
     "execution_count": 233,
     "metadata": {},
     "output_type": "execute_result"
    }
   ],
   "source": [
    "# Сортируем когорты по убыванию CRR:\n",
    "\n",
    "general_by_qty.sort_values(by='CRR_percentage', ascending=False)\\\n",
    "              [['cohort', 'CRR_percentage']]"
   ]
  },
  {
   "cell_type": "markdown",
   "id": "959443c8",
   "metadata": {},
   "source": [
    "### *ОТВЕТ: Май 2017*"
   ]
  },
  {
   "cell_type": "markdown",
   "id": "c83b2b04",
   "metadata": {},
   "source": [
    "# "
   ]
  },
  {
   "cell_type": "markdown",
   "id": "bf46a94d",
   "metadata": {},
   "source": [
    "***"
   ]
  },
  {
   "cell_type": "markdown",
   "id": "8f671c5b",
   "metadata": {},
   "source": [
    "# **Задание 5.**"
   ]
  },
  {
   "cell_type": "markdown",
   "id": "6545f03f",
   "metadata": {},
   "source": [
    "## Построй RFM-сегментацию пользователей, чтобы качественно оценить свою аудиторию. "
   ]
  },
  {
   "cell_type": "markdown",
   "id": "90dd8163",
   "metadata": {},
   "source": [
    "### *1. Вновь обращаемся к датафрейму с покупками:*"
   ]
  },
  {
   "cell_type": "code",
   "execution_count": 242,
   "id": "423fcecb",
   "metadata": {
    "scrolled": true
   },
   "outputs": [
    {
     "data": {
      "text/html": [
       "<div>\n",
       "<style scoped>\n",
       "    .dataframe tbody tr th:only-of-type {\n",
       "        vertical-align: middle;\n",
       "    }\n",
       "\n",
       "    .dataframe tbody tr th {\n",
       "        vertical-align: top;\n",
       "    }\n",
       "\n",
       "    .dataframe thead th {\n",
       "        text-align: right;\n",
       "    }\n",
       "</style>\n",
       "<table border=\"1\" class=\"dataframe\">\n",
       "  <thead>\n",
       "    <tr style=\"text-align: right;\">\n",
       "      <th></th>\n",
       "      <th>order_id</th>\n",
       "      <th>customer_id</th>\n",
       "      <th>order_status</th>\n",
       "      <th>order_purchase_timestamp</th>\n",
       "      <th>order_approved_at</th>\n",
       "      <th>order_delivered_carrier_date</th>\n",
       "      <th>order_delivered_customer_date</th>\n",
       "      <th>order_estimated_delivery_date</th>\n",
       "    </tr>\n",
       "  </thead>\n",
       "  <tbody>\n",
       "    <tr>\n",
       "      <th>0</th>\n",
       "      <td>e481f51cbdc54678b7cc49136f2d6af7</td>\n",
       "      <td>9ef432eb6251297304e76186b10a928d</td>\n",
       "      <td>delivered</td>\n",
       "      <td>2017-10-02 10:56:33</td>\n",
       "      <td>2017-10-02 11:07:15</td>\n",
       "      <td>2017-10-04 19:55:00</td>\n",
       "      <td>2017-10-10 21:25:13</td>\n",
       "      <td>2017-10-18</td>\n",
       "    </tr>\n",
       "    <tr>\n",
       "      <th>1</th>\n",
       "      <td>53cdb2fc8bc7dce0b6741e2150273451</td>\n",
       "      <td>b0830fb4747a6c6d20dea0b8c802d7ef</td>\n",
       "      <td>delivered</td>\n",
       "      <td>2018-07-24 20:41:37</td>\n",
       "      <td>2018-07-26 03:24:27</td>\n",
       "      <td>2018-07-26 14:31:00</td>\n",
       "      <td>2018-08-07 15:27:45</td>\n",
       "      <td>2018-08-13</td>\n",
       "    </tr>\n",
       "    <tr>\n",
       "      <th>2</th>\n",
       "      <td>47770eb9100c2d0c44946d9cf07ec65d</td>\n",
       "      <td>41ce2a54c0b03bf3443c3d931a367089</td>\n",
       "      <td>delivered</td>\n",
       "      <td>2018-08-08 08:38:49</td>\n",
       "      <td>2018-08-08 08:55:23</td>\n",
       "      <td>2018-08-08 13:50:00</td>\n",
       "      <td>2018-08-17 18:06:29</td>\n",
       "      <td>2018-09-04</td>\n",
       "    </tr>\n",
       "    <tr>\n",
       "      <th>3</th>\n",
       "      <td>949d5b44dbf5de918fe9c16f97b45f8a</td>\n",
       "      <td>f88197465ea7920adcdbec7375364d82</td>\n",
       "      <td>delivered</td>\n",
       "      <td>2017-11-18 19:28:06</td>\n",
       "      <td>2017-11-18 19:45:59</td>\n",
       "      <td>2017-11-22 13:39:59</td>\n",
       "      <td>2017-12-02 00:28:42</td>\n",
       "      <td>2017-12-15</td>\n",
       "    </tr>\n",
       "    <tr>\n",
       "      <th>4</th>\n",
       "      <td>ad21c59c0840e6cb83a9ceb5573f8159</td>\n",
       "      <td>8ab97904e6daea8866dbdbc4fb7aad2c</td>\n",
       "      <td>delivered</td>\n",
       "      <td>2018-02-13 21:18:39</td>\n",
       "      <td>2018-02-13 22:20:29</td>\n",
       "      <td>2018-02-14 19:46:34</td>\n",
       "      <td>2018-02-16 18:17:02</td>\n",
       "      <td>2018-02-26</td>\n",
       "    </tr>\n",
       "  </tbody>\n",
       "</table>\n",
       "</div>"
      ],
      "text/plain": [
       "                           order_id                       customer_id  \\\n",
       "0  e481f51cbdc54678b7cc49136f2d6af7  9ef432eb6251297304e76186b10a928d   \n",
       "1  53cdb2fc8bc7dce0b6741e2150273451  b0830fb4747a6c6d20dea0b8c802d7ef   \n",
       "2  47770eb9100c2d0c44946d9cf07ec65d  41ce2a54c0b03bf3443c3d931a367089   \n",
       "3  949d5b44dbf5de918fe9c16f97b45f8a  f88197465ea7920adcdbec7375364d82   \n",
       "4  ad21c59c0840e6cb83a9ceb5573f8159  8ab97904e6daea8866dbdbc4fb7aad2c   \n",
       "\n",
       "  order_status order_purchase_timestamp   order_approved_at  \\\n",
       "0    delivered      2017-10-02 10:56:33 2017-10-02 11:07:15   \n",
       "1    delivered      2018-07-24 20:41:37 2018-07-26 03:24:27   \n",
       "2    delivered      2018-08-08 08:38:49 2018-08-08 08:55:23   \n",
       "3    delivered      2017-11-18 19:28:06 2017-11-18 19:45:59   \n",
       "4    delivered      2018-02-13 21:18:39 2018-02-13 22:20:29   \n",
       "\n",
       "  order_delivered_carrier_date order_delivered_customer_date  \\\n",
       "0          2017-10-04 19:55:00           2017-10-10 21:25:13   \n",
       "1          2018-07-26 14:31:00           2018-08-07 15:27:45   \n",
       "2          2018-08-08 13:50:00           2018-08-17 18:06:29   \n",
       "3          2017-11-22 13:39:59           2017-12-02 00:28:42   \n",
       "4          2018-02-14 19:46:34           2018-02-16 18:17:02   \n",
       "\n",
       "  order_estimated_delivery_date  \n",
       "0                    2017-10-18  \n",
       "1                    2018-08-13  \n",
       "2                    2018-09-04  \n",
       "3                    2017-12-15  \n",
       "4                    2018-02-26  "
      ]
     },
     "execution_count": 242,
     "metadata": {},
     "output_type": "execute_result"
    }
   ],
   "source": [
    "buys.head()"
   ]
  },
  {
   "cell_type": "markdown",
   "id": "30cc0317",
   "metadata": {},
   "source": [
    "Отфильтруем из него только покупки, совершенные за последние 365 дней, т.к. будем проводить RFM-анализ за последний год:"
   ]
  },
  {
   "cell_type": "code",
   "execution_count": 253,
   "id": "535a2901",
   "metadata": {},
   "outputs": [
    {
     "data": {
      "text/plain": [
       "Timestamp('2018-08-30 15:00:37')"
      ]
     },
     "execution_count": 253,
     "metadata": {},
     "output_type": "execute_result"
    }
   ],
   "source": [
    "# Выясним дату проведения анализа (дата относительно которой берем последние 365 дней):\n",
    "\n",
    "now = buys.order_purchase_timestamp.max() + pd.Timedelta(days=1)\n",
    "\n",
    "now"
   ]
  },
  {
   "cell_type": "code",
   "execution_count": 250,
   "id": "833d6c60",
   "metadata": {},
   "outputs": [
    {
     "data": {
      "text/plain": [
       "Timestamp('2017-08-30 15:00:37')"
      ]
     },
     "execution_count": 250,
     "metadata": {},
     "output_type": "execute_result"
    }
   ],
   "source": [
    "# Дата - год назад от момента составления датафрейма\n",
    "\n",
    "min_date = now - pd.Timedelta(days=365)\n",
    "\n",
    "min_date"
   ]
  },
  {
   "cell_type": "code",
   "execution_count": 252,
   "id": "72df3ee1",
   "metadata": {},
   "outputs": [
    {
     "data": {
      "text/html": [
       "<div>\n",
       "<style scoped>\n",
       "    .dataframe tbody tr th:only-of-type {\n",
       "        vertical-align: middle;\n",
       "    }\n",
       "\n",
       "    .dataframe tbody tr th {\n",
       "        vertical-align: top;\n",
       "    }\n",
       "\n",
       "    .dataframe thead th {\n",
       "        text-align: right;\n",
       "    }\n",
       "</style>\n",
       "<table border=\"1\" class=\"dataframe\">\n",
       "  <thead>\n",
       "    <tr style=\"text-align: right;\">\n",
       "      <th></th>\n",
       "      <th>order_id</th>\n",
       "      <th>customer_id</th>\n",
       "      <th>order_status</th>\n",
       "      <th>order_purchase_timestamp</th>\n",
       "      <th>order_approved_at</th>\n",
       "      <th>order_delivered_carrier_date</th>\n",
       "      <th>order_delivered_customer_date</th>\n",
       "      <th>order_estimated_delivery_date</th>\n",
       "    </tr>\n",
       "  </thead>\n",
       "  <tbody>\n",
       "    <tr>\n",
       "      <th>0</th>\n",
       "      <td>e481f51cbdc54678b7cc49136f2d6af7</td>\n",
       "      <td>9ef432eb6251297304e76186b10a928d</td>\n",
       "      <td>delivered</td>\n",
       "      <td>2017-10-02 10:56:33</td>\n",
       "      <td>2017-10-02 11:07:15</td>\n",
       "      <td>2017-10-04 19:55:00</td>\n",
       "      <td>2017-10-10 21:25:13</td>\n",
       "      <td>2017-10-18</td>\n",
       "    </tr>\n",
       "    <tr>\n",
       "      <th>1</th>\n",
       "      <td>53cdb2fc8bc7dce0b6741e2150273451</td>\n",
       "      <td>b0830fb4747a6c6d20dea0b8c802d7ef</td>\n",
       "      <td>delivered</td>\n",
       "      <td>2018-07-24 20:41:37</td>\n",
       "      <td>2018-07-26 03:24:27</td>\n",
       "      <td>2018-07-26 14:31:00</td>\n",
       "      <td>2018-08-07 15:27:45</td>\n",
       "      <td>2018-08-13</td>\n",
       "    </tr>\n",
       "    <tr>\n",
       "      <th>2</th>\n",
       "      <td>47770eb9100c2d0c44946d9cf07ec65d</td>\n",
       "      <td>41ce2a54c0b03bf3443c3d931a367089</td>\n",
       "      <td>delivered</td>\n",
       "      <td>2018-08-08 08:38:49</td>\n",
       "      <td>2018-08-08 08:55:23</td>\n",
       "      <td>2018-08-08 13:50:00</td>\n",
       "      <td>2018-08-17 18:06:29</td>\n",
       "      <td>2018-09-04</td>\n",
       "    </tr>\n",
       "    <tr>\n",
       "      <th>3</th>\n",
       "      <td>949d5b44dbf5de918fe9c16f97b45f8a</td>\n",
       "      <td>f88197465ea7920adcdbec7375364d82</td>\n",
       "      <td>delivered</td>\n",
       "      <td>2017-11-18 19:28:06</td>\n",
       "      <td>2017-11-18 19:45:59</td>\n",
       "      <td>2017-11-22 13:39:59</td>\n",
       "      <td>2017-12-02 00:28:42</td>\n",
       "      <td>2017-12-15</td>\n",
       "    </tr>\n",
       "    <tr>\n",
       "      <th>4</th>\n",
       "      <td>ad21c59c0840e6cb83a9ceb5573f8159</td>\n",
       "      <td>8ab97904e6daea8866dbdbc4fb7aad2c</td>\n",
       "      <td>delivered</td>\n",
       "      <td>2018-02-13 21:18:39</td>\n",
       "      <td>2018-02-13 22:20:29</td>\n",
       "      <td>2018-02-14 19:46:34</td>\n",
       "      <td>2018-02-16 18:17:02</td>\n",
       "      <td>2018-02-26</td>\n",
       "    </tr>\n",
       "  </tbody>\n",
       "</table>\n",
       "</div>"
      ],
      "text/plain": [
       "                           order_id                       customer_id  \\\n",
       "0  e481f51cbdc54678b7cc49136f2d6af7  9ef432eb6251297304e76186b10a928d   \n",
       "1  53cdb2fc8bc7dce0b6741e2150273451  b0830fb4747a6c6d20dea0b8c802d7ef   \n",
       "2  47770eb9100c2d0c44946d9cf07ec65d  41ce2a54c0b03bf3443c3d931a367089   \n",
       "3  949d5b44dbf5de918fe9c16f97b45f8a  f88197465ea7920adcdbec7375364d82   \n",
       "4  ad21c59c0840e6cb83a9ceb5573f8159  8ab97904e6daea8866dbdbc4fb7aad2c   \n",
       "\n",
       "  order_status order_purchase_timestamp   order_approved_at  \\\n",
       "0    delivered      2017-10-02 10:56:33 2017-10-02 11:07:15   \n",
       "1    delivered      2018-07-24 20:41:37 2018-07-26 03:24:27   \n",
       "2    delivered      2018-08-08 08:38:49 2018-08-08 08:55:23   \n",
       "3    delivered      2017-11-18 19:28:06 2017-11-18 19:45:59   \n",
       "4    delivered      2018-02-13 21:18:39 2018-02-13 22:20:29   \n",
       "\n",
       "  order_delivered_carrier_date order_delivered_customer_date  \\\n",
       "0          2017-10-04 19:55:00           2017-10-10 21:25:13   \n",
       "1          2018-07-26 14:31:00           2018-08-07 15:27:45   \n",
       "2          2018-08-08 13:50:00           2018-08-17 18:06:29   \n",
       "3          2017-11-22 13:39:59           2017-12-02 00:28:42   \n",
       "4          2018-02-14 19:46:34           2018-02-16 18:17:02   \n",
       "\n",
       "  order_estimated_delivery_date  \n",
       "0                    2017-10-18  \n",
       "1                    2018-08-13  \n",
       "2                    2018-09-04  \n",
       "3                    2017-12-15  \n",
       "4                    2018-02-26  "
      ]
     },
     "execution_count": 252,
     "metadata": {},
     "output_type": "execute_result"
    }
   ],
   "source": [
    "# Покупки за последний год:\n",
    "\n",
    "buys_last_year = buys.query('order_purchase_timestamp > @min_date')\n",
    "\n",
    "buys_last_year.head()"
   ]
  },
  {
   "cell_type": "code",
   "execution_count": 251,
   "id": "7b32cae5",
   "metadata": {},
   "outputs": [
    {
     "data": {
      "text/plain": [
       "74417"
      ]
     },
     "execution_count": 251,
     "metadata": {},
     "output_type": "execute_result"
    }
   ],
   "source": [
    "# Количество покупок за последний год:\n",
    "\n",
    "len(buys_last_year)"
   ]
  },
  {
   "cell_type": "markdown",
   "id": "5498989f",
   "metadata": {},
   "source": [
    "### *2. Cопоставляем каждой из покупок за год - пользователя, совершившую ее и общую сумму покупки:*"
   ]
  },
  {
   "cell_type": "markdown",
   "id": "44fa3596",
   "metadata": {},
   "source": [
    "1. Сопоставляем каждой покупке - уникальный id пользователя:"
   ]
  },
  {
   "cell_type": "code",
   "execution_count": 258,
   "id": "bd049740",
   "metadata": {
    "scrolled": true
   },
   "outputs": [
    {
     "data": {
      "text/html": [
       "<div>\n",
       "<style scoped>\n",
       "    .dataframe tbody tr th:only-of-type {\n",
       "        vertical-align: middle;\n",
       "    }\n",
       "\n",
       "    .dataframe tbody tr th {\n",
       "        vertical-align: top;\n",
       "    }\n",
       "\n",
       "    .dataframe thead th {\n",
       "        text-align: right;\n",
       "    }\n",
       "</style>\n",
       "<table border=\"1\" class=\"dataframe\">\n",
       "  <thead>\n",
       "    <tr style=\"text-align: right;\">\n",
       "      <th></th>\n",
       "      <th>order_id</th>\n",
       "      <th>order_purchase_timestamp</th>\n",
       "      <th>customer_unique_id</th>\n",
       "    </tr>\n",
       "  </thead>\n",
       "  <tbody>\n",
       "    <tr>\n",
       "      <th>0</th>\n",
       "      <td>e481f51cbdc54678b7cc49136f2d6af7</td>\n",
       "      <td>2017-10-02 10:56:33</td>\n",
       "      <td>7c396fd4830fd04220f754e42b4e5bff</td>\n",
       "    </tr>\n",
       "    <tr>\n",
       "      <th>1</th>\n",
       "      <td>53cdb2fc8bc7dce0b6741e2150273451</td>\n",
       "      <td>2018-07-24 20:41:37</td>\n",
       "      <td>af07308b275d755c9edb36a90c618231</td>\n",
       "    </tr>\n",
       "    <tr>\n",
       "      <th>2</th>\n",
       "      <td>47770eb9100c2d0c44946d9cf07ec65d</td>\n",
       "      <td>2018-08-08 08:38:49</td>\n",
       "      <td>3a653a41f6f9fc3d2a113cf8398680e8</td>\n",
       "    </tr>\n",
       "    <tr>\n",
       "      <th>3</th>\n",
       "      <td>949d5b44dbf5de918fe9c16f97b45f8a</td>\n",
       "      <td>2017-11-18 19:28:06</td>\n",
       "      <td>7c142cf63193a1473d2e66489a9ae977</td>\n",
       "    </tr>\n",
       "    <tr>\n",
       "      <th>4</th>\n",
       "      <td>ad21c59c0840e6cb83a9ceb5573f8159</td>\n",
       "      <td>2018-02-13 21:18:39</td>\n",
       "      <td>72632f0f9dd73dfee390c9b22eb56dd6</td>\n",
       "    </tr>\n",
       "  </tbody>\n",
       "</table>\n",
       "</div>"
      ],
      "text/plain": [
       "                           order_id order_purchase_timestamp  \\\n",
       "0  e481f51cbdc54678b7cc49136f2d6af7      2017-10-02 10:56:33   \n",
       "1  53cdb2fc8bc7dce0b6741e2150273451      2018-07-24 20:41:37   \n",
       "2  47770eb9100c2d0c44946d9cf07ec65d      2018-08-08 08:38:49   \n",
       "3  949d5b44dbf5de918fe9c16f97b45f8a      2017-11-18 19:28:06   \n",
       "4  ad21c59c0840e6cb83a9ceb5573f8159      2018-02-13 21:18:39   \n",
       "\n",
       "                 customer_unique_id  \n",
       "0  7c396fd4830fd04220f754e42b4e5bff  \n",
       "1  af07308b275d755c9edb36a90c618231  \n",
       "2  3a653a41f6f9fc3d2a113cf8398680e8  \n",
       "3  7c142cf63193a1473d2e66489a9ae977  \n",
       "4  72632f0f9dd73dfee390c9b22eb56dd6  "
      ]
     },
     "execution_count": 258,
     "metadata": {},
     "output_type": "execute_result"
    }
   ],
   "source": [
    "id_by_buy_365 = buys_last_year.merge(customers, on='customer_id')\\\n",
    "                              [['order_id', 'order_purchase_timestamp', 'customer_unique_id']]\n",
    "\n",
    "id_by_buy_365.head()"
   ]
  },
  {
   "cell_type": "code",
   "execution_count": 261,
   "id": "1a8f201c",
   "metadata": {},
   "outputs": [
    {
     "data": {
      "text/plain": [
       "74417"
      ]
     },
     "execution_count": 261,
     "metadata": {},
     "output_type": "execute_result"
    }
   ],
   "source": [
    "# Проверяем количество покупок за последний последний год (должно быть 74417):\n",
    "\n",
    "len(id_by_buy_365)"
   ]
  },
  {
   "cell_type": "markdown",
   "id": "7ffab65e",
   "metadata": {},
   "source": [
    "2. Сопоставляем каждой покупке - ее стоимость:"
   ]
  },
  {
   "cell_type": "code",
   "execution_count": 265,
   "id": "e6dbd0ba",
   "metadata": {},
   "outputs": [
    {
     "data": {
      "text/html": [
       "<div>\n",
       "<style scoped>\n",
       "    .dataframe tbody tr th:only-of-type {\n",
       "        vertical-align: middle;\n",
       "    }\n",
       "\n",
       "    .dataframe tbody tr th {\n",
       "        vertical-align: top;\n",
       "    }\n",
       "\n",
       "    .dataframe thead th {\n",
       "        text-align: right;\n",
       "    }\n",
       "</style>\n",
       "<table border=\"1\" class=\"dataframe\">\n",
       "  <thead>\n",
       "    <tr style=\"text-align: right;\">\n",
       "      <th></th>\n",
       "      <th>order_id</th>\n",
       "      <th>total_price</th>\n",
       "    </tr>\n",
       "  </thead>\n",
       "  <tbody>\n",
       "    <tr>\n",
       "      <th>0</th>\n",
       "      <td>00010242fe8c5a6d1ba2dd792cb16214</td>\n",
       "      <td>58.90</td>\n",
       "    </tr>\n",
       "    <tr>\n",
       "      <th>1</th>\n",
       "      <td>00018f77f2f0320c557190d7a144bdd3</td>\n",
       "      <td>239.90</td>\n",
       "    </tr>\n",
       "    <tr>\n",
       "      <th>2</th>\n",
       "      <td>000229ec398224ef6ca0657da4fc703e</td>\n",
       "      <td>199.00</td>\n",
       "    </tr>\n",
       "    <tr>\n",
       "      <th>3</th>\n",
       "      <td>00024acbcdf0a6daa1e931b038114c75</td>\n",
       "      <td>12.99</td>\n",
       "    </tr>\n",
       "    <tr>\n",
       "      <th>4</th>\n",
       "      <td>00042b26cf59d7ce69dfabb4e55b4fd9</td>\n",
       "      <td>199.90</td>\n",
       "    </tr>\n",
       "  </tbody>\n",
       "</table>\n",
       "</div>"
      ],
      "text/plain": [
       "                           order_id  total_price\n",
       "0  00010242fe8c5a6d1ba2dd792cb16214        58.90\n",
       "1  00018f77f2f0320c557190d7a144bdd3       239.90\n",
       "2  000229ec398224ef6ca0657da4fc703e       199.00\n",
       "3  00024acbcdf0a6daa1e931b038114c75        12.99\n",
       "4  00042b26cf59d7ce69dfabb4e55b4fd9       199.90"
      ]
     },
     "execution_count": 265,
     "metadata": {},
     "output_type": "execute_result"
    }
   ],
   "source": [
    "# Сопоставим каждому ЗАКАЗУ - его общие стоимость:\n",
    "\n",
    "cost_by_order = order_details.groupby('order_id',as_index=False).agg({'price':'sum'})\\\n",
    "                             .rename(columns={'price':'total_price'})\n",
    "\n",
    "cost_by_order.head()"
   ]
  },
  {
   "cell_type": "code",
   "execution_count": 266,
   "id": "43d6da2a",
   "metadata": {},
   "outputs": [
    {
     "data": {
      "text/html": [
       "<div>\n",
       "<style scoped>\n",
       "    .dataframe tbody tr th:only-of-type {\n",
       "        vertical-align: middle;\n",
       "    }\n",
       "\n",
       "    .dataframe tbody tr th {\n",
       "        vertical-align: top;\n",
       "    }\n",
       "\n",
       "    .dataframe thead th {\n",
       "        text-align: right;\n",
       "    }\n",
       "</style>\n",
       "<table border=\"1\" class=\"dataframe\">\n",
       "  <thead>\n",
       "    <tr style=\"text-align: right;\">\n",
       "      <th></th>\n",
       "      <th>buy_id</th>\n",
       "      <th>buy_date</th>\n",
       "      <th>customer_unique_id</th>\n",
       "      <th>total_price</th>\n",
       "    </tr>\n",
       "  </thead>\n",
       "  <tbody>\n",
       "    <tr>\n",
       "      <th>0</th>\n",
       "      <td>e481f51cbdc54678b7cc49136f2d6af7</td>\n",
       "      <td>2017-10-02 10:56:33</td>\n",
       "      <td>7c396fd4830fd04220f754e42b4e5bff</td>\n",
       "      <td>29.99</td>\n",
       "    </tr>\n",
       "    <tr>\n",
       "      <th>1</th>\n",
       "      <td>53cdb2fc8bc7dce0b6741e2150273451</td>\n",
       "      <td>2018-07-24 20:41:37</td>\n",
       "      <td>af07308b275d755c9edb36a90c618231</td>\n",
       "      <td>118.70</td>\n",
       "    </tr>\n",
       "    <tr>\n",
       "      <th>2</th>\n",
       "      <td>47770eb9100c2d0c44946d9cf07ec65d</td>\n",
       "      <td>2018-08-08 08:38:49</td>\n",
       "      <td>3a653a41f6f9fc3d2a113cf8398680e8</td>\n",
       "      <td>159.90</td>\n",
       "    </tr>\n",
       "    <tr>\n",
       "      <th>3</th>\n",
       "      <td>949d5b44dbf5de918fe9c16f97b45f8a</td>\n",
       "      <td>2017-11-18 19:28:06</td>\n",
       "      <td>7c142cf63193a1473d2e66489a9ae977</td>\n",
       "      <td>45.00</td>\n",
       "    </tr>\n",
       "    <tr>\n",
       "      <th>4</th>\n",
       "      <td>ad21c59c0840e6cb83a9ceb5573f8159</td>\n",
       "      <td>2018-02-13 21:18:39</td>\n",
       "      <td>72632f0f9dd73dfee390c9b22eb56dd6</td>\n",
       "      <td>19.90</td>\n",
       "    </tr>\n",
       "  </tbody>\n",
       "</table>\n",
       "</div>"
      ],
      "text/plain": [
       "                             buy_id            buy_date  \\\n",
       "0  e481f51cbdc54678b7cc49136f2d6af7 2017-10-02 10:56:33   \n",
       "1  53cdb2fc8bc7dce0b6741e2150273451 2018-07-24 20:41:37   \n",
       "2  47770eb9100c2d0c44946d9cf07ec65d 2018-08-08 08:38:49   \n",
       "3  949d5b44dbf5de918fe9c16f97b45f8a 2017-11-18 19:28:06   \n",
       "4  ad21c59c0840e6cb83a9ceb5573f8159 2018-02-13 21:18:39   \n",
       "\n",
       "                 customer_unique_id  total_price  \n",
       "0  7c396fd4830fd04220f754e42b4e5bff        29.99  \n",
       "1  af07308b275d755c9edb36a90c618231       118.70  \n",
       "2  3a653a41f6f9fc3d2a113cf8398680e8       159.90  \n",
       "3  7c142cf63193a1473d2e66489a9ae977        45.00  \n",
       "4  72632f0f9dd73dfee390c9b22eb56dd6        19.90  "
      ]
     },
     "execution_count": 266,
     "metadata": {},
     "output_type": "execute_result"
    }
   ],
   "source": [
    "# Сопоставляем только ПОКУПКАМ - их общие стоимости:\n",
    "\n",
    "buys_365 = id_by_buy_365.merge(cost_by_order, on='order_id', how='left')\\\n",
    "                        .rename(columns={'order_id':'buy_id', 'order_purchase_timestamp':'buy_date'})\n",
    "\n",
    "buys_365.head()"
   ]
  },
  {
   "cell_type": "markdown",
   "id": "29b78348",
   "metadata": {},
   "source": [
    "### *3. Считаем Recency и Frequency для каждого пользователя из тех, кто сделал покупку за последние 365 дней:*"
   ]
  },
  {
   "cell_type": "code",
   "execution_count": 267,
   "id": "74ec8c49",
   "metadata": {},
   "outputs": [
    {
     "data": {
      "text/html": [
       "<div>\n",
       "<style scoped>\n",
       "    .dataframe tbody tr th:only-of-type {\n",
       "        vertical-align: middle;\n",
       "    }\n",
       "\n",
       "    .dataframe tbody tr th {\n",
       "        vertical-align: top;\n",
       "    }\n",
       "\n",
       "    .dataframe thead th {\n",
       "        text-align: right;\n",
       "    }\n",
       "</style>\n",
       "<table border=\"1\" class=\"dataframe\">\n",
       "  <thead>\n",
       "    <tr style=\"text-align: right;\">\n",
       "      <th></th>\n",
       "      <th>customer_unique_id</th>\n",
       "      <th>Frequency</th>\n",
       "      <th>Recency</th>\n",
       "    </tr>\n",
       "  </thead>\n",
       "  <tbody>\n",
       "    <tr>\n",
       "      <th>39862</th>\n",
       "      <td>8d50f5eadf50201ccdcedfb9e2ac8455</td>\n",
       "      <td>11</td>\n",
       "      <td>9</td>\n",
       "    </tr>\n",
       "    <tr>\n",
       "      <th>17635</th>\n",
       "      <td>3e43e6105506432c953e165fb2acf44c</td>\n",
       "      <td>9</td>\n",
       "      <td>183</td>\n",
       "    </tr>\n",
       "    <tr>\n",
       "      <th>28401</th>\n",
       "      <td>6469f99c1f9dfae7733b25662e7f1782</td>\n",
       "      <td>7</td>\n",
       "      <td>63</td>\n",
       "    </tr>\n",
       "    <tr>\n",
       "      <th>57375</th>\n",
       "      <td>ca77025e7201e3b30c44b472ff346268</td>\n",
       "      <td>7</td>\n",
       "      <td>90</td>\n",
       "    </tr>\n",
       "    <tr>\n",
       "      <th>7724</th>\n",
       "      <td>1b6c7548a2a1f9037c1fd3ddfed95f33</td>\n",
       "      <td>7</td>\n",
       "      <td>197</td>\n",
       "    </tr>\n",
       "  </tbody>\n",
       "</table>\n",
       "</div>"
      ],
      "text/plain": [
       "                     customer_unique_id  Frequency  Recency\n",
       "39862  8d50f5eadf50201ccdcedfb9e2ac8455         11        9\n",
       "17635  3e43e6105506432c953e165fb2acf44c          9      183\n",
       "28401  6469f99c1f9dfae7733b25662e7f1782          7       63\n",
       "57375  ca77025e7201e3b30c44b472ff346268          7       90\n",
       "7724   1b6c7548a2a1f9037c1fd3ddfed95f33          7      197"
      ]
     },
     "execution_count": 267,
     "metadata": {},
     "output_type": "execute_result"
    }
   ],
   "source": [
    "fr = buys_365.groupby('customer_unique_id',as_index=False)\\\n",
    "             .agg({'buy_id':'count',\n",
    "                   'buy_date':lambda x: (now - x.max()).days})\\\n",
    "             .rename(columns={'buy_id':'Frequency', 'buy_date':'Recency'})\\\n",
    "             .sort_values(by=['Frequency','Recency'], ascending=[False, True])\n",
    "\n",
    "     \n",
    "fr.head()"
   ]
  },
  {
   "cell_type": "markdown",
   "id": "ecdf1b73",
   "metadata": {},
   "source": [
    "### *4. Считаем Monetary для каждого пользователя из тех, кто сделал покупку за последние 365 дней:*"
   ]
  },
  {
   "cell_type": "code",
   "execution_count": 268,
   "id": "955444c8",
   "metadata": {},
   "outputs": [
    {
     "data": {
      "text/html": [
       "<div>\n",
       "<style scoped>\n",
       "    .dataframe tbody tr th:only-of-type {\n",
       "        vertical-align: middle;\n",
       "    }\n",
       "\n",
       "    .dataframe tbody tr th {\n",
       "        vertical-align: top;\n",
       "    }\n",
       "\n",
       "    .dataframe thead th {\n",
       "        text-align: right;\n",
       "    }\n",
       "</style>\n",
       "<table border=\"1\" class=\"dataframe\">\n",
       "  <thead>\n",
       "    <tr style=\"text-align: right;\">\n",
       "      <th></th>\n",
       "      <th>customer_unique_id</th>\n",
       "      <th>Monetary</th>\n",
       "    </tr>\n",
       "  </thead>\n",
       "  <tbody>\n",
       "    <tr>\n",
       "      <th>2818</th>\n",
       "      <td>0a0a92112bd4c708ca5fde585afaa872</td>\n",
       "      <td>13440.0</td>\n",
       "    </tr>\n",
       "    <tr>\n",
       "      <th>33421</th>\n",
       "      <td>763c8b1c9c68a0229c42c9fc6f662b93</td>\n",
       "      <td>7160.0</td>\n",
       "    </tr>\n",
       "    <tr>\n",
       "      <th>19673</th>\n",
       "      <td>459bef486812aa25204be022145caa62</td>\n",
       "      <td>6729.0</td>\n",
       "    </tr>\n",
       "    <tr>\n",
       "      <th>18131</th>\n",
       "      <td>4007669dec559734d6f53e029e360987</td>\n",
       "      <td>5934.6</td>\n",
       "    </tr>\n",
       "    <tr>\n",
       "      <th>20604</th>\n",
       "      <td>48e1ac109decbb87765a3eade6854098</td>\n",
       "      <td>4590.0</td>\n",
       "    </tr>\n",
       "  </tbody>\n",
       "</table>\n",
       "</div>"
      ],
      "text/plain": [
       "                     customer_unique_id  Monetary\n",
       "2818   0a0a92112bd4c708ca5fde585afaa872   13440.0\n",
       "33421  763c8b1c9c68a0229c42c9fc6f662b93    7160.0\n",
       "19673  459bef486812aa25204be022145caa62    6729.0\n",
       "18131  4007669dec559734d6f53e029e360987    5934.6\n",
       "20604  48e1ac109decbb87765a3eade6854098    4590.0"
      ]
     },
     "execution_count": 268,
     "metadata": {},
     "output_type": "execute_result"
    }
   ],
   "source": [
    "m = buys_365.groupby('customer_unique_id',as_index=False)\\\n",
    "    .agg({'total_price':'sum'})\\\n",
    "    .rename(columns={'total_price':'Monetary'})\\\n",
    "    .sort_values(by='Monetary', ascending=False)\n",
    "\n",
    "m.head()"
   ]
  },
  {
   "cell_type": "markdown",
   "id": "d39606d7",
   "metadata": {},
   "source": [
    "### *5. Объединяем Monetary, Recency и Frequency в один датафрейм:*"
   ]
  },
  {
   "cell_type": "code",
   "execution_count": 272,
   "id": "edb7076f",
   "metadata": {
    "scrolled": true
   },
   "outputs": [
    {
     "data": {
      "text/html": [
       "<div>\n",
       "<style scoped>\n",
       "    .dataframe tbody tr th:only-of-type {\n",
       "        vertical-align: middle;\n",
       "    }\n",
       "\n",
       "    .dataframe tbody tr th {\n",
       "        vertical-align: top;\n",
       "    }\n",
       "\n",
       "    .dataframe thead th {\n",
       "        text-align: right;\n",
       "    }\n",
       "</style>\n",
       "<table border=\"1\" class=\"dataframe\">\n",
       "  <thead>\n",
       "    <tr style=\"text-align: right;\">\n",
       "      <th></th>\n",
       "      <th>customer_unique_id</th>\n",
       "      <th>Frequency</th>\n",
       "      <th>Recency</th>\n",
       "      <th>Monetary</th>\n",
       "    </tr>\n",
       "  </thead>\n",
       "  <tbody>\n",
       "    <tr>\n",
       "      <th>0</th>\n",
       "      <td>8d50f5eadf50201ccdcedfb9e2ac8455</td>\n",
       "      <td>11</td>\n",
       "      <td>9</td>\n",
       "      <td>440.94</td>\n",
       "    </tr>\n",
       "    <tr>\n",
       "      <th>1</th>\n",
       "      <td>3e43e6105506432c953e165fb2acf44c</td>\n",
       "      <td>9</td>\n",
       "      <td>183</td>\n",
       "      <td>1000.85</td>\n",
       "    </tr>\n",
       "    <tr>\n",
       "      <th>2</th>\n",
       "      <td>6469f99c1f9dfae7733b25662e7f1782</td>\n",
       "      <td>7</td>\n",
       "      <td>63</td>\n",
       "      <td>664.20</td>\n",
       "    </tr>\n",
       "    <tr>\n",
       "      <th>3</th>\n",
       "      <td>ca77025e7201e3b30c44b472ff346268</td>\n",
       "      <td>7</td>\n",
       "      <td>90</td>\n",
       "      <td>806.61</td>\n",
       "    </tr>\n",
       "    <tr>\n",
       "      <th>4</th>\n",
       "      <td>1b6c7548a2a1f9037c1fd3ddfed95f33</td>\n",
       "      <td>7</td>\n",
       "      <td>197</td>\n",
       "      <td>809.21</td>\n",
       "    </tr>\n",
       "  </tbody>\n",
       "</table>\n",
       "</div>"
      ],
      "text/plain": [
       "                 customer_unique_id  Frequency  Recency  Monetary\n",
       "0  8d50f5eadf50201ccdcedfb9e2ac8455         11        9    440.94\n",
       "1  3e43e6105506432c953e165fb2acf44c          9      183   1000.85\n",
       "2  6469f99c1f9dfae7733b25662e7f1782          7       63    664.20\n",
       "3  ca77025e7201e3b30c44b472ff346268          7       90    806.61\n",
       "4  1b6c7548a2a1f9037c1fd3ddfed95f33          7      197    809.21"
      ]
     },
     "execution_count": 272,
     "metadata": {},
     "output_type": "execute_result"
    }
   ],
   "source": [
    "rfm = fr.merge(m)\n",
    "\n",
    "rfm.head()"
   ]
  },
  {
   "cell_type": "markdown",
   "id": "3e4d3898",
   "metadata": {},
   "source": [
    "Проверяем учтены ли все необходимые пользователи:"
   ]
  },
  {
   "cell_type": "code",
   "execution_count": 273,
   "id": "b3bde1d5",
   "metadata": {},
   "outputs": [
    {
     "data": {
      "text/plain": [
       "72445"
      ]
     },
     "execution_count": 273,
     "metadata": {},
     "output_type": "execute_result"
    }
   ],
   "source": [
    "# Количество уникальных пользователей в датафрейме покупок за последний год:\n",
    "\n",
    "id_by_buy_365.customer_unique_id.nunique()"
   ]
  },
  {
   "cell_type": "code",
   "execution_count": 275,
   "id": "509cee82",
   "metadata": {},
   "outputs": [
    {
     "data": {
      "text/plain": [
       "72445"
      ]
     },
     "execution_count": 275,
     "metadata": {},
     "output_type": "execute_result"
    }
   ],
   "source": [
    "# Количество уникальных пользователей в датафрейме RFM (должно быть 72445):\n",
    "\n",
    "rfm.customer_unique_id.nunique()"
   ]
  },
  {
   "cell_type": "markdown",
   "id": "c065b43e",
   "metadata": {},
   "source": [
    "### *6. Разбиваем наши парметры на интервалы: по 20-процентным квантилям аудитории:*"
   ]
  },
  {
   "cell_type": "markdown",
   "id": "113246e4",
   "metadata": {},
   "source": [
    "Выберем этот способ сегментации, так как полученные с его помощью интервалы являются равномерными не по значениям параметров, а по долям людей, входящих в них. \n",
    "\n",
    "Так нам удастся в каждый интервал \"отмерить\" равное число пользователей и, таким образом, равномерно распределить интервалы между их количеством.\n",
    "\n",
    "Использование квантилей является более гибким, поскольку диапазоны будут адаптироваться к данным и будут работать в случае каких-либо изменений в ожидаемом поведении клиентов."
   ]
  },
  {
   "cell_type": "markdown",
   "id": "cf3b00df",
   "metadata": {},
   "source": [
    "1. Создадим словарь словарей со значениями 20-процентных квантилей для каждого RFM-параметра:"
   ]
  },
  {
   "cell_type": "code",
   "execution_count": 276,
   "id": "81f76d85",
   "metadata": {},
   "outputs": [
    {
     "data": {
      "text/plain": [
       "{'Recency': {0.2: 71.0, 0.4: 139.0, 0.6: 204.0, 0.8: 275.0},\n",
       " 'Frequency': {0.2: 1.0, 0.4: 1.0, 0.6: 1.0, 0.8: 1.0},\n",
       " 'Monetary': {0.2: 39.9, 0.4: 69.9, 0.6: 109.98, 0.8: 179.7}}"
      ]
     },
     "execution_count": 276,
     "metadata": {},
     "output_type": "execute_result"
    }
   ],
   "source": [
    "quintiles = rfm[['Recency', 'Frequency', 'Monetary']].quantile([.2, .4, .6, .8]).to_dict()\n",
    "\n",
    "quintiles"
   ]
  },
  {
   "cell_type": "markdown",
   "id": "85a6377b",
   "metadata": {},
   "source": [
    "2. Затем пишем функции для присвоения рангов от 1 до 5:"
   ]
  },
  {
   "cell_type": "code",
   "execution_count": 277,
   "id": "899aa610",
   "metadata": {},
   "outputs": [],
   "source": [
    "## Каждому квантилю соответсвует свой ранг:\n",
    "\n",
    "# Функция присвоения ранга для Recency:\n",
    "def r_score(x):\n",
    "    if x <= quintiles['Recency'][.2]:\n",
    "        return 5\n",
    "    elif x <= quintiles['Recency'][.4]:\n",
    "        return 4\n",
    "    elif x <= quintiles['Recency'][.6]:\n",
    "        return 3\n",
    "    elif x <= quintiles['Recency'][.8]:\n",
    "        return 2\n",
    "    else:\n",
    "        return 1\n",
    "\n",
    "# Функция присвоения ранга для Frequency и Monetary:\n",
    "def fm_score(x, c):\n",
    "    if x <= quintiles[c][.2]:\n",
    "        return 1\n",
    "    elif x <= quintiles[c][.4]:\n",
    "        return 2\n",
    "    elif x <= quintiles[c][.6]:\n",
    "        return 3\n",
    "    elif x <= quintiles[c][.8]:\n",
    "        return 4\n",
    "    else:\n",
    "        return 5  "
   ]
  },
  {
   "cell_type": "markdown",
   "id": "922ca436",
   "metadata": {},
   "source": [
    "3. Считаем значения рангов для каждого пользователя:"
   ]
  },
  {
   "cell_type": "code",
   "execution_count": 280,
   "id": "76191612",
   "metadata": {},
   "outputs": [],
   "source": [
    "# Создаем столбцы с рангами каждой из трех метрик:\n",
    "\n",
    "rfm['R'] = rfm['Recency'].apply(lambda x: r_score(x))\n",
    "rfm['F'] = rfm['Frequency'].apply(lambda x: fm_score(x, 'Frequency'))\n",
    "rfm['M'] = rfm['Monetary'].apply(lambda x: fm_score(x, 'Monetary'))"
   ]
  },
  {
   "cell_type": "code",
   "execution_count": 281,
   "id": "38c31455",
   "metadata": {},
   "outputs": [
    {
     "data": {
      "text/html": [
       "<div>\n",
       "<style scoped>\n",
       "    .dataframe tbody tr th:only-of-type {\n",
       "        vertical-align: middle;\n",
       "    }\n",
       "\n",
       "    .dataframe tbody tr th {\n",
       "        vertical-align: top;\n",
       "    }\n",
       "\n",
       "    .dataframe thead th {\n",
       "        text-align: right;\n",
       "    }\n",
       "</style>\n",
       "<table border=\"1\" class=\"dataframe\">\n",
       "  <thead>\n",
       "    <tr style=\"text-align: right;\">\n",
       "      <th></th>\n",
       "      <th>customer_unique_id</th>\n",
       "      <th>Frequency</th>\n",
       "      <th>Recency</th>\n",
       "      <th>Monetary</th>\n",
       "      <th>R</th>\n",
       "      <th>F</th>\n",
       "      <th>M</th>\n",
       "    </tr>\n",
       "  </thead>\n",
       "  <tbody>\n",
       "    <tr>\n",
       "      <th>0</th>\n",
       "      <td>8d50f5eadf50201ccdcedfb9e2ac8455</td>\n",
       "      <td>11</td>\n",
       "      <td>9</td>\n",
       "      <td>440.94</td>\n",
       "      <td>5</td>\n",
       "      <td>5</td>\n",
       "      <td>5</td>\n",
       "    </tr>\n",
       "    <tr>\n",
       "      <th>1</th>\n",
       "      <td>3e43e6105506432c953e165fb2acf44c</td>\n",
       "      <td>9</td>\n",
       "      <td>183</td>\n",
       "      <td>1000.85</td>\n",
       "      <td>3</td>\n",
       "      <td>5</td>\n",
       "      <td>5</td>\n",
       "    </tr>\n",
       "    <tr>\n",
       "      <th>2</th>\n",
       "      <td>6469f99c1f9dfae7733b25662e7f1782</td>\n",
       "      <td>7</td>\n",
       "      <td>63</td>\n",
       "      <td>664.20</td>\n",
       "      <td>5</td>\n",
       "      <td>5</td>\n",
       "      <td>5</td>\n",
       "    </tr>\n",
       "    <tr>\n",
       "      <th>3</th>\n",
       "      <td>ca77025e7201e3b30c44b472ff346268</td>\n",
       "      <td>7</td>\n",
       "      <td>90</td>\n",
       "      <td>806.61</td>\n",
       "      <td>4</td>\n",
       "      <td>5</td>\n",
       "      <td>5</td>\n",
       "    </tr>\n",
       "    <tr>\n",
       "      <th>4</th>\n",
       "      <td>1b6c7548a2a1f9037c1fd3ddfed95f33</td>\n",
       "      <td>7</td>\n",
       "      <td>197</td>\n",
       "      <td>809.21</td>\n",
       "      <td>3</td>\n",
       "      <td>5</td>\n",
       "      <td>5</td>\n",
       "    </tr>\n",
       "  </tbody>\n",
       "</table>\n",
       "</div>"
      ],
      "text/plain": [
       "                 customer_unique_id  Frequency  Recency  Monetary  R  F  M\n",
       "0  8d50f5eadf50201ccdcedfb9e2ac8455         11        9    440.94  5  5  5\n",
       "1  3e43e6105506432c953e165fb2acf44c          9      183   1000.85  3  5  5\n",
       "2  6469f99c1f9dfae7733b25662e7f1782          7       63    664.20  5  5  5\n",
       "3  ca77025e7201e3b30c44b472ff346268          7       90    806.61  4  5  5\n",
       "4  1b6c7548a2a1f9037c1fd3ddfed95f33          7      197    809.21  3  5  5"
      ]
     },
     "execution_count": 281,
     "metadata": {},
     "output_type": "execute_result"
    }
   ],
   "source": [
    "rfm.head()"
   ]
  },
  {
   "cell_type": "markdown",
   "id": "54ecf933",
   "metadata": {},
   "source": [
    "### *7. Cчитаем метрику RFM для каждого пользователя:*"
   ]
  },
  {
   "cell_type": "markdown",
   "id": "d1e6d82f",
   "metadata": {},
   "source": [
    "Объединяем оценки (ранги) R, F и M в общую метрику RFM для пользователей:"
   ]
  },
  {
   "cell_type": "code",
   "execution_count": 282,
   "id": "24e35d90",
   "metadata": {},
   "outputs": [
    {
     "data": {
      "text/html": [
       "<div>\n",
       "<style scoped>\n",
       "    .dataframe tbody tr th:only-of-type {\n",
       "        vertical-align: middle;\n",
       "    }\n",
       "\n",
       "    .dataframe tbody tr th {\n",
       "        vertical-align: top;\n",
       "    }\n",
       "\n",
       "    .dataframe thead th {\n",
       "        text-align: right;\n",
       "    }\n",
       "</style>\n",
       "<table border=\"1\" class=\"dataframe\">\n",
       "  <thead>\n",
       "    <tr style=\"text-align: right;\">\n",
       "      <th></th>\n",
       "      <th>customer_unique_id</th>\n",
       "      <th>Frequency</th>\n",
       "      <th>Recency</th>\n",
       "      <th>Monetary</th>\n",
       "      <th>R</th>\n",
       "      <th>F</th>\n",
       "      <th>M</th>\n",
       "      <th>RFM_score</th>\n",
       "    </tr>\n",
       "  </thead>\n",
       "  <tbody>\n",
       "    <tr>\n",
       "      <th>0</th>\n",
       "      <td>8d50f5eadf50201ccdcedfb9e2ac8455</td>\n",
       "      <td>11</td>\n",
       "      <td>9</td>\n",
       "      <td>440.94</td>\n",
       "      <td>5</td>\n",
       "      <td>5</td>\n",
       "      <td>5</td>\n",
       "      <td>555</td>\n",
       "    </tr>\n",
       "    <tr>\n",
       "      <th>1</th>\n",
       "      <td>3e43e6105506432c953e165fb2acf44c</td>\n",
       "      <td>9</td>\n",
       "      <td>183</td>\n",
       "      <td>1000.85</td>\n",
       "      <td>3</td>\n",
       "      <td>5</td>\n",
       "      <td>5</td>\n",
       "      <td>355</td>\n",
       "    </tr>\n",
       "    <tr>\n",
       "      <th>2</th>\n",
       "      <td>6469f99c1f9dfae7733b25662e7f1782</td>\n",
       "      <td>7</td>\n",
       "      <td>63</td>\n",
       "      <td>664.20</td>\n",
       "      <td>5</td>\n",
       "      <td>5</td>\n",
       "      <td>5</td>\n",
       "      <td>555</td>\n",
       "    </tr>\n",
       "    <tr>\n",
       "      <th>3</th>\n",
       "      <td>ca77025e7201e3b30c44b472ff346268</td>\n",
       "      <td>7</td>\n",
       "      <td>90</td>\n",
       "      <td>806.61</td>\n",
       "      <td>4</td>\n",
       "      <td>5</td>\n",
       "      <td>5</td>\n",
       "      <td>455</td>\n",
       "    </tr>\n",
       "    <tr>\n",
       "      <th>4</th>\n",
       "      <td>1b6c7548a2a1f9037c1fd3ddfed95f33</td>\n",
       "      <td>7</td>\n",
       "      <td>197</td>\n",
       "      <td>809.21</td>\n",
       "      <td>3</td>\n",
       "      <td>5</td>\n",
       "      <td>5</td>\n",
       "      <td>355</td>\n",
       "    </tr>\n",
       "  </tbody>\n",
       "</table>\n",
       "</div>"
      ],
      "text/plain": [
       "                 customer_unique_id  Frequency  Recency  Monetary  R  F  M  \\\n",
       "0  8d50f5eadf50201ccdcedfb9e2ac8455         11        9    440.94  5  5  5   \n",
       "1  3e43e6105506432c953e165fb2acf44c          9      183   1000.85  3  5  5   \n",
       "2  6469f99c1f9dfae7733b25662e7f1782          7       63    664.20  5  5  5   \n",
       "3  ca77025e7201e3b30c44b472ff346268          7       90    806.61  4  5  5   \n",
       "4  1b6c7548a2a1f9037c1fd3ddfed95f33          7      197    809.21  3  5  5   \n",
       "\n",
       "  RFM_score  \n",
       "0       555  \n",
       "1       355  \n",
       "2       555  \n",
       "3       455  \n",
       "4       355  "
      ]
     },
     "execution_count": 282,
     "metadata": {},
     "output_type": "execute_result"
    }
   ],
   "source": [
    "rfm['RFM_score'] = rfm['R'].map(str) + rfm['F'].map(str) + rfm['M'].map(str)\n",
    "\n",
    "rfm.head()"
   ]
  },
  {
   "cell_type": "markdown",
   "id": "5684780e",
   "metadata": {},
   "source": [
    "### *8. Разобьем наших пользователей на сегменты по их RFM-метрике:*"
   ]
  },
  {
   "cell_type": "markdown",
   "id": "55039215",
   "metadata": {},
   "source": [
    "Оценки RFM дают нам $$5^3 = 125$$  сегментов. С которым затруднительно работать.\n",
    "\n",
    "Отберем только 11 сегментов на основе показателей R и F. Вот описание сегментов:"
   ]
  },
  {
   "cell_type": "markdown",
   "id": "0ead75e3",
   "metadata": {},
   "source": [
    "- ***Champions***\t- Покупали недавно, покупают часто и тратят больше всего.\n",
    "- ***Loyal Customers***\t- Покупают на регулярной основе. Реагируют на рекламные акции.\n",
    "- ***Potential Loyalist***- Недавние клиенты со средней частотой.\n",
    "- ***Recent Customers***\t- Покупали совсем недавно, но не часто.\n",
    "- ***Promising***\t- Покупали недавно, но не потратили много.\n",
    "- ***Customers*** - Требует внимания. Выше средней Recency, Frequency и Monetary. Но могли покупать и не так давно.\n",
    "- ***About To Sleep***\t- Ниже средней давности и частоты. Потеряем их, если не активизируемповторно.\n",
    "- ***At Risk***\t- Покупал часто, но давно. Нужно вернуть их!\n",
    "- ***Can’t Lose Them***\t- Когда-то часто покупал, но давно не возвращался в магазин.\n",
    "- ***Hibernating***\t- Последняя покупка была давно и совершено мало заказов. Возможно клиент потерян."
   ]
  },
  {
   "cell_type": "markdown",
   "id": "e83606f8",
   "metadata": {},
   "source": [
    "Результирующая матрица выглядит следующим образом:"
   ]
  },
  {
   "cell_type": "markdown",
   "id": "ecc7ba87",
   "metadata": {},
   "source": [
    "![matrix](https://guillaume-martin.github.io/images/rfm-segments.png)"
   ]
  },
  {
   "cell_type": "markdown",
   "id": "5b689ace",
   "metadata": {},
   "source": [
    "Разбиваем наших пользователей на сегменты по их RFM-метрикам:"
   ]
  },
  {
   "cell_type": "code",
   "execution_count": 283,
   "id": "7b058fe6",
   "metadata": {},
   "outputs": [
    {
     "data": {
      "text/html": [
       "<div>\n",
       "<style scoped>\n",
       "    .dataframe tbody tr th:only-of-type {\n",
       "        vertical-align: middle;\n",
       "    }\n",
       "\n",
       "    .dataframe tbody tr th {\n",
       "        vertical-align: top;\n",
       "    }\n",
       "\n",
       "    .dataframe thead th {\n",
       "        text-align: right;\n",
       "    }\n",
       "</style>\n",
       "<table border=\"1\" class=\"dataframe\">\n",
       "  <thead>\n",
       "    <tr style=\"text-align: right;\">\n",
       "      <th></th>\n",
       "      <th>customer_unique_id</th>\n",
       "      <th>Frequency</th>\n",
       "      <th>Recency</th>\n",
       "      <th>Monetary</th>\n",
       "      <th>R</th>\n",
       "      <th>F</th>\n",
       "      <th>M</th>\n",
       "      <th>RFM_score</th>\n",
       "      <th>Segment</th>\n",
       "    </tr>\n",
       "  </thead>\n",
       "  <tbody>\n",
       "    <tr>\n",
       "      <th>0</th>\n",
       "      <td>8d50f5eadf50201ccdcedfb9e2ac8455</td>\n",
       "      <td>11</td>\n",
       "      <td>9</td>\n",
       "      <td>440.94</td>\n",
       "      <td>5</td>\n",
       "      <td>5</td>\n",
       "      <td>5</td>\n",
       "      <td>555</td>\n",
       "      <td>champions</td>\n",
       "    </tr>\n",
       "    <tr>\n",
       "      <th>1</th>\n",
       "      <td>3e43e6105506432c953e165fb2acf44c</td>\n",
       "      <td>9</td>\n",
       "      <td>183</td>\n",
       "      <td>1000.85</td>\n",
       "      <td>3</td>\n",
       "      <td>5</td>\n",
       "      <td>5</td>\n",
       "      <td>355</td>\n",
       "      <td>loyal customers</td>\n",
       "    </tr>\n",
       "    <tr>\n",
       "      <th>2</th>\n",
       "      <td>6469f99c1f9dfae7733b25662e7f1782</td>\n",
       "      <td>7</td>\n",
       "      <td>63</td>\n",
       "      <td>664.20</td>\n",
       "      <td>5</td>\n",
       "      <td>5</td>\n",
       "      <td>5</td>\n",
       "      <td>555</td>\n",
       "      <td>champions</td>\n",
       "    </tr>\n",
       "    <tr>\n",
       "      <th>3</th>\n",
       "      <td>ca77025e7201e3b30c44b472ff346268</td>\n",
       "      <td>7</td>\n",
       "      <td>90</td>\n",
       "      <td>806.61</td>\n",
       "      <td>4</td>\n",
       "      <td>5</td>\n",
       "      <td>5</td>\n",
       "      <td>455</td>\n",
       "      <td>loyal customers</td>\n",
       "    </tr>\n",
       "    <tr>\n",
       "      <th>4</th>\n",
       "      <td>1b6c7548a2a1f9037c1fd3ddfed95f33</td>\n",
       "      <td>7</td>\n",
       "      <td>197</td>\n",
       "      <td>809.21</td>\n",
       "      <td>3</td>\n",
       "      <td>5</td>\n",
       "      <td>5</td>\n",
       "      <td>355</td>\n",
       "      <td>loyal customers</td>\n",
       "    </tr>\n",
       "  </tbody>\n",
       "</table>\n",
       "</div>"
      ],
      "text/plain": [
       "                 customer_unique_id  Frequency  Recency  Monetary  R  F  M  \\\n",
       "0  8d50f5eadf50201ccdcedfb9e2ac8455         11        9    440.94  5  5  5   \n",
       "1  3e43e6105506432c953e165fb2acf44c          9      183   1000.85  3  5  5   \n",
       "2  6469f99c1f9dfae7733b25662e7f1782          7       63    664.20  5  5  5   \n",
       "3  ca77025e7201e3b30c44b472ff346268          7       90    806.61  4  5  5   \n",
       "4  1b6c7548a2a1f9037c1fd3ddfed95f33          7      197    809.21  3  5  5   \n",
       "\n",
       "  RFM_score          Segment  \n",
       "0       555        champions  \n",
       "1       355  loyal customers  \n",
       "2       555        champions  \n",
       "3       455  loyal customers  \n",
       "4       355  loyal customers  "
      ]
     },
     "execution_count": 283,
     "metadata": {},
     "output_type": "execute_result"
    }
   ],
   "source": [
    "segt_map = {\n",
    "    r'[1-2][1-2]': 'hibernating',\n",
    "    r'[1-2][3-4]': 'at risk',\n",
    "    r'[1-2]5': 'can\\'t loose',\n",
    "    r'3[1-2]': 'about to sleep',\n",
    "    r'33': 'need attention',\n",
    "    r'[3-4][4-5]': 'loyal customers',\n",
    "    r'41': 'promising',\n",
    "    r'51': 'new customers',\n",
    "    r'[4-5][2-3]': 'potential loyalists',\n",
    "    r'5[4-5]': 'champions'\n",
    "}\n",
    "\n",
    "rfm['Segment'] = rfm['R'].map(str) + rfm['F'].map(str)\n",
    "rfm['Segment'] = rfm['Segment'].replace(segt_map, regex=True)\n",
    "\n",
    "rfm.head()"
   ]
  },
  {
   "cell_type": "markdown",
   "id": "16a7332b",
   "metadata": {},
   "source": [
    "### *9. Визуализируем полученные результаты:*"
   ]
  },
  {
   "cell_type": "markdown",
   "id": "e6a4b5b3",
   "metadata": {},
   "source": [
    "1. Количественное  распределение по сегментам:"
   ]
  },
  {
   "cell_type": "code",
   "execution_count": 284,
   "id": "dad27db6",
   "metadata": {},
   "outputs": [
    {
     "data": {
      "image/png": "[encoded data removed]",
      "text/plain": [
       "<Figure size 684x360 with 1 Axes>"
      ]
     },
     "metadata": {},
     "output_type": "display_data"
    }
   ],
   "source": [
    "sns.set_theme()\n",
    "ax = sns.displot(data=rfm, x='Segment', aspect=1.9)\n",
    "ax.set(xlabel='Сегмент',\n",
    "       ylabel='Количество')\n",
    "\n",
    "sns.despine()"
   ]
  },
  {
   "cell_type": "markdown",
   "id": "866856ea",
   "metadata": {},
   "source": [
    "Видим, что в нашем магазине очень много \"спящих\" и неактивных клиентов. Нам срочно необходимо принимать по их активизации и возвращению."
   ]
  },
  {
   "cell_type": "markdown",
   "id": "9035794e",
   "metadata": {},
   "source": [
    "2. Количественное  распределение по величине  RFM-метрики:"
   ]
  },
  {
   "cell_type": "code",
   "execution_count": 285,
   "id": "ee44be82",
   "metadata": {
    "scrolled": true
   },
   "outputs": [
    {
     "data": {
      "image/png": "[encoded data removed]",
      "text/plain": [
       "<Figure size 1080x360 with 1 Axes>"
      ]
     },
     "metadata": {},
     "output_type": "display_data"
    }
   ],
   "source": [
    "sns.set_theme()\n",
    "ax2 = sns.displot(data=rfm, x='RFM_score',aspect=3)\n",
    "ax2.set(xlabel='RFM',\n",
    "       ylabel='Количество')\n",
    "\n",
    "sns.despine()"
   ]
  },
  {
   "cell_type": "markdown",
   "id": "b0dc288f",
   "metadata": {},
   "source": [
    "Видим то же самое - в нашем магазине большая часть клиентов находится на грани потери."
   ]
  },
  {
   "cell_type": "markdown",
   "id": "f59207eb",
   "metadata": {},
   "source": [
    "3. Количественное  распределение по отдельным  параметрам RFM-метрики:"
   ]
  },
  {
   "cell_type": "code",
   "execution_count": 286,
   "id": "cd6d79b1",
   "metadata": {},
   "outputs": [
    {
     "data": {
      "image/png": "[encoded data removed]",
      "text/plain": [
       "<Figure size 360x360 with 1 Axes>"
      ]
     },
     "metadata": {},
     "output_type": "display_data"
    }
   ],
   "source": [
    "ax3 = sns.displot(data=rfm.M, aspect=1)\n",
    "ax3.set(xlabel='Monetary',\n",
    "       ylabel='Количество')\n",
    "\n",
    "sns.despine()"
   ]
  },
  {
   "cell_type": "code",
   "execution_count": 287,
   "id": "68f33375",
   "metadata": {},
   "outputs": [
    {
     "data": {
      "image/png": "[encoded data removed]",
      "text/plain": [
       "<Figure size 360x360 with 1 Axes>"
      ]
     },
     "metadata": {},
     "output_type": "display_data"
    }
   ],
   "source": [
    "ax4 = sns.displot(data=rfm.R, aspect=1)\n",
    "ax4.set(xlabel='Recency',\n",
    "       ylabel='Количество')\n",
    "\n",
    "sns.despine()"
   ]
  },
  {
   "cell_type": "code",
   "execution_count": 288,
   "id": "26ef3c97",
   "metadata": {},
   "outputs": [
    {
     "data": {
      "image/png": "[encoded data removed]",
      "text/plain": [
       "<Figure size 360x360 with 1 Axes>"
      ]
     },
     "metadata": {},
     "output_type": "display_data"
    }
   ],
   "source": [
    "ax5 = sns.displot(data=rfm.F, aspect=1)\n",
    "ax5.set(xlabel='Frequency',\n",
    "       ylabel='Количество')\n",
    "\n",
    "sns.despine()"
   ]
  },
  {
   "cell_type": "markdown",
   "id": "1a572f19",
   "metadata": {},
   "source": [
    "Видим, что все параметры распределены равномерно, кроме Frequency. У него - сильный сдвиг в сторону 1."
   ]
  }
 ],
 "metadata": {
  "kernelspec": {
   "display_name": "Python 3",
   "language": "python",
   "name": "python3"
  },
  "language_info": {
   "codemirror_mode": {
    "name": "ipython",
    "version": 3
   },
   "file_extension": ".py",
   "mimetype": "text/x-python",
   "name": "python",
   "nbconvert_exporter": "python",
   "pygments_lexer": "ipython3",
   "version": "3.8.8"
  }
 },
 "nbformat": 4,
 "nbformat_minor": 5
}
